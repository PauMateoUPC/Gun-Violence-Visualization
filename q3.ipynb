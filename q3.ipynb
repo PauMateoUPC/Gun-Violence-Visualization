{
 "cells": [
  {
   "cell_type": "markdown",
   "metadata": {},
   "source": [
    "Q3 (scatterplot)\n",
    "idea 1:\n",
    "- scatterplot\n",
    "- eix x: school\n",
    "- eix y: mass shootings\n",
    "- color: year\n",
    "- point: state in year\n",
    "\n",
    "idea2:\n",
    "- violin plot\n",
    "- violin: state\n",
    "- distribucio violin: years\n",
    "\n",
    "idea3:\n",
    "- scatterplot de totals, sense separar per anys\n",
    "\n",
    "\n",
    "county, state, shootings, school, year"
   ]
  },
  {
   "cell_type": "code",
   "execution_count": null,
   "metadata": {
    "vscode": {
     "languageId": "plaintext"
    }
   },
   "outputs": [],
   "source": []
  }
 ],
 "metadata": {
  "language_info": {
   "name": "python"
  }
 },
 "nbformat": 4,
 "nbformat_minor": 2
}
