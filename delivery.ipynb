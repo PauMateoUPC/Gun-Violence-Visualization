{
 "cells": [
  {
   "cell_type": "markdown",
   "metadata": {},
   "source": [
    "<h1 style=\"text-align:center;\">Mass Shootings in the USA</h1>"
   ]
  },
  {
   "cell_type": "markdown",
   "metadata": {},
   "source": [
    "<p style=\"text-align:center;\">Laia Mogas i Pau Mateo</p>\n",
    "<p style=\"text-align:center;\">Information Visualization - GCED</p>"
   ]
  },
  {
   "cell_type": "markdown",
   "metadata": {},
   "source": [
    "## Obtaining data\n",
    "The main data sources we used in this project are:\n",
    "- https://www2.census.gov/\n",
    "- https://www.gunviolencearchive.org/reports\n",
    "\n",
    "From theese sources we obtain the following datasets:\n",
    "- Mass shootings (january 2014 to september 2024)\n",
    "- County population\n"
   ]
  },
  {
   "cell_type": "markdown",
   "metadata": {},
   "source": [
    "## Preprocessing and data cleaning"
   ]
  },
  {
   "cell_type": "markdown",
   "metadata": {},
   "source": [
    "To clean and preprocess our data we used Open Refine and pytohn.\n",
    "#### Concatenating mass shootings csv\n",
    "The raw data from the Gun Violence Archaive is splitted into various datasets. To add everything into a same csv file, we simply used Open Refine and opened all the csv when starting a new project. This way, the multiple csv are automatiqually concatenated, as they all have the same columns. Before doing that, we had to eliminate some of the duplicate rows in the data, as the file `MassShootings_2021.csv` overlaps with the file `GunVioleceAllYears.csv`. Again, we used Open Refine to do so, by making a time facet of the file `MassShootings_2021.csv` and selectig the rows that were already in the `GunVioleceAllYears.csv` file, and then eliminating them.\n",
    "\n",
    "#### Tranformations\n",
    "We applied some basic transformations to the dataset, mainly just changing the types of some columns, such as *Incident Date* to date, and numerical columns into intiger. \n",
    "\n",
    "#### Obtaining counties with OSM\n",
    "To answer accuratelly the questions of the projecy, we needed the exact county where each incident occured. To obtain those, we first used Open Refine to obtain some json information from Open Street Maps, with the methos \"Add column by fetching URLs\". The command we used is:"
   ]
  },
  {
   "cell_type": "code",
   "execution_count": null,
   "metadata": {
    "vscode": {
     "languageId": "plaintext"
    }
   },
   "outputs": [],
   "source": [
    "'https://nominatim.openstreetmap.org/search?format=json&email=pau.mateo.bernado@estudiantat.upc.edu&app=google-refine&q=' + \n",
    "escape(cells[\"City Or County\"].value + \", \" + cells[\"State\"].value, 'url') + ‘&limit=1&addressdetails =1’"
   ]
  },
  {
   "cell_type": "markdown",
   "metadata": {},
   "source": [
    "With this, we obtained some json information for each row, for example:"
   ]
  },
  {
   "cell_type": "code",
   "execution_count": null,
   "metadata": {},
   "outputs": [],
   "source": [
    "[{\"place_id\":323075484,\n",
    "\"licence\":\"Data © OpenStreetMap contributors, ODbL 1.0. http://osm.org/copyright\",\n",
    "\"osm_type\":\"relation\",\n",
    "\"osm_id\":1180533,\n",
    "\"lat\":\"38.6280278\",\n",
    "\"lon\":\"-90.1910154\",\n",
    "\"class\":\"boundary\",\n",
    "\"type\":\"administrative\",\n",
    "\"place_rank\":12,\n",
    "\"importance\":0.7078550940195126,\n",
    "\"addresstype\":\"independent_city\",\n",
    "\"name\":\"Saint Louis\",\n",
    "\"display_name\":\"Saint Louis, Missouri, United States\",\n",
    "\"boundingbox\":[\"38.5323215\",\"38.7743018\",\"-90.3206525\",\"-90.1641941\"]}]"
   ]
  },
  {
   "cell_type": "markdown",
   "metadata": {},
   "source": [
    "From this information we wantet to obtain the county for each incident. However, we weren't capable of doing so with Open Refine, as the URL used didn't return the names of the counties in the same format as the dataest form census.gov, so we had to process again this informatino with pytohn.\n",
    "We defined some functions that try to find a county name for each incident that exists in the population dataset obtained from census.gov. The functions iterate through the names in the key `\"display_name\"` from the json column (as there are some cases where the Township or some other information is also in the json code, so the county is not always in the same position) and applies some transformations to them and checks if the resulting name it's a county."
   ]
  },
  {
   "cell_type": "code",
   "execution_count": null,
   "metadata": {},
   "outputs": [],
   "source": [
    "import pandas as pd\n",
    "from collections import defaultdict\n",
    "\n",
    "pop = pd.read_csv(\"datasets/CountyPopulationAllYears\")\n",
    "\n",
    "names_counties = defaultdict(set)  # names of the counties for each state\n",
    "\n",
    "for state in pop['STNAME'].values:\n",
    "    names_counties[state] = set(pop[pop['STNAME']==state]['CTYNAME'].values)\n",
    "\n",
    "\n",
    "def transforms(name: str) -> str:\n",
    "    if 'Clarke' in name: return 'Clarke County'\n",
    "    if 'Washington' in name: return 'District of Columbia'\n",
    "    name = name.replace('Saint', 'St.').replace('Nashville-', '').replace('Vista', 'Buena Vista').replace('Compton', 'Los Angeles County')\n",
    "    name = name.replace('Monterey Park', 'Monterey County')\n",
    "    return name.strip()\n",
    "\n",
    "\n",
    "def try_find(name, state) -> str | None:\n",
    "    '''tries to find the countie corresponding to `name` by \n",
    "    appliying transformations and trying diferent formats'''\n",
    "    if name in names_counties[state]: return name\n",
    "\n",
    "    if transforms(name) in names_counties[state]: return transforms(name)\n",
    "\n",
    "    #try county\n",
    "    n = transforms(name)\n",
    "    if 'County' not in n: n += ' County'\n",
    "    if n in names_counties[state]: return n\n",
    "\n",
    "    #try parish\n",
    "    n = transforms(name)\n",
    "    if 'Parish' not in n: n += ' Parish'\n",
    "    if n in names_counties[state]: return n\n",
    "\n",
    "    #try city\n",
    "    n = transforms(name)\n",
    "    if 'city' not in n: n += ' city'\n",
    "    if n in names_counties[state]: return n\n",
    "\n",
    "    #try Municipality\n",
    "    n = transforms(name)\n",
    "    if 'city' not in n: n += ' Municipality'\n",
    "    if n in names_counties[state]: return n\n",
    "    \n",
    "    else: return None\n",
    "\n",
    "\n",
    "def extract_county(row) -> str | None:\n",
    "    '''tries to extract the corresponding countie for the given row'''\n",
    "    json_data = row['json']\n",
    "    state = row['State'].strip()\n",
    "\n",
    "    places = json_data.loads(json_data)\n",
    "    if places:\n",
    "        names = places[0].get(\"display_name\", \"\")\n",
    "        # Cerca \"County\", \"Parish\", o altres entitats equivalents en display_name\n",
    "        \n",
    "        delims = [\",\", \")\", \"(\"]\n",
    "\n",
    "        for delim in delims:\n",
    "            names = \"_\".join(names.split(delim))\n",
    "        names = names.split(\"_\")\n",
    "        names = [n.strip() for n in names if n != '']\n",
    "\n",
    "        for n in names:\n",
    "            cname = try_find(n, state)\n",
    "            if cname: return cname\n",
    "            else: continue\n",
    "    \n",
    "        return None\n",
    "    \n",
    "\n",
    "#usage\n",
    "MassShootingsComplete"
   ]
  },
  {
   "cell_type": "markdown",
   "metadata": {},
   "source": []
  },
  {
   "cell_type": "markdown",
   "metadata": {},
   "source": [
    "### Obtaining FIPS codes"
   ]
  },
  {
   "cell_type": "code",
   "execution_count": null,
   "metadata": {},
   "outputs": [],
   "source": [
    "def get_fips(row) -> str | None:\n",
    "    \"\"\"\n",
    "    Returns the FIPS code for the given row by searching\n",
    "    it in the population csv\n",
    "    \"\"\"\n",
    "    # Comprovar si 'county' no és None abans d'aplicar strip()\n",
    "    county_value = row['county']\n",
    "    if county_value is not None:\n",
    "        county_value = county_value.strip()  # eliminar espais blancs si no és None\n",
    "    else:\n",
    "        county_value = \"\"  # Si és None, assignar una cadena buida per evitar errors\n",
    "    \n",
    "    # Filtrar df2 per obtenir la fila amb la mateixa combinació de 'State' i 'county'\n",
    "    fips_value = pop[(pop['STNAME'] == row['State']) & (pop['CTYNAME'] == county_value)]['FIPS']\n",
    "    \n",
    "    # Retornar el primer valor (ja que hauria de ser únic)\n",
    "    return f'{fips_value.iloc[0]:02d}' if not fips_value.empty else None"
   ]
  },
  {
   "cell_type": "markdown",
   "metadata": {},
   "source": [
    "## Questions"
   ]
  },
  {
   "cell_type": "markdown",
   "metadata": {},
   "source": [
    "### **Q1**: What are the states with large number of mass shootings per citizen?"
   ]
  },
  {
   "cell_type": "markdown",
   "metadata": {},
   "source": [
    "### **Q2:** How is the number of mass shootings per citizen distributed across the different counties in the US? And across states?"
   ]
  },
  {
   "cell_type": "markdown",
   "metadata": {},
   "source": [
    "### **Q3:** Are the mass shootings correlated with gun violence incidents in schools?"
   ]
  },
  {
   "cell_type": "markdown",
   "metadata": {},
   "source": [
    "### **Q4:** How have mass shootings evolved the last years in the US?"
   ]
  }
 ],
 "metadata": {
  "language_info": {
   "name": "python"
  }
 },
 "nbformat": 4,
 "nbformat_minor": 2
}
