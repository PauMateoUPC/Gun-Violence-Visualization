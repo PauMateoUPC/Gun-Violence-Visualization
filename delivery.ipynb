{
 "cells": [
  {
   "cell_type": "markdown",
   "metadata": {},
   "source": [
    "<h1 style=\"text-align:center;\">Mass Shootings in the USA</h1>"
   ]
  },
  {
   "cell_type": "markdown",
   "metadata": {},
   "source": [
    "<p style=\"text-align:center;\">Laia Mogas i Pau Mateo</p>\n",
    "<p style=\"text-align:center;\">Information Visualization - GCED</p>"
   ]
  },
  {
   "cell_type": "markdown",
   "metadata": {},
   "source": [
    "## Requirements"
   ]
  },
  {
   "cell_type": "code",
   "execution_count": 28,
   "metadata": {},
   "outputs": [],
   "source": [
    "# >pip install pandas\n",
    "# >pip install altair\n",
    "# >pip install json\n",
    "\n",
    "import pandas as pd\n",
    "import altair as alt\n",
    "import json\n",
    "from collections import defaultdict\n",
    "from random import choice"
   ]
  },
  {
   "cell_type": "markdown",
   "metadata": {},
   "source": [
    "## Obtaining data\n",
    "The main data sources we used in this project are:\n",
    "- https://www2.census.gov/\n",
    "- https://www.gunviolencearchive.org/reports\n",
    "\n",
    "From theese sources we obtain the following datasets:\n",
    "- Mass shootings (january 2014 to september 2024)\n",
    "- School incidents (january 2022 to 2024)\n",
    "- County population\n"
   ]
  },
  {
   "cell_type": "markdown",
   "metadata": {},
   "source": [
    "## Preprocessing and data cleaning - County Population\n",
    "We obtained the conty popultion data with two separate csv files: one correspondig to the years 2014-2019, an another one for 2020 and later. These datasets contained a lot of information, but we only needed the population estimate foer each county every year, so we eliminated the unnecesary columns. We merged these two datasets with pytohn pandas. Then noticed that the state Connecticut had a county redistribuition in 2020, so we decided to keep the latest cofniguration of counties and estimate uniformly the population of those counties for years before 2020. The code we used for this preprocessing is the following:"
   ]
  },
  {
   "cell_type": "code",
   "execution_count": 29,
   "metadata": {},
   "outputs": [],
   "source": [
    "pop2010_20 = pd.read_csv('datasets/co-est2010-2020_alldata.csv', encoding='latin1')\n",
    "pop2020_23 = pd.read_csv('datasets/co-est2020-2023_alldata.csv', encoding='latin1')\n",
    "\n",
    "########## column projection ##########\n",
    "columns2010 = ['STATE', 'COUNTY','STNAME','CTYNAME']\n",
    "columns2010.extend(['POPESTIMATE201'+str(i) for i in range(10)])\n",
    "columns2020 = ['STATE', 'COUNTY','STNAME','CTYNAME']\n",
    "columns2020.extend(['POPESTIMATE202'+str(i) for i in range(4)])\n",
    "\n",
    "pop2010_20['FIPS'] = pop2010_20.apply(lambda row: f\"{int(row['STATE']):02d}{int(row['COUNTY']):03d}\", axis=1)\n",
    "pop2020_23['FIPS'] = pop2020_23.apply(lambda row: f\"{int(row['STATE']):02d}{int(row['COUNTY']):03d}\", axis=1)\n",
    "\n",
    "\n",
    "##########     merge     ##########\n",
    "df_population = pd.merge(pop2010_20[columns2010], pop2020_23[columns2020], on=['STATE', 'COUNTY'])\n",
    "\n",
    "df_population['STATE'] = df_population['STATE'].astype(str)\n",
    "df_population['COUNTY'] = df_population['COUNTY'].astype(str)\n",
    "\n",
    "\n",
    "########## obraining FIPS ##########\n",
    "df_population['FIPS'] = df_population.apply(lambda row: f\"{int(row['STATE']):02d}{int(row['COUNTY']):03d}\", axis=1)\n",
    "df_population['STNAME'] = df_population['STNAME_x']\n",
    "df_population['CTYNAME'] = df_population['CTYNAME_x']\n",
    "\n",
    "########## ordering columns ##########\n",
    "new_cols_order = ['STNAME', 'CTYNAME', 'FIPS', 'STATE', 'COUNTY'] + ['POPESTIMATE20'+f'{i:02d}' for i in range(14,24)]\n",
    "df_population = df_population[new_cols_order]"
   ]
  },
  {
   "cell_type": "code",
   "execution_count": 30,
   "metadata": {},
   "outputs": [
    {
     "name": "stdout",
     "output_type": "stream",
     "text": [
      "['09001', '09003', '09005', '09007', '09009', '09011', '09013', '09015']\n",
      "['09110', '09120', '09130', '09140', '09150', '09160', '09170', '09180', '09190']\n"
     ]
    }
   ],
   "source": [
    "##### checking changed counties #####\n",
    "\n",
    "l1 = []\n",
    "for c in pop2010_20['FIPS']:\n",
    "    if c not in df_population['FIPS'].values:\n",
    "        l1.append(c)\n",
    "\n",
    "l2 = []\n",
    "for c in pop2020_23['FIPS']:\n",
    "    if c not in df_population['FIPS'].values:\n",
    "        l2.append(c)\n",
    "\n",
    "print(l1)\n",
    "print(l2)"
   ]
  },
  {
   "cell_type": "markdown",
   "metadata": {},
   "source": [
    "We see that indeed, the counties from the Connecticut state are different in the two datasets."
   ]
  },
  {
   "cell_type": "code",
   "execution_count": 31,
   "metadata": {},
   "outputs": [],
   "source": [
    "##### dealing with state '09' (Connecticut) ######\n",
    "\n",
    "fips_connecticut = pop2020_23[pop2020_23['STATE']==9]['FIPS'].values\n",
    "N = len(fips_connecticut)\n",
    "\n",
    "totalpop = defaultdict()\n",
    "\n",
    "\n",
    "for i in range(14,24):\n",
    "    year = 'POPESTIMATE20'+ f'{i:02d}'\n",
    "    #calculate total population in state '09' in this year\n",
    "    if i < 20:\n",
    "        totalpop[year] = sum(pop2010_20[pop2010_20['STATE'] == 9][year].values)\n",
    "    else:\n",
    "        totalpop[year] = sum(pop2020_23[pop2020_23['STATE'] == 9][year].values)\n",
    "\n",
    "\n",
    "for fips in fips_connecticut:\n",
    "    new_row = pd.Series({\n",
    "        'STNAME': 'Connecticut', \n",
    "        'CTYNAME': 'connecticut_county_unknown',\n",
    "        'FIPS': fips, \n",
    "        'STATE': 9, \n",
    "        'COUNTY': fips[2:],\n",
    "        'POPESTIMATE2014': totalpop['POPESTIMATE2014'] / N,\n",
    "        'POPESTIMATE2015': totalpop['POPESTIMATE2015'] / N,\n",
    "        'POPESTIMATE2016': totalpop['POPESTIMATE2016'] / N,\n",
    "        'POPESTIMATE2017': totalpop['POPESTIMATE2017'] / N,\n",
    "        'POPESTIMATE2018': totalpop['POPESTIMATE2018'] / N,\n",
    "        'POPESTIMATE2019': totalpop['POPESTIMATE2019'] / N,\n",
    "        'POPESTIMATE2020': totalpop['POPESTIMATE2020'] / N,\n",
    "        'POPESTIMATE2021': totalpop['POPESTIMATE2021'] / N,\n",
    "        'POPESTIMATE2022': totalpop['POPESTIMATE2022'] / N,\n",
    "        'POPESTIMATE2023': totalpop['POPESTIMATE2023'] / N\n",
    "    })\n",
    "    df_population.loc[len(df_population)] = new_row\n"
   ]
  },
  {
   "cell_type": "code",
   "execution_count": 32,
   "metadata": {},
   "outputs": [],
   "source": [
    "#### save partial dataset ###\n",
    "df_population.to_csv('datasets/CountyPopulationAllYears.csv', index=False)"
   ]
  },
  {
   "cell_type": "markdown",
   "metadata": {},
   "source": [
    "Later on, we will have to redistribute the Mass Shootings and School incidents that occured in the counties that we've just eliminated."
   ]
  },
  {
   "cell_type": "markdown",
   "metadata": {},
   "source": [
    "## Preprocessing and data cleaning - Mass Shootings + School incidents"
   ]
  },
  {
   "cell_type": "markdown",
   "metadata": {},
   "source": [
    "To clean the Gun Violence data we used Open Refine followed by python.\n",
    "#### Concatenating mass shootings csv\n",
    "The raw data from the Gun Violence Archaive is splitted into various datasets. To add everything into a same csv file, we simply used Open Refine and opened all the csv when starting a new project. This way, the multiple csv are automatiqually concatenated, as they all have the same columns. Before doing that, we had to eliminate some of the duplicate rows in the data, as the file `MassShootings_2021.csv` overlaps with the file `GunVioleceAllYears.csv`. Again, we used Open Refine to do so, by making a time facet of the file `MassShootings_2021.csv` and selectig the rows that were already in the `GunVioleceAllYears.csv` file, and then eliminating them.\n",
    "\n",
    "#### Tranformations\n",
    "We applied some basic transformations to the dataset, mainly just changing the types of some columns, such as *Incident Date* to date, and numerical columns into intiger. \n",
    "\n",
    "#### Obtaining counties with OSM\n",
    "To answer accuratelly the questions of the projecy, we needed the exact county where each incident occured. To obtain those, we first used Open Refine to obtain some json information from Open Street Maps, with the methos \"Add column by fetching URLs\". The command we used is:"
   ]
  },
  {
   "cell_type": "raw",
   "metadata": {
    "vscode": {
     "languageId": "raw"
    }
   },
   "source": [
    "'https://nominatim.openstreetmap.org/search?format=json&email=pau.mateo.bernado@estudiantat.upc.edu&app=google-refine&q=' + \n",
    "escape(cells[\"City Or County\"].value + \", \" + cells[\"State\"].value, 'url') + '&limit=1&addressdetails =1'"
   ]
  },
  {
   "cell_type": "markdown",
   "metadata": {},
   "source": [
    "With this, we obtained some json information for each row, for example:"
   ]
  },
  {
   "cell_type": "code",
   "execution_count": 33,
   "metadata": {},
   "outputs": [
    {
     "data": {
      "text/plain": [
       "[{'place_id': 323075484,\n",
       "  'licence': 'Data © OpenStreetMap contributors, ODbL 1.0. http://osm.org/copyright',\n",
       "  'osm_type': 'relation',\n",
       "  'osm_id': 1180533,\n",
       "  'lat': '38.6280278',\n",
       "  'lon': '-90.1910154',\n",
       "  'class': 'boundary',\n",
       "  'type': 'administrative',\n",
       "  'place_rank': 12,\n",
       "  'importance': 0.7078550940195126,\n",
       "  'addresstype': 'independent_city',\n",
       "  'name': 'Saint Louis',\n",
       "  'display_name': 'Saint Louis, Missouri, United States',\n",
       "  'boundingbox': ['38.5323215', '38.7743018', '-90.3206525', '-90.1641941']}]"
      ]
     },
     "execution_count": 33,
     "metadata": {},
     "output_type": "execute_result"
    }
   ],
   "source": [
    "[{\"place_id\":323075484,\n",
    "\"licence\":\"Data © OpenStreetMap contributors, ODbL 1.0. http://osm.org/copyright\",\n",
    "\"osm_type\":\"relation\",\n",
    "\"osm_id\":1180533,\n",
    "\"lat\":\"38.6280278\",\n",
    "\"lon\":\"-90.1910154\",\n",
    "\"class\":\"boundary\",\n",
    "\"type\":\"administrative\",\n",
    "\"place_rank\":12,\n",
    "\"importance\":0.7078550940195126,\n",
    "\"addresstype\":\"independent_city\",\n",
    "\"name\":\"Saint Louis\",\n",
    "\"display_name\":\"Saint Louis, Missouri, United States\",\n",
    "\"boundingbox\":[\"38.5323215\",\"38.7743018\",\"-90.3206525\",\"-90.1641941\"]}]"
   ]
  },
  {
   "cell_type": "markdown",
   "metadata": {},
   "source": [
    "From this information we wantet to obtain the county for each incident. However, we weren't capable of doing so with Open Refine, as the URL used didn't return the names of the counties in the same format as the dataest form census.gov, so we had to process again this informatino with pytohn.\n",
    "We defined some functions that try to find a county name for each incident that exists in the population dataset obtained from census.gov. The functions iterate through the names in the key `\"display_name\"` from the json column (as there are some cases where the Township or some other information is also in the json code, so the county is not always in the same position) and applies some transformations to them and checks if the resulting name it's a county."
   ]
  },
  {
   "cell_type": "code",
   "execution_count": 34,
   "metadata": {},
   "outputs": [],
   "source": [
    "names_counties = defaultdict(set)  # names of the counties for each state\n",
    "\n",
    "for state in df_population['STNAME'].values:\n",
    "    names_counties[state] = set(df_population[df_population['STNAME']==state]['CTYNAME'].values)\n",
    "\n",
    "\n",
    "def transforms(name: str) -> str:\n",
    "    if 'Clarke' in name: return 'Clarke County'\n",
    "    if 'Connecticut' in name: return 'connecticut_county_unknown'\n",
    "    name = name.replace('Saint', 'St.').replace('Nashville-', '').replace('Vista', 'Buena Vista').replace('Compton', 'Los Angeles County')\n",
    "    name = name.replace('Monterey Park', 'Monterey County')\n",
    "    return name.strip()\n",
    "\n",
    "\n",
    "def try_find(name, state) -> str | None:\n",
    "    '''tries to find the countie corresponding to `name` by \n",
    "    appliying transformations and trying diferent formats'''\n",
    "    if name in names_counties[state]: return name\n",
    "\n",
    "    if transforms(name) in names_counties[state]: return transforms(name)\n",
    "\n",
    "    #try county\n",
    "    n = transforms(name)\n",
    "    if 'County' not in n: n += ' County'\n",
    "    if n in names_counties[state]: return n\n",
    "\n",
    "    #try parish\n",
    "    n = transforms(name)\n",
    "    if 'Parish' not in n: n += ' Parish'\n",
    "    if n in names_counties[state]: return n\n",
    "\n",
    "    #try city\n",
    "    n = transforms(name)\n",
    "    if 'city' not in n: n += ' city'\n",
    "    if n in names_counties[state]: return n\n",
    "\n",
    "    #try Municipality\n",
    "    n = transforms(name)\n",
    "    if 'city' not in n: n += ' Municipality'\n",
    "    if n in names_counties[state]: return n\n",
    "    \n",
    "    else: return None\n",
    "\n",
    "\n",
    "def extract_county(row) -> str | None:\n",
    "    '''tries to extract the corresponding countie for the given row'''\n",
    "    json_data = row['json']\n",
    "    state = row['State'].strip()\n",
    "\n",
    "    places = json.loads(json_data)\n",
    "    if places:\n",
    "        names = places[0].get(\"display_name\", \"\")\n",
    "        # Cerca \"County\", \"Parish\", o altres entitats equivalents en display_name\n",
    "        \n",
    "        delims = [\",\", \")\", \"(\"]\n",
    "\n",
    "        for delim in delims:\n",
    "            names = \"_\".join(names.split(delim))\n",
    "        names = names.split(\"_\")\n",
    "        names = [n.strip() for n in names if n != '']\n",
    "\n",
    "        for n in names:\n",
    "            cname = try_find(n, state)\n",
    "            if cname: return cname\n",
    "            else: continue\n",
    "    \n",
    "        return None\n",
    "    \n",
    "\n",
    "df_school_incidents = pd.read_csv('datasets/Schoolincidents-json.csv')\n",
    "df_shootings = pd.read_csv(\"datasets/MassShootingsComplete-json.csv\")\n",
    "\n",
    "df_shootings['County'] = df_shootings.apply(extract_county, axis=1)\n",
    "df_school_incidents['County'] = df_school_incidents.apply(extract_county, axis=1)\n",
    "\n",
    "#remove rows with null or unknown county\n",
    "df_shootings = df_shootings.dropna(subset=['County'])\n",
    "df_school_incidents = df_school_incidents.dropna(subset=['County'])"
   ]
  },
  {
   "cell_type": "markdown",
   "metadata": {},
   "source": [
    "With this transformations we obtain a county for **all rows** that had a not null value in the json column (for 70 rows amongst 5k, the URLs from Open Refine extracted just `\"[]\"`)."
   ]
  },
  {
   "cell_type": "markdown",
   "metadata": {},
   "source": [
    "### Obtaining FIPS codes"
   ]
  },
  {
   "cell_type": "markdown",
   "metadata": {},
   "source": [
    "Obtaining the FIPS codes for each county facilitated us working with altair's cloropleth charts. At this point, it was easy to obtain the FIPS codes for each incident, as we already had them in the County population csv. A simple function was enough:"
   ]
  },
  {
   "cell_type": "code",
   "execution_count": 35,
   "metadata": {},
   "outputs": [],
   "source": [
    "def get_fips(row) -> str | None:\n",
    "    \"\"\"\n",
    "    Returns the FIPS code for the given row by searching\n",
    "    it in the population csv\n",
    "    \"\"\"\n",
    "\n",
    "    county_value = row['County']\n",
    "\n",
    "    # connecticut separate case:\n",
    "    connecticut_fips = ['09110', '09120', '09130', '09140', '09150', '09160', '09170', '09180', '09190']\n",
    "    if county_value == 'connecticut_county_unknown':\n",
    "        fips = choice(connecticut_fips)  # we map the incident into a random county\n",
    "        return f'{int(fips):02d}'\n",
    "\n",
    "    if county_value is not None:\n",
    "        county_value = county_value.strip()\n",
    "    else:\n",
    "        county_value = \"\"  # Si és None, assignar una cadena buida per evitar errors\n",
    "    \n",
    "    fips_value = df_population[(df_population['STNAME'] == row['State']) & (df_population['CTYNAME'] == county_value)]['FIPS']\n",
    "    \n",
    "    # Retornar el primer valor (ja que és únic)\n",
    "    return f'{int(fips_value.iloc[0]):02d}' if not fips_value.empty else None\n",
    "\n",
    "\n",
    "df_shootings['FIPS'] = df_shootings.apply(get_fips, axis=1)\n",
    "df_shootings.dropna(inplace=True)\n",
    "df_shootings['FIPS'] = df_shootings['FIPS'].apply(lambda x: f\"{int(x):05d}\") # to ensure length 5\n",
    "\n",
    "\n",
    "df_school_incidents['FIPS'] = df_school_incidents.apply(get_fips, axis=1)\n",
    "df_school_incidents.dropna(inplace=True)\n",
    "df_school_incidents['FIPS'] = df_school_incidents['FIPS'].apply(lambda x: f\"{int(x):05d}\")"
   ]
  },
  {
   "cell_type": "code",
   "execution_count": 36,
   "metadata": {},
   "outputs": [],
   "source": [
    "#### save partial datasets ###\n",
    "# df_shootings.to_csv('datasets/MassShootingsComplete_FIPS.csv', index=False)\n",
    "# df_school_incidents.to_csv('datasets/SchoolIncidents_FIPS.csv', index=False)"
   ]
  },
  {
   "cell_type": "markdown",
   "metadata": {},
   "source": [
    "Now, we just need to do some last agregations and transformations so that we can put together all this information n only one csv file to simplify the code for the altair charts."
   ]
  },
  {
   "cell_type": "markdown",
   "metadata": {},
   "source": [
    "### Final transformations"
   ]
  },
  {
   "cell_type": "code",
   "execution_count": 37,
   "metadata": {},
   "outputs": [],
   "source": [
    "def split_date(df):\n",
    "    df['Incident Date'] = pd.to_datetime(df['Incident Date'])\n",
    "    df['Year'] = df['Incident Date'].dt.year\n",
    "    df['Month'] = df['Incident Date'].dt.month\n",
    "    df.drop(labels='Incident Date', axis=1, inplace=True)\n",
    "    return df"
   ]
  },
  {
   "cell_type": "markdown",
   "metadata": {},
   "source": [
    "#### County population"
   ]
  },
  {
   "cell_type": "code",
   "execution_count": 38,
   "metadata": {},
   "outputs": [],
   "source": [
    "df_population.drop(['STATE', 'COUNTY'], inplace=True, axis=1)\n",
    "\n",
    "df_population.rename(inplace=True, columns={\n",
    "    'STNAME': 'State',\n",
    "    'CTYNAME': 'County',\n",
    "    'POPESTIMATE2014': '2014',\n",
    "    'POPESTIMATE2015': '2015',\n",
    "    'POPESTIMATE2016': '2016',\n",
    "    'POPESTIMATE2017': '2017',\n",
    "    'POPESTIMATE2018': '2018',\n",
    "    'POPESTIMATE2019': '2019',\n",
    "    'POPESTIMATE2020': '2020',\n",
    "    'POPESTIMATE2021': '2021',\n",
    "    'POPESTIMATE2022': '2022',\n",
    "    'POPESTIMATE2023': '2023'    \n",
    "})\n",
    "\n",
    "\n",
    "df_population = pd.melt(df_population, id_vars=['FIPS','State','County'], value_vars=[str(i) for i in range(2014,2024)])\n",
    "df_population.rename(inplace=True, columns={\n",
    "    'variable': 'Year',\n",
    "    'value': 'Population'\n",
    "})"
   ]
  },
  {
   "cell_type": "code",
   "execution_count": 39,
   "metadata": {},
   "outputs": [
    {
     "data": {
      "text/plain": [
       "Index(['FIPS', 'State', 'County', 'Year', 'Population'], dtype='object')"
      ]
     },
     "execution_count": 39,
     "metadata": {},
     "output_type": "execute_result"
    }
   ],
   "source": [
    "df_population.columns"
   ]
  },
  {
   "cell_type": "markdown",
   "metadata": {},
   "source": [
    "#### Mass shootings"
   ]
  },
  {
   "cell_type": "code",
   "execution_count": 40,
   "metadata": {},
   "outputs": [],
   "source": [
    "df_shootings = split_date(df_shootings)\n",
    "df_shootings = df_shootings[df_shootings['Year']<2024]\n",
    "df_shootings['FIPS'] = df_shootings['FIPS'].astype(int)\n",
    "df_shootings = df_shootings.groupby(['FIPS', 'County', 'State', 'Year', 'Month']).size().reset_index(name='Shootings')"
   ]
  },
  {
   "cell_type": "markdown",
   "metadata": {},
   "source": [
    "#### School incidents"
   ]
  },
  {
   "cell_type": "code",
   "execution_count": 41,
   "metadata": {},
   "outputs": [],
   "source": [
    "df_school_incidents.drop(['Address', 'Business/Location Name'], axis=1, inplace=True)\n",
    "df_school_incidents = split_date(df_school_incidents)\n",
    "df_school_incidents = df_school_incidents.groupby(['FIPS', 'County', 'State', 'Year', 'Month']).size().reset_index(name='School Incidents')"
   ]
  },
  {
   "cell_type": "markdown",
   "metadata": {},
   "source": [
    "### Final merge"
   ]
  },
  {
   "cell_type": "code",
   "execution_count": null,
   "metadata": {},
   "outputs": [
    {
     "name": "stdout",
     "output_type": "stream",
     "text": [
      "Month\n",
      "9     545\n",
      "5     522\n",
      "4     480\n",
      "8     474\n",
      "6     458\n",
      "7     448\n",
      "10    448\n",
      "2     424\n",
      "1     404\n",
      "3     398\n",
      "11    376\n",
      "12    329\n",
      "Name: count, dtype: int64\n"
     ]
    }
   ],
   "source": [
    "df_population['Year'] = df_population['Year'].apply(str)\n",
    "df_population['FIPS'] = df_population['FIPS'].astype(int)\n",
    "\n",
    "df_shootings['Year'] = df_shootings['Year'].astype(str)\n",
    "\n",
    "df_school_incidents['Year'] = df_school_incidents['Year'].apply(str)\n",
    "df_school_incidents['FIPS'] = df_school_incidents['FIPS'].astype(int)\n",
    "\n",
    "\n",
    "\n",
    "### Merge mass shootings and school incidents\n",
    "df_complete = pd.merge(df_shootings, df_school_incidents, on=['FIPS', 'County', 'State', 'Year', 'Month'], how='outer')\n",
    "df_complete = pd.DataFrame(df_complete.fillna(0))\n",
    "\n",
    "print(df_complete['Month'].value_counts())\n",
    "\n",
    "# join population\n",
    "# Add month to population\n",
    "df_population['Month'] = 1\n",
    "df_population = pd.concat([df_population] * 12, ignore_index=True)\n",
    "df_population['Month'] = df_population.groupby(['FIPS', 'Year']).cumcount() + 1\n",
    "\n",
    "# add months to poplation\n",
    "df_complete = pd.merge(df_population,df_complete, on=['FIPS', 'County', 'State', 'Year'], how='left')\n",
    "df_complete = df_complete.fillna(0)\n",
    "df_complete['Month'] = df_complete['Month_x']\n",
    "# df_complete.drop(['Month_x', 'Month_y'], axis=1, inplace=True)\n",
    "df_complete['FIPS'] = df_complete['FIPS'].apply(lambda x: f'{x:02d}')\n",
    "\n",
    "# compute ratio\n",
    "df_complete['Ratio County'] = df_complete['Shootings'] / df_complete['Population'] * 1000000"
   ]
  },
  {
   "cell_type": "code",
   "execution_count": null,
   "metadata": {},
   "outputs": [
    {
     "name": "stdout",
     "output_type": "stream",
     "text": [
      "Month\n",
      "1      34150\n",
      "49     34150\n",
      "93     34150\n",
      "91     34150\n",
      "89     34150\n",
      "       ...  \n",
      "228       10\n",
      "176       10\n",
      "226       10\n",
      "224       10\n",
      "288       10\n",
      "Name: count, Length: 288, dtype: int64\n"
     ]
    }
   ],
   "source": [
    "print(df_complete['Month_x'].value_counts())"
   ]
  },
  {
   "cell_type": "code",
   "execution_count": 55,
   "metadata": {},
   "outputs": [],
   "source": [
    "### save to csv file\n",
    "df_complete.to_csv('datasets/GunViolenceCompleteData.csv')"
   ]
  },
  {
   "cell_type": "markdown",
   "metadata": {},
   "source": [
    "The preprocessing is done! We are ready to start making visualizations! 🚀🚀"
   ]
  },
  {
   "cell_type": "markdown",
   "metadata": {},
   "source": [
    "## Questions"
   ]
  },
  {
   "cell_type": "markdown",
   "metadata": {},
   "source": [
    "In the following sections we show the steps we followed in the design of the visualizations for each question. At the end of each section we provide the final visualization together with a breaf explanation of the decisions taken and the problems we encountered."
   ]
  },
  {
   "cell_type": "code",
   "execution_count": 105,
   "metadata": {},
   "outputs": [],
   "source": [
    "df_GunViolence_csv = pd.read_csv('datasets/GunViolenceCompleteData.csv')"
   ]
  },
  {
   "cell_type": "markdown",
   "metadata": {},
   "source": [
    "<h3 style=\"color:darkblue\"> Q1: What are the states with large number of mass shootings per citizen?"
   ]
  },
  {
   "cell_type": "code",
   "execution_count": 7,
   "metadata": {},
   "outputs": [
    {
     "name": "stdout",
     "output_type": "stream",
     "text": [
      "post agrupar per state\n",
      "                   State  Year  Shootings  Population  Ratio State\n",
      "80  District of Columbia  2014       72.0   1327206.0    54.249303\n",
      "81  District of Columbia  2015       36.0   1354028.0    26.587338\n",
      "82  District of Columbia  2016       60.0   1375152.0    43.631540\n",
      "83  District of Columbia  2017       60.0   1394158.0    43.036729\n",
      "84  District of Columbia  2018       72.0   1408294.0    51.125688\n",
      "            State  Year  Shootings  Population  Ratio State\n",
      "410  South Dakota  2014       12.0   1699340.0     7.061565\n",
      "411  South Dakota  2015       12.0   1709326.0     7.020311\n",
      "412  South Dakota  2016        0.0   1727386.0     0.000000\n",
      "413  South Dakota  2017        0.0   1747464.0     0.000000\n",
      "414  South Dakota  2018        0.0   1758772.0     0.000000\n",
      "        State  Ratio State\n",
      "0     Alabama    13.745900\n",
      "1      Alaska     4.086223\n",
      "2     Arizona     4.498215\n",
      "3    Arkansas    10.718316\n",
      "4  California     6.390838\n"
     ]
    },
    {
     "data": {
      "text/html": [
       "<div>\n",
       "<style scoped>\n",
       "    .dataframe tbody tr th:only-of-type {\n",
       "        vertical-align: middle;\n",
       "    }\n",
       "\n",
       "    .dataframe tbody tr th {\n",
       "        vertical-align: top;\n",
       "    }\n",
       "\n",
       "    .dataframe thead th {\n",
       "        text-align: right;\n",
       "    }\n",
       "</style>\n",
       "<table border=\"1\" class=\"dataframe\">\n",
       "  <thead>\n",
       "    <tr style=\"text-align: right;\">\n",
       "      <th></th>\n",
       "      <th>State</th>\n",
       "      <th>Ratio State</th>\n",
       "      <th>Republican Vote</th>\n",
       "    </tr>\n",
       "  </thead>\n",
       "  <tbody>\n",
       "    <tr>\n",
       "      <th>8</th>\n",
       "      <td>District of Columbia</td>\n",
       "      <td>67.066225</td>\n",
       "      <td>Democrats won the last 4 elections</td>\n",
       "    </tr>\n",
       "  </tbody>\n",
       "</table>\n",
       "</div>"
      ],
      "text/plain": [
       "                  State  Ratio State                     Republican Vote\n",
       "8  District of Columbia    67.066225  Democrats won the last 4 elections"
      ]
     },
     "execution_count": 7,
     "metadata": {},
     "output_type": "execute_result"
    }
   ],
   "source": [
    "elections_republican = {'Alabama': 4, 'Alaska': 4, 'Arizona': 3, 'Arkansas': 4, 'California': 0, 'Colorado': 0, 'Connecticut': 0, 'Delaware': 0, 'District of Columbia': 0, 'Florida': 3, 'Georgia': 3, 'Hawaii': 0, 'Idaho': 4, 'Illinois': 0, 'Indiana': 4, 'Iowa': 3, 'Kansas': 4, 'Kentucky': 4, 'Louisiana': 4, 'Maine': 0, 'Maryland': 0, 'Massachusetts': 0, 'Michigan': 2, 'Minnesota': 0, 'Mississippi': 4, 'Missouri': 4, 'Montana': 4, 'Nebraska': 4, 'Nevada': 1, 'New Hampshire': 0, 'New Jersey': 0, 'New Mexico': 0, 'New York': 0, 'North Carolina': 4, 'North Dakota': 4, 'Ohio': 3, 'Oklahoma': 4, 'Oregon': 0, 'Pennsylvania': 2, 'Rhode Island': 0, 'South Carolina': 4, 'South Dakota': 4, 'Tennessee': 4, 'Texas': 4, 'Utah': 4, 'Vermont': 0, 'Virginia': 0, 'Washington': 0, 'West Virginia': 4, 'Wisconsin': 2, 'Wyoming': 4}\n",
    "\n",
    "#print(df_GunViolence.loc[df_GunViolence['State'] == 'District of Columbia'])\n",
    "df_GunViolence = df_GunViolence_csv\n",
    "\n",
    "# agrupar per any\n",
    "df_GunViolence = (\n",
    "    df_GunViolence.groupby(['FIPS', 'County', 'State', 'Year'])\n",
    "    .agg({\n",
    "        'Population': 'first',  # Tomar el primer valor disponible de Population\n",
    "        'Shootings': 'sum'      # Sumar los valores de Shootings\n",
    "    })\n",
    "    .reset_index()\n",
    ")\n",
    "#print(df_GunViolence.loc[df_GunViolence['State'] == 'District of Columbia'].head())\n",
    "#print(df_GunViolence.loc[df_GunViolence['State'] == 'Louisiana'].head())\n",
    "\n",
    "\n",
    "# agrupar per state\n",
    "df_GunViolence = df_GunViolence.groupby(['State', 'Year'])[['Shootings', 'Population']].sum().reset_index()\n",
    "df_GunViolence['Ratio State'] = df_GunViolence['Shootings'] / df_GunViolence['Population'] * 1000000 # ratio entre shootings i population\n",
    "\n",
    "print('post agrupar per state')\n",
    "print(df_GunViolence.loc[df_GunViolence['State'] == 'District of Columbia'].head())\n",
    "print(df_GunViolence.loc[df_GunViolence['State'] == 'South Dakota'].head())\n",
    "\n",
    "# mean ratio for years\n",
    "df_GunViolence = df_GunViolence.groupby('State')['Ratio State'].mean().reset_index()\n",
    "\n",
    "print(df_GunViolence.head())\n",
    "\n",
    "elections_republican = {'Alabama': 4, 'Alaska': 4, 'Arizona': 3, 'Arkansas': 4, 'California': 0, 'Colorado': 0, 'Connecticut': 0, 'Delaware': 0, 'District of Columbia': 0, 'Florida': 3, 'Georgia': 3, 'Hawaii': 0, 'Idaho': 4, 'Illinois': 0, 'Indiana': 4, 'Iowa': 3, 'Kansas': 4, 'Kentucky': 4, 'Louisiana': 4, 'Maine': 0, 'Maryland': 0, 'Massachusetts': 0, 'Michigan': 2, 'Minnesota': 0, 'Mississippi': 4, 'Missouri': 4, 'Montana': 4, 'Nebraska': 4, 'Nevada': 1, 'New Hampshire': 0, 'New Jersey': 0, 'New Mexico': 0, 'New York': 0, 'North Carolina': 4, 'North Dakota': 4, 'Ohio': 3, 'Oklahoma': 4, 'Oregon': 0, 'Pennsylvania': 2, 'Rhode Island': 0, 'South Carolina': 4, 'South Dakota': 4, 'Tennessee': 4, 'Texas': 4, 'Utah': 4, 'Vermont': 0, 'Virginia': 0, 'Washington': 0, 'West Virginia': 4, 'Wisconsin': 2, 'Wyoming': 4}\n",
    "mapping = {\n",
    "    4: 'Republicans won the last 4 elections',\n",
    "    3: 'Republicans won 3 of the last 4 elections',\n",
    "    2: 'Republicans won 2 and Democrats won 2 of the last 4 elections',\n",
    "    1: 'Democrats won 3 of the last 4 elections',\n",
    "    0: 'Democrats won the last 4 elections'\n",
    "}\n",
    "\n",
    "for state in elections_republican.keys():\n",
    "    elections_republican[state] = mapping[elections_republican[state]]\n",
    "\n",
    "\n",
    "df_GunViolence['Republican Vote'] = df_GunViolence['State'].map(elections_republican)\n",
    "\n",
    "df_GunViolence[df_GunViolence['State'] == 'District of Columbia'].head()\n"
   ]
  },
  {
   "cell_type": "markdown",
   "metadata": {},
   "source": [
    "In order to display the ratios per state, the most straightforward way is using a barplot. We opted for using a horizontal barplot, so the labels can be properly read. \n",
    "\n",
    "On the other hand, as we need to quickly find the states with the highest mass shootings per citizen, we sort the bars per value.\n",
    "\n",
    "\n",
    "Additionally, we wanted to encode the majority vote intention of the state in the last 4 elections, given the relevance in the USA elections and society of the concepts of red, blue and swing states."
   ]
  },
  {
   "cell_type": "code",
   "execution_count": 8,
   "metadata": {},
   "outputs": [
    {
     "data": {
      "text/html": [
       "\n",
       "<style>\n",
       "  #altair-viz-f84ca81a33ec47d4a22c3403ef3a33c7.vega-embed {\n",
       "    width: 100%;\n",
       "    display: flex;\n",
       "  }\n",
       "\n",
       "  #altair-viz-f84ca81a33ec47d4a22c3403ef3a33c7.vega-embed details,\n",
       "  #altair-viz-f84ca81a33ec47d4a22c3403ef3a33c7.vega-embed details summary {\n",
       "    position: relative;\n",
       "  }\n",
       "</style>\n",
       "<div id=\"altair-viz-f84ca81a33ec47d4a22c3403ef3a33c7\"></div>\n",
       "<script type=\"text/javascript\">\n",
       "  var VEGA_DEBUG = (typeof VEGA_DEBUG == \"undefined\") ? {} : VEGA_DEBUG;\n",
       "  (function(spec, embedOpt){\n",
       "    let outputDiv = document.currentScript.previousElementSibling;\n",
       "    if (outputDiv.id !== \"altair-viz-f84ca81a33ec47d4a22c3403ef3a33c7\") {\n",
       "      outputDiv = document.getElementById(\"altair-viz-f84ca81a33ec47d4a22c3403ef3a33c7\");\n",
       "    }\n",
       "    const paths = {\n",
       "      \"vega\": \"https://cdn.jsdelivr.net/npm/vega@5?noext\",\n",
       "      \"vega-lib\": \"https://cdn.jsdelivr.net/npm/vega-lib?noext\",\n",
       "      \"vega-lite\": \"https://cdn.jsdelivr.net/npm/vega-lite@5.20.1?noext\",\n",
       "      \"vega-embed\": \"https://cdn.jsdelivr.net/npm/vega-embed@6?noext\",\n",
       "    };\n",
       "\n",
       "    function maybeLoadScript(lib, version) {\n",
       "      var key = `${lib.replace(\"-\", \"\")}_version`;\n",
       "      return (VEGA_DEBUG[key] == version) ?\n",
       "        Promise.resolve(paths[lib]) :\n",
       "        new Promise(function(resolve, reject) {\n",
       "          var s = document.createElement('script');\n",
       "          document.getElementsByTagName(\"head\")[0].appendChild(s);\n",
       "          s.async = true;\n",
       "          s.onload = () => {\n",
       "            VEGA_DEBUG[key] = version;\n",
       "            return resolve(paths[lib]);\n",
       "          };\n",
       "          s.onerror = () => reject(`Error loading script: ${paths[lib]}`);\n",
       "          s.src = paths[lib];\n",
       "        });\n",
       "    }\n",
       "\n",
       "    function showError(err) {\n",
       "      outputDiv.innerHTML = `<div class=\"error\" style=\"color:red;\">${err}</div>`;\n",
       "      throw err;\n",
       "    }\n",
       "\n",
       "    function displayChart(vegaEmbed) {\n",
       "      vegaEmbed(outputDiv, spec, embedOpt)\n",
       "        .catch(err => showError(`Javascript Error: ${err.message}<br>This usually means there's a typo in your chart specification. See the javascript console for the full traceback.`));\n",
       "    }\n",
       "\n",
       "    if(typeof define === \"function\" && define.amd) {\n",
       "      requirejs.config({paths});\n",
       "      require([\"vega-embed\"], displayChart, err => showError(`Error loading script: ${err.message}`));\n",
       "    } else {\n",
       "      maybeLoadScript(\"vega\", \"5\")\n",
       "        .then(() => maybeLoadScript(\"vega-lite\", \"5.20.1\"))\n",
       "        .then(() => maybeLoadScript(\"vega-embed\", \"6\"))\n",
       "        .catch(showError)\n",
       "        .then(() => displayChart(vegaEmbed));\n",
       "    }\n",
       "  })({\"config\": {\"view\": {\"continuousWidth\": 300, \"continuousHeight\": 300}}, \"data\": {\"name\": \"data-abc9865c4bb32b27d16103c8626910c8\"}, \"mark\": {\"type\": \"bar\"}, \"encoding\": {\"color\": {\"field\": \"Republican Vote\", \"scale\": {\"domain\": [\"Democrats won the last 4 elections\", \"Democrats won 3 of the last 4 elections\", \"Republicans won 2 and Democrats won 2 of the last 4 elections\", \"Republicans won 3 of the last 4 elections\", \"Republicans won the last 4 elections\"], \"range\": [\"#0000FF\", \"#ADD8E6\", \"#800080\", \"#FF6666\", \"#FF0000\"]}, \"title\": \"Majoritary Vote in the last 4 elections\", \"type\": \"ordinal\"}, \"x\": {\"field\": \"Ratio State\", \"type\": \"quantitative\"}, \"y\": {\"field\": \"State\", \"sort\": \"-x\", \"type\": \"nominal\"}}, \"title\": \"Mass shootings per million inhabitants by state\", \"$schema\": \"https://vega.github.io/schema/vega-lite/v5.20.1.json\", \"datasets\": {\"data-abc9865c4bb32b27d16103c8626910c8\": [{\"State\": \"Alabama\", \"Ratio State\": 13.7459000125512, \"Republican Vote\": \"Republicans won the last 4 elections\"}, {\"State\": \"Alaska\", \"Ratio State\": 4.086222758454499, \"Republican Vote\": \"Republicans won the last 4 elections\"}, {\"State\": \"Arizona\", \"Ratio State\": 4.498214690967432, \"Republican Vote\": \"Republicans won 3 of the last 4 elections\"}, {\"State\": \"Arkansas\", \"Ratio State\": 10.718316381602486, \"Republican Vote\": \"Republicans won the last 4 elections\"}, {\"State\": \"California\", \"Ratio State\": 6.390838006275298, \"Republican Vote\": \"Democrats won the last 4 elections\"}, {\"State\": \"Colorado\", \"Ratio State\": 7.701663482911566, \"Republican Vote\": \"Democrats won the last 4 elections\"}, {\"State\": \"Connecticut\", \"Ratio State\": 3.236424568233505, \"Republican Vote\": \"Democrats won the last 4 elections\"}, {\"State\": \"Delaware\", \"Ratio State\": 10.942853676598272, \"Republican Vote\": \"Democrats won the last 4 elections\"}, {\"State\": \"District of Columbia\", \"Ratio State\": 67.06622469315266, \"Republican Vote\": \"Democrats won the last 4 elections\"}, {\"State\": \"Florida\", \"Ratio State\": 7.397542469592395, \"Republican Vote\": \"Republicans won 3 of the last 4 elections\"}, {\"State\": \"Georgia\", \"Ratio State\": 10.29489709012105, \"Republican Vote\": \"Republicans won 3 of the last 4 elections\"}, {\"State\": \"Hawaii\", \"Ratio State\": 0.41807826146335747, \"Republican Vote\": \"Democrats won the last 4 elections\"}, {\"State\": \"Idaho\", \"Ratio State\": 0.9448635385140625, \"Republican Vote\": \"Republicans won the last 4 elections\"}, {\"State\": \"Illinois\", \"Ratio State\": 21.989316783079886, \"Republican Vote\": \"Democrats won the last 4 elections\"}, {\"State\": \"Indiana\", \"Ratio State\": 8.8071066673075, \"Republican Vote\": \"Republicans won the last 4 elections\"}, {\"State\": \"Iowa\", \"Ratio State\": 3.588074340278439, \"Republican Vote\": \"Republicans won 3 of the last 4 elections\"}, {\"State\": \"Kansas\", \"Ratio State\": 4.9300564680944685, \"Republican Vote\": \"Republicans won the last 4 elections\"}, {\"State\": \"Kentucky\", \"Ratio State\": 7.492622826742375, \"Republican Vote\": \"Republicans won the last 4 elections\"}, {\"State\": \"Louisiana\", \"Ratio State\": 27.189978706936635, \"Republican Vote\": \"Republicans won the last 4 elections\"}, {\"State\": \"Maine\", \"Ratio State\": 2.19938970284423, \"Republican Vote\": \"Democrats won the last 4 elections\"}, {\"State\": \"Maryland\", \"Ratio State\": 13.75177557496607, \"Republican Vote\": \"Democrats won the last 4 elections\"}, {\"State\": \"Massachusetts\", \"Ratio State\": 3.5562713988090735, \"Republican Vote\": \"Democrats won the last 4 elections\"}, {\"State\": \"Michigan\", \"Ratio State\": 8.33202342045239, \"Republican Vote\": \"Republicans won 2 and Democrats won 2 of the last 4 elections\"}, {\"State\": \"Minnesota\", \"Ratio State\": 6.145450226591753, \"Republican Vote\": \"Democrats won the last 4 elections\"}, {\"State\": \"Mississippi\", \"Ratio State\": 19.864092201174156, \"Republican Vote\": \"Republicans won the last 4 elections\"}, {\"State\": \"Missouri\", \"Ratio State\": 13.102186732543753, \"Republican Vote\": \"Republicans won the last 4 elections\"}, {\"State\": \"Montana\", \"Ratio State\": 2.272380916015945, \"Republican Vote\": \"Republicans won the last 4 elections\"}, {\"State\": \"Nebraska\", \"Ratio State\": 5.244212891874397, \"Republican Vote\": \"Republicans won the last 4 elections\"}, {\"State\": \"Nevada\", \"Ratio State\": 7.062137412027906, \"Republican Vote\": \"Democrats won 3 of the last 4 elections\"}, {\"State\": \"New Hampshire\", \"Ratio State\": 0.8603778766318666, \"Republican Vote\": \"Democrats won the last 4 elections\"}, {\"State\": \"New Jersey\", \"Ratio State\": 6.958753726713658, \"Republican Vote\": \"Democrats won the last 4 elections\"}, {\"State\": \"New Mexico\", \"Ratio State\": 6.847876171897527, \"Republican Vote\": \"Democrats won the last 4 elections\"}, {\"State\": \"New York\", \"Ratio State\": 6.259012921371445, \"Republican Vote\": \"Democrats won the last 4 elections\"}, {\"State\": \"North Carolina\", \"Ratio State\": 8.446897735980134, \"Republican Vote\": \"Republicans won the last 4 elections\"}, {\"State\": \"North Dakota\", \"Ratio State\": 0.7653783647946362, \"Republican Vote\": \"Republicans won the last 4 elections\"}, {\"State\": \"Ohio\", \"Ratio State\": 9.362052005527161, \"Republican Vote\": \"Republicans won 3 of the last 4 elections\"}, {\"State\": \"Oklahoma\", \"Ratio State\": 5.582050145339164, \"Republican Vote\": \"Republicans won the last 4 elections\"}, {\"State\": \"Oregon\", \"Ratio State\": 3.438765742285233, \"Republican Vote\": \"Democrats won the last 4 elections\"}, {\"State\": \"Pennsylvania\", \"Ratio State\": 10.455300563565862, \"Republican Vote\": \"Republicans won 2 and Democrats won 2 of the last 4 elections\"}, {\"State\": \"Rhode Island\", \"Ratio State\": 2.2294132140024665, \"Republican Vote\": \"Democrats won the last 4 elections\"}, {\"State\": \"South Carolina\", \"Ratio State\": 13.531658947771422, \"Republican Vote\": \"Republicans won the last 4 elections\"}, {\"State\": \"South Dakota\", \"Ratio State\": 2.7533953761180925, \"Republican Vote\": \"Republicans won the last 4 elections\"}, {\"State\": \"Tennessee\", \"Ratio State\": 12.802569414145449, \"Republican Vote\": \"Republicans won the last 4 elections\"}, {\"State\": \"Texas\", \"Ratio State\": 6.848356054577129, \"Republican Vote\": \"Republicans won the last 4 elections\"}, {\"State\": \"Utah\", \"Ratio State\": 1.505382472279927, \"Republican Vote\": \"Republicans won the last 4 elections\"}, {\"State\": \"Vermont\", \"Ratio State\": 0.9587574503443538, \"Republican Vote\": \"Democrats won the last 4 elections\"}, {\"State\": \"Virginia\", \"Ratio State\": 7.290546105504721, \"Republican Vote\": \"Democrats won the last 4 elections\"}, {\"State\": \"Washington\", \"Ratio State\": 4.878252758496073, \"Republican Vote\": \"Democrats won the last 4 elections\"}, {\"State\": \"West Virginia\", \"Ratio State\": 1.668230597041885, \"Republican Vote\": \"Republicans won the last 4 elections\"}, {\"State\": \"Wisconsin\", \"Ratio State\": 6.341273027558134, \"Republican Vote\": \"Republicans won 2 and Democrats won 2 of the last 4 elections\"}, {\"State\": \"Wyoming\", \"Ratio State\": 1.0342759034400015, \"Republican Vote\": \"Republicans won the last 4 elections\"}]}}, {\"mode\": \"vega-lite\"});\n",
       "</script>"
      ],
      "text/plain": [
       "alt.Chart(...)"
      ]
     },
     "execution_count": 8,
     "metadata": {},
     "output_type": "execute_result"
    }
   ],
   "source": [
    "df_GunViolence['Republican Vote'] = df_GunViolence['State'].map(elections_republican)\n",
    "\n",
    "\n",
    "chart_state = alt.Chart(df_GunViolence).mark_bar().encode(\n",
    "    alt.X('Ratio State:Q'),\n",
    "    alt.Y('State:N', sort='-x'),\n",
    "    alt.Color('Republican Vote:O', \n",
    "              scale=alt.Scale(domain=['Democrats won the last 4 elections', 'Democrats won 3 of the last 4 elections', 'Republicans won 2 and Democrats won 2 of the last 4 elections', 'Republicans won 3 of the last 4 elections', 'Republicans won the last 4 elections'], range=['#0000FF', '#ADD8E6', '#800080', '#FF6666', '#FF0000']),\n",
    "              title='Majoritary Vote in the last 4 elections'\n",
    "    )\n",
    ").properties(title = 'Mass shootings per million inhabitants by state')\n",
    "\n",
    "chart_state"
   ]
  },
  {
   "cell_type": "markdown",
   "metadata": {},
   "source": [
    "Seems good. However, this plot takes so much space just to display small quantities. For that reason and given that we are only asked in the Q1 for the states with larger number of mass shootings per citizen, we decide to truncate the plot and only show the top k countries.\n",
    "\n",
    "On the other hand, the legend of the colors takes up so much space and the labels cannot be fully displayed."
   ]
  },
  {
   "cell_type": "code",
   "execution_count": 18,
   "metadata": {},
   "outputs": [
    {
     "data": {
      "text/plain": [
       "0.0"
      ]
     },
     "execution_count": 18,
     "metadata": {},
     "output_type": "execute_result"
    }
   ],
   "source": [
    "sum(df_GunViolence_csv[df_GunViolence_csv['FIPS']==11001]['Shootings'].fillna(0))"
   ]
  },
  {
   "cell_type": "code",
   "execution_count": 9,
   "metadata": {},
   "outputs": [
    {
     "data": {
      "text/html": [
       "\n",
       "<style>\n",
       "  #altair-viz-e743626eb96e4e21920d979d630ea9dc.vega-embed {\n",
       "    width: 100%;\n",
       "    display: flex;\n",
       "  }\n",
       "\n",
       "  #altair-viz-e743626eb96e4e21920d979d630ea9dc.vega-embed details,\n",
       "  #altair-viz-e743626eb96e4e21920d979d630ea9dc.vega-embed details summary {\n",
       "    position: relative;\n",
       "  }\n",
       "</style>\n",
       "<div id=\"altair-viz-e743626eb96e4e21920d979d630ea9dc\"></div>\n",
       "<script type=\"text/javascript\">\n",
       "  var VEGA_DEBUG = (typeof VEGA_DEBUG == \"undefined\") ? {} : VEGA_DEBUG;\n",
       "  (function(spec, embedOpt){\n",
       "    let outputDiv = document.currentScript.previousElementSibling;\n",
       "    if (outputDiv.id !== \"altair-viz-e743626eb96e4e21920d979d630ea9dc\") {\n",
       "      outputDiv = document.getElementById(\"altair-viz-e743626eb96e4e21920d979d630ea9dc\");\n",
       "    }\n",
       "    const paths = {\n",
       "      \"vega\": \"https://cdn.jsdelivr.net/npm/vega@5?noext\",\n",
       "      \"vega-lib\": \"https://cdn.jsdelivr.net/npm/vega-lib?noext\",\n",
       "      \"vega-lite\": \"https://cdn.jsdelivr.net/npm/vega-lite@5.20.1?noext\",\n",
       "      \"vega-embed\": \"https://cdn.jsdelivr.net/npm/vega-embed@6?noext\",\n",
       "    };\n",
       "\n",
       "    function maybeLoadScript(lib, version) {\n",
       "      var key = `${lib.replace(\"-\", \"\")}_version`;\n",
       "      return (VEGA_DEBUG[key] == version) ?\n",
       "        Promise.resolve(paths[lib]) :\n",
       "        new Promise(function(resolve, reject) {\n",
       "          var s = document.createElement('script');\n",
       "          document.getElementsByTagName(\"head\")[0].appendChild(s);\n",
       "          s.async = true;\n",
       "          s.onload = () => {\n",
       "            VEGA_DEBUG[key] = version;\n",
       "            return resolve(paths[lib]);\n",
       "          };\n",
       "          s.onerror = () => reject(`Error loading script: ${paths[lib]}`);\n",
       "          s.src = paths[lib];\n",
       "        });\n",
       "    }\n",
       "\n",
       "    function showError(err) {\n",
       "      outputDiv.innerHTML = `<div class=\"error\" style=\"color:red;\">${err}</div>`;\n",
       "      throw err;\n",
       "    }\n",
       "\n",
       "    function displayChart(vegaEmbed) {\n",
       "      vegaEmbed(outputDiv, spec, embedOpt)\n",
       "        .catch(err => showError(`Javascript Error: ${err.message}<br>This usually means there's a typo in your chart specification. See the javascript console for the full traceback.`));\n",
       "    }\n",
       "\n",
       "    if(typeof define === \"function\" && define.amd) {\n",
       "      requirejs.config({paths});\n",
       "      require([\"vega-embed\"], displayChart, err => showError(`Error loading script: ${err.message}`));\n",
       "    } else {\n",
       "      maybeLoadScript(\"vega\", \"5\")\n",
       "        .then(() => maybeLoadScript(\"vega-lite\", \"5.20.1\"))\n",
       "        .then(() => maybeLoadScript(\"vega-embed\", \"6\"))\n",
       "        .catch(showError)\n",
       "        .then(() => displayChart(vegaEmbed));\n",
       "    }\n",
       "  })({\"config\": {\"view\": {\"continuousWidth\": 300, \"continuousHeight\": 300}}, \"data\": {\"name\": \"data-467463a9fea2289210944195899f679f\"}, \"mark\": {\"type\": \"bar\"}, \"encoding\": {\"color\": {\"field\": \"Republican Vote\", \"scale\": {\"domain\": [\"Democrats won the last 4\", \"Democrats won 3\", \"Republicans won 2, Democrats won 2\", \"Republicans won 3\", \"Republicans won the last 4\"], \"range\": [\"#0000FF\", \"#ADD8E6\", \"#800080\", \"#FF6666\", \"#FF0000\"]}, \"title\": \"Majoritary Vote (last 4 elections)\", \"type\": \"ordinal\"}, \"x\": {\"field\": \"Ratio State\", \"type\": \"quantitative\"}, \"y\": {\"field\": \"State\", \"sort\": \"-x\", \"type\": \"nominal\"}}, \"title\": \"Top 10 States by Mass shootings per inhabitant\", \"$schema\": \"https://vega.github.io/schema/vega-lite/v5.20.1.json\", \"datasets\": {\"data-467463a9fea2289210944195899f679f\": [{\"State\": \"District of Columbia\", \"Ratio State\": 67.06622469315266, \"Republican Vote\": \"Democrats won the last 4\"}, {\"State\": \"Louisiana\", \"Ratio State\": 27.189978706936635, \"Republican Vote\": \"Republicans won the last 4\"}, {\"State\": \"Illinois\", \"Ratio State\": 21.989316783079886, \"Republican Vote\": \"Democrats won the last 4\"}, {\"State\": \"Mississippi\", \"Ratio State\": 19.864092201174156, \"Republican Vote\": \"Republicans won the last 4\"}, {\"State\": \"Maryland\", \"Ratio State\": 13.75177557496607, \"Republican Vote\": \"Democrats won the last 4\"}, {\"State\": \"Alabama\", \"Ratio State\": 13.7459000125512, \"Republican Vote\": \"Republicans won the last 4\"}, {\"State\": \"South Carolina\", \"Ratio State\": 13.531658947771422, \"Republican Vote\": \"Republicans won the last 4\"}, {\"State\": \"Missouri\", \"Ratio State\": 13.102186732543753, \"Republican Vote\": \"Republicans won the last 4\"}, {\"State\": \"Tennessee\", \"Ratio State\": 12.802569414145449, \"Republican Vote\": \"Republicans won the last 4\"}, {\"State\": \"Delaware\", \"Ratio State\": 10.942853676598272, \"Republican Vote\": \"Democrats won the last 4\"}]}}, {\"mode\": \"vega-lite\"});\n",
       "</script>"
      ],
      "text/plain": [
       "alt.Chart(...)"
      ]
     },
     "execution_count": 9,
     "metadata": {},
     "output_type": "execute_result"
    }
   ],
   "source": [
    "elections_republican = {'Alabama': 4, 'Alaska': 4, 'Arizona': 3, 'Arkansas': 4, 'California': 0, 'Colorado': 0, 'Connecticut': 0, 'Delaware': 0, 'District of Columbia': 0, 'Florida': 3, 'Georgia': 3, 'Hawaii': 0, 'Idaho': 4, 'Illinois': 0, 'Indiana': 4, 'Iowa': 3, 'Kansas': 4, 'Kentucky': 4, 'Louisiana': 4, 'Maine': 0, 'Maryland': 0, 'Massachusetts': 0, 'Michigan': 2, 'Minnesota': 0, 'Mississippi': 4, 'Missouri': 4, 'Montana': 4, 'Nebraska': 4, 'Nevada': 1, 'New Hampshire': 0, 'New Jersey': 0, 'New Mexico': 0, 'New York': 0, 'North Carolina': 4, 'North Dakota': 4, 'Ohio': 3, 'Oklahoma': 4, 'Oregon': 0, 'Pennsylvania': 2, 'Rhode Island': 0, 'South Carolina': 4, 'South Dakota': 4, 'Tennessee': 4, 'Texas': 4, 'Utah': 4, 'Vermont': 0, 'Virginia': 0, 'Washington': 0, 'West Virginia': 4, 'Wisconsin': 2, 'Wyoming': 4}\n",
    "\n",
    "mapping = {\n",
    "    4: 'Republicans won the last 4',\n",
    "    3: 'Republicans won 3',\n",
    "    2: 'Republicans won 2, Democrats won 2',\n",
    "    1: 'Democrats won 3',\n",
    "    0: 'Democrats won the last 4'\n",
    "\n",
    "}\n",
    "for state in elections_republican.keys():\n",
    "    elections_republican[state] = mapping[elections_republican[state]]\n",
    "\n",
    "\n",
    "df_GunViolence['Republican Vote'] = df_GunViolence['State'].map(elections_republican)\n",
    "\n",
    "\n",
    "k = 10\n",
    "\n",
    "top_k_states = df_GunViolence.nlargest(k, 'Ratio State')\n",
    "\n",
    "chart_state = alt.Chart(top_k_states).mark_bar().encode(\n",
    "    alt.X('Ratio State:Q'),\n",
    "    alt.Y('State:N', sort='-x'),\n",
    "    alt.Color('Republican Vote:O', \n",
    "              scale=alt.Scale(domain=['Democrats won the last 4', 'Democrats won 3', 'Republicans won 2, Democrats won 2', 'Republicans won 3', 'Republicans won the last 4'], range=['#0000FF', '#ADD8E6', '#800080', '#FF6666', '#FF0000']),\n",
    "              title='Majoritary Vote (last 4 elections)'\n",
    "    )\n",
    ").properties(title = f'Top {k} States by Mass shootings per inhabitant')\n",
    "\n",
    "chart_state"
   ]
  },
  {
   "cell_type": "code",
   "execution_count": null,
   "metadata": {},
   "outputs": [],
   "source": []
  },
  {
   "cell_type": "markdown",
   "metadata": {},
   "source": [
    "<h3 style=\"color:darkblue\"> Q2: How is the number of mass shootings per citizen distributed across the different counties in the US? And across states?"
   ]
  },
  {
   "cell_type": "code",
   "execution_count": 10,
   "metadata": {},
   "outputs": [
    {
     "name": "stdout",
     "output_type": "stream",
     "text": [
      "   Unnamed: 0  FIPS    State          County  Year  Population  Month_x  \\\n",
      "0           0  1000  Alabama         Alabama  2014   4843737.0        1   \n",
      "1           1  1001  Alabama  Autauga County  2014     54922.0        1   \n",
      "2           2  1003  Alabama  Baldwin County  2014    199306.0        1   \n",
      "3           3  1005  Alabama  Barbour County  2014     26768.0        1   \n",
      "4           4  1007  Alabama     Bibb County  2014     22541.0        1   \n",
      "\n",
      "   Month_y  Shootings  School Incidents  Ratio County  \n",
      "0      NaN        NaN               NaN           NaN  \n",
      "1      NaN        NaN               NaN           NaN  \n",
      "2      NaN        NaN               NaN           NaN  \n",
      "3      NaN        NaN               NaN           NaN  \n",
      "4      NaN        NaN               NaN           NaN  \n"
     ]
    },
    {
     "ename": "NameError",
     "evalue": "name 'df_shootings_grouped' is not defined",
     "output_type": "error",
     "traceback": [
      "\u001b[1;31m---------------------------------------------------------------------------\u001b[0m",
      "\u001b[1;31mNameError\u001b[0m                                 Traceback (most recent call last)",
      "Cell \u001b[1;32mIn[10], line 18\u001b[0m\n\u001b[0;32m     10\u001b[0m \u001b[38;5;28mmap\u001b[39m \u001b[38;5;241m=\u001b[39m alt\u001b[38;5;241m.\u001b[39mtopo_feature(data\u001b[38;5;241m.\u001b[39mus_10m\u001b[38;5;241m.\u001b[39murl, feature\u001b[38;5;241m=\u001b[39m\u001b[38;5;124m'\u001b[39m\u001b[38;5;124mcounties\u001b[39m\u001b[38;5;124m'\u001b[39m)\n\u001b[0;32m     12\u001b[0m \u001b[38;5;66;03m# Crear el coroplèstic map amb Altair\u001b[39;00m\n\u001b[0;32m     13\u001b[0m map_chart \u001b[38;5;241m=\u001b[39m alt\u001b[38;5;241m.\u001b[39mChart(\u001b[38;5;28mmap\u001b[39m)\u001b[38;5;241m.\u001b[39mmark_geoshape()\u001b[38;5;241m.\u001b[39mencode(\n\u001b[0;32m     14\u001b[0m     color\u001b[38;5;241m=\u001b[39malt\u001b[38;5;241m.\u001b[39mColor(\u001b[38;5;124m'\u001b[39m\u001b[38;5;124mTotal Shootings:Q\u001b[39m\u001b[38;5;124m'\u001b[39m, scale\u001b[38;5;241m=\u001b[39malt\u001b[38;5;241m.\u001b[39mScale(scheme\u001b[38;5;241m=\u001b[39m\u001b[38;5;124m'\u001b[39m\u001b[38;5;124mreds\u001b[39m\u001b[38;5;124m'\u001b[39m), title\u001b[38;5;241m=\u001b[39m\u001b[38;5;124m'\u001b[39m\u001b[38;5;124mTotal Shootings\u001b[39m\u001b[38;5;124m'\u001b[39m),\n\u001b[0;32m     15\u001b[0m     tooltip\u001b[38;5;241m=\u001b[39m[\u001b[38;5;124m'\u001b[39m\u001b[38;5;124mproperties.name:N\u001b[39m\u001b[38;5;124m'\u001b[39m, \u001b[38;5;124m'\u001b[39m\u001b[38;5;124mTotal Shootings:Q\u001b[39m\u001b[38;5;124m'\u001b[39m]  \u001b[38;5;66;03m# Mostra el nom del comtat i el nombre de tirotejos\u001b[39;00m\n\u001b[0;32m     16\u001b[0m )\u001b[38;5;241m.\u001b[39mtransform_lookup(\n\u001b[0;32m     17\u001b[0m     lookup\u001b[38;5;241m=\u001b[39m\u001b[38;5;124m'\u001b[39m\u001b[38;5;124mid\u001b[39m\u001b[38;5;124m'\u001b[39m,  \u001b[38;5;66;03m# Codi FIPS del comtat\u001b[39;00m\n\u001b[1;32m---> 18\u001b[0m     from_\u001b[38;5;241m=\u001b[39malt\u001b[38;5;241m.\u001b[39mLookupData(\u001b[43mdf_shootings_grouped\u001b[49m, \u001b[38;5;124m'\u001b[39m\u001b[38;5;124mFIPS\u001b[39m\u001b[38;5;124m'\u001b[39m, [\u001b[38;5;124m'\u001b[39m\u001b[38;5;124mTotal Shootings\u001b[39m\u001b[38;5;124m'\u001b[39m])  \u001b[38;5;66;03m# Unir per FIPS\u001b[39;00m\n\u001b[0;32m     19\u001b[0m )\u001b[38;5;241m.\u001b[39mproject(\n\u001b[0;32m     20\u001b[0m     \u001b[38;5;28mtype\u001b[39m\u001b[38;5;241m=\u001b[39m\u001b[38;5;124m'\u001b[39m\u001b[38;5;124malbersUsa\u001b[39m\u001b[38;5;124m'\u001b[39m\n\u001b[0;32m     21\u001b[0m )\u001b[38;5;241m.\u001b[39mproperties(\n\u001b[0;32m     22\u001b[0m     width\u001b[38;5;241m=\u001b[39m\u001b[38;5;241m800\u001b[39m, height\u001b[38;5;241m=\u001b[39m\u001b[38;5;241m500\u001b[39m,\n\u001b[0;32m     23\u001b[0m     title\u001b[38;5;241m=\u001b[39m\u001b[38;5;124m\"\u001b[39m\u001b[38;5;124mTotal Shootings per County in the USA\u001b[39m\u001b[38;5;124m\"\u001b[39m\n\u001b[0;32m     24\u001b[0m )\n\u001b[0;32m     26\u001b[0m map_chart\u001b[38;5;241m.\u001b[39mshow()\n",
      "\u001b[1;31mNameError\u001b[0m: name 'df_shootings_grouped' is not defined"
     ]
    }
   ],
   "source": [
    "from vega_datasets import data\n",
    "\n",
    "df_GunViolence = pd.read_csv('datasets/GunViolenceCompleteData.csv')\n",
    "\n",
    "# Agrupa per comtat i compta el nombre de tirotejos (usant FIPS)\n",
    "print(df_GunViolence.head())\n",
    "#df_shootings_grouped = df_GunViolence.groupby(['FIPS']).size().reset_index(name='Total Shootings')\n",
    "\n",
    "# Carregar la geometria dels comtats dels EUA (mitjançant l'URL de topojson)\n",
    "map = alt.topo_feature(data.us_10m.url, feature='counties')\n",
    "\n",
    "# Crear el coroplèstic map amb Altair\n",
    "map_chart = alt.Chart(map).mark_geoshape().encode(\n",
    "    color=alt.Color('Total Shootings:Q', scale=alt.Scale(scheme='reds'), title='Total Shootings'),\n",
    "    tooltip=['properties.name:N', 'Total Shootings:Q']  # Mostra el nom del comtat i el nombre de tirotejos\n",
    ").transform_lookup(\n",
    "    lookup='id',  # Codi FIPS del comtat\n",
    "    from_=alt.LookupData(df_shootings_grouped, 'FIPS', ['Total Shootings'])  # Unir per FIPS\n",
    ").project(\n",
    "    type='albersUsa'\n",
    ").properties(\n",
    "    width=800, height=500,\n",
    "    title=\"Total Shootings per County in the USA\"\n",
    ")\n",
    "\n",
    "map_chart.show()"
   ]
  },
  {
   "cell_type": "markdown",
   "metadata": {},
   "source": [
    "#### Visualization description\n",
    "We decided to..."
   ]
  },
  {
   "cell_type": "markdown",
   "metadata": {},
   "source": [
    "<h3 style=\"color:darkblue\"> Q3: Are the mass shootings correlated with gun violence incidents in schools?"
   ]
  },
  {
   "cell_type": "code",
   "execution_count": 101,
   "metadata": {},
   "outputs": [],
   "source": [
    "df_GunViolence = df_GunViolence_csv"
   ]
  },
  {
   "cell_type": "code",
   "execution_count": 95,
   "metadata": {},
   "outputs": [
    {
     "data": {
      "text/html": [
       "\n",
       "<style>\n",
       "  #altair-viz-76c65309efec4a74b27813bc61b87fde.vega-embed {\n",
       "    width: 100%;\n",
       "    display: flex;\n",
       "  }\n",
       "\n",
       "  #altair-viz-76c65309efec4a74b27813bc61b87fde.vega-embed details,\n",
       "  #altair-viz-76c65309efec4a74b27813bc61b87fde.vega-embed details summary {\n",
       "    position: relative;\n",
       "  }\n",
       "</style>\n",
       "<div id=\"altair-viz-76c65309efec4a74b27813bc61b87fde\"></div>\n",
       "<script type=\"text/javascript\">\n",
       "  var VEGA_DEBUG = (typeof VEGA_DEBUG == \"undefined\") ? {} : VEGA_DEBUG;\n",
       "  (function(spec, embedOpt){\n",
       "    let outputDiv = document.currentScript.previousElementSibling;\n",
       "    if (outputDiv.id !== \"altair-viz-76c65309efec4a74b27813bc61b87fde\") {\n",
       "      outputDiv = document.getElementById(\"altair-viz-76c65309efec4a74b27813bc61b87fde\");\n",
       "    }\n",
       "    const paths = {\n",
       "      \"vega\": \"https://cdn.jsdelivr.net/npm/vega@5?noext\",\n",
       "      \"vega-lib\": \"https://cdn.jsdelivr.net/npm/vega-lib?noext\",\n",
       "      \"vega-lite\": \"https://cdn.jsdelivr.net/npm/vega-lite@5.20.1?noext\",\n",
       "      \"vega-embed\": \"https://cdn.jsdelivr.net/npm/vega-embed@6?noext\",\n",
       "    };\n",
       "\n",
       "    function maybeLoadScript(lib, version) {\n",
       "      var key = `${lib.replace(\"-\", \"\")}_version`;\n",
       "      return (VEGA_DEBUG[key] == version) ?\n",
       "        Promise.resolve(paths[lib]) :\n",
       "        new Promise(function(resolve, reject) {\n",
       "          var s = document.createElement('script');\n",
       "          document.getElementsByTagName(\"head\")[0].appendChild(s);\n",
       "          s.async = true;\n",
       "          s.onload = () => {\n",
       "            VEGA_DEBUG[key] = version;\n",
       "            return resolve(paths[lib]);\n",
       "          };\n",
       "          s.onerror = () => reject(`Error loading script: ${paths[lib]}`);\n",
       "          s.src = paths[lib];\n",
       "        });\n",
       "    }\n",
       "\n",
       "    function showError(err) {\n",
       "      outputDiv.innerHTML = `<div class=\"error\" style=\"color:red;\">${err}</div>`;\n",
       "      throw err;\n",
       "    }\n",
       "\n",
       "    function displayChart(vegaEmbed) {\n",
       "      vegaEmbed(outputDiv, spec, embedOpt)\n",
       "        .catch(err => showError(`Javascript Error: ${err.message}<br>This usually means there's a typo in your chart specification. See the javascript console for the full traceback.`));\n",
       "    }\n",
       "\n",
       "    if(typeof define === \"function\" && define.amd) {\n",
       "      requirejs.config({paths});\n",
       "      require([\"vega-embed\"], displayChart, err => showError(`Error loading script: ${err.message}`));\n",
       "    } else {\n",
       "      maybeLoadScript(\"vega\", \"5\")\n",
       "        .then(() => maybeLoadScript(\"vega-lite\", \"5.20.1\"))\n",
       "        .then(() => maybeLoadScript(\"vega-embed\", \"6\"))\n",
       "        .catch(showError)\n",
       "        .then(() => displayChart(vegaEmbed));\n",
       "    }\n",
       "  })({\"config\": {\"view\": {\"continuousWidth\": 300, \"continuousHeight\": 300}}, \"data\": {\"name\": \"data-4f53cda18c2baa0c0354bb5f9a3ecbe5\"}, \"mark\": {\"type\": \"circle\", \"size\": 100}, \"encoding\": {\"tooltip\": [{\"field\": \"State\", \"type\": \"nominal\"}, {\"field\": \"Shootings\", \"type\": \"quantitative\"}, {\"field\": \"School Incidents\", \"type\": \"quantitative\"}, {\"field\": \"Population\", \"type\": \"quantitative\"}], \"x\": {\"field\": \"Ratio School Incidents\", \"title\": \"\", \"type\": \"quantitative\"}, \"y\": {\"field\": \"Ratio Shootings\", \"title\": \"Ratio of Shootings per Population\", \"type\": \"quantitative\"}}, \"height\": 600, \"title\": \"Ratio of Shootings per Population by State\", \"width\": 800, \"$schema\": \"https://vega.github.io/schema/vega-lite/v5.20.1.json\", \"datasets\": {\"data-4f53cda18c2baa0c0354bb5f9a3ecbe5\": []}}, {\"mode\": \"vega-lite\"});\n",
       "</script>"
      ],
      "text/plain": [
       "alt.Chart(...)"
      ]
     },
     "metadata": {},
     "output_type": "display_data"
    }
   ],
   "source": [
    "# Agrupar per estat i comptar el nombre total de tirotejos per estat\n",
    "df_GunViolence = df_GunViolence_csv.fillna(0)\n",
    "\n",
    "\n",
    "df_GunViolence = df_GunViolence[df_GunViolence['Year']==2023]\n",
    "df_GunViolence = df_GunViolence.groupby(['State'])[['Shootings', 'School Incidents', 'Population']].agg({\n",
    "    'Shootings': 'sum',\n",
    "    'School Incidents': 'sum',\n",
    "    'Population': 'first'\n",
    "}).reset_index()\n",
    "\n",
    "df_GunViolence['Ratio Shootings'] = df_GunViolence['Shootings']*1000000 / df_GunViolence['Population']\n",
    "df_GunViolence['Ratio School Incidents'] = df_GunViolence['School Incidents'] *1000000/ df_GunViolence['Population']\n",
    "\n",
    "\n",
    "scatter_plot = alt.Chart(df_GunViolence).mark_circle(size=100).encode(\n",
    "    y=alt.Y('Ratio Shootings:Q', title='Ratio of Shootings per Population'),\n",
    "    x=alt.X('Ratio School Incidents:Q', title=''),\n",
    "    tooltip=['State', 'Shootings', 'School Incidents', 'Population'] \n",
    ").properties(\n",
    "    width=800,\n",
    "    height=600,\n",
    "    title=\"Ratio of Shootings per Population by State\"\n",
    ")\n",
    "\n",
    "scatter_plot.show()"
   ]
  },
  {
   "cell_type": "code",
   "execution_count": 61,
   "metadata": {},
   "outputs": [
    {
     "data": {
      "text/html": [
       "\n",
       "<style>\n",
       "  #altair-viz-ea6b377b0b6b4209aa3260f28f1f6d78.vega-embed {\n",
       "    width: 100%;\n",
       "    display: flex;\n",
       "  }\n",
       "\n",
       "  #altair-viz-ea6b377b0b6b4209aa3260f28f1f6d78.vega-embed details,\n",
       "  #altair-viz-ea6b377b0b6b4209aa3260f28f1f6d78.vega-embed details summary {\n",
       "    position: relative;\n",
       "  }\n",
       "</style>\n",
       "<div id=\"altair-viz-ea6b377b0b6b4209aa3260f28f1f6d78\"></div>\n",
       "<script type=\"text/javascript\">\n",
       "  var VEGA_DEBUG = (typeof VEGA_DEBUG == \"undefined\") ? {} : VEGA_DEBUG;\n",
       "  (function(spec, embedOpt){\n",
       "    let outputDiv = document.currentScript.previousElementSibling;\n",
       "    if (outputDiv.id !== \"altair-viz-ea6b377b0b6b4209aa3260f28f1f6d78\") {\n",
       "      outputDiv = document.getElementById(\"altair-viz-ea6b377b0b6b4209aa3260f28f1f6d78\");\n",
       "    }\n",
       "    const paths = {\n",
       "      \"vega\": \"https://cdn.jsdelivr.net/npm/vega@5?noext\",\n",
       "      \"vega-lib\": \"https://cdn.jsdelivr.net/npm/vega-lib?noext\",\n",
       "      \"vega-lite\": \"https://cdn.jsdelivr.net/npm/vega-lite@5.20.1?noext\",\n",
       "      \"vega-embed\": \"https://cdn.jsdelivr.net/npm/vega-embed@6?noext\",\n",
       "    };\n",
       "\n",
       "    function maybeLoadScript(lib, version) {\n",
       "      var key = `${lib.replace(\"-\", \"\")}_version`;\n",
       "      return (VEGA_DEBUG[key] == version) ?\n",
       "        Promise.resolve(paths[lib]) :\n",
       "        new Promise(function(resolve, reject) {\n",
       "          var s = document.createElement('script');\n",
       "          document.getElementsByTagName(\"head\")[0].appendChild(s);\n",
       "          s.async = true;\n",
       "          s.onload = () => {\n",
       "            VEGA_DEBUG[key] = version;\n",
       "            return resolve(paths[lib]);\n",
       "          };\n",
       "          s.onerror = () => reject(`Error loading script: ${paths[lib]}`);\n",
       "          s.src = paths[lib];\n",
       "        });\n",
       "    }\n",
       "\n",
       "    function showError(err) {\n",
       "      outputDiv.innerHTML = `<div class=\"error\" style=\"color:red;\">${err}</div>`;\n",
       "      throw err;\n",
       "    }\n",
       "\n",
       "    function displayChart(vegaEmbed) {\n",
       "      vegaEmbed(outputDiv, spec, embedOpt)\n",
       "        .catch(err => showError(`Javascript Error: ${err.message}<br>This usually means there's a typo in your chart specification. See the javascript console for the full traceback.`));\n",
       "    }\n",
       "\n",
       "    if(typeof define === \"function\" && define.amd) {\n",
       "      requirejs.config({paths});\n",
       "      require([\"vega-embed\"], displayChart, err => showError(`Error loading script: ${err.message}`));\n",
       "    } else {\n",
       "      maybeLoadScript(\"vega\", \"5\")\n",
       "        .then(() => maybeLoadScript(\"vega-lite\", \"5.20.1\"))\n",
       "        .then(() => maybeLoadScript(\"vega-embed\", \"6\"))\n",
       "        .catch(showError)\n",
       "        .then(() => displayChart(vegaEmbed));\n",
       "    }\n",
       "  })({\"config\": {\"view\": {\"continuousWidth\": 300, \"continuousHeight\": 300}}, \"layer\": [{\"data\": {\"name\": \"data-9e7dc5dcbb7e2796927beaad9cb136f7\"}, \"mark\": {\"type\": \"circle\", \"size\": 100}, \"encoding\": {\"tooltip\": [{\"field\": \"State\", \"type\": \"nominal\"}, {\"field\": \"Shootings\", \"type\": \"quantitative\"}, {\"field\": \"School Incidents\", \"type\": \"quantitative\"}, {\"field\": \"Population\", \"type\": \"quantitative\"}], \"x\": {\"field\": \"Ratio School Incidents\", \"title\": \"Ratio of School Incidents per Population\", \"type\": \"quantitative\"}, \"y\": {\"field\": \"Ratio Shootings\", \"title\": \"Ratio of Shootings per Population\", \"type\": \"quantitative\"}}, \"title\": \"Ratio of Shootings per Population by State\"}, {\"data\": {\"name\": \"data-eedf5971082b8356978fc6461fa19de3\"}, \"mark\": {\"type\": \"text\", \"align\": \"center\", \"dx\": -20, \"dy\": -15, \"size\": 14}, \"encoding\": {\"text\": {\"field\": \"State\", \"type\": \"nominal\"}, \"x\": {\"field\": \"Ratio School Incidents\", \"type\": \"quantitative\"}, \"y\": {\"field\": \"Ratio Shootings\", \"type\": \"quantitative\"}}}, {\"data\": {\"name\": \"data-10fcedbcf45b6870fd23a98e3ce5293f\"}, \"mark\": {\"type\": \"text\", \"align\": \"right\", \"dx\": -7, \"dy\": 14, \"size\": 14}, \"encoding\": {\"text\": {\"field\": \"State\", \"type\": \"nominal\"}, \"x\": {\"field\": \"Ratio School Incidents\", \"type\": \"quantitative\"}, \"y\": {\"field\": \"Ratio Shootings\", \"type\": \"quantitative\"}}}], \"height\": 600, \"width\": 800, \"$schema\": \"https://vega.github.io/schema/vega-lite/v5.20.1.json\", \"datasets\": {\"data-9e7dc5dcbb7e2796927beaad9cb136f7\": [{\"State\": \"Alabama\", \"Shootings\": 132.0, \"School Incidents\": 480.0, \"Population\": 5108468.0, \"Ratio Shootings\": 25.839449322184265, \"Ratio School Incidents\": 93.96163389885187, \"Label\": \"\"}, {\"State\": \"Alaska\", \"Shootings\": 0.0, \"School Incidents\": 48.0, \"Population\": 733406.0, \"Ratio Shootings\": 0.0, \"Ratio School Incidents\": 65.44806014676728, \"Label\": \"\"}, {\"State\": \"Arizona\", \"Shootings\": 108.0, \"School Incidents\": 288.0, \"Population\": 7431344.0, \"Ratio Shootings\": 14.533037361747754, \"Ratio School Incidents\": 38.75476629799401, \"Label\": \"\"}, {\"State\": \"Arkansas\", \"Shootings\": 108.0, \"School Incidents\": 216.0, \"Population\": 3067732.0, \"Ratio Shootings\": 35.20516133743104, \"Ratio School Incidents\": 70.41032267486209, \"Label\": \"\"}, {\"State\": \"California\", \"Shootings\": 612.0, \"School Incidents\": 672.0, \"Population\": 38965193.0, \"Ratio Shootings\": 15.706325386351866, \"Ratio School Incidents\": 17.246161208543224, \"Label\": \"\"}, {\"State\": \"Colorado\", \"Shootings\": 192.0, \"School Incidents\": 120.0, \"Population\": 5877610.0, \"Ratio Shootings\": 32.6663388690301, \"Ratio School Incidents\": 20.41646179314381, \"Label\": \"\"}, {\"State\": \"Connecticut\", \"Shootings\": 12.0, \"School Incidents\": 36.0, \"Population\": 3617176.0, \"Ratio Shootings\": 3.317505147662154, \"Ratio School Incidents\": 9.952515442986462, \"Label\": \"\"}, {\"State\": \"Delaware\", \"Shootings\": 12.0, \"School Incidents\": 72.0, \"Population\": 1031890.0, \"Ratio Shootings\": 11.629146517555165, \"Ratio School Incidents\": 69.774879105331, \"Label\": \"\"}, {\"State\": \"District of Columbia\", \"Shootings\": 132.0, \"School Incidents\": 72.0, \"Population\": 678972.0, \"Ratio Shootings\": 194.4115515809194, \"Ratio School Incidents\": 106.04266449868331, \"Label\": \"District of Columbia\"}, {\"State\": \"Florida\", \"Shootings\": 360.0, \"School Incidents\": 840.0, \"Population\": 22610726.0, \"Ratio Shootings\": 15.921647097930425, \"Ratio School Incidents\": 37.15050989517099, \"Label\": \"\"}, {\"State\": \"Georgia\", \"Shootings\": 300.0, \"School Incidents\": 552.0, \"Population\": 11029227.0, \"Ratio Shootings\": 27.20045566203325, \"Ratio School Incidents\": 50.04883841814118, \"Label\": \"\"}, {\"State\": \"Hawaii\", \"Shootings\": 12.0, \"School Incidents\": 12.0, \"Population\": 1435138.0, \"Ratio Shootings\": 8.36156522926715, \"Ratio School Incidents\": 8.36156522926715, \"Label\": \"\"}, {\"State\": \"Idaho\", \"Shootings\": 12.0, \"School Incidents\": 36.0, \"Population\": 1964726.0, \"Ratio Shootings\": 6.1077218909914155, \"Ratio School Incidents\": 18.32316567297425, \"Label\": \"\"}, {\"State\": \"Illinois\", \"Shootings\": 600.0, \"School Incidents\": 360.0, \"Population\": 12549689.0, \"Ratio Shootings\": 47.80994971269806, \"Ratio School Incidents\": 28.685969827618838, \"Label\": \"\"}, {\"State\": \"Indiana\", \"Shootings\": 180.0, \"School Incidents\": 504.0, \"Population\": 6862199.0, \"Ratio Shootings\": 26.23065871450245, \"Ratio School Incidents\": 73.44584440060686, \"Label\": \"\"}, {\"State\": \"Iowa\", \"Shootings\": 12.0, \"School Incidents\": 84.0, \"Population\": 3207004.0, \"Ratio Shootings\": 3.7418101131149197, \"Ratio School Incidents\": 26.19267079180444, \"Label\": \"\"}, {\"State\": \"Kansas\", \"Shootings\": 24.0, \"School Incidents\": 60.0, \"Population\": 2940546.0, \"Ratio Shootings\": 8.161749552634102, \"Ratio School Incidents\": 20.404373881585258, \"Label\": \"\"}, {\"State\": \"Kentucky\", \"Shootings\": 96.0, \"School Incidents\": 360.0, \"Population\": 4526154.0, \"Ratio Shootings\": 21.210060461928606, \"Ratio School Incidents\": 79.53772673223227, \"Label\": \"\"}, {\"State\": \"Louisiana\", \"Shootings\": 372.0, \"School Incidents\": 192.0, \"Population\": 4573749.0, \"Ratio Shootings\": 81.33371551434064, \"Ratio School Incidents\": 41.97869187836936, \"Label\": \"Louisiana\"}, {\"State\": \"Maine\", \"Shootings\": 24.0, \"School Incidents\": 60.0, \"Population\": 1395722.0, \"Ratio Shootings\": 17.19540137649188, \"Ratio School Incidents\": 42.9885034412297, \"Label\": \"\"}, {\"State\": \"Maryland\", \"Shootings\": 264.0, \"School Incidents\": 528.0, \"Population\": 6180253.0, \"Ratio Shootings\": 42.71669784392322, \"Ratio School Incidents\": 85.43339568784644, \"Label\": \"\"}, {\"State\": \"Massachusetts\", \"Shootings\": 84.0, \"School Incidents\": 120.0, \"Population\": 7001399.0, \"Ratio Shootings\": 11.99760219350447, \"Ratio School Incidents\": 17.139431705006384, \"Label\": \"\"}, {\"State\": \"Michigan\", \"Shootings\": 168.0, \"School Incidents\": 336.0, \"Population\": 10037261.0, \"Ratio Shootings\": 16.737633902316578, \"Ratio School Incidents\": 33.475267804633155, \"Label\": \"\"}, {\"State\": \"Minnesota\", \"Shootings\": 132.0, \"School Incidents\": 144.0, \"Population\": 5737915.0, \"Ratio Shootings\": 23.004871978758835, \"Ratio School Incidents\": 25.09622397682782, \"Label\": \"\"}, {\"State\": \"Mississippi\", \"Shootings\": 276.0, \"School Incidents\": 168.0, \"Population\": 2939690.0, \"Ratio Shootings\": 93.88745071759267, \"Ratio School Incidents\": 57.14888304549119, \"Label\": \"Mississippi\"}, {\"State\": \"Missouri\", \"Shootings\": 168.0, \"School Incidents\": 180.0, \"Population\": 6196156.0, \"Ratio Shootings\": 27.113584616010314, \"Ratio School Incidents\": 29.05026923143962, \"Label\": \"\"}, {\"State\": \"Montana\", \"Shootings\": 0.0, \"School Incidents\": 12.0, \"Population\": 1132812.0, \"Ratio Shootings\": 0.0, \"Ratio School Incidents\": 10.59310812385462, \"Label\": \"\"}, {\"State\": \"Nebraska\", \"Shootings\": 24.0, \"School Incidents\": 84.0, \"Population\": 1978379.0, \"Ratio Shootings\": 12.13114372928544, \"Ratio School Incidents\": 42.45900305249904, \"Label\": \"\"}, {\"State\": \"Nevada\", \"Shootings\": 60.0, \"School Incidents\": 264.0, \"Population\": 3194176.0, \"Ratio Shootings\": 18.78418722074175, \"Ratio School Incidents\": 82.6504237712637, \"Label\": \"\"}, {\"State\": \"New Hampshire\", \"Shootings\": 12.0, \"School Incidents\": 24.0, \"Population\": 1402054.0, \"Ratio Shootings\": 8.558871484265229, \"Ratio School Incidents\": 17.117742968530457, \"Label\": \"\"}, {\"State\": \"New Jersey\", \"Shootings\": 144.0, \"School Incidents\": 48.0, \"Population\": 9290841.0, \"Ratio Shootings\": 15.499135115970663, \"Ratio School Incidents\": 5.166378371990222, \"Label\": \"\"}, {\"State\": \"New Mexico\", \"Shootings\": 36.0, \"School Incidents\": 228.0, \"Population\": 2114371.0, \"Ratio Shootings\": 17.02634022127621, \"Ratio School Incidents\": 107.83348806808266, \"Label\": \"New Mexico\"}, {\"State\": \"New York\", \"Shootings\": 192.0, \"School Incidents\": 252.0, \"Population\": 19571216.0, \"Ratio Shootings\": 9.810325531126937, \"Ratio School Incidents\": 12.876052259604105, \"Label\": \"\"}, {\"State\": \"North Carolina\", \"Shootings\": 396.0, \"School Incidents\": 1008.0, \"Population\": 10835491.0, \"Ratio Shootings\": 36.54656720216924, \"Ratio School Incidents\": 93.0276256055217, \"Label\": \"\"}, {\"State\": \"North Dakota\", \"Shootings\": 12.0, \"School Incidents\": 12.0, \"Population\": 783926.0, \"Ratio Shootings\": 15.307567295892724, \"Ratio School Incidents\": 15.307567295892724, \"Label\": \"\"}, {\"State\": \"Ohio\", \"Shootings\": 384.0, \"School Incidents\": 564.0, \"Population\": 11785935.0, \"Ratio Shootings\": 32.58120802464972, \"Ratio School Incidents\": 47.85364928620427, \"Label\": \"\"}, {\"State\": \"Oklahoma\", \"Shootings\": 84.0, \"School Incidents\": 192.0, \"Population\": 4053824.0, \"Ratio Shootings\": 20.721175857659336, \"Ratio School Incidents\": 47.36268767464991, \"Label\": \"\"}, {\"State\": \"Oregon\", \"Shootings\": 24.0, \"School Incidents\": 48.0, \"Population\": 4233358.0, \"Ratio Shootings\": 5.669258305109088, \"Ratio School Incidents\": 11.338516610218177, \"Label\": \"\"}, {\"State\": \"Pennsylvania\", \"Shootings\": 420.0, \"School Incidents\": 420.0, \"Population\": 12961683.0, \"Ratio Shootings\": 32.40319949191783, \"Ratio School Incidents\": 32.40319949191783, \"Label\": \"\"}, {\"State\": \"Rhode Island\", \"Shootings\": 0.0, \"School Incidents\": 12.0, \"Population\": 1095962.0, \"Ratio Shootings\": 0.0, \"Ratio School Incidents\": 10.949284737974493, \"Label\": \"\"}, {\"State\": \"South Carolina\", \"Shootings\": 192.0, \"School Incidents\": 564.0, \"Population\": 5373555.0, \"Ratio Shootings\": 35.73053593012447, \"Ratio School Incidents\": 104.95844929474063, \"Label\": \"South Carolina\"}, {\"State\": \"South Dakota\", \"Shootings\": 0.0, \"School Incidents\": 12.0, \"Population\": 919318.0, \"Ratio Shootings\": 0.0, \"Ratio School Incidents\": 13.053154621143065, \"Label\": \"\"}, {\"State\": \"Tennessee\", \"Shootings\": 252.0, \"School Incidents\": 528.0, \"Population\": 7126489.0, \"Ratio Shootings\": 35.361031217476096, \"Ratio School Incidents\": 74.08977969375944, \"Label\": \"\"}, {\"State\": \"Texas\", \"Shootings\": 768.0, \"School Incidents\": 1104.0, \"Population\": 30503301.0, \"Ratio Shootings\": 25.177602909272018, \"Ratio School Incidents\": 36.192804182078525, \"Label\": \"\"}, {\"State\": \"Utah\", \"Shootings\": 24.0, \"School Incidents\": 132.0, \"Population\": 3417734.0, \"Ratio Shootings\": 7.022196578200644, \"Ratio School Incidents\": 38.62208118010354, \"Label\": \"\"}, {\"State\": \"Vermont\", \"Shootings\": 0.0, \"School Incidents\": 12.0, \"Population\": 647464.0, \"Ratio Shootings\": 0.0, \"Ratio School Incidents\": 18.53384898619846, \"Label\": \"\"}, {\"State\": \"Virginia\", \"Shootings\": 84.0, \"School Incidents\": 468.0, \"Population\": 8715698.0, \"Ratio Shootings\": 9.637782309575206, \"Ratio School Incidents\": 53.696215724776145, \"Label\": \"\"}, {\"State\": \"Washington\", \"Shootings\": 180.0, \"School Incidents\": 132.0, \"Population\": 7812880.0, \"Ratio Shootings\": 23.038879388906523, \"Ratio School Incidents\": 16.895178218531452, \"Label\": \"\"}, {\"State\": \"West Virginia\", \"Shootings\": 0.0, \"School Incidents\": 36.0, \"Population\": 1770071.0, \"Ratio Shootings\": 0.0, \"Ratio School Incidents\": 20.338167226060424, \"Label\": \"\"}, {\"State\": \"Wisconsin\", \"Shootings\": 108.0, \"School Incidents\": 264.0, \"Population\": 5910955.0, \"Ratio Shootings\": 18.271159228923246, \"Ratio School Incidents\": 44.66283367070127, \"Label\": \"\"}, {\"State\": \"Wyoming\", \"Shootings\": 0.0, \"School Incidents\": 0.0, \"Population\": 584057.0, \"Ratio Shootings\": 0.0, \"Ratio School Incidents\": 0.0, \"Label\": \"\"}], \"data-eedf5971082b8356978fc6461fa19de3\": [{\"State\": \"South Carolina\", \"Shootings\": 192.0, \"School Incidents\": 564.0, \"Population\": 5373555.0, \"Ratio Shootings\": 35.73053593012447, \"Ratio School Incidents\": 104.95844929474063, \"Label\": \"South Carolina\"}], \"data-10fcedbcf45b6870fd23a98e3ce5293f\": [{\"State\": \"District of Columbia\", \"Shootings\": 132.0, \"School Incidents\": 72.0, \"Population\": 678972.0, \"Ratio Shootings\": 194.4115515809194, \"Ratio School Incidents\": 106.04266449868331, \"Label\": \"District of Columbia\"}, {\"State\": \"Louisiana\", \"Shootings\": 372.0, \"School Incidents\": 192.0, \"Population\": 4573749.0, \"Ratio Shootings\": 81.33371551434064, \"Ratio School Incidents\": 41.97869187836936, \"Label\": \"Louisiana\"}, {\"State\": \"Mississippi\", \"Shootings\": 276.0, \"School Incidents\": 168.0, \"Population\": 2939690.0, \"Ratio Shootings\": 93.88745071759267, \"Ratio School Incidents\": 57.14888304549119, \"Label\": \"Mississippi\"}, {\"State\": \"New Mexico\", \"Shootings\": 36.0, \"School Incidents\": 228.0, \"Population\": 2114371.0, \"Ratio Shootings\": 17.02634022127621, \"Ratio School Incidents\": 107.83348806808266, \"Label\": \"New Mexico\"}]}}, {\"mode\": \"vega-lite\"});\n",
       "</script>"
      ],
      "text/plain": [
       "alt.LayerChart(...)"
      ]
     },
     "metadata": {},
     "output_type": "display_data"
    }
   ],
   "source": [
    "# Agrupar per estat i comptar el nombre total de tirotejos per estat\n",
    "df_GunViolence = df_GunViolence_csv.fillna(0)\n",
    "\n",
    "\n",
    "df_GunViolence = df_GunViolence[df_GunViolence['Year']==2023]\n",
    "df_GunViolence = df_GunViolence.groupby(['State'])[['Shootings', 'School Incidents', 'Population']].agg({\n",
    "    'Shootings': 'sum',\n",
    "    'School Incidents': 'sum',\n",
    "    'Population': 'first'\n",
    "}).reset_index()\n",
    "\n",
    "df_GunViolence['Ratio Shootings'] = df_GunViolence['Shootings']*1000000 / df_GunViolence['Population']\n",
    "df_GunViolence['Ratio School Incidents'] = df_GunViolence['School Incidents'] *1000000/ df_GunViolence['Population']\n",
    "\n",
    "\n",
    "scatter_plot = alt.Chart(df_GunViolence).mark_circle(size=100).encode(\n",
    "    y=alt.Y('Ratio Shootings:Q', title='Ratio of Shootings per Population'),\n",
    "    x=alt.X('Ratio School Incidents:Q', title='Ratio of School Incidents per Population'),\n",
    "    tooltip=['State', 'Shootings', 'School Incidents', 'Population'] \n",
    ").properties(\n",
    "    width=800,\n",
    "    height=600,\n",
    "    title=\"Ratio of Shootings per Population by State\"\n",
    ")\n",
    "\n",
    "df_GunViolence['Label'] = df_GunViolence.apply(\n",
    "    lambda x: x['State'] if (x['Ratio Shootings'] >= 80 or x['Ratio School Incidents']>=100)  else '', axis=1\n",
    ")\n",
    "# Afegir les etiquetes\n",
    "# Ajustar les etiquetes individualment\n",
    "# Etiquetes per a \"South Carolina\" a dalt a l'esquerra\n",
    "text_labels_sc = alt.Chart(df_GunViolence[df_GunViolence['State'] == 'South Carolina']).mark_text(\n",
    "    align='center',  # Alineació a l'esquerra\n",
    "    dx=-20,  # Desplaçament cap a l'esquerra\n",
    "    dy=-15,  # Desplaçament cap amunt\n",
    "    size=14  # Mida del text augmentada\n",
    ").encode(\n",
    "    y=alt.Y('Ratio Shootings:Q'),\n",
    "    x=alt.X('Ratio School Incidents:Q'),\n",
    "    text='State'\n",
    ")\n",
    "\n",
    "# Etiquetes per a la resta dels estats a baix a l'esquerra\n",
    "text_labels_others = alt.Chart(df_GunViolence[(df_GunViolence['Label'] != '') & (df_GunViolence['State'] != 'South Carolina')]).mark_text(\n",
    "    align='right',  # Alineació a la dreta\n",
    "    dx=-7,  # Desplaçament cap a l'esquerra\n",
    "    dy=14,  # Desplaçament cap avall\n",
    "    size=14  # Mida del text augmentada\n",
    ").encode(\n",
    "    y=alt.Y('Ratio Shootings:Q'),\n",
    "    x=alt.X('Ratio School Incidents:Q'),\n",
    "    text='State'\n",
    ")\n",
    "\n",
    "# Combinar el gràfic de dispersió amb les etiquetes\n",
    "final_plot = scatter_plot + text_labels_sc + text_labels_others\n",
    "\n",
    "\n",
    "final_plot.show()\n"
   ]
  },
  {
   "cell_type": "markdown",
   "metadata": {},
   "source": [
    "\n",
    "<h4 style=\"color:goldenrod\"> Visualization descprition </h4>\n",
    "We decided to..."
   ]
  },
  {
   "cell_type": "markdown",
   "metadata": {},
   "source": [
    "<h3 style=\"color:darkblue\"> Q4: How have mass shootings evolved the last years in the US?"
   ]
  },
  {
   "cell_type": "markdown",
   "metadata": {},
   "source": [
    "We had to main ideas: showing how have the number of shootings changed during the years (and maybe relationating it with the current governement), and showing the possible underlaying trends inside each year.\n",
    "\n",
    "Let's start with the first representation:"
   ]
  },
  {
   "cell_type": "markdown",
   "metadata": {},
   "source": [
    "<h4 style=\"color:goldenrod\"> Shootings per year </h4>"
   ]
  },
  {
   "cell_type": "code",
   "execution_count": null,
   "metadata": {},
   "outputs": [
    {
     "data": {
      "text/html": [
       "\n",
       "<style>\n",
       "  #altair-viz-6a6d3089fb96406cb7d5402627a4e457.vega-embed {\n",
       "    width: 100%;\n",
       "    display: flex;\n",
       "  }\n",
       "\n",
       "  #altair-viz-6a6d3089fb96406cb7d5402627a4e457.vega-embed details,\n",
       "  #altair-viz-6a6d3089fb96406cb7d5402627a4e457.vega-embed details summary {\n",
       "    position: relative;\n",
       "  }\n",
       "</style>\n",
       "<div id=\"altair-viz-6a6d3089fb96406cb7d5402627a4e457\"></div>\n",
       "<script type=\"text/javascript\">\n",
       "  var VEGA_DEBUG = (typeof VEGA_DEBUG == \"undefined\") ? {} : VEGA_DEBUG;\n",
       "  (function(spec, embedOpt){\n",
       "    let outputDiv = document.currentScript.previousElementSibling;\n",
       "    if (outputDiv.id !== \"altair-viz-6a6d3089fb96406cb7d5402627a4e457\") {\n",
       "      outputDiv = document.getElementById(\"altair-viz-6a6d3089fb96406cb7d5402627a4e457\");\n",
       "    }\n",
       "    const paths = {\n",
       "      \"vega\": \"https://cdn.jsdelivr.net/npm/vega@5?noext\",\n",
       "      \"vega-lib\": \"https://cdn.jsdelivr.net/npm/vega-lib?noext\",\n",
       "      \"vega-lite\": \"https://cdn.jsdelivr.net/npm/vega-lite@5.20.1?noext\",\n",
       "      \"vega-embed\": \"https://cdn.jsdelivr.net/npm/vega-embed@6?noext\",\n",
       "    };\n",
       "\n",
       "    function maybeLoadScript(lib, version) {\n",
       "      var key = `${lib.replace(\"-\", \"\")}_version`;\n",
       "      return (VEGA_DEBUG[key] == version) ?\n",
       "        Promise.resolve(paths[lib]) :\n",
       "        new Promise(function(resolve, reject) {\n",
       "          var s = document.createElement('script');\n",
       "          document.getElementsByTagName(\"head\")[0].appendChild(s);\n",
       "          s.async = true;\n",
       "          s.onload = () => {\n",
       "            VEGA_DEBUG[key] = version;\n",
       "            return resolve(paths[lib]);\n",
       "          };\n",
       "          s.onerror = () => reject(`Error loading script: ${paths[lib]}`);\n",
       "          s.src = paths[lib];\n",
       "        });\n",
       "    }\n",
       "\n",
       "    function showError(err) {\n",
       "      outputDiv.innerHTML = `<div class=\"error\" style=\"color:red;\">${err}</div>`;\n",
       "      throw err;\n",
       "    }\n",
       "\n",
       "    function displayChart(vegaEmbed) {\n",
       "      vegaEmbed(outputDiv, spec, embedOpt)\n",
       "        .catch(err => showError(`Javascript Error: ${err.message}<br>This usually means there's a typo in your chart specification. See the javascript console for the full traceback.`));\n",
       "    }\n",
       "\n",
       "    if(typeof define === \"function\" && define.amd) {\n",
       "      requirejs.config({paths});\n",
       "      require([\"vega-embed\"], displayChart, err => showError(`Error loading script: ${err.message}`));\n",
       "    } else {\n",
       "      maybeLoadScript(\"vega\", \"5\")\n",
       "        .then(() => maybeLoadScript(\"vega-lite\", \"5.20.1\"))\n",
       "        .then(() => maybeLoadScript(\"vega-embed\", \"6\"))\n",
       "        .catch(showError)\n",
       "        .then(() => displayChart(vegaEmbed));\n",
       "    }\n",
       "  })({\"config\": {\"view\": {\"continuousWidth\": 300, \"continuousHeight\": 300}}, \"layer\": [{\"data\": {\"name\": \"data-0767ebe29ef8c9e8286e5a4a7ac5cbe4\"}, \"mark\": {\"type\": \"line\", \"color\": \"black\", \"point\": {\"fill\": \"black\", \"filled\": true}, \"strokeWidth\": 2.5}, \"encoding\": {\"x\": {\"field\": \"Year\", \"timeUnit\": \"year\", \"title\": \"Year\", \"type\": \"temporal\"}, \"y\": {\"field\": \"Shootings\", \"scale\": {\"domain\": [200, 700]}, \"title\": \"Total Shootings\", \"type\": \"quantitative\"}}, \"title\": {\"text\": [\"Total Shootings per Year in the USA\"], \"fontSize\": 16}}, {\"data\": {\"name\": \"data-91dbc1c93fe13c0a3e29ef9724817a13\"}, \"mark\": {\"type\": \"line\", \"color\": \"gray\", \"strokeWidth\": 1}, \"encoding\": {\"x\": {\"field\": \"x\", \"timeUnit\": \"year\", \"type\": \"temporal\"}, \"y\": {\"field\": \"y\", \"type\": \"quantitative\"}}}], \"$schema\": \"https://vega.github.io/schema/vega-lite/v5.20.1.json\", \"datasets\": {\"data-0767ebe29ef8c9e8286e5a4a7ac5cbe4\": [{\"Year\": \"2014-01-01T00:00:00\", \"Shootings\": 271.0}, {\"Year\": \"2015-01-01T00:00:00\", \"Shootings\": 330.0}, {\"Year\": \"2016-01-01T00:00:00\", \"Shootings\": 380.0}, {\"Year\": \"2017-01-01T00:00:00\", \"Shootings\": 343.0}, {\"Year\": \"2018-01-01T00:00:00\", \"Shootings\": 329.0}, {\"Year\": \"2019-01-01T00:00:00\", \"Shootings\": 411.0}, {\"Year\": \"2020-01-01T00:00:00\", \"Shootings\": 609.0}, {\"Year\": \"2021-01-01T00:00:00\", \"Shootings\": 679.0}, {\"Year\": \"2022-01-01T00:00:00\", \"Shootings\": 636.0}, {\"Year\": \"2023-01-01T00:00:00\", \"Shootings\": 649.0}], \"data-91dbc1c93fe13c0a3e29ef9724817a13\": [{\"x\": \"2019-01-01T00:00:00\", \"y\": 300}, {\"x\": \"2019-01-01T00:00:00\", \"y\": 390}]}}, {\"mode\": \"vega-lite\"});\n",
       "</script>"
      ],
      "text/plain": [
       "alt.LayerChart(...)"
      ]
     },
     "execution_count": 124,
     "metadata": {},
     "output_type": "execute_result"
    }
   ],
   "source": [
    "df_GunViolence = df_GunViolence_csv.fillna(0)\n",
    "\n",
    "df_GunViolence = df_GunViolence.groupby('Year')[\"Shootings\"].sum().reset_index()\n",
    "df_GunViolence = df_GunViolence[df_GunViolence['Year']<2024]\n",
    "df_GunViolence['Year'] = pd.to_datetime(df_GunViolence['Year'], format='%Y')\n",
    "df_GunViolence['Shootings'] = df_GunViolence['Shootings'].apply(lambda x : x/12)\n",
    "\n",
    "chart_ms = alt.Chart(df_GunViolence).mark_line(\n",
    "    color='black',\n",
    "    point=alt.OverlayMarkDef(filled=True, fill=\"black\"),\n",
    "    strokeWidth=2.5\n",
    ").encode(\n",
    "    x=alt.X('Year:T', timeUnit='year', title='Year'),\n",
    "    y=alt.Y('Shootings:Q', title='Total Shootings').scale(domain=(200,700))\n",
    ").properties(\n",
    "    title={\n",
    "        \"text\": ['Total Shootings per Year in the USA'],\n",
    "        \"fontSize\": 16,\n",
    "    }\n",
    ")\n",
    "\n",
    "\n",
    "\n",
    "\n",
    "chart_ms"
   ]
  },
  {
   "cell_type": "markdown",
   "metadata": {},
   "source": [
    "Not bad! Let's try to add the current governement (democratic or republican) for each year."
   ]
  },
  {
   "cell_type": "code",
   "execution_count": 10,
   "metadata": {},
   "outputs": [
    {
     "data": {
      "text/html": [
       "\n",
       "<style>\n",
       "  #altair-viz-0b484983cffd4534ab13414df7f76a4b.vega-embed {\n",
       "    width: 100%;\n",
       "    display: flex;\n",
       "  }\n",
       "\n",
       "  #altair-viz-0b484983cffd4534ab13414df7f76a4b.vega-embed details,\n",
       "  #altair-viz-0b484983cffd4534ab13414df7f76a4b.vega-embed details summary {\n",
       "    position: relative;\n",
       "  }\n",
       "</style>\n",
       "<div id=\"altair-viz-0b484983cffd4534ab13414df7f76a4b\"></div>\n",
       "<script type=\"text/javascript\">\n",
       "  var VEGA_DEBUG = (typeof VEGA_DEBUG == \"undefined\") ? {} : VEGA_DEBUG;\n",
       "  (function(spec, embedOpt){\n",
       "    let outputDiv = document.currentScript.previousElementSibling;\n",
       "    if (outputDiv.id !== \"altair-viz-0b484983cffd4534ab13414df7f76a4b\") {\n",
       "      outputDiv = document.getElementById(\"altair-viz-0b484983cffd4534ab13414df7f76a4b\");\n",
       "    }\n",
       "    const paths = {\n",
       "      \"vega\": \"https://cdn.jsdelivr.net/npm/vega@5?noext\",\n",
       "      \"vega-lib\": \"https://cdn.jsdelivr.net/npm/vega-lib?noext\",\n",
       "      \"vega-lite\": \"https://cdn.jsdelivr.net/npm/vega-lite@5.20.1?noext\",\n",
       "      \"vega-embed\": \"https://cdn.jsdelivr.net/npm/vega-embed@6?noext\",\n",
       "    };\n",
       "\n",
       "    function maybeLoadScript(lib, version) {\n",
       "      var key = `${lib.replace(\"-\", \"\")}_version`;\n",
       "      return (VEGA_DEBUG[key] == version) ?\n",
       "        Promise.resolve(paths[lib]) :\n",
       "        new Promise(function(resolve, reject) {\n",
       "          var s = document.createElement('script');\n",
       "          document.getElementsByTagName(\"head\")[0].appendChild(s);\n",
       "          s.async = true;\n",
       "          s.onload = () => {\n",
       "            VEGA_DEBUG[key] = version;\n",
       "            return resolve(paths[lib]);\n",
       "          };\n",
       "          s.onerror = () => reject(`Error loading script: ${paths[lib]}`);\n",
       "          s.src = paths[lib];\n",
       "        });\n",
       "    }\n",
       "\n",
       "    function showError(err) {\n",
       "      outputDiv.innerHTML = `<div class=\"error\" style=\"color:red;\">${err}</div>`;\n",
       "      throw err;\n",
       "    }\n",
       "\n",
       "    function displayChart(vegaEmbed) {\n",
       "      vegaEmbed(outputDiv, spec, embedOpt)\n",
       "        .catch(err => showError(`Javascript Error: ${err.message}<br>This usually means there's a typo in your chart specification. See the javascript console for the full traceback.`));\n",
       "    }\n",
       "\n",
       "    if(typeof define === \"function\" && define.amd) {\n",
       "      requirejs.config({paths});\n",
       "      require([\"vega-embed\"], displayChart, err => showError(`Error loading script: ${err.message}`));\n",
       "    } else {\n",
       "      maybeLoadScript(\"vega\", \"5\")\n",
       "        .then(() => maybeLoadScript(\"vega-lite\", \"5.20.1\"))\n",
       "        .then(() => maybeLoadScript(\"vega-embed\", \"6\"))\n",
       "        .catch(showError)\n",
       "        .then(() => displayChart(vegaEmbed));\n",
       "    }\n",
       "  })({\"config\": {\"view\": {\"continuousWidth\": 300, \"continuousHeight\": 300}}, \"layer\": [{\"data\": {\"name\": \"data-c539bfb7537eb8ebeea0421644036691\"}, \"mark\": {\"type\": \"area\"}, \"encoding\": {\"color\": {\"field\": \"governement\", \"legend\": {\"direction\": \"horizontal\", \"legendX\": 185, \"legendY\": -30, \"orient\": \"none\", \"titleAnchor\": \"middle\"}, \"scale\": {\"domain\": [\"Democratic\", \"Republican\"], \"range\": [\"#3182bd\", \"#d7301f\"]}, \"type\": \"nominal\"}, \"x\": {\"axis\": {\"labelAngle\": 0}, \"field\": \"Year\", \"timeUnit\": \"year\", \"title\": \"Year\", \"type\": \"temporal\"}, \"y\": {\"field\": \"y1\", \"scale\": {\"domain\": [200, 720]}, \"title\": \"Total Shootings\", \"type\": \"quantitative\"}, \"y2\": {\"field\": \"y2\"}}}, {\"data\": {\"name\": \"data-71905c7c7541ec249275b6ba2750d8e6\"}, \"mark\": {\"type\": \"line\", \"color\": \"black\", \"point\": {\"fill\": \"black\", \"filled\": true}, \"strokeWidth\": 2.5}, \"encoding\": {\"x\": {\"field\": \"Year\", \"timeUnit\": \"year\", \"title\": \"Year\", \"type\": \"temporal\"}, \"y\": {\"field\": \"Shootings\", \"scale\": {\"domain\": [200, 750]}, \"title\": \"Total Shootings\", \"type\": \"quantitative\"}}, \"title\": {\"text\": [\"Total Shootings per Year in the USA\"], \"dy\": -10, \"fontSize\": 16}}], \"height\": 300, \"width\": 460, \"$schema\": \"https://vega.github.io/schema/vega-lite/v5.20.1.json\", \"datasets\": {\"data-c539bfb7537eb8ebeea0421644036691\": [{\"Year\": \"2014-01-01T00:00:00\", \"y1\": 730, \"y2\": 720, \"governement\": \"Democratic\"}, {\"Year\": \"2015-01-01T00:00:00\", \"y1\": 730, \"y2\": 720, \"governement\": \"Democratic\"}, {\"Year\": \"2016-01-01T00:00:00\", \"y1\": 730, \"y2\": 720, \"governement\": \"Democratic\"}, {\"Year\": \"2017-01-01T00:00:00\", \"y1\": 730, \"y2\": 720, \"governement\": \"Republican\"}, {\"Year\": \"2018-01-01T00:00:00\", \"y1\": 730, \"y2\": 720, \"governement\": \"Republican\"}, {\"Year\": \"2019-01-01T00:00:00\", \"y1\": 730, \"y2\": 720, \"governement\": \"Republican\"}, {\"Year\": \"2020-01-01T00:00:00\", \"y1\": 730, \"y2\": 720, \"governement\": \"Republican\"}, {\"Year\": \"2021-01-01T00:00:00\", \"y1\": 730, \"y2\": 720, \"governement\": \"Republican\"}, {\"Year\": \"2022-01-01T00:00:00\", \"y1\": 730, \"y2\": 720, \"governement\": \"Democratic\"}, {\"Year\": \"2023-01-01T00:00:00\", \"y1\": 730, \"y2\": 720, \"governement\": \"Democratic\"}, {\"Year\": \"2024-01-01T00:00:00\", \"y1\": 730, \"y2\": 720, \"governement\": \"Democratic\"}], \"data-71905c7c7541ec249275b6ba2750d8e6\": [{\"Year\": \"2014-01-01T00:00:00\", \"Shootings\": 271}, {\"Year\": \"2015-01-01T00:00:00\", \"Shootings\": 330}, {\"Year\": \"2016-01-01T00:00:00\", \"Shootings\": 380}, {\"Year\": \"2017-01-01T00:00:00\", \"Shootings\": 343}, {\"Year\": \"2018-01-01T00:00:00\", \"Shootings\": 329}, {\"Year\": \"2019-01-01T00:00:00\", \"Shootings\": 411}, {\"Year\": \"2020-01-01T00:00:00\", \"Shootings\": 609}, {\"Year\": \"2021-01-01T00:00:00\", \"Shootings\": 679}, {\"Year\": \"2022-01-01T00:00:00\", \"Shootings\": 636}, {\"Year\": \"2023-01-01T00:00:00\", \"Shootings\": 649}]}}, {\"mode\": \"vega-lite\"});\n",
       "</script>"
      ],
      "text/plain": [
       "alt.LayerChart(...)"
      ]
     },
     "execution_count": 10,
     "metadata": {},
     "output_type": "execute_result"
    }
   ],
   "source": [
    "### FIRST ATTEMT ###\n",
    "gov = pd.DataFrame({\n",
    "    'Year': [i for i in range(2014, 2025)],\n",
    "    'y1': [230+500]*11,\n",
    "    'y2': [220+500]*11,\n",
    "    'governement': ['Democratic']*3 + ['Republican']*5 + ['Democratic']*3\n",
    "})\n",
    "\n",
    "gov['Year'] = pd.to_datetime(gov['Year'], format='%Y')\n",
    "\n",
    "chart_gov = alt.Chart(gov).mark_area().encode(\n",
    "    x=alt.X('Year:T', timeUnit = 'year', title='Year', axis=alt.Axis(labelAngle=0)),\n",
    "    y=alt.Y('y1:Q', title='Total Shootings', scale=alt.Scale(domain=(200, 720))),\n",
    "    y2='y2:Q',\n",
    "    color=alt.Color('governement', legend=alt.Legend(\n",
    "        orient='none', \n",
    "        legendX=185, legendY=-30,  # Ajusta la posició de la llegenda\n",
    "        direction='horizontal',\n",
    "        titleAnchor='middle'  # Centra el títol dins de la llegenda\n",
    "    ), scale=alt.Scale(domain=['Democratic', 'Republican'], range=['#3182bd', '#d7301f']))\n",
    ")\n",
    "\n",
    "df_GunViolence['Year'] = pd.to_datetime(df_GunViolence['Year'], format='%Y')\n",
    "\n",
    "chart_ms = alt.Chart(df_GunViolence).mark_line(\n",
    "    color='black',\n",
    "    point=alt.OverlayMarkDef(filled=True, fill=\"black\"),\n",
    "    strokeWidth=2.5).encode(\n",
    "    x=alt.X('Year:T', timeUnit='year', title='Year'),\n",
    "    y=alt.Y('Shootings:Q', title='Total Shootings').scale(domain=(200,750))\n",
    ").properties(\n",
    "    title={\n",
    "        \"text\":['Total Shootings per Year in the USA'],\n",
    "        \"dy\": -10,\n",
    "        \"fontSize\": 16,\n",
    "    },\n",
    "    width=460,\n",
    "    height=300\n",
    ")\n",
    "\n",
    "legend_data = pd.DataFrame({\n",
    "    'Year': ['2015-09-18 00:00:00+00:00', '2018-09-18 00:00:00+00:00'],\n",
    "    'Total Shootings': [700, 660],\n",
    "    'label': ['Democratic', 'Republican'],\n",
    "    'governement': ['Democratic', 'Republican']\n",
    "})\n",
    "\n",
    "\n",
    "\n",
    "linechart_years = chart_gov + chart_ms\n",
    "linechart_years"
   ]
  },
  {
   "cell_type": "markdown",
   "metadata": {},
   "source": [
    "We were not really convinced by the looks and space-efficiency of this approach, so we tried another option:"
   ]
  },
  {
   "cell_type": "code",
   "execution_count": 73,
   "metadata": {},
   "outputs": [],
   "source": [
    "import altair as alt\n",
    "import pandas as pd"
   ]
  },
  {
   "cell_type": "code",
   "execution_count": 152,
   "metadata": {},
   "outputs": [
    {
     "data": {
      "text/html": [
       "\n",
       "<style>\n",
       "  #altair-viz-5fcb62832234489d9c494bb3115265fe.vega-embed {\n",
       "    width: 100%;\n",
       "    display: flex;\n",
       "  }\n",
       "\n",
       "  #altair-viz-5fcb62832234489d9c494bb3115265fe.vega-embed details,\n",
       "  #altair-viz-5fcb62832234489d9c494bb3115265fe.vega-embed details summary {\n",
       "    position: relative;\n",
       "  }\n",
       "</style>\n",
       "<div id=\"altair-viz-5fcb62832234489d9c494bb3115265fe\"></div>\n",
       "<script type=\"text/javascript\">\n",
       "  var VEGA_DEBUG = (typeof VEGA_DEBUG == \"undefined\") ? {} : VEGA_DEBUG;\n",
       "  (function(spec, embedOpt){\n",
       "    let outputDiv = document.currentScript.previousElementSibling;\n",
       "    if (outputDiv.id !== \"altair-viz-5fcb62832234489d9c494bb3115265fe\") {\n",
       "      outputDiv = document.getElementById(\"altair-viz-5fcb62832234489d9c494bb3115265fe\");\n",
       "    }\n",
       "    const paths = {\n",
       "      \"vega\": \"https://cdn.jsdelivr.net/npm/vega@5?noext\",\n",
       "      \"vega-lib\": \"https://cdn.jsdelivr.net/npm/vega-lib?noext\",\n",
       "      \"vega-lite\": \"https://cdn.jsdelivr.net/npm/vega-lite@5.20.1?noext\",\n",
       "      \"vega-embed\": \"https://cdn.jsdelivr.net/npm/vega-embed@6?noext\",\n",
       "    };\n",
       "\n",
       "    function maybeLoadScript(lib, version) {\n",
       "      var key = `${lib.replace(\"-\", \"\")}_version`;\n",
       "      return (VEGA_DEBUG[key] == version) ?\n",
       "        Promise.resolve(paths[lib]) :\n",
       "        new Promise(function(resolve, reject) {\n",
       "          var s = document.createElement('script');\n",
       "          document.getElementsByTagName(\"head\")[0].appendChild(s);\n",
       "          s.async = true;\n",
       "          s.onload = () => {\n",
       "            VEGA_DEBUG[key] = version;\n",
       "            return resolve(paths[lib]);\n",
       "          };\n",
       "          s.onerror = () => reject(`Error loading script: ${paths[lib]}`);\n",
       "          s.src = paths[lib];\n",
       "        });\n",
       "    }\n",
       "\n",
       "    function showError(err) {\n",
       "      outputDiv.innerHTML = `<div class=\"error\" style=\"color:red;\">${err}</div>`;\n",
       "      throw err;\n",
       "    }\n",
       "\n",
       "    function displayChart(vegaEmbed) {\n",
       "      vegaEmbed(outputDiv, spec, embedOpt)\n",
       "        .catch(err => showError(`Javascript Error: ${err.message}<br>This usually means there's a typo in your chart specification. See the javascript console for the full traceback.`));\n",
       "    }\n",
       "\n",
       "    if(typeof define === \"function\" && define.amd) {\n",
       "      requirejs.config({paths});\n",
       "      require([\"vega-embed\"], displayChart, err => showError(`Error loading script: ${err.message}`));\n",
       "    } else {\n",
       "      maybeLoadScript(\"vega\", \"5\")\n",
       "        .then(() => maybeLoadScript(\"vega-lite\", \"5.20.1\"))\n",
       "        .then(() => maybeLoadScript(\"vega-embed\", \"6\"))\n",
       "        .catch(showError)\n",
       "        .then(() => displayChart(vegaEmbed));\n",
       "    }\n",
       "  })({\"config\": {\"view\": {\"continuousWidth\": 300, \"continuousHeight\": 300}}, \"layer\": [{\"data\": {\"name\": \"data-26bc7c82a7d7034d8865fda124452b1a\"}, \"mark\": {\"type\": \"rect\", \"color\": \"#aed6f1\", \"opacity\": 1}, \"encoding\": {\"tooltip\": {\"value\": null}, \"x\": {\"field\": \"x1\", \"title\": null, \"type\": \"temporal\"}, \"x2\": {\"field\": \"x2\"}, \"y\": {\"axis\": null, \"field\": \"y1\", \"scale\": {\"domain\": [250.0, 708.3333333333334]}, \"type\": \"quantitative\"}, \"y2\": {\"field\": \"y2\"}}}, {\"data\": {\"name\": \"data-c37607424eac664a6a959dc84cbb5305\"}, \"mark\": {\"type\": \"rect\", \"color\": \"#aed6f1\", \"opacity\": 1}, \"encoding\": {\"tooltip\": {\"value\": null}, \"x\": {\"field\": \"x1\", \"title\": null, \"type\": \"temporal\"}, \"x2\": {\"field\": \"x2\"}, \"y\": {\"axis\": null, \"field\": \"y1\", \"scale\": {\"domain\": [250.0, 708.3333333333334]}, \"type\": \"quantitative\"}, \"y2\": {\"field\": \"y2\"}}}, {\"data\": {\"name\": \"data-1843673334af0996af5fe93fba9f5264\"}, \"mark\": {\"type\": \"rect\", \"color\": \"#f5b7b1\", \"opacity\": 1}, \"encoding\": {\"tooltip\": {\"value\": null}, \"x\": {\"field\": \"x1\", \"title\": null, \"type\": \"temporal\"}, \"x2\": {\"field\": \"x2\"}, \"y\": {\"axis\": null, \"field\": \"y1\", \"scale\": {\"domain\": [250.0, 708.3333333333334]}, \"type\": \"quantitative\"}, \"y2\": {\"field\": \"y2\"}}}, {\"data\": {\"name\": \"data-96dd4fa6eb56b42f0a478d0100d61176\"}, \"mark\": {\"type\": \"rule\", \"color\": \"gray\", \"opacity\": 0.5, \"size\": 0.8}, \"encoding\": {\"tooltip\": {\"value\": null}, \"y\": {\"axis\": null, \"field\": \"y\", \"scale\": {\"domain\": [250.0, 708.3333333333334]}, \"title\": null, \"type\": \"quantitative\"}}}, {\"data\": {\"name\": \"data-0767ebe29ef8c9e8286e5a4a7ac5cbe4\"}, \"mark\": {\"type\": \"line\", \"color\": \"black\", \"point\": {\"fill\": \"black\", \"filled\": true}, \"strokeWidth\": 2.5}, \"encoding\": {\"x\": {\"field\": \"Year\", \"timeUnit\": \"year\", \"title\": \"Year\", \"type\": \"temporal\"}, \"y\": {\"field\": \"Shootings\", \"scale\": {\"domain\": [250.0, 708.3333333333334]}, \"title\": \"Total Shootings\", \"type\": \"quantitative\"}}, \"title\": {\"text\": [\"Total Shootings per Year in the USA\"], \"fontSize\": 16}}, {\"data\": {\"name\": \"data-8216db5e2af4589001650dcac4d75cbb\"}, \"mark\": {\"type\": \"area\"}, \"encoding\": {\"color\": {\"field\": \"governement\", \"legend\": {\"cornerRadius\": 10, \"fillColor\": \"#EEEEEE\", \"legendX\": 130, \"legendY\": -100, \"orient\": \"top-left\", \"padding\": 10, \"strokeColor\": \"gray\", \"titleAnchor\": \"middle\"}, \"scale\": {\"domain\": [\"Democratic\", \"Republican\"], \"range\": [\"#aed6f1\", \"#f5b7b1\"]}, \"type\": \"nominal\"}, \"x\": {\"axis\": {\"labelAngle\": 0}, \"field\": \"Year\", \"title\": \"Year\", \"type\": \"temporal\"}, \"y\": {\"axis\": null, \"field\": \"y1\", \"scale\": {\"domain\": [250.0, 708.3333333333334]}, \"title\": \"Total Shootings\", \"type\": \"quantitative\"}, \"y2\": {\"field\": \"y2\"}}}, {\"data\": {\"name\": \"data-367c12af25621111ff2f7081907d04a4\"}, \"mark\": {\"type\": \"text\"}, \"encoding\": {\"text\": {\"field\": \"text\", \"type\": \"nominal\"}, \"x\": {\"field\": \"x\", \"timeUnit\": \"year\", \"type\": \"temporal\"}, \"y\": {\"axis\": null, \"field\": \"y\", \"scale\": {\"domain\": [250.0, 708.3333333333334]}, \"type\": \"quantitative\"}}}, {\"data\": {\"name\": \"data-f976ad5f71cbb93d819d1c0cce671321\"}, \"mark\": {\"type\": \"line\", \"color\": \"black\", \"strokeWidth\": 1}, \"encoding\": {\"tooltip\": {\"value\": null}, \"x\": {\"field\": \"x\", \"timeUnit\": \"year\", \"type\": \"temporal\"}, \"y\": {\"axis\": null, \"field\": \"y\", \"scale\": {\"domain\": [250.0, 708.3333333333334]}, \"type\": \"quantitative\"}}}], \"height\": 400, \"resolve\": {\"scale\": {\"y\": \"independent\"}}, \"width\": 450, \"$schema\": \"https://vega.github.io/schema/vega-lite/v5.20.1.json\", \"datasets\": {\"data-26bc7c82a7d7034d8865fda124452b1a\": [{\"x1\": \"2014-01-01T00:00:00\", \"x2\": \"2017-01-01T00:00:00\", \"y1\": 250, \"y2\": 700, \"governement\": \"Democratic\"}, {\"x1\": \"2014-01-01T00:00:00\", \"x2\": \"2017-01-01T00:00:00\", \"y1\": 250, \"y2\": 700, \"governement\": \"Democratic\"}], \"data-c37607424eac664a6a959dc84cbb5305\": [{\"x1\": \"2021-01-01T00:00:00\", \"x2\": \"2023-01-01T00:00:00\", \"y1\": 250, \"y2\": 700, \"governement\": \"Democratic\"}, {\"x1\": \"2021-01-01T00:00:00\", \"x2\": \"2023-01-01T00:00:00\", \"y1\": 250, \"y2\": 700, \"governement\": \"Democratic\"}], \"data-1843673334af0996af5fe93fba9f5264\": [{\"x1\": \"2017-01-01T00:00:00\", \"x2\": \"2021-01-01T00:00:00\", \"y1\": 250, \"y2\": 700, \"governement\": \"Republican\"}, {\"x1\": \"2017-01-01T00:00:00\", \"x2\": \"2021-01-01T00:00:00\", \"y1\": 250, \"y2\": 700, \"governement\": \"Republican\"}], \"data-96dd4fa6eb56b42f0a478d0100d61176\": [{\"y\": 250}, {\"y\": 300}, {\"y\": 350}, {\"y\": 400}, {\"y\": 450}, {\"y\": 500}, {\"y\": 550}, {\"y\": 600}, {\"y\": 650}, {\"y\": 700}], \"data-0767ebe29ef8c9e8286e5a4a7ac5cbe4\": [{\"Year\": \"2014-01-01T00:00:00\", \"Shootings\": 271.0}, {\"Year\": \"2015-01-01T00:00:00\", \"Shootings\": 330.0}, {\"Year\": \"2016-01-01T00:00:00\", \"Shootings\": 380.0}, {\"Year\": \"2017-01-01T00:00:00\", \"Shootings\": 343.0}, {\"Year\": \"2018-01-01T00:00:00\", \"Shootings\": 329.0}, {\"Year\": \"2019-01-01T00:00:00\", \"Shootings\": 411.0}, {\"Year\": \"2020-01-01T00:00:00\", \"Shootings\": 609.0}, {\"Year\": \"2021-01-01T00:00:00\", \"Shootings\": 679.0}, {\"Year\": \"2022-01-01T00:00:00\", \"Shootings\": 636.0}, {\"Year\": \"2023-01-01T00:00:00\", \"Shootings\": 649.0}], \"data-8216db5e2af4589001650dcac4d75cbb\": [{\"governement\": \"Republican\"}, {\"governement\": \"Democratic\"}], \"data-367c12af25621111ff2f7081907d04a4\": [{\"x\": \"2019-01-01T00:00:00\", \"y\": 280, \"text\": \"GVA reaches 7000+ sources\"}], \"data-f976ad5f71cbb93d819d1c0cce671321\": [{\"x\": \"2019-01-01T00:00:00\", \"y\": 294}, {\"x\": \"2019-01-01T00:00:00\", \"y\": 390}]}}, {\"mode\": \"vega-lite\"});\n",
       "</script>"
      ],
      "text/plain": [
       "alt.LayerChart(...)"
      ]
     },
     "execution_count": 152,
     "metadata": {},
     "output_type": "execute_result"
    }
   ],
   "source": [
    "RED = '#f5b7b1'\n",
    "BLUE = '#aed6f1'\n",
    "D = alt.Scale(domain=(3000/12,8500/12))\n",
    "w = 450\n",
    "\n",
    "chart_ms = alt.Chart(df_GunViolence).mark_line(\n",
    "    color='black',\n",
    "    point=alt.OverlayMarkDef(filled=True, fill=\"black\"),\n",
    "    strokeWidth=2.5\n",
    ").encode(\n",
    "    x=alt.X('Year:T', timeUnit='year', title='Year'),\n",
    "    y=alt.Y('Shootings:Q', title='Total Shootings', scale=D)\n",
    ").properties(\n",
    "    title={\n",
    "        \"text\": ['Total Shootings per Year in the USA'],\n",
    "        \"fontSize\": 16,\n",
    "    },\n",
    "    width=w,\n",
    "    height=400\n",
    ")\n",
    "\n",
    "    #we keep this just for the legend\n",
    "gov = pd.DataFrame({\n",
    "    'governement':['Republican', 'Democratic']\n",
    "})\n",
    "\n",
    "chart_gov = alt.Chart(gov).mark_area().encode(\n",
    "    x=alt.X('Year:T', title='Year', axis=alt.Axis(labelAngle=0)),\n",
    "    y=alt.Y('y1:Q', title='Total Shootings', scale=D,axis=None),\n",
    "    y2='y2:Q',\n",
    "    color=alt.Color('governement', legend=alt.Legend(\n",
    "        orient='top-left', \n",
    "        legendX=130, legendY=-100,  # Ajusta la posició de la llegenda\n",
    "        strokeColor='gray',\n",
    "        fillColor='#EEEEEE',\n",
    "        padding=10,\n",
    "        cornerRadius=10,\n",
    "        titleAnchor='middle'  # Centra el títol dins de la llegenda\n",
    "    ), scale=alt.Scale(domain=['Democratic', 'Republican'], range=[BLUE, RED]))\n",
    ")\n",
    "\n",
    "\n",
    "df_dem1 = pd.DataFrame({\n",
    "    'x1': 2014,\n",
    "    'x2': 2017,\n",
    "    'y1': [250]*2, \n",
    "    'y2': [700]*2,\n",
    "    'governement': ['Democratic']*2\n",
    "})\n",
    "df_dem1['x1'] = pd.to_datetime(df_dem1['x1'], format ='%Y')\n",
    "df_dem1['x2'] = pd.to_datetime(df_dem1['x2'], format ='%Y')\n",
    "\n",
    "\n",
    "df_rep = pd.DataFrame({\n",
    "    'x1': 2017,\n",
    "    'x2': 2021,\n",
    "    'y1': [250]*2, \n",
    "    'y2': [700]*2,\n",
    "    'governement': ['Republican']*2\n",
    "})\n",
    "df_rep['x1'] = pd.to_datetime(df_rep['x1'], format ='%Y')\n",
    "df_rep['x2'] = pd.to_datetime(df_rep['x2'], format ='%Y')\n",
    "\n",
    "df_dem2 = pd.DataFrame({\n",
    "    'x1': 2021,\n",
    "    'x2': 2023,\n",
    "    'y1': [250]*2, \n",
    "    'y2': [700]*2,\n",
    "    'governement': ['Democratic']*2\n",
    "})\n",
    "df_dem2['x1'] = pd.to_datetime(df_dem2['x1'], format ='%Y')\n",
    "df_dem2['x2'] = pd.to_datetime(df_dem2['x2'], format ='%Y')\n",
    "\n",
    "# Rectangles for government background\n",
    "dem1 = alt.Chart(df_dem1).mark_rect(color=BLUE, opacity=1).encode(\n",
    "    x=alt.X('x1:T', title=None),  # No title for X axis here\n",
    "    x2='x2:T',\n",
    "    y=alt.Y('y1:Q', scale=D, axis=None),  # No Y axis for background\n",
    "    y2=alt.Y2('y2:Q'),\n",
    "    tooltip=alt.value(None)\n",
    ")\n",
    "\n",
    "rep = alt.Chart(df_rep).mark_rect(color=RED, opacity=1).encode(\n",
    "    x=alt.X('x1:T', title=None),\n",
    "    x2='x2:T',\n",
    "    y=alt.Y('y1:Q', scale=D, axis=None),\n",
    "    y2=alt.Y2('y2:Q'),\n",
    "    tooltip=alt.value(None)\n",
    ")\n",
    "\n",
    "dem2 = alt.Chart(df_dem2).mark_rect(color=BLUE, opacity=1).encode(\n",
    "    x=alt.X('x1:T', title=None),\n",
    "    x2='x2:T',\n",
    "    y=alt.Y('y1:Q', scale=D, axis=None),\n",
    "    y2=alt.Y2('y2:Q'),\n",
    "    tooltip=alt.value(None)\n",
    ")\n",
    "\n",
    "# Manual gridlines\n",
    "y_values = pd.DataFrame({'y': [y for y in range(250, 701, 50)]})\n",
    "lines = alt.Chart(y_values).mark_rule(color='gray', size=0.8, opacity=0.5).encode(\n",
    "    y=alt.Y('y:Q', scale=D, title=None, axis=None),\n",
    "    tooltip=alt.value(None)\n",
    ")\n",
    "\n",
    "\n",
    "\n",
    "\n",
    "#################################\n",
    "# adding some extra information #\n",
    "#################################\n",
    "\n",
    "\n",
    "\n",
    "line2 = pd.DataFrame({\n",
    "    'x': [2019,2019],  # Coordenada fixa per la línia vertical\n",
    "    'y': [294, 390],  # Rang de les coordenades en l'eix Y\n",
    "})\n",
    "\n",
    "line2['x'] = pd.to_datetime(line2['x'],  format='%Y')\n",
    "\n",
    "# Crear el gràfic amb Altair\n",
    "chart_line2 = alt.Chart(line2).mark_line(strokeWidth=1, color='black').encode(\n",
    "    x=alt.X('x:T', timeUnit='year'),  # Fixem la coordenada X\n",
    "    y=alt.Y('y:Q', axis=None,scale=D),\n",
    "    tooltip=alt.value(None)\n",
    ")\n",
    "\n",
    "text2 = pd.DataFrame({\n",
    "    'x': [2019],\n",
    "    'y': [280],\n",
    "    'text': [\"GVA reaches 7000+ sources\"]\n",
    "})\n",
    "text2['x'] = pd.to_datetime(text2['x'], format = \"%Y\")\n",
    "\n",
    "chart_text2 = alt.Chart(text2).mark_text().encode(\n",
    "    text=\"text\",\n",
    "    x = alt.X('x:T', timeUnit='year'),\n",
    "    y = alt.Y(\"y:Q\", axis=None,scale=D)\n",
    ")\n",
    "\n",
    "\n",
    "\n",
    "# Combine layers with shared y-scale\n",
    "chart_with_background = alt.layer(\n",
    "    dem1,       # Background rectangles\n",
    "    dem2,\n",
    "    rep,\n",
    "    lines,     # Gridlines\n",
    "    chart_ms,   # Main line chart\n",
    "    chart_gov,\n",
    "    chart_text2,\n",
    "    chart_line2\n",
    ").properties(\n",
    "    width=w,\n",
    "    height=400\n",
    ").resolve_scale(\n",
    "    y='independent'  # Enforce shared y-scale for all layers\n",
    ")\n",
    "chart_with_background"
   ]
  },
  {
   "cell_type": "markdown",
   "metadata": {},
   "source": [
    "<h4 style=\"color:goldenrod\"> Shooting trends inside a year </h4>"
   ]
  },
  {
   "cell_type": "code",
   "execution_count": 157,
   "metadata": {},
   "outputs": [],
   "source": [
    "MassShootings = pd.read_csv(\"datasets/MassShootingsComplete_FIPS.csv\")"
   ]
  },
  {
   "cell_type": "code",
   "execution_count": 159,
   "metadata": {},
   "outputs": [
    {
     "ename": "AttributeError",
     "evalue": "Can only use .dt accessor with datetimelike values",
     "output_type": "error",
     "traceback": [
      "\u001b[1;31m---------------------------------------------------------------------------\u001b[0m",
      "\u001b[1;31mAttributeError\u001b[0m                            Traceback (most recent call last)",
      "Cell \u001b[1;32mIn[159], line 1\u001b[0m\n\u001b[1;32m----> 1\u001b[0m MassShootings[\u001b[38;5;124m'\u001b[39m\u001b[38;5;124mYear\u001b[39m\u001b[38;5;124m'\u001b[39m] \u001b[38;5;241m=\u001b[39m \u001b[43mMassShootings\u001b[49m\u001b[43m[\u001b[49m\u001b[38;5;124;43m'\u001b[39;49m\u001b[38;5;124;43mIncident Date\u001b[39;49m\u001b[38;5;124;43m'\u001b[39;49m\u001b[43m]\u001b[49m\u001b[38;5;241;43m.\u001b[39;49m\u001b[43mdt\u001b[49m\u001b[38;5;241m.\u001b[39myear\n\u001b[0;32m      2\u001b[0m MassShootings[\u001b[38;5;124m'\u001b[39m\u001b[38;5;124mMonth\u001b[39m\u001b[38;5;124m'\u001b[39m] \u001b[38;5;241m=\u001b[39m MassShootings[\u001b[38;5;124m'\u001b[39m\u001b[38;5;124mIncident Date\u001b[39m\u001b[38;5;124m'\u001b[39m]\u001b[38;5;241m.\u001b[39mdt\u001b[38;5;241m.\u001b[39mmonth\n\u001b[0;32m      3\u001b[0m monthly_shootings \u001b[38;5;241m=\u001b[39m MassShootings[MassShootings[\u001b[38;5;124m'\u001b[39m\u001b[38;5;124mYear\u001b[39m\u001b[38;5;124m'\u001b[39m]\u001b[38;5;241m>\u001b[39m\u001b[38;5;241m2014\u001b[39m]\u001b[38;5;241m.\u001b[39mgroupby([\u001b[38;5;124m'\u001b[39m\u001b[38;5;124mYear\u001b[39m\u001b[38;5;124m'\u001b[39m, \u001b[38;5;124m'\u001b[39m\u001b[38;5;124mMonth\u001b[39m\u001b[38;5;124m'\u001b[39m])\u001b[38;5;241m.\u001b[39msize()\u001b[38;5;241m.\u001b[39mreset_index(name\u001b[38;5;241m=\u001b[39m\u001b[38;5;124m'\u001b[39m\u001b[38;5;124mTotal Shootings\u001b[39m\u001b[38;5;124m'\u001b[39m)\n",
      "File \u001b[1;32m~\\AppData\\Roaming\\Python\\Python311\\site-packages\\pandas\\core\\generic.py:6293\u001b[0m, in \u001b[0;36mNDFrame.__getattr__\u001b[1;34m(self, name)\u001b[0m\n\u001b[0;32m   6286\u001b[0m \u001b[38;5;28;01mif\u001b[39;00m (\n\u001b[0;32m   6287\u001b[0m     name \u001b[38;5;129;01mnot\u001b[39;00m \u001b[38;5;129;01min\u001b[39;00m \u001b[38;5;28mself\u001b[39m\u001b[38;5;241m.\u001b[39m_internal_names_set\n\u001b[0;32m   6288\u001b[0m     \u001b[38;5;129;01mand\u001b[39;00m name \u001b[38;5;129;01mnot\u001b[39;00m \u001b[38;5;129;01min\u001b[39;00m \u001b[38;5;28mself\u001b[39m\u001b[38;5;241m.\u001b[39m_metadata\n\u001b[0;32m   6289\u001b[0m     \u001b[38;5;129;01mand\u001b[39;00m name \u001b[38;5;129;01mnot\u001b[39;00m \u001b[38;5;129;01min\u001b[39;00m \u001b[38;5;28mself\u001b[39m\u001b[38;5;241m.\u001b[39m_accessors\n\u001b[0;32m   6290\u001b[0m     \u001b[38;5;129;01mand\u001b[39;00m \u001b[38;5;28mself\u001b[39m\u001b[38;5;241m.\u001b[39m_info_axis\u001b[38;5;241m.\u001b[39m_can_hold_identifiers_and_holds_name(name)\n\u001b[0;32m   6291\u001b[0m ):\n\u001b[0;32m   6292\u001b[0m     \u001b[38;5;28;01mreturn\u001b[39;00m \u001b[38;5;28mself\u001b[39m[name]\n\u001b[1;32m-> 6293\u001b[0m \u001b[38;5;28;01mreturn\u001b[39;00m \u001b[38;5;28;43mobject\u001b[39;49m\u001b[38;5;241;43m.\u001b[39;49m\u001b[38;5;21;43m__getattribute__\u001b[39;49m\u001b[43m(\u001b[49m\u001b[38;5;28;43mself\u001b[39;49m\u001b[43m,\u001b[49m\u001b[43m \u001b[49m\u001b[43mname\u001b[49m\u001b[43m)\u001b[49m\n",
      "File \u001b[1;32m~\\AppData\\Roaming\\Python\\Python311\\site-packages\\pandas\\core\\accessor.py:224\u001b[0m, in \u001b[0;36mCachedAccessor.__get__\u001b[1;34m(self, obj, cls)\u001b[0m\n\u001b[0;32m    221\u001b[0m \u001b[38;5;28;01mif\u001b[39;00m obj \u001b[38;5;129;01mis\u001b[39;00m \u001b[38;5;28;01mNone\u001b[39;00m:\n\u001b[0;32m    222\u001b[0m     \u001b[38;5;66;03m# we're accessing the attribute of the class, i.e., Dataset.geo\u001b[39;00m\n\u001b[0;32m    223\u001b[0m     \u001b[38;5;28;01mreturn\u001b[39;00m \u001b[38;5;28mself\u001b[39m\u001b[38;5;241m.\u001b[39m_accessor\n\u001b[1;32m--> 224\u001b[0m accessor_obj \u001b[38;5;241m=\u001b[39m \u001b[38;5;28;43mself\u001b[39;49m\u001b[38;5;241;43m.\u001b[39;49m\u001b[43m_accessor\u001b[49m\u001b[43m(\u001b[49m\u001b[43mobj\u001b[49m\u001b[43m)\u001b[49m\n\u001b[0;32m    225\u001b[0m \u001b[38;5;66;03m# Replace the property with the accessor object. Inspired by:\u001b[39;00m\n\u001b[0;32m    226\u001b[0m \u001b[38;5;66;03m# https://www.pydanny.com/cached-property.html\u001b[39;00m\n\u001b[0;32m    227\u001b[0m \u001b[38;5;66;03m# We need to use object.__setattr__ because we overwrite __setattr__ on\u001b[39;00m\n\u001b[0;32m    228\u001b[0m \u001b[38;5;66;03m# NDFrame\u001b[39;00m\n\u001b[0;32m    229\u001b[0m \u001b[38;5;28mobject\u001b[39m\u001b[38;5;241m.\u001b[39m\u001b[38;5;21m__setattr__\u001b[39m(obj, \u001b[38;5;28mself\u001b[39m\u001b[38;5;241m.\u001b[39m_name, accessor_obj)\n",
      "File \u001b[1;32m~\\AppData\\Roaming\\Python\\Python311\\site-packages\\pandas\\core\\indexes\\accessors.py:643\u001b[0m, in \u001b[0;36mCombinedDatetimelikeProperties.__new__\u001b[1;34m(cls, data)\u001b[0m\n\u001b[0;32m    640\u001b[0m \u001b[38;5;28;01melif\u001b[39;00m \u001b[38;5;28misinstance\u001b[39m(data\u001b[38;5;241m.\u001b[39mdtype, PeriodDtype):\n\u001b[0;32m    641\u001b[0m     \u001b[38;5;28;01mreturn\u001b[39;00m PeriodProperties(data, orig)\n\u001b[1;32m--> 643\u001b[0m \u001b[38;5;28;01mraise\u001b[39;00m \u001b[38;5;167;01mAttributeError\u001b[39;00m(\u001b[38;5;124m\"\u001b[39m\u001b[38;5;124mCan only use .dt accessor with datetimelike values\u001b[39m\u001b[38;5;124m\"\u001b[39m)\n",
      "\u001b[1;31mAttributeError\u001b[0m: Can only use .dt accessor with datetimelike values"
     ]
    }
   ],
   "source": [
    "MassShootings['Year'] = MassShootings['Incident Date'].dt.year\n",
    "MassShootings['Month'] = MassShootings['Incident Date'].dt.month\n",
    "monthly_shootings = MassShootings[MassShootings['Year']>2014].groupby(['Year', 'Month']).size().reset_index(name='Total Shootings')\n",
    "monthly_avg = monthly_shootings.groupby('Month')['Total Shootings'].mean().reset_index()"
   ]
  },
  {
   "cell_type": "code",
   "execution_count": 430,
   "metadata": {},
   "outputs": [
    {
     "data": {
      "text/html": [
       "\n",
       "<style>\n",
       "  #altair-viz-7173b7e1a8c4421e9fc5e0a9e26776af.vega-embed {\n",
       "    width: 100%;\n",
       "    display: flex;\n",
       "  }\n",
       "\n",
       "  #altair-viz-7173b7e1a8c4421e9fc5e0a9e26776af.vega-embed details,\n",
       "  #altair-viz-7173b7e1a8c4421e9fc5e0a9e26776af.vega-embed details summary {\n",
       "    position: relative;\n",
       "  }\n",
       "</style>\n",
       "<div id=\"altair-viz-7173b7e1a8c4421e9fc5e0a9e26776af\"></div>\n",
       "<script type=\"text/javascript\">\n",
       "  var VEGA_DEBUG = (typeof VEGA_DEBUG == \"undefined\") ? {} : VEGA_DEBUG;\n",
       "  (function(spec, embedOpt){\n",
       "    let outputDiv = document.currentScript.previousElementSibling;\n",
       "    if (outputDiv.id !== \"altair-viz-7173b7e1a8c4421e9fc5e0a9e26776af\") {\n",
       "      outputDiv = document.getElementById(\"altair-viz-7173b7e1a8c4421e9fc5e0a9e26776af\");\n",
       "    }\n",
       "    const paths = {\n",
       "      \"vega\": \"https://cdn.jsdelivr.net/npm/vega@5?noext\",\n",
       "      \"vega-lib\": \"https://cdn.jsdelivr.net/npm/vega-lib?noext\",\n",
       "      \"vega-lite\": \"https://cdn.jsdelivr.net/npm/vega-lite@5.20.1?noext\",\n",
       "      \"vega-embed\": \"https://cdn.jsdelivr.net/npm/vega-embed@6?noext\",\n",
       "    };\n",
       "\n",
       "    function maybeLoadScript(lib, version) {\n",
       "      var key = `${lib.replace(\"-\", \"\")}_version`;\n",
       "      return (VEGA_DEBUG[key] == version) ?\n",
       "        Promise.resolve(paths[lib]) :\n",
       "        new Promise(function(resolve, reject) {\n",
       "          var s = document.createElement('script');\n",
       "          document.getElementsByTagName(\"head\")[0].appendChild(s);\n",
       "          s.async = true;\n",
       "          s.onload = () => {\n",
       "            VEGA_DEBUG[key] = version;\n",
       "            return resolve(paths[lib]);\n",
       "          };\n",
       "          s.onerror = () => reject(`Error loading script: ${paths[lib]}`);\n",
       "          s.src = paths[lib];\n",
       "        });\n",
       "    }\n",
       "\n",
       "    function showError(err) {\n",
       "      outputDiv.innerHTML = `<div class=\"error\" style=\"color:red;\">${err}</div>`;\n",
       "      throw err;\n",
       "    }\n",
       "\n",
       "    function displayChart(vegaEmbed) {\n",
       "      vegaEmbed(outputDiv, spec, embedOpt)\n",
       "        .catch(err => showError(`Javascript Error: ${err.message}<br>This usually means there's a typo in your chart specification. See the javascript console for the full traceback.`));\n",
       "    }\n",
       "\n",
       "    if(typeof define === \"function\" && define.amd) {\n",
       "      requirejs.config({paths});\n",
       "      require([\"vega-embed\"], displayChart, err => showError(`Error loading script: ${err.message}`));\n",
       "    } else {\n",
       "      maybeLoadScript(\"vega\", \"5\")\n",
       "        .then(() => maybeLoadScript(\"vega-lite\", \"5.20.1\"))\n",
       "        .then(() => maybeLoadScript(\"vega-embed\", \"6\"))\n",
       "        .catch(showError)\n",
       "        .then(() => displayChart(vegaEmbed));\n",
       "    }\n",
       "  })({\"config\": {\"view\": {\"continuousWidth\": 300, \"continuousHeight\": 300}}, \"data\": {\"name\": \"data-c01ad75464e1ce59bd8297654603bd60\"}, \"mark\": {\"type\": \"line\"}, \"encoding\": {\"color\": {\"field\": \"Year\", \"title\": \"Any\", \"type\": \"ordinal\"}, \"x\": {\"axis\": {\"labelAngle\": 0}, \"field\": \"Month\", \"title\": \"Mes\", \"type\": \"ordinal\"}, \"y\": {\"field\": \"Total Shootings\", \"title\": \"Nombre total de tirotejos\", \"type\": \"quantitative\"}}, \"title\": \"Evoluci\\u00f3 mensual dels tirotejos massius als EUA per any\", \"$schema\": \"https://vega.github.io/schema/vega-lite/v5.20.1.json\", \"datasets\": {\"data-c01ad75464e1ce59bd8297654603bd60\": [{\"Year\": 2015, \"Month\": 1, \"Total Shootings\": 22}, {\"Year\": 2015, \"Month\": 2, \"Total Shootings\": 15}, {\"Year\": 2015, \"Month\": 3, \"Total Shootings\": 22}, {\"Year\": 2015, \"Month\": 4, \"Total Shootings\": 19}, {\"Year\": 2015, \"Month\": 5, \"Total Shootings\": 35}, {\"Year\": 2015, \"Month\": 6, \"Total Shootings\": 36}, {\"Year\": 2015, \"Month\": 7, \"Total Shootings\": 44}, {\"Year\": 2015, \"Month\": 8, \"Total Shootings\": 39}, {\"Year\": 2015, \"Month\": 9, \"Total Shootings\": 34}, {\"Year\": 2015, \"Month\": 10, \"Total Shootings\": 19}, {\"Year\": 2015, \"Month\": 11, \"Total Shootings\": 26}, {\"Year\": 2015, \"Month\": 12, \"Total Shootings\": 20}, {\"Year\": 2016, \"Month\": 1, \"Total Shootings\": 11}, {\"Year\": 2016, \"Month\": 2, \"Total Shootings\": 27}, {\"Year\": 2016, \"Month\": 3, \"Total Shootings\": 22}, {\"Year\": 2016, \"Month\": 4, \"Total Shootings\": 32}, {\"Year\": 2016, \"Month\": 5, \"Total Shootings\": 29}, {\"Year\": 2016, \"Month\": 6, \"Total Shootings\": 45}, {\"Year\": 2016, \"Month\": 7, \"Total Shootings\": 49}, {\"Year\": 2016, \"Month\": 8, \"Total Shootings\": 39}, {\"Year\": 2016, \"Month\": 9, \"Total Shootings\": 32}, {\"Year\": 2016, \"Month\": 10, \"Total Shootings\": 31}, {\"Year\": 2016, \"Month\": 11, \"Total Shootings\": 36}, {\"Year\": 2016, \"Month\": 12, \"Total Shootings\": 26}, {\"Year\": 2017, \"Month\": 1, \"Total Shootings\": 31}, {\"Year\": 2017, \"Month\": 2, \"Total Shootings\": 24}, {\"Year\": 2017, \"Month\": 3, \"Total Shootings\": 22}, {\"Year\": 2017, \"Month\": 4, \"Total Shootings\": 39}, {\"Year\": 2017, \"Month\": 5, \"Total Shootings\": 23}, {\"Year\": 2017, \"Month\": 6, \"Total Shootings\": 34}, {\"Year\": 2017, \"Month\": 7, \"Total Shootings\": 36}, {\"Year\": 2017, \"Month\": 8, \"Total Shootings\": 33}, {\"Year\": 2017, \"Month\": 9, \"Total Shootings\": 30}, {\"Year\": 2017, \"Month\": 10, \"Total Shootings\": 28}, {\"Year\": 2017, \"Month\": 11, \"Total Shootings\": 24}, {\"Year\": 2017, \"Month\": 12, \"Total Shootings\": 19}, {\"Year\": 2018, \"Month\": 1, \"Total Shootings\": 22}, {\"Year\": 2018, \"Month\": 2, \"Total Shootings\": 13}, {\"Year\": 2018, \"Month\": 3, \"Total Shootings\": 17}, {\"Year\": 2018, \"Month\": 4, \"Total Shootings\": 25}, {\"Year\": 2018, \"Month\": 5, \"Total Shootings\": 28}, {\"Year\": 2018, \"Month\": 6, \"Total Shootings\": 50}, {\"Year\": 2018, \"Month\": 7, \"Total Shootings\": 44}, {\"Year\": 2018, \"Month\": 8, \"Total Shootings\": 33}, {\"Year\": 2018, \"Month\": 9, \"Total Shootings\": 34}, {\"Year\": 2018, \"Month\": 10, \"Total Shootings\": 29}, {\"Year\": 2018, \"Month\": 11, \"Total Shootings\": 20}, {\"Year\": 2018, \"Month\": 12, \"Total Shootings\": 15}, {\"Year\": 2019, \"Month\": 1, \"Total Shootings\": 25}, {\"Year\": 2019, \"Month\": 2, \"Total Shootings\": 20}, {\"Year\": 2019, \"Month\": 3, \"Total Shootings\": 20}, {\"Year\": 2019, \"Month\": 4, \"Total Shootings\": 32}, {\"Year\": 2019, \"Month\": 5, \"Total Shootings\": 47}, {\"Year\": 2019, \"Month\": 6, \"Total Shootings\": 52}, {\"Year\": 2019, \"Month\": 7, \"Total Shootings\": 41}, {\"Year\": 2019, \"Month\": 8, \"Total Shootings\": 40}, {\"Year\": 2019, \"Month\": 9, \"Total Shootings\": 34}, {\"Year\": 2019, \"Month\": 10, \"Total Shootings\": 34}, {\"Year\": 2019, \"Month\": 11, \"Total Shootings\": 33}, {\"Year\": 2019, \"Month\": 12, \"Total Shootings\": 32}, {\"Year\": 2020, \"Month\": 1, \"Total Shootings\": 25}, {\"Year\": 2020, \"Month\": 2, \"Total Shootings\": 20}, {\"Year\": 2020, \"Month\": 3, \"Total Shootings\": 24}, {\"Year\": 2020, \"Month\": 4, \"Total Shootings\": 26}, {\"Year\": 2020, \"Month\": 5, \"Total Shootings\": 59}, {\"Year\": 2020, \"Month\": 6, \"Total Shootings\": 94}, {\"Year\": 2020, \"Month\": 7, \"Total Shootings\": 89}, {\"Year\": 2020, \"Month\": 8, \"Total Shootings\": 80}, {\"Year\": 2020, \"Month\": 9, \"Total Shootings\": 68}, {\"Year\": 2020, \"Month\": 10, \"Total Shootings\": 50}, {\"Year\": 2020, \"Month\": 11, \"Total Shootings\": 49}, {\"Year\": 2020, \"Month\": 12, \"Total Shootings\": 26}, {\"Year\": 2021, \"Month\": 1, \"Total Shootings\": 32}, {\"Year\": 2021, \"Month\": 2, \"Total Shootings\": 40}, {\"Year\": 2021, \"Month\": 3, \"Total Shootings\": 45}, {\"Year\": 2021, \"Month\": 4, \"Total Shootings\": 49}, {\"Year\": 2021, \"Month\": 5, \"Total Shootings\": 72}, {\"Year\": 2021, \"Month\": 6, \"Total Shootings\": 74}, {\"Year\": 2021, \"Month\": 7, \"Total Shootings\": 83}, {\"Year\": 2021, \"Month\": 8, \"Total Shootings\": 64}, {\"Year\": 2021, \"Month\": 9, \"Total Shootings\": 66}, {\"Year\": 2021, \"Month\": 10, \"Total Shootings\": 70}, {\"Year\": 2021, \"Month\": 11, \"Total Shootings\": 48}, {\"Year\": 2021, \"Month\": 12, \"Total Shootings\": 39}, {\"Year\": 2022, \"Month\": 1, \"Total Shootings\": 34}, {\"Year\": 2022, \"Month\": 2, \"Total Shootings\": 36}, {\"Year\": 2022, \"Month\": 3, \"Total Shootings\": 41}, {\"Year\": 2022, \"Month\": 4, \"Total Shootings\": 57}, {\"Year\": 2022, \"Month\": 5, \"Total Shootings\": 64}, {\"Year\": 2022, \"Month\": 6, \"Total Shootings\": 64}, {\"Year\": 2022, \"Month\": 7, \"Total Shootings\": 89}, {\"Year\": 2022, \"Month\": 8, \"Total Shootings\": 59}, {\"Year\": 2022, \"Month\": 9, \"Total Shootings\": 63}, {\"Year\": 2022, \"Month\": 10, \"Total Shootings\": 62}, {\"Year\": 2022, \"Month\": 11, \"Total Shootings\": 43}, {\"Year\": 2022, \"Month\": 12, \"Total Shootings\": 30}, {\"Year\": 2023, \"Month\": 1, \"Total Shootings\": 52}, {\"Year\": 2023, \"Month\": 2, \"Total Shootings\": 41}, {\"Year\": 2023, \"Month\": 3, \"Total Shootings\": 41}, {\"Year\": 2023, \"Month\": 4, \"Total Shootings\": 55}, {\"Year\": 2023, \"Month\": 5, \"Total Shootings\": 78}, {\"Year\": 2023, \"Month\": 6, \"Total Shootings\": 67}, {\"Year\": 2023, \"Month\": 7, \"Total Shootings\": 85}, {\"Year\": 2023, \"Month\": 8, \"Total Shootings\": 57}, {\"Year\": 2023, \"Month\": 9, \"Total Shootings\": 41}, {\"Year\": 2023, \"Month\": 10, \"Total Shootings\": 65}, {\"Year\": 2023, \"Month\": 11, \"Total Shootings\": 33}, {\"Year\": 2023, \"Month\": 12, \"Total Shootings\": 36}, {\"Year\": 2024, \"Month\": 1, \"Total Shootings\": 38}, {\"Year\": 2024, \"Month\": 2, \"Total Shootings\": 27}, {\"Year\": 2024, \"Month\": 3, \"Total Shootings\": 34}, {\"Year\": 2024, \"Month\": 4, \"Total Shootings\": 37}, {\"Year\": 2024, \"Month\": 5, \"Total Shootings\": 52}, {\"Year\": 2024, \"Month\": 6, \"Total Shootings\": 71}, {\"Year\": 2024, \"Month\": 7, \"Total Shootings\": 62}, {\"Year\": 2024, \"Month\": 8, \"Total Shootings\": 51}, {\"Year\": 2024, \"Month\": 9, \"Total Shootings\": 24}]}}, {\"mode\": \"vega-lite\"});\n",
       "</script>"
      ],
      "text/plain": [
       "alt.Chart(...)"
      ]
     },
     "execution_count": 430,
     "metadata": {},
     "output_type": "execute_result"
    }
   ],
   "source": [
    "line_chart_months1 = alt.Chart(monthly_shootings[monthly_shootings['Year']>2013]).mark_line().encode(\n",
    "    x=alt.X('Month:O', title='Mes', axis=alt.Axis(labelAngle=0)),\n",
    "    y=alt.Y('Total Shootings:Q', title='Nombre total de tirotejos'),\n",
    "    color=alt.Color('Year:O', title='Any')\n",
    ").properties(\n",
    "    title='Evolució mensual dels tirotejos massius als EUA per any'\n",
    ")\n",
    "\n",
    "line_chart_months1"
   ]
  },
  {
   "cell_type": "markdown",
   "metadata": {},
   "source": [
    "Even though the trend is well understood, there are too many years... we can try to visualize the last 5 years. A lighter color corresponds to an early year, but maybe it's not the best way to show the increasing amount of shootings during years."
   ]
  },
  {
   "cell_type": "code",
   "execution_count": 431,
   "metadata": {},
   "outputs": [
    {
     "data": {
      "text/html": [
       "\n",
       "<style>\n",
       "  #altair-viz-fa488b911d384d68b3422c8d72853c1f.vega-embed {\n",
       "    width: 100%;\n",
       "    display: flex;\n",
       "  }\n",
       "\n",
       "  #altair-viz-fa488b911d384d68b3422c8d72853c1f.vega-embed details,\n",
       "  #altair-viz-fa488b911d384d68b3422c8d72853c1f.vega-embed details summary {\n",
       "    position: relative;\n",
       "  }\n",
       "</style>\n",
       "<div id=\"altair-viz-fa488b911d384d68b3422c8d72853c1f\"></div>\n",
       "<script type=\"text/javascript\">\n",
       "  var VEGA_DEBUG = (typeof VEGA_DEBUG == \"undefined\") ? {} : VEGA_DEBUG;\n",
       "  (function(spec, embedOpt){\n",
       "    let outputDiv = document.currentScript.previousElementSibling;\n",
       "    if (outputDiv.id !== \"altair-viz-fa488b911d384d68b3422c8d72853c1f\") {\n",
       "      outputDiv = document.getElementById(\"altair-viz-fa488b911d384d68b3422c8d72853c1f\");\n",
       "    }\n",
       "    const paths = {\n",
       "      \"vega\": \"https://cdn.jsdelivr.net/npm/vega@5?noext\",\n",
       "      \"vega-lib\": \"https://cdn.jsdelivr.net/npm/vega-lib?noext\",\n",
       "      \"vega-lite\": \"https://cdn.jsdelivr.net/npm/vega-lite@5.20.1?noext\",\n",
       "      \"vega-embed\": \"https://cdn.jsdelivr.net/npm/vega-embed@6?noext\",\n",
       "    };\n",
       "\n",
       "    function maybeLoadScript(lib, version) {\n",
       "      var key = `${lib.replace(\"-\", \"\")}_version`;\n",
       "      return (VEGA_DEBUG[key] == version) ?\n",
       "        Promise.resolve(paths[lib]) :\n",
       "        new Promise(function(resolve, reject) {\n",
       "          var s = document.createElement('script');\n",
       "          document.getElementsByTagName(\"head\")[0].appendChild(s);\n",
       "          s.async = true;\n",
       "          s.onload = () => {\n",
       "            VEGA_DEBUG[key] = version;\n",
       "            return resolve(paths[lib]);\n",
       "          };\n",
       "          s.onerror = () => reject(`Error loading script: ${paths[lib]}`);\n",
       "          s.src = paths[lib];\n",
       "        });\n",
       "    }\n",
       "\n",
       "    function showError(err) {\n",
       "      outputDiv.innerHTML = `<div class=\"error\" style=\"color:red;\">${err}</div>`;\n",
       "      throw err;\n",
       "    }\n",
       "\n",
       "    function displayChart(vegaEmbed) {\n",
       "      vegaEmbed(outputDiv, spec, embedOpt)\n",
       "        .catch(err => showError(`Javascript Error: ${err.message}<br>This usually means there's a typo in your chart specification. See the javascript console for the full traceback.`));\n",
       "    }\n",
       "\n",
       "    if(typeof define === \"function\" && define.amd) {\n",
       "      requirejs.config({paths});\n",
       "      require([\"vega-embed\"], displayChart, err => showError(`Error loading script: ${err.message}`));\n",
       "    } else {\n",
       "      maybeLoadScript(\"vega\", \"5\")\n",
       "        .then(() => maybeLoadScript(\"vega-lite\", \"5.20.1\"))\n",
       "        .then(() => maybeLoadScript(\"vega-embed\", \"6\"))\n",
       "        .catch(showError)\n",
       "        .then(() => displayChart(vegaEmbed));\n",
       "    }\n",
       "  })({\"config\": {\"view\": {\"continuousWidth\": 300, \"continuousHeight\": 300}}, \"data\": {\"name\": \"data-8a621a930edbeab8b899cdea762cfc1d\"}, \"mark\": {\"type\": \"line\"}, \"encoding\": {\"color\": {\"field\": \"Year\", \"title\": \"Any\", \"type\": \"nominal\"}, \"x\": {\"axis\": {\"labelAngle\": 0}, \"field\": \"Month\", \"title\": \"Mes\", \"type\": \"ordinal\"}, \"y\": {\"field\": \"Total Shootings\", \"title\": \"Nombre total de tirotejos\", \"type\": \"quantitative\"}}, \"title\": \"Evoluci\\u00f3 mensual dels tirotejos massius als EUA per any\", \"$schema\": \"https://vega.github.io/schema/vega-lite/v5.20.1.json\", \"datasets\": {\"data-8a621a930edbeab8b899cdea762cfc1d\": [{\"Year\": 2020, \"Month\": 1, \"Total Shootings\": 25}, {\"Year\": 2020, \"Month\": 2, \"Total Shootings\": 20}, {\"Year\": 2020, \"Month\": 3, \"Total Shootings\": 24}, {\"Year\": 2020, \"Month\": 4, \"Total Shootings\": 26}, {\"Year\": 2020, \"Month\": 5, \"Total Shootings\": 59}, {\"Year\": 2020, \"Month\": 6, \"Total Shootings\": 94}, {\"Year\": 2020, \"Month\": 7, \"Total Shootings\": 89}, {\"Year\": 2020, \"Month\": 8, \"Total Shootings\": 80}, {\"Year\": 2020, \"Month\": 9, \"Total Shootings\": 68}, {\"Year\": 2020, \"Month\": 10, \"Total Shootings\": 50}, {\"Year\": 2020, \"Month\": 11, \"Total Shootings\": 49}, {\"Year\": 2020, \"Month\": 12, \"Total Shootings\": 26}, {\"Year\": 2021, \"Month\": 1, \"Total Shootings\": 32}, {\"Year\": 2021, \"Month\": 2, \"Total Shootings\": 40}, {\"Year\": 2021, \"Month\": 3, \"Total Shootings\": 45}, {\"Year\": 2021, \"Month\": 4, \"Total Shootings\": 49}, {\"Year\": 2021, \"Month\": 5, \"Total Shootings\": 72}, {\"Year\": 2021, \"Month\": 6, \"Total Shootings\": 74}, {\"Year\": 2021, \"Month\": 7, \"Total Shootings\": 83}, {\"Year\": 2021, \"Month\": 8, \"Total Shootings\": 64}, {\"Year\": 2021, \"Month\": 9, \"Total Shootings\": 66}, {\"Year\": 2021, \"Month\": 10, \"Total Shootings\": 70}, {\"Year\": 2021, \"Month\": 11, \"Total Shootings\": 48}, {\"Year\": 2021, \"Month\": 12, \"Total Shootings\": 39}, {\"Year\": 2022, \"Month\": 1, \"Total Shootings\": 34}, {\"Year\": 2022, \"Month\": 2, \"Total Shootings\": 36}, {\"Year\": 2022, \"Month\": 3, \"Total Shootings\": 41}, {\"Year\": 2022, \"Month\": 4, \"Total Shootings\": 57}, {\"Year\": 2022, \"Month\": 5, \"Total Shootings\": 64}, {\"Year\": 2022, \"Month\": 6, \"Total Shootings\": 64}, {\"Year\": 2022, \"Month\": 7, \"Total Shootings\": 89}, {\"Year\": 2022, \"Month\": 8, \"Total Shootings\": 59}, {\"Year\": 2022, \"Month\": 9, \"Total Shootings\": 63}, {\"Year\": 2022, \"Month\": 10, \"Total Shootings\": 62}, {\"Year\": 2022, \"Month\": 11, \"Total Shootings\": 43}, {\"Year\": 2022, \"Month\": 12, \"Total Shootings\": 30}, {\"Year\": 2023, \"Month\": 1, \"Total Shootings\": 52}, {\"Year\": 2023, \"Month\": 2, \"Total Shootings\": 41}, {\"Year\": 2023, \"Month\": 3, \"Total Shootings\": 41}, {\"Year\": 2023, \"Month\": 4, \"Total Shootings\": 55}, {\"Year\": 2023, \"Month\": 5, \"Total Shootings\": 78}, {\"Year\": 2023, \"Month\": 6, \"Total Shootings\": 67}, {\"Year\": 2023, \"Month\": 7, \"Total Shootings\": 85}, {\"Year\": 2023, \"Month\": 8, \"Total Shootings\": 57}, {\"Year\": 2023, \"Month\": 9, \"Total Shootings\": 41}, {\"Year\": 2023, \"Month\": 10, \"Total Shootings\": 65}, {\"Year\": 2023, \"Month\": 11, \"Total Shootings\": 33}, {\"Year\": 2023, \"Month\": 12, \"Total Shootings\": 36}, {\"Year\": 2024, \"Month\": 1, \"Total Shootings\": 38}, {\"Year\": 2024, \"Month\": 2, \"Total Shootings\": 27}, {\"Year\": 2024, \"Month\": 3, \"Total Shootings\": 34}, {\"Year\": 2024, \"Month\": 4, \"Total Shootings\": 37}, {\"Year\": 2024, \"Month\": 5, \"Total Shootings\": 52}, {\"Year\": 2024, \"Month\": 6, \"Total Shootings\": 71}, {\"Year\": 2024, \"Month\": 7, \"Total Shootings\": 62}, {\"Year\": 2024, \"Month\": 8, \"Total Shootings\": 51}, {\"Year\": 2024, \"Month\": 9, \"Total Shootings\": 24}]}}, {\"mode\": \"vega-lite\"});\n",
       "</script>"
      ],
      "text/plain": [
       "alt.Chart(...)"
      ]
     },
     "execution_count": 431,
     "metadata": {},
     "output_type": "execute_result"
    }
   ],
   "source": [
    "line_chart_months2 = alt.Chart(monthly_shootings[monthly_shootings['Year']>2019]).mark_line().encode(\n",
    "    x=alt.X('Month:O', title='Mes', axis=alt.Axis(labelAngle=0)),\n",
    "    y=alt.Y('Total Shootings:Q', title='Nombre total de tirotejos'),\n",
    "    color=alt.Color('Year:N', title='Any')\n",
    ").properties(\n",
    "    title='Evolució mensual dels tirotejos massius als EUA per any'\n",
    ")\n",
    "\n",
    "line_chart_months2"
   ]
  },
  {
   "cell_type": "markdown",
   "metadata": {},
   "source": [
    "That's better!"
   ]
  },
  {
   "cell_type": "code",
   "execution_count": 40,
   "metadata": {},
   "outputs": [
    {
     "ename": "NameError",
     "evalue": "name 'monthly_shootings' is not defined",
     "output_type": "error",
     "traceback": [
      "\u001b[1;31m---------------------------------------------------------------------------\u001b[0m",
      "\u001b[1;31mNameError\u001b[0m                                 Traceback (most recent call last)",
      "Cell \u001b[1;32mIn[40], line 1\u001b[0m\n\u001b[1;32m----> 1\u001b[0m monthly_shootings[\u001b[38;5;124m'\u001b[39m\u001b[38;5;124myear-month\u001b[39m\u001b[38;5;124m'\u001b[39m] \u001b[38;5;241m=\u001b[39m (\u001b[43mmonthly_shootings\u001b[49m[\u001b[38;5;124m'\u001b[39m\u001b[38;5;124mYear\u001b[39m\u001b[38;5;124m'\u001b[39m])\u001b[38;5;241m*\u001b[39m\u001b[38;5;241m100\u001b[39m \u001b[38;5;241m+\u001b[39m (monthly_shootings[\u001b[38;5;124m'\u001b[39m\u001b[38;5;124mMonth\u001b[39m\u001b[38;5;124m'\u001b[39m]\u001b[38;5;241m-\u001b[39m\u001b[38;5;241m1\u001b[39m)\u001b[38;5;241m*\u001b[39m\u001b[38;5;241m10\u001b[39m\u001b[38;5;241m/\u001b[39m\u001b[38;5;241m11\u001b[39m\n\u001b[0;32m      3\u001b[0m line_chart_mont_year \u001b[38;5;241m=\u001b[39m alt\u001b[38;5;241m.\u001b[39mChart(monthly_shootings[monthly_shootings[\u001b[38;5;124m'\u001b[39m\u001b[38;5;124mYear\u001b[39m\u001b[38;5;124m'\u001b[39m]\u001b[38;5;241m>\u001b[39m\u001b[38;5;241m2013\u001b[39m])\u001b[38;5;241m.\u001b[39mmark_line()\u001b[38;5;241m.\u001b[39mencode(\n\u001b[0;32m      4\u001b[0m     x\u001b[38;5;241m=\u001b[39malt\u001b[38;5;241m.\u001b[39mX(\u001b[38;5;124m'\u001b[39m\u001b[38;5;124myear-month:O\u001b[39m\u001b[38;5;124m'\u001b[39m, title\u001b[38;5;241m=\u001b[39m\u001b[38;5;124m'\u001b[39m\u001b[38;5;124mMes\u001b[39m\u001b[38;5;124m'\u001b[39m, axis\u001b[38;5;241m=\u001b[39m\u001b[38;5;28;01mNone\u001b[39;00m),\n\u001b[0;32m      5\u001b[0m     y\u001b[38;5;241m=\u001b[39malt\u001b[38;5;241m.\u001b[39mY(\u001b[38;5;124m'\u001b[39m\u001b[38;5;124mTotal Shootings:Q\u001b[39m\u001b[38;5;124m'\u001b[39m, title\u001b[38;5;241m=\u001b[39m\u001b[38;5;124m'\u001b[39m\u001b[38;5;124mNombre total de tirotejos\u001b[39m\u001b[38;5;124m'\u001b[39m)\n\u001b[1;32m   (...)\u001b[0m\n\u001b[0;32m      8\u001b[0m     width\u001b[38;5;241m=\u001b[39m\u001b[38;5;241m1200\u001b[39m\n\u001b[0;32m      9\u001b[0m )\n\u001b[0;32m     11\u001b[0m line_chart_mont_year\n",
      "\u001b[1;31mNameError\u001b[0m: name 'monthly_shootings' is not defined"
     ]
    }
   ],
   "source": [
    "monthly_shootings['year-month'] = (monthly_shootings['Year'])*100 + (monthly_shootings['Month']-1)*10/11\n",
    "\n",
    "line_chart_mont_year = alt.Chart(monthly_shootings[monthly_shootings['Year']>2013]).mark_line().encode(\n",
    "    x=alt.X('year-month:O', title='Mes', axis=None),\n",
    "    y=alt.Y('Total Shootings:Q', title='Nombre total de tirotejos')\n",
    ").properties(\n",
    "    title='Evolució mensual dels tirotejos massius als EUA per any',\n",
    "    width=1200\n",
    ")\n",
    "\n",
    "line_chart_mont_year"
   ]
  },
  {
   "cell_type": "markdown",
   "metadata": {},
   "source": [
    "Interesting, but uses way too much space"
   ]
  },
  {
   "cell_type": "code",
   "execution_count": 433,
   "metadata": {},
   "outputs": [
    {
     "data": {
      "text/html": [
       "\n",
       "<style>\n",
       "  #altair-viz-a2c2b143d77c4103b9b0459cf9427e8a.vega-embed {\n",
       "    width: 100%;\n",
       "    display: flex;\n",
       "  }\n",
       "\n",
       "  #altair-viz-a2c2b143d77c4103b9b0459cf9427e8a.vega-embed details,\n",
       "  #altair-viz-a2c2b143d77c4103b9b0459cf9427e8a.vega-embed details summary {\n",
       "    position: relative;\n",
       "  }\n",
       "</style>\n",
       "<div id=\"altair-viz-a2c2b143d77c4103b9b0459cf9427e8a\"></div>\n",
       "<script type=\"text/javascript\">\n",
       "  var VEGA_DEBUG = (typeof VEGA_DEBUG == \"undefined\") ? {} : VEGA_DEBUG;\n",
       "  (function(spec, embedOpt){\n",
       "    let outputDiv = document.currentScript.previousElementSibling;\n",
       "    if (outputDiv.id !== \"altair-viz-a2c2b143d77c4103b9b0459cf9427e8a\") {\n",
       "      outputDiv = document.getElementById(\"altair-viz-a2c2b143d77c4103b9b0459cf9427e8a\");\n",
       "    }\n",
       "    const paths = {\n",
       "      \"vega\": \"https://cdn.jsdelivr.net/npm/vega@5?noext\",\n",
       "      \"vega-lib\": \"https://cdn.jsdelivr.net/npm/vega-lib?noext\",\n",
       "      \"vega-lite\": \"https://cdn.jsdelivr.net/npm/vega-lite@5.20.1?noext\",\n",
       "      \"vega-embed\": \"https://cdn.jsdelivr.net/npm/vega-embed@6?noext\",\n",
       "    };\n",
       "\n",
       "    function maybeLoadScript(lib, version) {\n",
       "      var key = `${lib.replace(\"-\", \"\")}_version`;\n",
       "      return (VEGA_DEBUG[key] == version) ?\n",
       "        Promise.resolve(paths[lib]) :\n",
       "        new Promise(function(resolve, reject) {\n",
       "          var s = document.createElement('script');\n",
       "          document.getElementsByTagName(\"head\")[0].appendChild(s);\n",
       "          s.async = true;\n",
       "          s.onload = () => {\n",
       "            VEGA_DEBUG[key] = version;\n",
       "            return resolve(paths[lib]);\n",
       "          };\n",
       "          s.onerror = () => reject(`Error loading script: ${paths[lib]}`);\n",
       "          s.src = paths[lib];\n",
       "        });\n",
       "    }\n",
       "\n",
       "    function showError(err) {\n",
       "      outputDiv.innerHTML = `<div class=\"error\" style=\"color:red;\">${err}</div>`;\n",
       "      throw err;\n",
       "    }\n",
       "\n",
       "    function displayChart(vegaEmbed) {\n",
       "      vegaEmbed(outputDiv, spec, embedOpt)\n",
       "        .catch(err => showError(`Javascript Error: ${err.message}<br>This usually means there's a typo in your chart specification. See the javascript console for the full traceback.`));\n",
       "    }\n",
       "\n",
       "    if(typeof define === \"function\" && define.amd) {\n",
       "      requirejs.config({paths});\n",
       "      require([\"vega-embed\"], displayChart, err => showError(`Error loading script: ${err.message}`));\n",
       "    } else {\n",
       "      maybeLoadScript(\"vega\", \"5\")\n",
       "        .then(() => maybeLoadScript(\"vega-lite\", \"5.20.1\"))\n",
       "        .then(() => maybeLoadScript(\"vega-embed\", \"6\"))\n",
       "        .catch(showError)\n",
       "        .then(() => displayChart(vegaEmbed));\n",
       "    }\n",
       "  })({\"config\": {\"view\": {\"continuousWidth\": 300, \"continuousHeight\": 300}, \"legend\": {\"disable\": true}}, \"layer\": [{\"mark\": {\"type\": \"arc\", \"innerRadius\": 20, \"stroke\": \"#fff\"}, \"encoding\": {\"color\": {\"field\": \"Total Shootings\", \"scale\": {\"scheme\": \"reds\"}, \"type\": \"quantitative\"}, \"radius\": {\"field\": \"Total Shootings\", \"scale\": {\"type\": \"sqrt\", \"zero\": true, \"rangeMin\": 20}, \"type\": \"quantitative\"}, \"theta\": {\"field\": \"Month\", \"stack\": true, \"type\": \"ordinal\"}}}, {\"mark\": {\"type\": \"text\", \"radiusOffset\": 18}, \"encoding\": {\"color\": {\"condition\": {\"test\": \"datum.Total_Shootings > 5000\", \"value\": \"white\"}, \"value\": \"black\"}, \"radius\": {\"field\": \"Total Shootings\", \"scale\": {\"type\": \"sqrt\", \"zero\": true, \"rangeMin\": 20}, \"type\": \"quantitative\"}, \"text\": {\"field\": \"Mes\", \"type\": \"nominal\"}, \"theta\": {\"field\": \"Month\", \"stack\": true, \"type\": \"ordinal\"}}}], \"data\": {\"name\": \"data-7c76d77e7cdc2b9315b07d62cd61fbad\"}, \"height\": 400, \"title\": \"Mitjana mensual de tirotejos massius als EUA\", \"width\": 400, \"$schema\": \"https://vega.github.io/schema/vega-lite/v5.20.1.json\", \"datasets\": {\"data-7c76d77e7cdc2b9315b07d62cd61fbad\": [{\"Month\": 1, \"Total Shootings\": 29.2, \"Mes\": \"January\"}, {\"Month\": 2, \"Total Shootings\": 26.3, \"Mes\": \"February\"}, {\"Month\": 3, \"Total Shootings\": 28.8, \"Mes\": \"March\"}, {\"Month\": 4, \"Total Shootings\": 37.1, \"Mes\": \"April\"}, {\"Month\": 5, \"Total Shootings\": 48.7, \"Mes\": \"May\"}, {\"Month\": 6, \"Total Shootings\": 58.7, \"Mes\": \"June\"}, {\"Month\": 7, \"Total Shootings\": 62.2, \"Mes\": \"July\"}, {\"Month\": 8, \"Total Shootings\": 49.5, \"Mes\": \"August\"}, {\"Month\": 9, \"Total Shootings\": 42.6, \"Mes\": \"September\"}, {\"Month\": 10, \"Total Shootings\": 43.111111111111114, \"Mes\": \"October\"}, {\"Month\": 11, \"Total Shootings\": 34.666666666666664, \"Mes\": \"November\"}, {\"Month\": 12, \"Total Shootings\": 27.0, \"Mes\": \"December\"}]}}, {\"mode\": \"vega-lite\"});\n",
       "</script>"
      ],
      "text/plain": [
       "alt.LayerChart(...)"
      ]
     },
     "execution_count": 433,
     "metadata": {},
     "output_type": "execute_result"
    }
   ],
   "source": [
    "mesos = ['January', 'February', 'March', 'April', 'May', 'June', \n",
    "         'July', 'August', 'September', 'October', 'November', 'December']\n",
    "monthly_avg['Mes'] = [mesos[m-1] for m in monthly_avg['Month']]\n",
    "\n",
    "\n",
    "base = alt.Chart(monthly_avg).encode(\n",
    "    alt.Theta(\"Month:O\").stack(True),\n",
    "    alt.Radius(\"Total Shootings\").scale(type=\"sqrt\", zero=True, rangeMin=20),\n",
    "    alt.Color('Total Shootings:Q', scale=alt.Scale(scheme='reds'))  \n",
    ")\n",
    "\n",
    "\n",
    "c1 = base.mark_arc(innerRadius=20, stroke=\"#fff\")\n",
    "\n",
    "\n",
    "c2 = base.mark_text(\n",
    "    radiusOffset=18\n",
    ").encode(\n",
    "    text=\"Mes:N\",\n",
    "    color=alt.condition(\n",
    "        \"datum.Total_Shootings > \" + str(5000),\n",
    "        alt.value(\"white\"),\n",
    "        alt.value(\"black\"),\n",
    "    )\n",
    ")\n",
    "\n",
    "# Combine charts\n",
    "polar_area_chart = (c1 + c2).properties(\n",
    "    width=400,\n",
    "    height=400,\n",
    "    title=\"Mitjana mensual de tirotejos massius als EUA\"\n",
    ").configure_legend(\n",
    "    disable=True\n",
    ")\n",
    "\n",
    "polar_area_chart"
   ]
  },
  {
   "cell_type": "markdown",
   "metadata": {},
   "source": [
    "This chart is very nice visualy, but uses too much space for proving only the distribution amongh months. \n",
    "It would be good if we could show this dirtribution together with the first chart (shootings amongst years). If we only want to show the average distribution of shootings, we could use a 1x12 heatmap. It uses much less space and shows the trend perfectly."
   ]
  },
  {
   "cell_type": "code",
   "execution_count": 154,
   "metadata": {},
   "outputs": [
    {
     "ename": "NameError",
     "evalue": "name 'monthly_shootings' is not defined",
     "output_type": "error",
     "traceback": [
      "\u001b[1;31m---------------------------------------------------------------------------\u001b[0m",
      "\u001b[1;31mNameError\u001b[0m                                 Traceback (most recent call last)",
      "Cell \u001b[1;32mIn[154], line 5\u001b[0m\n\u001b[0;32m      1\u001b[0m \u001b[38;5;28;01mimport\u001b[39;00m \u001b[38;5;21;01mpandas\u001b[39;00m \u001b[38;5;28;01mas\u001b[39;00m \u001b[38;5;21;01mpd\u001b[39;00m\n\u001b[0;32m      2\u001b[0m \u001b[38;5;28;01mimport\u001b[39;00m \u001b[38;5;21;01maltair\u001b[39;00m \u001b[38;5;28;01mas\u001b[39;00m \u001b[38;5;21;01malt\u001b[39;00m\n\u001b[1;32m----> 5\u001b[0m monthly_avg \u001b[38;5;241m=\u001b[39m \u001b[43mmonthly_shootings\u001b[49m\u001b[38;5;241m.\u001b[39mgroupby(\u001b[38;5;124m'\u001b[39m\u001b[38;5;124mMonth\u001b[39m\u001b[38;5;124m'\u001b[39m)[\u001b[38;5;124m'\u001b[39m\u001b[38;5;124mTotal Shootings\u001b[39m\u001b[38;5;124m'\u001b[39m]\u001b[38;5;241m.\u001b[39mmean()\u001b[38;5;241m.\u001b[39mreset_index()\n\u001b[0;32m      8\u001b[0m months \u001b[38;5;241m=\u001b[39m [\u001b[38;5;124m'\u001b[39m\u001b[38;5;124mJanuary\u001b[39m\u001b[38;5;124m'\u001b[39m, \u001b[38;5;124m'\u001b[39m\u001b[38;5;124mFebruary\u001b[39m\u001b[38;5;124m'\u001b[39m, \u001b[38;5;124m'\u001b[39m\u001b[38;5;124mMarch\u001b[39m\u001b[38;5;124m'\u001b[39m, \u001b[38;5;124m'\u001b[39m\u001b[38;5;124mApril\u001b[39m\u001b[38;5;124m'\u001b[39m, \u001b[38;5;124m'\u001b[39m\u001b[38;5;124mMay\u001b[39m\u001b[38;5;124m'\u001b[39m, \u001b[38;5;124m'\u001b[39m\u001b[38;5;124mJune\u001b[39m\u001b[38;5;124m'\u001b[39m, \n\u001b[0;32m      9\u001b[0m           \u001b[38;5;124m'\u001b[39m\u001b[38;5;124mJuly\u001b[39m\u001b[38;5;124m'\u001b[39m, \u001b[38;5;124m'\u001b[39m\u001b[38;5;124mAugust\u001b[39m\u001b[38;5;124m'\u001b[39m, \u001b[38;5;124m'\u001b[39m\u001b[38;5;124mSeptember\u001b[39m\u001b[38;5;124m'\u001b[39m, \u001b[38;5;124m'\u001b[39m\u001b[38;5;124mOctober\u001b[39m\u001b[38;5;124m'\u001b[39m, \u001b[38;5;124m'\u001b[39m\u001b[38;5;124mNovember\u001b[39m\u001b[38;5;124m'\u001b[39m, \u001b[38;5;124m'\u001b[39m\u001b[38;5;124mDecember\u001b[39m\u001b[38;5;124m'\u001b[39m]\n\u001b[0;32m     10\u001b[0m monthly_avg[\u001b[38;5;124m'\u001b[39m\u001b[38;5;124mMonth Name\u001b[39m\u001b[38;5;124m'\u001b[39m] \u001b[38;5;241m=\u001b[39m [months[m\u001b[38;5;241m-\u001b[39m\u001b[38;5;241m1\u001b[39m] \u001b[38;5;28;01mfor\u001b[39;00m m \u001b[38;5;129;01min\u001b[39;00m monthly_avg[\u001b[38;5;124m'\u001b[39m\u001b[38;5;124mMonth\u001b[39m\u001b[38;5;124m'\u001b[39m]]\n",
      "\u001b[1;31mNameError\u001b[0m: name 'monthly_shootings' is not defined"
     ]
    }
   ],
   "source": [
    "import pandas as pd\n",
    "import altair as alt\n",
    "\n",
    "\n",
    "monthly_avg = monthly_shootings.groupby('Month')['Total Shootings'].mean().reset_index()\n",
    "\n",
    "\n",
    "months = ['January', 'February', 'March', 'April', 'May', 'June', \n",
    "          'July', 'August', 'September', 'October', 'November', 'December']\n",
    "monthly_avg['Month Name'] = [months[m-1] for m in monthly_avg['Month']]\n",
    "\n",
    "\n",
    "heatmap = alt.Chart(monthly_avg).mark_rect().encode(\n",
    "    y=alt.Y('Month Name:N', sort=months, title=None),  # Canviar a l'eix Y\n",
    "    color=alt.Color('Total Shootings:Q',\n",
    "                    scale=alt.Scale(scheme='lightorange'),legend=None),\n",
    "    tooltip=[\n",
    "        alt.Tooltip('Month Name:N', title='Month'),\n",
    "        alt.Tooltip('Total Shootings:Q', title='Average', format='.1f')\n",
    "    ]\n",
    ").properties(\n",
    "    width=40,\n",
    "    height=400,\n",
    "    title={\n",
    "        \"text\":['Average month','ditribution'],\n",
    "        \"dy\": 0,\n",
    "        \"fontSize\": 16\n",
    "        }\n",
    ")\n",
    "\n",
    "text = alt.Chart(monthly_avg).mark_text(\n",
    "    baseline='middle',\n",
    "    color='white'\n",
    ").encode(\n",
    "    y=alt.Y('Month Name:N', sort=months),\n",
    "    text=alt.Text('Total Shootings:Q', format='.1f')\n",
    ")\n",
    "\n",
    "heatmap_month_distribution = (heatmap + text)\n",
    "\n",
    "heatmap_month_distribution\n"
   ]
  },
  {
   "cell_type": "markdown",
   "metadata": {},
   "source": [
    "Much better. Let's try to visualize this chart together with the first one:"
   ]
  },
  {
   "cell_type": "markdown",
   "metadata": {},
   "source": [
    "#### Final visualization 4"
   ]
  },
  {
   "cell_type": "code",
   "execution_count": 153,
   "metadata": {},
   "outputs": [
    {
     "ename": "NameError",
     "evalue": "name 'heatmap_month_distribution' is not defined",
     "output_type": "error",
     "traceback": [
      "\u001b[1;31m---------------------------------------------------------------------------\u001b[0m",
      "\u001b[1;31mNameError\u001b[0m                                 Traceback (most recent call last)",
      "Cell \u001b[1;32mIn[153], line 4\u001b[0m\n\u001b[0;32m      1\u001b[0m \u001b[38;5;66;03m# Crear el gràfic concatenat sense configuracions individuals\u001b[39;00m\n\u001b[0;32m      2\u001b[0m combined_chart \u001b[38;5;241m=\u001b[39m alt\u001b[38;5;241m.\u001b[39mhconcat(\n\u001b[0;32m      3\u001b[0m     chart_with_background,\n\u001b[1;32m----> 4\u001b[0m     \u001b[43mheatmap_month_distribution\u001b[49m\n\u001b[0;32m      5\u001b[0m )\u001b[38;5;241m.\u001b[39mresolve_scale(\n\u001b[0;32m      6\u001b[0m     color\u001b[38;5;241m=\u001b[39m\u001b[38;5;124m'\u001b[39m\u001b[38;5;124mindependent\u001b[39m\u001b[38;5;124m'\u001b[39m\n\u001b[0;32m      7\u001b[0m )\u001b[38;5;241m.\u001b[39mconfigure_axis(\n\u001b[0;32m      8\u001b[0m     labelAngle\u001b[38;5;241m=\u001b[39m\u001b[38;5;241m0\u001b[39m,\n\u001b[0;32m      9\u001b[0m     labelFontSize\u001b[38;5;241m=\u001b[39m\u001b[38;5;241m12\u001b[39m\n\u001b[0;32m     10\u001b[0m )\u001b[38;5;241m.\u001b[39mconfigure_title(\n\u001b[0;32m     11\u001b[0m     fontSize\u001b[38;5;241m=\u001b[39m\u001b[38;5;241m14\u001b[39m,\n\u001b[0;32m     12\u001b[0m     anchor\u001b[38;5;241m=\u001b[39m\u001b[38;5;124m'\u001b[39m\u001b[38;5;124mmiddle\u001b[39m\u001b[38;5;124m'\u001b[39m\n\u001b[0;32m     13\u001b[0m )\n\u001b[0;32m     15\u001b[0m combined_chart\n",
      "\u001b[1;31mNameError\u001b[0m: name 'heatmap_month_distribution' is not defined"
     ]
    }
   ],
   "source": [
    "# Crear el gràfic concatenat sense configuracions individuals\n",
    "combined_chart = alt.hconcat(\n",
    "    chart_with_background,\n",
    "    heatmap_month_distribution\n",
    ").resolve_scale(\n",
    "    color='independent'\n",
    ").configure_axis(\n",
    "    labelAngle=0,\n",
    "    labelFontSize=12\n",
    ").configure_title(\n",
    "    fontSize=14,\n",
    "    anchor='middle'\n",
    ")\n",
    "\n",
    "combined_chart\n"
   ]
  },
  {
   "cell_type": "markdown",
   "metadata": {},
   "source": [
    "\n",
    "<h4 style=\"color:goldenrod\"> Visualization descprition </h4>"
   ]
  },
  {
   "cell_type": "markdown",
   "metadata": {},
   "source": [
    "To analyze how shootings in the USA have evolved in recent years, we initially identified two key aspects:\n",
    "\n",
    "- Showing the yearly trend of shootings.\n",
    "- Showing the monthly distribution of shootings.\n",
    "    \n",
    "For the yearly trend, we decided on a line chart, as it effectively represents temporal data and makes trends clear. Initially, we tried plotting a line for each state, but the result was cluttered with 50+ lines. Instead, we aggregated all states to show the total shootings nationwide. Additionally, we incorporated the governing political party by coloring the chart's background, which was visually clear and used space efficiently.\n",
    "\n",
    "For the monthly trend, the solution wasn’t as straightforward. We first attempted a line chart with total shootings per month and lines for each year, but this created too much clutter. Limiting it to the last five years improved readability, revealing a clear seasonal pattern with higher shootings in summer.\n",
    "\n",
    "We also tried a polar chart, which was visually appealing but used too much space for the information conveyed. Finally, we opted for a 1D heatmap, encoding the average shootings per month with color. This approach effectively displayed the monthly distribution while occupying minimal space.\n",
    "\n",
    "This combination of visualizations allowed us to communicate both annual trends and monthly patterns effectively."
   ]
  },
  {
   "cell_type": "code",
   "execution_count": null,
   "metadata": {},
   "outputs": [],
   "source": [
    "import os \n",
    "# os.system('streamlit run ./static_vi.py')"
   ]
  }
 ],
 "metadata": {
  "kernelspec": {
   "display_name": "Python 3",
   "language": "python",
   "name": "python3"
  },
  "language_info": {
   "codemirror_mode": {
    "name": "ipython",
    "version": 3
   },
   "file_extension": ".py",
   "mimetype": "text/x-python",
   "name": "python",
   "nbconvert_exporter": "python",
   "pygments_lexer": "ipython3",
   "version": "3.11.2"
  }
 },
 "nbformat": 4,
 "nbformat_minor": 2
}
