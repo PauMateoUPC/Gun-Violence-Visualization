{
 "cells": [
  {
   "cell_type": "markdown",
   "metadata": {},
   "source": [
    "<h1 style=\"text-align:center;\">Mass Shootings in the USA</h1>"
   ]
  },
  {
   "cell_type": "markdown",
   "metadata": {},
   "source": [
    "<p style=\"text-align:center;\">Laia Mogas i Pau Mateo</p>\n",
    "<p style=\"text-align:center;\">Information Visualization - GCED</p>"
   ]
  },
  {
   "cell_type": "markdown",
   "metadata": {},
   "source": [
    "## Requirements"
   ]
  },
  {
   "cell_type": "code",
   "execution_count": 116,
   "metadata": {},
   "outputs": [],
   "source": [
    "# >pip install pandas\n",
    "# >pip install altair\n",
    "# >pip install json\n",
    "\n",
    "import pandas as pd\n",
    "import altair as alt\n",
    "import json\n",
    "from collections import defaultdict\n",
    "from random import choice"
   ]
  },
  {
   "cell_type": "markdown",
   "metadata": {},
   "source": [
    "## Obtaining data\n",
    "The main data sources we used in this project are:\n",
    "- https://www2.census.gov/\n",
    "- https://www.gunviolencearchive.org/reports\n",
    "\n",
    "From theese sources we obtain the following datasets:\n",
    "- Mass shootings (january 2014 to september 2024)\n",
    "- School incidents (january 2022 to 2024)\n",
    "- County population\n"
   ]
  },
  {
   "cell_type": "markdown",
   "metadata": {},
   "source": [
    "## Preprocessing and data cleaning - County Population\n",
    "We obtained the conty popultion data with two separate csv files: one correspondig to the years 2014-2019, an another one for 2020 and later. These datasets contained a lot of information, but we only needed the population estimate foer each county every year, so we eliminated the unnecesary columns. We merged these two datasets with pytohn pandas. Then noticed that the state Connecticut had a county redistribuition in 2020, so we decided to keep the latest cofniguration of counties and estimate uniformly the population of those counties for years before 2020. The code we used for this preprocessing is the following:"
   ]
  },
  {
   "cell_type": "code",
   "execution_count": 117,
   "metadata": {},
   "outputs": [],
   "source": [
    "pop2010_20 = pd.read_csv('datasets/co-est2010-2020_alldata.csv', encoding='latin1')\n",
    "pop2020_23 = pd.read_csv('datasets/co-est2020-2023_alldata.csv', encoding='latin1')\n",
    "\n",
    "########## column projection ##########\n",
    "columns2010 = ['STATE', 'COUNTY','STNAME','CTYNAME']\n",
    "columns2010.extend(['POPESTIMATE201'+str(i) for i in range(10)])\n",
    "columns2020 = ['STATE', 'COUNTY','STNAME','CTYNAME']\n",
    "columns2020.extend(['POPESTIMATE202'+str(i) for i in range(4)])\n",
    "\n",
    "pop2010_20['FIPS'] = pop2010_20.apply(lambda row: f\"{int(row['STATE']):02d}{int(row['COUNTY']):03d}\", axis=1)\n",
    "pop2020_23['FIPS'] = pop2020_23.apply(lambda row: f\"{int(row['STATE']):02d}{int(row['COUNTY']):03d}\", axis=1)\n",
    "\n",
    "\n",
    "##########     merge     ##########\n",
    "df_population = pd.merge(pop2010_20[columns2010], pop2020_23[columns2020], on=['STATE', 'COUNTY'])\n",
    "\n",
    "df_population['STATE'] = df_population['STATE'].astype(str)\n",
    "df_population['COUNTY'] = df_population['COUNTY'].astype(str)\n",
    "\n",
    "\n",
    "########## obraining FIPS ##########\n",
    "df_population['FIPS'] = df_population.apply(lambda row: f\"{int(row['STATE']):02d}{int(row['COUNTY']):03d}\", axis=1)\n",
    "df_population['STNAME'] = df_population['STNAME_x']\n",
    "df_population['CTYNAME'] = df_population['CTYNAME_x']\n",
    "\n",
    "########## ordering columns ##########\n",
    "new_cols_order = ['STNAME', 'CTYNAME', 'FIPS', 'STATE', 'COUNTY'] + ['POPESTIMATE20'+f'{i:02d}' for i in range(14,24)]\n",
    "df_population = df_population[new_cols_order]"
   ]
  },
  {
   "cell_type": "code",
   "execution_count": 118,
   "metadata": {},
   "outputs": [
    {
     "name": "stdout",
     "output_type": "stream",
     "text": [
      "['09001', '09003', '09005', '09007', '09009', '09011', '09013', '09015']\n",
      "['09110', '09120', '09130', '09140', '09150', '09160', '09170', '09180', '09190']\n"
     ]
    }
   ],
   "source": [
    "##### checking changed counties #####\n",
    "\n",
    "l1 = []\n",
    "for c in pop2010_20['FIPS']:\n",
    "    if c not in df_population['FIPS'].values:\n",
    "        l1.append(c)\n",
    "\n",
    "l2 = []\n",
    "for c in pop2020_23['FIPS']:\n",
    "    if c not in df_population['FIPS'].values:\n",
    "        l2.append(c)\n",
    "\n",
    "print(l1)\n",
    "print(l2)"
   ]
  },
  {
   "cell_type": "markdown",
   "metadata": {},
   "source": [
    "We see that indeed, the counties from the Connecticut state are different in the two datasets."
   ]
  },
  {
   "cell_type": "code",
   "execution_count": 119,
   "metadata": {},
   "outputs": [],
   "source": [
    "##### dealing with state '09' (Connecticut) ######\n",
    "\n",
    "fips_connecticut = pop2020_23[pop2020_23['STATE']==9]['FIPS'].values\n",
    "N = len(fips_connecticut)\n",
    "\n",
    "totalpop = defaultdict()\n",
    "\n",
    "\n",
    "for i in range(14,24):\n",
    "    year = 'POPESTIMATE20'+ f'{i:02d}'\n",
    "    #calculate total population in state '09' in this year\n",
    "    if i < 20:\n",
    "        totalpop[year] = sum(pop2010_20[pop2010_20['STATE'] == 9][year].values)\n",
    "    else:\n",
    "        totalpop[year] = sum(pop2020_23[pop2020_23['STATE'] == 9][year].values)\n",
    "\n",
    "\n",
    "for fips in fips_connecticut:\n",
    "    new_row = pd.Series({\n",
    "        'STNAME': 'Connecticut', \n",
    "        'CTYNAME': 'connecticut_county_unknown',\n",
    "        'FIPS': fips, \n",
    "        'STATE': 9, \n",
    "        'COUNTY': fips[2:],\n",
    "        'POPESTIMATE2014': totalpop['POPESTIMATE2014'] / N,\n",
    "        'POPESTIMATE2015': totalpop['POPESTIMATE2015'] / N,\n",
    "        'POPESTIMATE2016': totalpop['POPESTIMATE2016'] / N,\n",
    "        'POPESTIMATE2017': totalpop['POPESTIMATE2017'] / N,\n",
    "        'POPESTIMATE2018': totalpop['POPESTIMATE2018'] / N,\n",
    "        'POPESTIMATE2019': totalpop['POPESTIMATE2019'] / N,\n",
    "        'POPESTIMATE2020': totalpop['POPESTIMATE2020'] / N,\n",
    "        'POPESTIMATE2021': totalpop['POPESTIMATE2021'] / N,\n",
    "        'POPESTIMATE2022': totalpop['POPESTIMATE2022'] / N,\n",
    "        'POPESTIMATE2023': totalpop['POPESTIMATE2023'] / N\n",
    "    })\n",
    "    df_population.loc[len(df_population)] = new_row\n"
   ]
  },
  {
   "cell_type": "code",
   "execution_count": 120,
   "metadata": {},
   "outputs": [],
   "source": [
    "#### save partial dataset ###\n",
    "df_population.to_csv('datasets/CountyPopulationAllYears.csv', index=False)"
   ]
  },
  {
   "cell_type": "markdown",
   "metadata": {},
   "source": [
    "Later on, we will have to redistribute the Mass Shootings and School incidents that occured in the counties that we've just eliminated."
   ]
  },
  {
   "cell_type": "markdown",
   "metadata": {},
   "source": [
    "## Preprocessing and data cleaning - Mass Shootings + School incidents"
   ]
  },
  {
   "cell_type": "markdown",
   "metadata": {},
   "source": [
    "To clean the Gun Violence data we used Open Refine followed by python.\n",
    "#### Concatenating mass shootings csv\n",
    "The raw data from the Gun Violence Archaive is splitted into various datasets. To add everything into a same csv file, we simply used Open Refine and opened all the csv when starting a new project. This way, the multiple csv are automatiqually concatenated, as they all have the same columns. Before doing that, we had to eliminate some of the duplicate rows in the data, as the file `MassShootings_2021.csv` overlaps with the file `GunVioleceAllYears.csv`. Again, we used Open Refine to do so, by making a time facet of the file `MassShootings_2021.csv` and selectig the rows that were already in the `GunVioleceAllYears.csv` file, and then eliminating them.\n",
    "\n",
    "#### Tranformations\n",
    "We applied some basic transformations to the dataset, mainly just changing the types of some columns, such as *Incident Date* to date, and numerical columns into intiger. \n",
    "\n",
    "#### Obtaining counties with OSM\n",
    "To answer accuratelly the questions of the projecy, we needed the exact county where each incident occured. To obtain those, we first used Open Refine to obtain some json information from Open Street Maps, with the methos \"Add column by fetching URLs\". The command we used is:"
   ]
  },
  {
   "cell_type": "raw",
   "metadata": {
    "vscode": {
     "languageId": "raw"
    }
   },
   "source": [
    "'https://nominatim.openstreetmap.org/search?format=json&email=pau.mateo.bernado@estudiantat.upc.edu&app=google-refine&q=' + \n",
    "escape(cells[\"City Or County\"].value + \", \" + cells[\"State\"].value, 'url') + '&limit=1&addressdetails =1'"
   ]
  },
  {
   "cell_type": "markdown",
   "metadata": {},
   "source": [
    "With this, we obtained some json information for each row, for example:"
   ]
  },
  {
   "cell_type": "code",
   "execution_count": 121,
   "metadata": {},
   "outputs": [
    {
     "data": {
      "text/plain": [
       "[{'place_id': 323075484,\n",
       "  'licence': 'Data © OpenStreetMap contributors, ODbL 1.0. http://osm.org/copyright',\n",
       "  'osm_type': 'relation',\n",
       "  'osm_id': 1180533,\n",
       "  'lat': '38.6280278',\n",
       "  'lon': '-90.1910154',\n",
       "  'class': 'boundary',\n",
       "  'type': 'administrative',\n",
       "  'place_rank': 12,\n",
       "  'importance': 0.7078550940195126,\n",
       "  'addresstype': 'independent_city',\n",
       "  'name': 'Saint Louis',\n",
       "  'display_name': 'Saint Louis, Missouri, United States',\n",
       "  'boundingbox': ['38.5323215', '38.7743018', '-90.3206525', '-90.1641941']}]"
      ]
     },
     "execution_count": 121,
     "metadata": {},
     "output_type": "execute_result"
    }
   ],
   "source": [
    "[{\"place_id\":323075484,\n",
    "\"licence\":\"Data © OpenStreetMap contributors, ODbL 1.0. http://osm.org/copyright\",\n",
    "\"osm_type\":\"relation\",\n",
    "\"osm_id\":1180533,\n",
    "\"lat\":\"38.6280278\",\n",
    "\"lon\":\"-90.1910154\",\n",
    "\"class\":\"boundary\",\n",
    "\"type\":\"administrative\",\n",
    "\"place_rank\":12,\n",
    "\"importance\":0.7078550940195126,\n",
    "\"addresstype\":\"independent_city\",\n",
    "\"name\":\"Saint Louis\",\n",
    "\"display_name\":\"Saint Louis, Missouri, United States\",\n",
    "\"boundingbox\":[\"38.5323215\",\"38.7743018\",\"-90.3206525\",\"-90.1641941\"]}]"
   ]
  },
  {
   "cell_type": "markdown",
   "metadata": {},
   "source": [
    "From this information we wantet to obtain the county for each incident. However, we weren't capable of doing so with Open Refine, as the URL used didn't return the names of the counties in the same format as the dataest form census.gov, so we had to process again this informatino with pytohn.\n",
    "We defined some functions that try to find a county name for each incident that exists in the population dataset obtained from census.gov. The functions iterate through the names in the key `\"display_name\"` from the json column (as there are some cases where the Township or some other information is also in the json code, so the county is not always in the same position) and applies some transformations to them and checks if the resulting name it's a county."
   ]
  },
  {
   "cell_type": "code",
   "execution_count": 122,
   "metadata": {},
   "outputs": [],
   "source": [
    "names_counties = defaultdict(set)  # names of the counties for each state\n",
    "\n",
    "for state in df_population['STNAME'].values:\n",
    "    names_counties[state] = set(df_population[df_population['STNAME']==state]['CTYNAME'].values)\n",
    "\n",
    "\n",
    "def transforms(name: str) -> str:\n",
    "    if 'Clarke' in name: return 'Clarke County'\n",
    "    if 'Washington' in name: return 'District of Columbia'\n",
    "    if 'Connecticut' in name: return 'connecticut_county_unknown'\n",
    "    name = name.replace('Saint', 'St.').replace('Nashville-', '').replace('Vista', 'Buena Vista').replace('Compton', 'Los Angeles County')\n",
    "    name = name.replace('Monterey Park', 'Monterey County')\n",
    "    return name.strip()\n",
    "\n",
    "\n",
    "def try_find(name, state) -> str | None:\n",
    "    '''tries to find the countie corresponding to `name` by \n",
    "    appliying transformations and trying diferent formats'''\n",
    "    if name in names_counties[state]: return name\n",
    "\n",
    "    if transforms(name) in names_counties[state]: return transforms(name)\n",
    "\n",
    "    #try county\n",
    "    n = transforms(name)\n",
    "    if 'County' not in n: n += ' County'\n",
    "    if n in names_counties[state]: return n\n",
    "\n",
    "    #try parish\n",
    "    n = transforms(name)\n",
    "    if 'Parish' not in n: n += ' Parish'\n",
    "    if n in names_counties[state]: return n\n",
    "\n",
    "    #try city\n",
    "    n = transforms(name)\n",
    "    if 'city' not in n: n += ' city'\n",
    "    if n in names_counties[state]: return n\n",
    "\n",
    "    #try Municipality\n",
    "    n = transforms(name)\n",
    "    if 'city' not in n: n += ' Municipality'\n",
    "    if n in names_counties[state]: return n\n",
    "    \n",
    "    else: return None\n",
    "\n",
    "\n",
    "def extract_county(row) -> str | None:\n",
    "    '''tries to extract the corresponding countie for the given row'''\n",
    "    json_data = row['json']\n",
    "    state = row['State'].strip()\n",
    "\n",
    "    places = json.loads(json_data)\n",
    "    if places:\n",
    "        names = places[0].get(\"display_name\", \"\")\n",
    "        # Cerca \"County\", \"Parish\", o altres entitats equivalents en display_name\n",
    "        \n",
    "        delims = [\",\", \")\", \"(\"]\n",
    "\n",
    "        for delim in delims:\n",
    "            names = \"_\".join(names.split(delim))\n",
    "        names = names.split(\"_\")\n",
    "        names = [n.strip() for n in names if n != '']\n",
    "\n",
    "        for n in names:\n",
    "            cname = try_find(n, state)\n",
    "            if cname: return cname\n",
    "            else: continue\n",
    "    \n",
    "        return None\n",
    "    \n",
    "\n",
    "df_school_incidents = pd.read_csv('datasets/Schoolincidents-json.csv')\n",
    "df_shootings = pd.read_csv(\"datasets/MassShootingsComplete-json.csv\")\n",
    "\n",
    "df_shootings['County'] = df_shootings.apply(extract_county, axis=1)\n",
    "df_school_incidents['County'] = df_school_incidents.apply(extract_county, axis=1)\n",
    "\n",
    "#remove rows with null or unknown county\n",
    "df_shootings = df_shootings.dropna(subset=['County'])\n",
    "df_school_incidents = df_school_incidents.dropna(subset=['County'])"
   ]
  },
  {
   "cell_type": "markdown",
   "metadata": {},
   "source": [
    "With this transformations we obtain a county for **all rows** that had a not null value in the json column (for 70 rows amongst 5k, the URLs from Open Refine extracted just `\"[]\"`)."
   ]
  },
  {
   "cell_type": "markdown",
   "metadata": {},
   "source": [
    "\n",
    "### Obtaining FIPS codes"
   ]
  },
  {
   "cell_type": "markdown",
   "metadata": {},
   "source": [
    "Obtaining the FIPS codes for each county facilitated us working with altair's cloropleth charts. At this point, it was easy to obtain the FIPS codes for each incident, as we already had them in the County population csv. A simple function was enough:"
   ]
  },
  {
   "cell_type": "code",
   "execution_count": 123,
   "metadata": {},
   "outputs": [],
   "source": [
    "def get_fips(row) -> str | None:\n",
    "    \"\"\"\n",
    "    Returns the FIPS code for the given row by searching\n",
    "    it in the population csv\n",
    "    \"\"\"\n",
    "\n",
    "    county_value = row['County']\n",
    "\n",
    "    # connecticut separate case:\n",
    "    connecticut_fips = ['09110', '09120', '09130', '09140', '09150', '09160', '09170', '09180', '09190']\n",
    "    if county_value == 'connecticut_county_unknown':\n",
    "        fips = choice(connecticut_fips)  # we map the incident into a random county\n",
    "        return f'{int(fips):02d}'\n",
    "\n",
    "    if county_value is not None:\n",
    "        county_value = county_value.strip()\n",
    "    else:\n",
    "        county_value = \"\"  # Si és None, assignar una cadena buida per evitar errors\n",
    "    \n",
    "    fips_value = df_population[(df_population['STNAME'] == row['State']) & (df_population['CTYNAME'] == county_value)]['FIPS']\n",
    "    \n",
    "    # Retornar el primer valor (ja que és únic)\n",
    "    return f'{int(fips_value.iloc[0]):02d}' if not fips_value.empty else None\n",
    "\n",
    "\n",
    "df_shootings['FIPS'] = df_shootings.apply(get_fips, axis=1)\n",
    "df_shootings.dropna(inplace=True)\n",
    "df_shootings['FIPS'] = df_shootings['FIPS'].apply(lambda x: f\"{int(x):05d}\") # to ensure length 5\n",
    "\n",
    "\n",
    "df_school_incidents['FIPS'] = df_school_incidents.apply(get_fips, axis=1)\n",
    "df_school_incidents.dropna(inplace=True)\n",
    "df_school_incidents['FIPS'] = df_school_incidents['FIPS'].apply(lambda x: f\"{int(x):05d}\")"
   ]
  },
  {
   "cell_type": "code",
   "execution_count": 124,
   "metadata": {},
   "outputs": [],
   "source": [
    "#### save partial datasets ###\n",
    "# df_shootings.to_csv('datasets/MassShootingsComplete_FIPS.csv', index=False)\n",
    "# df_school_incidents.to_csv('datasets/SchoolIncidents_FIPS.csv', index=False)"
   ]
  },
  {
   "cell_type": "markdown",
   "metadata": {},
   "source": [
    "Now, we just need to do some last agregations and transformations so that we can put together all this information n only one csv file to simplify the code for the altair charts."
   ]
  },
  {
   "cell_type": "markdown",
   "metadata": {},
   "source": [
    "### Final transformations"
   ]
  },
  {
   "cell_type": "code",
   "execution_count": 125,
   "metadata": {},
   "outputs": [],
   "source": [
    "def split_date(df):\n",
    "    df['Incident Date'] = pd.to_datetime(df['Incident Date'])\n",
    "    df['Year'] = df['Incident Date'].dt.year\n",
    "    df['Month'] = df['Incident Date'].dt.month\n",
    "    df.drop(labels='Incident Date', axis=1, inplace=True)\n",
    "    return df"
   ]
  },
  {
   "cell_type": "markdown",
   "metadata": {},
   "source": [
    "#### County population"
   ]
  },
  {
   "cell_type": "code",
   "execution_count": 126,
   "metadata": {},
   "outputs": [],
   "source": [
    "df_population.drop(['STATE', 'COUNTY'], inplace=True, axis=1)\n",
    "\n",
    "df_population.rename(inplace=True, columns={\n",
    "    'STNAME': 'State',\n",
    "    'CTYNAME': 'County',\n",
    "    'POPESTIMATE2014': '2014',\n",
    "    'POPESTIMATE2015': '2015',\n",
    "    'POPESTIMATE2016': '2016',\n",
    "    'POPESTIMATE2017': '2017',\n",
    "    'POPESTIMATE2018': '2018',\n",
    "    'POPESTIMATE2019': '2019',\n",
    "    'POPESTIMATE2020': '2020',\n",
    "    'POPESTIMATE2021': '2021',\n",
    "    'POPESTIMATE2022': '2022',\n",
    "    'POPESTIMATE2023': '2023'    \n",
    "})\n",
    "\n",
    "\n",
    "df_population = pd.melt(df_population, id_vars=['FIPS','State','County'], value_vars=[str(i) for i in range(2014,2024)])\n",
    "df_population.rename(inplace=True, columns={\n",
    "    'variable': 'Year',\n",
    "    'value': 'Population'\n",
    "})"
   ]
  },
  {
   "cell_type": "markdown",
   "metadata": {},
   "source": [
    "#### Mass shootings"
   ]
  },
  {
   "cell_type": "code",
   "execution_count": 127,
   "metadata": {},
   "outputs": [
    {
     "data": {
      "text/plain": [
       "87"
      ]
     },
     "execution_count": 127,
     "metadata": {},
     "output_type": "execute_result"
    }
   ],
   "source": [
    "len(df_shootings[df_shootings['County']=='District of Columbia'])"
   ]
  },
  {
   "cell_type": "code",
   "execution_count": 128,
   "metadata": {},
   "outputs": [],
   "source": [
    "df_shootings = split_date(df_shootings)\n",
    "df_shootings = df_shootings[df_shootings['Year']<2024]\n",
    "df_shootings['FIPS'] = df_shootings['FIPS'].astype(int)\n",
    "df_population['FIPS'] = df_population['FIPS'].astype(int)\n",
    "df_shootings = df_shootings.groupby(['FIPS', 'County', 'State', 'Year', 'Month']).size().reset_index(name='Shootings')"
   ]
  },
  {
   "cell_type": "code",
   "execution_count": 129,
   "metadata": {},
   "outputs": [
    {
     "data": {
      "text/plain": [
       "76"
      ]
     },
     "execution_count": 129,
     "metadata": {},
     "output_type": "execute_result"
    }
   ],
   "source": [
    "sum(df_shootings[df_shootings['FIPS']==11000]['Shootings'])"
   ]
  },
  {
   "cell_type": "markdown",
   "metadata": {},
   "source": [
    "#### School incidents"
   ]
  },
  {
   "cell_type": "code",
   "execution_count": 130,
   "metadata": {},
   "outputs": [],
   "source": [
    "df_school_incidents.drop(['Address', 'Business/Location Name'], axis=1, inplace=True)\n",
    "df_school_incidents = split_date(df_school_incidents)\n",
    "df_school_incidents = df_school_incidents.groupby(['FIPS', 'County', 'State', 'Year', 'Month']).size().reset_index(name='School Incidents')"
   ]
  },
  {
   "cell_type": "markdown",
   "metadata": {},
   "source": [
    "### Final merge"
   ]
  },
  {
   "cell_type": "code",
   "execution_count": null,
   "metadata": {},
   "outputs": [
    {
     "name": "stdout",
     "output_type": "stream",
     "text": [
      "Index(['FIPS', 'County', 'State', 'Year', 'Month', 'Shootings'], dtype='object')\n",
      "Index(['FIPS', 'State', 'County', 'Year', 'Population'], dtype='object')\n"
     ]
    }
   ],
   "source": [
    "### Merge mass shootings and school incidents\n",
    "df_school_incidents['Year'] = df_school_incidents['Year'].apply(str)\n",
    "df_population['Year'] = df_population['Year'].apply(str)\n",
    "df_shootings['Year'] = df_shootings['Year'].astype(str)\n",
    "df_school_incidents['FIPS'] = df_school_incidents['FIPS'].astype(int)\n",
    "df_complete = pd.merge(df_shootings, df_school_incidents, on=['FIPS', 'County', 'State', 'Year', 'Month'], how='outer')\n",
    "df_complete['Shootings'].fillna(0)\n",
    "df_complete['School Incidents'].fillna(0)\n",
    "\n",
    "# join population\n",
    "df_population['Year'] = df_population['Year'].apply(str)\n",
    "df_shootings['Year'] = df_shootings['Year'].astype(str)\n",
    "df_complete = pd.merge(df_shootings, df_population, on=['FIPS', 'County', 'State', 'Year'], how='left')\n",
    "df_complete['FIPS'] = df_complete['FIPS'].apply(lambda x: f'{x:02d}')\n",
    "\n",
    "# compute ratio\n",
    "df_complete['Ratio County'] = df_complete['Shootings'] / df_complete['Population'] * 1000000"
   ]
  },
  {
   "cell_type": "code",
   "execution_count": 138,
   "metadata": {},
   "outputs": [],
   "source": [
    "### save to csv file\n",
    "df_complete.to_csv('datasets/GunViolenceCompleteData.csv')"
   ]
  },
  {
   "cell_type": "markdown",
   "metadata": {},
   "source": [
    "The preprocessing is done! We are ready to start making visualizations! 🚀🚀"
   ]
  },
  {
   "cell_type": "markdown",
   "metadata": {},
   "source": [
    "## Questions"
   ]
  },
  {
   "cell_type": "markdown",
   "metadata": {},
   "source": [
    "In the following sections we show the steps we followed in the design of the visualizatinos for each question. At the end of each section we provide the final visualization together with a breaf explanation of the decisions taken and the problems we encountered."
   ]
  },
  {
   "cell_type": "code",
   "execution_count": 5,
   "metadata": {},
   "outputs": [],
   "source": [
    "df_GunViolence_csv = pd.read_csv('datasets/GunViolenceCompleteData.csv')"
   ]
  },
  {
   "cell_type": "markdown",
   "metadata": {},
   "source": [
    "<h3 style=\"color:darkblue\"> Q1: What are the states with large number of mass shootings per citizen?"
   ]
  },
  {
   "cell_type": "code",
   "execution_count": null,
   "metadata": {},
   "outputs": [
    {
     "name": "stdout",
     "output_type": "stream",
     "text": [
      "      FIPS                County                 State  Year  Population  \\\n",
      "360  11000  District of Columbia  District of Columbia  2014    663603.0   \n",
      "361  11000  District of Columbia  District of Columbia  2015    677014.0   \n",
      "362  11000  District of Columbia  District of Columbia  2016    687576.0   \n",
      "363  11000  District of Columbia  District of Columbia  2017    697079.0   \n",
      "364  11000  District of Columbia  District of Columbia  2018    704147.0   \n",
      "\n",
      "     Shootings  \n",
      "360          6  \n",
      "361          3  \n",
      "362          5  \n",
      "363          5  \n",
      "364          6  \n",
      "      FIPS             County      State  Year  Population  Shootings\n",
      "811  22001      Acadia Parish  Louisiana  2020     57478.0          1\n",
      "812  22005   Ascension Parish  Louisiana  2019    126798.0          1\n",
      "813  22005   Ascension Parish  Louisiana  2020    126978.0          1\n",
      "814  22005   Ascension Parish  Louisiana  2023    131632.0          1\n",
      "815  22007  Assumption Parish  Louisiana  2023     20160.0          1\n",
      "post agrupar per state\n",
      "                   State  Year  Shootings  Population  Ratio State\n",
      "72  District of Columbia  2014          6    663603.0     9.041550\n",
      "73  District of Columbia  2015          3    677014.0     4.431223\n",
      "74  District of Columbia  2016          5    687576.0     7.271923\n",
      "75  District of Columbia  2017          5    697079.0     7.172788\n",
      "76  District of Columbia  2018          6    704147.0     8.520948\n",
      "         State  Year  Shootings  Population  Ratio State\n",
      "152  Louisiana  2014         11    449363.0    24.479096\n",
      "153  Louisiana  2015         15   1539196.0     9.745348\n",
      "154  Louisiana  2016         14   1923733.0     7.277517\n",
      "155  Louisiana  2017         15   2375706.0     6.313913\n",
      "156  Louisiana  2018         13   1158941.0    11.217137\n",
      "        State  Population  Shootings  Ratio State\n",
      "0     Alabama   1424180.0        114    80.046062\n",
      "1      Alaska    537891.0          5     9.295564\n",
      "2     Arizona   4905353.8         54    11.008380\n",
      "3    Arkansas    529445.4         54   101.993520\n",
      "4  California  59984133.9        417     6.951838\n"
     ]
    },
    {
     "data": {
      "text/html": [
       "<div>\n",
       "<style scoped>\n",
       "    .dataframe tbody tr th:only-of-type {\n",
       "        vertical-align: middle;\n",
       "    }\n",
       "\n",
       "    .dataframe tbody tr th {\n",
       "        vertical-align: top;\n",
       "    }\n",
       "\n",
       "    .dataframe thead th {\n",
       "        text-align: right;\n",
       "    }\n",
       "</style>\n",
       "<table border=\"1\" class=\"dataframe\">\n",
       "  <thead>\n",
       "    <tr style=\"text-align: right;\">\n",
       "      <th></th>\n",
       "      <th>State</th>\n",
       "      <th>Population</th>\n",
       "      <th>Shootings</th>\n",
       "      <th>Ratio State</th>\n",
       "      <th>Republican Vote</th>\n",
       "    </tr>\n",
       "  </thead>\n",
       "  <tbody>\n",
       "    <tr>\n",
       "      <th>0</th>\n",
       "      <td>Alabama</td>\n",
       "      <td>1424180.0</td>\n",
       "      <td>114</td>\n",
       "      <td>80.046062</td>\n",
       "      <td>4</td>\n",
       "    </tr>\n",
       "    <tr>\n",
       "      <th>1</th>\n",
       "      <td>Alaska</td>\n",
       "      <td>537891.0</td>\n",
       "      <td>5</td>\n",
       "      <td>9.295564</td>\n",
       "      <td>4</td>\n",
       "    </tr>\n",
       "    <tr>\n",
       "      <th>2</th>\n",
       "      <td>Arizona</td>\n",
       "      <td>4905353.8</td>\n",
       "      <td>54</td>\n",
       "      <td>11.008380</td>\n",
       "      <td>3</td>\n",
       "    </tr>\n",
       "    <tr>\n",
       "      <th>3</th>\n",
       "      <td>Arkansas</td>\n",
       "      <td>529445.4</td>\n",
       "      <td>54</td>\n",
       "      <td>101.993520</td>\n",
       "      <td>4</td>\n",
       "    </tr>\n",
       "    <tr>\n",
       "      <th>4</th>\n",
       "      <td>California</td>\n",
       "      <td>59984133.9</td>\n",
       "      <td>417</td>\n",
       "      <td>6.951838</td>\n",
       "      <td>0</td>\n",
       "    </tr>\n",
       "  </tbody>\n",
       "</table>\n",
       "</div>"
      ],
      "text/plain": [
       "        State  Population  Shootings  Ratio State  Republican Vote\n",
       "0     Alabama   1424180.0        114    80.046062                4\n",
       "1      Alaska    537891.0          5     9.295564                4\n",
       "2     Arizona   4905353.8         54    11.008380                3\n",
       "3    Arkansas    529445.4         54   101.993520                4\n",
       "4  California  59984133.9        417     6.951838                0"
      ]
     },
     "execution_count": 152,
     "metadata": {},
     "output_type": "execute_result"
    }
   ],
   "source": [
    "elections_republican = {'Alabama': 4, 'Alaska': 4, 'Arizona': 3, 'Arkansas': 4, 'California': 0, 'Colorado': 0, 'Connecticut': 0, 'Delaware': 0, 'District of Columbia': 0, 'Florida': 3, 'Georgia': 3, 'Hawaii': 0, 'Idaho': 4, 'Illinois': 0, 'Indiana': 4, 'Iowa': 3, 'Kansas': 4, 'Kentucky': 4, 'Louisiana': 4, 'Maine': 0, 'Maryland': 0, 'Massachusetts': 0, 'Michigan': 2, 'Minnesota': 0, 'Mississippi': 4, 'Missouri': 4, 'Montana': 4, 'Nebraska': 4, 'Nevada': 1, 'New Hampshire': 0, 'New Jersey': 0, 'New Mexico': 0, 'New York': 0, 'North Carolina': 4, 'North Dakota': 4, 'Ohio': 3, 'Oklahoma': 4, 'Oregon': 0, 'Pennsylvania': 2, 'Rhode Island': 0, 'South Carolina': 4, 'South Dakota': 4, 'Tennessee': 4, 'Texas': 4, 'Utah': 4, 'Vermont': 0, 'Virginia': 0, 'Washington': 0, 'West Virginia': 4, 'Wisconsin': 2, 'Wyoming': 4}\n",
    "\n",
    "#print(df_GunViolence.loc[df_GunViolence['State'] == 'District of Columbia'])\n",
    "df_GunViolence = df_GunViolence_csv\n",
    "\n",
    "# agrupar per any\n",
    "df_GunViolence = (\n",
    "    df_GunViolence.groupby(['FIPS', 'County', 'State', 'Year'])\n",
    "    .agg({\n",
    "        'Population': 'first',  # Tomar el primer valor disponible de Population\n",
    "        'Shootings': 'sum'      # Sumar los valores de Shootings\n",
    "    })\n",
    "    .reset_index()\n",
    ")\n",
    "print(df_GunViolence.loc[df_GunViolence['State'] == 'District of Columbia'].head())\n",
    "print(df_GunViolence.loc[df_GunViolence['State'] == 'Louisiana'].head())\n",
    "\n",
    "\n",
    "# agrupar per state\n",
    "df_GunViolence = df_GunViolence.groupby(['State', 'Year'])[['Shootings', 'Population']].sum().reset_index()\n",
    "df_GunViolence['Ratio State'] = df_GunViolence['Shootings'] / df_GunViolence['Population'] * 1000000 # ratio entre shootings i population\n",
    "\n",
    "print('post agrupar per state')\n",
    "print(df_GunViolence.loc[df_GunViolence['State'] == 'District of Columbia'].head())\n",
    "print(df_GunViolence.loc[df_GunViolence['State'] == 'Louisiana'].head())\n",
    "\n",
    "breakpoint()\n",
    "# mean ratio for years\n",
    "df_GunViolence = df_GunViolence.groupby('State')['Ratio State'].mean().reset_index()\n",
    "\n",
    "print(df_GunViolence.head())\n",
    "\n",
    "elections_republican = {'Alabama': 4, 'Alaska': 4, 'Arizona': 3, 'Arkansas': 4, 'California': 0, 'Colorado': 0, 'Connecticut': 0, 'Delaware': 0, 'District of Columbia': 0, 'Florida': 3, 'Georgia': 3, 'Hawaii': 0, 'Idaho': 4, 'Illinois': 0, 'Indiana': 4, 'Iowa': 3, 'Kansas': 4, 'Kentucky': 4, 'Louisiana': 4, 'Maine': 0, 'Maryland': 0, 'Massachusetts': 0, 'Michigan': 2, 'Minnesota': 0, 'Mississippi': 4, 'Missouri': 4, 'Montana': 4, 'Nebraska': 4, 'Nevada': 1, 'New Hampshire': 0, 'New Jersey': 0, 'New Mexico': 0, 'New York': 0, 'North Carolina': 4, 'North Dakota': 4, 'Ohio': 3, 'Oklahoma': 4, 'Oregon': 0, 'Pennsylvania': 2, 'Rhode Island': 0, 'South Carolina': 4, 'South Dakota': 4, 'Tennessee': 4, 'Texas': 4, 'Utah': 4, 'Vermont': 0, 'Virginia': 0, 'Washington': 0, 'West Virginia': 4, 'Wisconsin': 2, 'Wyoming': 4}\n",
    "df_GunViolence['Republican Vote'] = df_GunViolence['State'].map(elections_republican)\n",
    "\n",
    "df_GunViolence.head()\n"
   ]
  },
  {
   "cell_type": "code",
   "execution_count": 153,
   "metadata": {},
   "outputs": [
    {
     "data": {
      "text/html": [
       "\n",
       "<style>\n",
       "  #altair-viz-066b6e2e156344db8f2ca37de2988373.vega-embed {\n",
       "    width: 100%;\n",
       "    display: flex;\n",
       "  }\n",
       "\n",
       "  #altair-viz-066b6e2e156344db8f2ca37de2988373.vega-embed details,\n",
       "  #altair-viz-066b6e2e156344db8f2ca37de2988373.vega-embed details summary {\n",
       "    position: relative;\n",
       "  }\n",
       "</style>\n",
       "<div id=\"altair-viz-066b6e2e156344db8f2ca37de2988373\"></div>\n",
       "<script type=\"text/javascript\">\n",
       "  var VEGA_DEBUG = (typeof VEGA_DEBUG == \"undefined\") ? {} : VEGA_DEBUG;\n",
       "  (function(spec, embedOpt){\n",
       "    let outputDiv = document.currentScript.previousElementSibling;\n",
       "    if (outputDiv.id !== \"altair-viz-066b6e2e156344db8f2ca37de2988373\") {\n",
       "      outputDiv = document.getElementById(\"altair-viz-066b6e2e156344db8f2ca37de2988373\");\n",
       "    }\n",
       "    const paths = {\n",
       "      \"vega\": \"https://cdn.jsdelivr.net/npm/vega@5?noext\",\n",
       "      \"vega-lib\": \"https://cdn.jsdelivr.net/npm/vega-lib?noext\",\n",
       "      \"vega-lite\": \"https://cdn.jsdelivr.net/npm/vega-lite@5.20.1?noext\",\n",
       "      \"vega-embed\": \"https://cdn.jsdelivr.net/npm/vega-embed@6?noext\",\n",
       "    };\n",
       "\n",
       "    function maybeLoadScript(lib, version) {\n",
       "      var key = `${lib.replace(\"-\", \"\")}_version`;\n",
       "      return (VEGA_DEBUG[key] == version) ?\n",
       "        Promise.resolve(paths[lib]) :\n",
       "        new Promise(function(resolve, reject) {\n",
       "          var s = document.createElement('script');\n",
       "          document.getElementsByTagName(\"head\")[0].appendChild(s);\n",
       "          s.async = true;\n",
       "          s.onload = () => {\n",
       "            VEGA_DEBUG[key] = version;\n",
       "            return resolve(paths[lib]);\n",
       "          };\n",
       "          s.onerror = () => reject(`Error loading script: ${paths[lib]}`);\n",
       "          s.src = paths[lib];\n",
       "        });\n",
       "    }\n",
       "\n",
       "    function showError(err) {\n",
       "      outputDiv.innerHTML = `<div class=\"error\" style=\"color:red;\">${err}</div>`;\n",
       "      throw err;\n",
       "    }\n",
       "\n",
       "    function displayChart(vegaEmbed) {\n",
       "      vegaEmbed(outputDiv, spec, embedOpt)\n",
       "        .catch(err => showError(`Javascript Error: ${err.message}<br>This usually means there's a typo in your chart specification. See the javascript console for the full traceback.`));\n",
       "    }\n",
       "\n",
       "    if(typeof define === \"function\" && define.amd) {\n",
       "      requirejs.config({paths});\n",
       "      require([\"vega-embed\"], displayChart, err => showError(`Error loading script: ${err.message}`));\n",
       "    } else {\n",
       "      maybeLoadScript(\"vega\", \"5\")\n",
       "        .then(() => maybeLoadScript(\"vega-lite\", \"5.20.1\"))\n",
       "        .then(() => maybeLoadScript(\"vega-embed\", \"6\"))\n",
       "        .catch(showError)\n",
       "        .then(() => displayChart(vegaEmbed));\n",
       "    }\n",
       "  })({\"config\": {\"view\": {\"continuousWidth\": 300, \"continuousHeight\": 300}}, \"data\": {\"name\": \"data-476d2ed1e5257f306635c11f339033c5\"}, \"mark\": {\"type\": \"bar\"}, \"encoding\": {\"color\": {\"field\": \"Republican Vote\", \"scale\": {\"domain\": [0, 1, 2, 3, 4], \"range\": [\"#0000FF\", \"#ADD8E6\", \"#800080\", \"#FF6666\", \"#FF0000\"]}, \"title\": \"Majoritary Vote\", \"type\": \"ordinal\"}, \"x\": {\"field\": \"Ratio State\", \"type\": \"quantitative\"}, \"y\": {\"field\": \"State\", \"sort\": \"-x\", \"type\": \"nominal\"}}, \"title\": \"Ratio per state\", \"$schema\": \"https://vega.github.io/schema/vega-lite/v5.20.1.json\", \"datasets\": {\"data-476d2ed1e5257f306635c11f339033c5\": [{\"State\": \"Alabama\", \"Population\": 1424180.0, \"Shootings\": 114, \"Ratio State\": 80.04606159333792, \"Republican Vote\": 4}, {\"State\": \"Alaska\", \"Population\": 537891.0, \"Shootings\": 5, \"Ratio State\": 9.29556359931659, \"Republican Vote\": 4}, {\"State\": \"Arizona\", \"Population\": 4905353.8, \"Shootings\": 54, \"Ratio State\": 11.008380272183425, \"Republican Vote\": 3}, {\"State\": \"Arkansas\", \"Population\": 529445.4, \"Shootings\": 54, \"Ratio State\": 101.99352001169525, \"Republican Vote\": 4}, {\"State\": \"California\", \"Population\": 59984133.9, \"Shootings\": 417, \"Ratio State\": 6.951838309363336, \"Republican Vote\": 0}, {\"State\": \"Colorado\", \"Population\": 1513535.2, \"Shootings\": 74, \"Ratio State\": 48.892156588099176, \"Republican Vote\": 0}, {\"State\": \"Connecticut\", \"Population\": 3730447.94, \"Shootings\": 29, \"Ratio State\": 7.77386535516161, \"Republican Vote\": 0}, {\"State\": \"Delaware\", \"Population\": 563050.6666666666, \"Shootings\": 18, \"Ratio State\": 31.96870382298337, \"Republican Vote\": 0}, {\"State\": \"District of Columbia\", \"Population\": 682746.9, \"Shootings\": 76, \"Ratio State\": 111.31504222135611, \"Republican Vote\": 0}, {\"State\": \"Florida\", \"Population\": 11335283.3, \"Shootings\": 263, \"Ratio State\": 23.20189033122798, \"Republican Vote\": 3}, {\"State\": \"Georgia\", \"Population\": 2845174.6, \"Shootings\": 182, \"Ratio State\": 63.96795472587165, \"Republican Vote\": 3}, {\"State\": \"Hawaii\", \"Population\": 989408.0, \"Shootings\": 1, \"Ratio State\": 1.0107053915068405, \"Republican Vote\": 0}, {\"State\": \"Idaho\", \"Population\": 85057.33333333333, \"Shootings\": 3, \"Ratio State\": 35.27032746539589, \"Republican Vote\": 4}, {\"State\": \"Illinois\", \"Population\": 6983372.7, \"Shootings\": 466, \"Ratio State\": 66.72993409044314, \"Republican Vote\": 0}, {\"State\": \"Indiana\", \"Population\": 2141196.3, \"Shootings\": 99, \"Ratio State\": 46.23583554669882, \"Republican Vote\": 4}, {\"State\": \"Iowa\", \"Population\": 275256.5714285714, \"Shootings\": 19, \"Ratio State\": 69.02650825515519, \"Republican Vote\": 3}, {\"State\": \"Kansas\", \"Population\": 165360.88888888888, \"Shootings\": 24, \"Ratio State\": 145.1371008057797, \"Republican Vote\": 4}, {\"State\": \"Kentucky\", \"Population\": 1013325.6, \"Shootings\": 56, \"Ratio State\": 55.2635796431078, \"Republican Vote\": 4}, {\"State\": \"Louisiana\", \"Population\": 1939758.3, \"Shootings\": 210, \"Ratio State\": 108.26091065056919, \"Republican Vote\": 4}, {\"State\": \"Maine\", \"Population\": 108428.25, \"Shootings\": 5, \"Ratio State\": 46.11344368280407, \"Republican Vote\": 0}, {\"State\": \"Maryland\", \"Population\": 2608210.6, \"Shootings\": 140, \"Ratio State\": 53.676647123510655, \"Republican Vote\": 0}, {\"State\": \"Massachusetts\", \"Population\": 2061469.0, \"Shootings\": 41, \"Ratio State\": 19.888729832949224, \"Republican Vote\": 0}, {\"State\": \"Michigan\", \"Population\": 4118926.1, \"Shootings\": 139, \"Ratio State\": 33.746660324884196, \"Republican Vote\": 2}, {\"State\": \"Minnesota\", \"Population\": 1455514.4, \"Shootings\": 58, \"Ratio State\": 39.848454951733906, \"Republican Vote\": 0}, {\"State\": \"Mississippi\", \"Population\": 521807.4, \"Shootings\": 98, \"Ratio State\": 187.8087585572761, \"Republican Vote\": 4}, {\"State\": \"Missouri\", \"Population\": 2579767.3, \"Shootings\": 134, \"Ratio State\": 51.94266940277908, \"Republican Vote\": 4}, {\"State\": \"Montana\", \"Population\": 74676.0, \"Shootings\": 4, \"Ratio State\": 53.564732979806095, \"Republican Vote\": 4}, {\"State\": \"Nebraska\", \"Population\": 614248.1428571428, \"Shootings\": 17, \"Ratio State\": 27.676111352857163, \"Republican Vote\": 4}, {\"State\": \"Nevada\", \"Population\": 2317983.6, \"Shootings\": 36, \"Ratio State\": 15.530739734310457, \"Republican Vote\": 1}, {\"State\": \"New Hampshire\", \"Population\": 425883.5, \"Shootings\": 2, \"Ratio State\": 4.69611994829572, \"Republican Vote\": 0}, {\"State\": \"New Jersey\", \"Population\": 3048506.6, \"Shootings\": 105, \"Ratio State\": 34.443094202256276, \"Republican Vote\": 0}, {\"State\": \"New Mexico\", \"Population\": 545993.6, \"Shootings\": 24, \"Ratio State\": 43.95655919776349, \"Republican Vote\": 0}, {\"State\": \"New York\", \"Population\": 27075801.7, \"Shootings\": 206, \"Ratio State\": 7.608269638051013, \"Republican Vote\": 0}, {\"State\": \"North Carolina\", \"Population\": 3051462.3, \"Shootings\": 148, \"Ratio State\": 48.501336555919444, \"Republican Vote\": 4}, {\"State\": \"North Dakota\", \"Population\": 196362.0, \"Shootings\": 1, \"Ratio State\": 5.092635031217853, \"Republican Vote\": 4}, {\"State\": \"Ohio\", \"Population\": 4472454.4, \"Shootings\": 183, \"Ratio State\": 40.91713042395692, \"Republican Vote\": 3}, {\"State\": \"Oklahoma\", \"Population\": 1086807.9, \"Shootings\": 37, \"Ratio State\": 34.044654993766606, \"Republican Vote\": 4}, {\"State\": \"Oregon\", \"Population\": 931812.625, \"Shootings\": 24, \"Ratio State\": 25.756251156180678, \"Republican Vote\": 0}, {\"State\": \"Pennsylvania\", \"Population\": 4259459.8, \"Shootings\": 225, \"Ratio State\": 52.82359983770712, \"Republican Vote\": 2}, {\"State\": \"Rhode Island\", \"Population\": 641974.3333333334, \"Shootings\": 4, \"Ratio State\": 6.230778696759943, \"Republican Vote\": 0}, {\"State\": \"South Carolina\", \"Population\": 1667259.0, \"Shootings\": 116, \"Ratio State\": 69.57527294799428, \"Republican Vote\": 4}, {\"State\": \"South Dakota\", \"Population\": 56083.5, \"Shootings\": 4, \"Ratio State\": 71.32222489680565, \"Republican Vote\": 4}, {\"State\": \"Tennessee\", \"Population\": 2281154.9, \"Shootings\": 146, \"Ratio State\": 64.00266812218672, \"Republican Vote\": 4}, {\"State\": \"Texas\", \"Population\": 14364447.0, \"Shootings\": 333, \"Ratio State\": 23.182235974695026, \"Republican Vote\": 4}, {\"State\": \"Utah\", \"Population\": 996797.5, \"Shootings\": 8, \"Ratio State\": 8.02570231165307, \"Republican Vote\": 4}, {\"State\": \"Vermont\", \"Population\": 58707.0, \"Shootings\": 1, \"Ratio State\": 17.033743846560036, \"Republican Vote\": 0}, {\"State\": \"Virginia\", \"Population\": 1121099.4, \"Shootings\": 104, \"Ratio State\": 92.76608300744788, \"Republican Vote\": 0}, {\"State\": \"Washington\", \"Population\": 6289096.9, \"Shootings\": 62, \"Ratio State\": 9.858331169933157, \"Republican Vote\": 0}, {\"State\": \"West Virginia\", \"Population\": 195724.33333333334, \"Shootings\": 5, \"Ratio State\": 25.54613376296253, \"Republican Vote\": 4}, {\"State\": \"Wisconsin\", \"Population\": 1351775.3, \"Shootings\": 62, \"Ratio State\": 45.86561094880192, \"Republican Vote\": 2}, {\"State\": \"Wyoming\", \"Population\": 99865.0, \"Shootings\": 1, \"Ratio State\": 10.013518249637011, \"Republican Vote\": 4}]}}, {\"mode\": \"vega-lite\"});\n",
       "</script>"
      ],
      "text/plain": [
       "alt.Chart(...)"
      ]
     },
     "execution_count": 153,
     "metadata": {},
     "output_type": "execute_result"
    }
   ],
   "source": [
    "chart_state = alt.Chart(df_GunViolence).mark_bar().encode(\n",
    "    alt.X('Ratio State:Q'),\n",
    "    alt.Y('State:N', sort='-x'),\n",
    "    alt.Color('Republican Vote:O', \n",
    "              scale=alt.Scale(domain=[0, 1, 2, 3, 4], range=['#0000FF', '#ADD8E6', '#800080', '#FF6666', '#FF0000']),\n",
    "              title='Majoritary Vote'\n",
    "    )\n",
    ").properties(title = 'Ratio per state')\n",
    "\n",
    "chart_state"
   ]
  },
  {
   "cell_type": "markdown",
   "metadata": {},
   "source": [
    "#### Visualization description\n",
    "We decided to..."
   ]
  },
  {
   "cell_type": "markdown",
   "metadata": {},
   "source": [
    "<h3 style=\"color:darkblue\"> Q2: How is the number of mass shootings per citizen distributed across the different counties in the US? And across states?"
   ]
  },
  {
   "cell_type": "code",
   "execution_count": null,
   "metadata": {},
   "outputs": [],
   "source": []
  },
  {
   "cell_type": "markdown",
   "metadata": {},
   "source": [
    "#### Visualization description\n",
    "We decided to..."
   ]
  },
  {
   "cell_type": "markdown",
   "metadata": {},
   "source": [
    "<h3 style=\"color:darkblue\"> Q3: Are the mass shootings correlated with gun violence incidents in schools?"
   ]
  },
  {
   "cell_type": "markdown",
   "metadata": {},
   "source": []
  },
  {
   "cell_type": "markdown",
   "metadata": {},
   "source": [
    "\n",
    "<h4 style=\"color:goldenrod\"> Visualization descprition </h4>\n",
    "We decided to..."
   ]
  },
  {
   "cell_type": "markdown",
   "metadata": {},
   "source": [
    "<h3 style=\"color:darkblue\"> Q4: How have mass shootings evolved the last years in the US?"
   ]
  },
  {
   "cell_type": "markdown",
   "metadata": {},
   "source": [
    "We had to main ideas: showing how have the number of shootings changed during the years (and maybe relationating it with the current governement), and showing the possible underlaying trends inside each year.\n",
    "\n",
    "Let's start with the first representation:"
   ]
  },
  {
   "cell_type": "markdown",
   "metadata": {},
   "source": [
    "<h4 style=\"color:goldenrod\"> Shootings per year </h4>"
   ]
  },
  {
   "cell_type": "code",
   "execution_count": 9,
   "metadata": {},
   "outputs": [
    {
     "data": {
      "text/html": [
       "\n",
       "<style>\n",
       "  #altair-viz-c4bb3fec5f0d44ba97798919890a7e4a.vega-embed {\n",
       "    width: 100%;\n",
       "    display: flex;\n",
       "  }\n",
       "\n",
       "  #altair-viz-c4bb3fec5f0d44ba97798919890a7e4a.vega-embed details,\n",
       "  #altair-viz-c4bb3fec5f0d44ba97798919890a7e4a.vega-embed details summary {\n",
       "    position: relative;\n",
       "  }\n",
       "</style>\n",
       "<div id=\"altair-viz-c4bb3fec5f0d44ba97798919890a7e4a\"></div>\n",
       "<script type=\"text/javascript\">\n",
       "  var VEGA_DEBUG = (typeof VEGA_DEBUG == \"undefined\") ? {} : VEGA_DEBUG;\n",
       "  (function(spec, embedOpt){\n",
       "    let outputDiv = document.currentScript.previousElementSibling;\n",
       "    if (outputDiv.id !== \"altair-viz-c4bb3fec5f0d44ba97798919890a7e4a\") {\n",
       "      outputDiv = document.getElementById(\"altair-viz-c4bb3fec5f0d44ba97798919890a7e4a\");\n",
       "    }\n",
       "    const paths = {\n",
       "      \"vega\": \"https://cdn.jsdelivr.net/npm/vega@5?noext\",\n",
       "      \"vega-lib\": \"https://cdn.jsdelivr.net/npm/vega-lib?noext\",\n",
       "      \"vega-lite\": \"https://cdn.jsdelivr.net/npm/vega-lite@5.20.1?noext\",\n",
       "      \"vega-embed\": \"https://cdn.jsdelivr.net/npm/vega-embed@6?noext\",\n",
       "    };\n",
       "\n",
       "    function maybeLoadScript(lib, version) {\n",
       "      var key = `${lib.replace(\"-\", \"\")}_version`;\n",
       "      return (VEGA_DEBUG[key] == version) ?\n",
       "        Promise.resolve(paths[lib]) :\n",
       "        new Promise(function(resolve, reject) {\n",
       "          var s = document.createElement('script');\n",
       "          document.getElementsByTagName(\"head\")[0].appendChild(s);\n",
       "          s.async = true;\n",
       "          s.onload = () => {\n",
       "            VEGA_DEBUG[key] = version;\n",
       "            return resolve(paths[lib]);\n",
       "          };\n",
       "          s.onerror = () => reject(`Error loading script: ${paths[lib]}`);\n",
       "          s.src = paths[lib];\n",
       "        });\n",
       "    }\n",
       "\n",
       "    function showError(err) {\n",
       "      outputDiv.innerHTML = `<div class=\"error\" style=\"color:red;\">${err}</div>`;\n",
       "      throw err;\n",
       "    }\n",
       "\n",
       "    function displayChart(vegaEmbed) {\n",
       "      vegaEmbed(outputDiv, spec, embedOpt)\n",
       "        .catch(err => showError(`Javascript Error: ${err.message}<br>This usually means there's a typo in your chart specification. See the javascript console for the full traceback.`));\n",
       "    }\n",
       "\n",
       "    if(typeof define === \"function\" && define.amd) {\n",
       "      requirejs.config({paths});\n",
       "      require([\"vega-embed\"], displayChart, err => showError(`Error loading script: ${err.message}`));\n",
       "    } else {\n",
       "      maybeLoadScript(\"vega\", \"5\")\n",
       "        .then(() => maybeLoadScript(\"vega-lite\", \"5.20.1\"))\n",
       "        .then(() => maybeLoadScript(\"vega-embed\", \"6\"))\n",
       "        .catch(showError)\n",
       "        .then(() => displayChart(vegaEmbed));\n",
       "    }\n",
       "  })({\"config\": {\"view\": {\"continuousWidth\": 300, \"continuousHeight\": 300}}, \"data\": {\"name\": \"data-dbe6098d56dc8056903ad371bd083e83\"}, \"mark\": {\"type\": \"line\", \"color\": \"black\", \"point\": {\"fill\": \"black\", \"filled\": true}, \"strokeWidth\": 2.5}, \"encoding\": {\"x\": {\"axis\": {\"labelAngle\": 0}, \"field\": \"Year\", \"title\": \"Year\", \"type\": \"ordinal\"}, \"y\": {\"field\": \"Shootings\", \"scale\": {\"domain\": [200, 710]}, \"title\": \"Total Shootings\", \"type\": \"quantitative\"}}, \"height\": 400, \"title\": \"Total Shootings per Year in the USA\", \"width\": 500, \"$schema\": \"https://vega.github.io/schema/vega-lite/v5.20.1.json\", \"datasets\": {\"data-dbe6098d56dc8056903ad371bd083e83\": [{\"Year\": 2014, \"Shootings\": 271}, {\"Year\": 2015, \"Shootings\": 330}, {\"Year\": 2016, \"Shootings\": 380}, {\"Year\": 2017, \"Shootings\": 343}, {\"Year\": 2018, \"Shootings\": 329}, {\"Year\": 2019, \"Shootings\": 411}, {\"Year\": 2020, \"Shootings\": 609}, {\"Year\": 2021, \"Shootings\": 679}, {\"Year\": 2022, \"Shootings\": 636}, {\"Year\": 2023, \"Shootings\": 649}]}}, {\"mode\": \"vega-lite\"});\n",
       "</script>"
      ],
      "text/plain": [
       "alt.Chart(...)"
      ]
     },
     "metadata": {},
     "output_type": "display_data"
    }
   ],
   "source": [
    "df_GunViolence = df_GunViolence_csv\n",
    "\n",
    "df_GunViolence = df_GunViolence.groupby('Year')[\"Shootings\"].sum().reset_index()\n",
    "\n",
    "chart_ms = alt.Chart(df_GunViolence).mark_line(\n",
    "    color='black',\n",
    "    point=alt.OverlayMarkDef(filled=True, fill=\"black\"),\n",
    "    strokeWidth=2.5).encode(\n",
    "    x=alt.X('Year:O', title='Year', axis=alt.Axis(labelAngle=0)),\n",
    "    y=alt.Y('Shootings:Q', title='Total Shootings').scale(domain=(200,710))\n",
    ").properties(\n",
    "    title='Total Shootings per Year in the USA',\n",
    "    width=500,\n",
    "    height=400\n",
    ")\n",
    "\n",
    "chart_ms.show()"
   ]
  },
  {
   "cell_type": "markdown",
   "metadata": {},
   "source": [
    "Not bad! Let's try to add the current governement (democratic or republican) for each year."
   ]
  },
  {
   "cell_type": "code",
   "execution_count": 10,
   "metadata": {},
   "outputs": [
    {
     "data": {
      "text/html": [
       "\n",
       "<style>\n",
       "  #altair-viz-0b484983cffd4534ab13414df7f76a4b.vega-embed {\n",
       "    width: 100%;\n",
       "    display: flex;\n",
       "  }\n",
       "\n",
       "  #altair-viz-0b484983cffd4534ab13414df7f76a4b.vega-embed details,\n",
       "  #altair-viz-0b484983cffd4534ab13414df7f76a4b.vega-embed details summary {\n",
       "    position: relative;\n",
       "  }\n",
       "</style>\n",
       "<div id=\"altair-viz-0b484983cffd4534ab13414df7f76a4b\"></div>\n",
       "<script type=\"text/javascript\">\n",
       "  var VEGA_DEBUG = (typeof VEGA_DEBUG == \"undefined\") ? {} : VEGA_DEBUG;\n",
       "  (function(spec, embedOpt){\n",
       "    let outputDiv = document.currentScript.previousElementSibling;\n",
       "    if (outputDiv.id !== \"altair-viz-0b484983cffd4534ab13414df7f76a4b\") {\n",
       "      outputDiv = document.getElementById(\"altair-viz-0b484983cffd4534ab13414df7f76a4b\");\n",
       "    }\n",
       "    const paths = {\n",
       "      \"vega\": \"https://cdn.jsdelivr.net/npm/vega@5?noext\",\n",
       "      \"vega-lib\": \"https://cdn.jsdelivr.net/npm/vega-lib?noext\",\n",
       "      \"vega-lite\": \"https://cdn.jsdelivr.net/npm/vega-lite@5.20.1?noext\",\n",
       "      \"vega-embed\": \"https://cdn.jsdelivr.net/npm/vega-embed@6?noext\",\n",
       "    };\n",
       "\n",
       "    function maybeLoadScript(lib, version) {\n",
       "      var key = `${lib.replace(\"-\", \"\")}_version`;\n",
       "      return (VEGA_DEBUG[key] == version) ?\n",
       "        Promise.resolve(paths[lib]) :\n",
       "        new Promise(function(resolve, reject) {\n",
       "          var s = document.createElement('script');\n",
       "          document.getElementsByTagName(\"head\")[0].appendChild(s);\n",
       "          s.async = true;\n",
       "          s.onload = () => {\n",
       "            VEGA_DEBUG[key] = version;\n",
       "            return resolve(paths[lib]);\n",
       "          };\n",
       "          s.onerror = () => reject(`Error loading script: ${paths[lib]}`);\n",
       "          s.src = paths[lib];\n",
       "        });\n",
       "    }\n",
       "\n",
       "    function showError(err) {\n",
       "      outputDiv.innerHTML = `<div class=\"error\" style=\"color:red;\">${err}</div>`;\n",
       "      throw err;\n",
       "    }\n",
       "\n",
       "    function displayChart(vegaEmbed) {\n",
       "      vegaEmbed(outputDiv, spec, embedOpt)\n",
       "        .catch(err => showError(`Javascript Error: ${err.message}<br>This usually means there's a typo in your chart specification. See the javascript console for the full traceback.`));\n",
       "    }\n",
       "\n",
       "    if(typeof define === \"function\" && define.amd) {\n",
       "      requirejs.config({paths});\n",
       "      require([\"vega-embed\"], displayChart, err => showError(`Error loading script: ${err.message}`));\n",
       "    } else {\n",
       "      maybeLoadScript(\"vega\", \"5\")\n",
       "        .then(() => maybeLoadScript(\"vega-lite\", \"5.20.1\"))\n",
       "        .then(() => maybeLoadScript(\"vega-embed\", \"6\"))\n",
       "        .catch(showError)\n",
       "        .then(() => displayChart(vegaEmbed));\n",
       "    }\n",
       "  })({\"config\": {\"view\": {\"continuousWidth\": 300, \"continuousHeight\": 300}}, \"layer\": [{\"data\": {\"name\": \"data-c539bfb7537eb8ebeea0421644036691\"}, \"mark\": {\"type\": \"area\"}, \"encoding\": {\"color\": {\"field\": \"governement\", \"legend\": {\"direction\": \"horizontal\", \"legendX\": 185, \"legendY\": -30, \"orient\": \"none\", \"titleAnchor\": \"middle\"}, \"scale\": {\"domain\": [\"Democratic\", \"Republican\"], \"range\": [\"#3182bd\", \"#d7301f\"]}, \"type\": \"nominal\"}, \"x\": {\"axis\": {\"labelAngle\": 0}, \"field\": \"Year\", \"timeUnit\": \"year\", \"title\": \"Year\", \"type\": \"temporal\"}, \"y\": {\"field\": \"y1\", \"scale\": {\"domain\": [200, 720]}, \"title\": \"Total Shootings\", \"type\": \"quantitative\"}, \"y2\": {\"field\": \"y2\"}}}, {\"data\": {\"name\": \"data-71905c7c7541ec249275b6ba2750d8e6\"}, \"mark\": {\"type\": \"line\", \"color\": \"black\", \"point\": {\"fill\": \"black\", \"filled\": true}, \"strokeWidth\": 2.5}, \"encoding\": {\"x\": {\"field\": \"Year\", \"timeUnit\": \"year\", \"title\": \"Year\", \"type\": \"temporal\"}, \"y\": {\"field\": \"Shootings\", \"scale\": {\"domain\": [200, 750]}, \"title\": \"Total Shootings\", \"type\": \"quantitative\"}}, \"title\": {\"text\": [\"Total Shootings per Year in the USA\"], \"dy\": -10, \"fontSize\": 16}}], \"height\": 300, \"width\": 460, \"$schema\": \"https://vega.github.io/schema/vega-lite/v5.20.1.json\", \"datasets\": {\"data-c539bfb7537eb8ebeea0421644036691\": [{\"Year\": \"2014-01-01T00:00:00\", \"y1\": 730, \"y2\": 720, \"governement\": \"Democratic\"}, {\"Year\": \"2015-01-01T00:00:00\", \"y1\": 730, \"y2\": 720, \"governement\": \"Democratic\"}, {\"Year\": \"2016-01-01T00:00:00\", \"y1\": 730, \"y2\": 720, \"governement\": \"Democratic\"}, {\"Year\": \"2017-01-01T00:00:00\", \"y1\": 730, \"y2\": 720, \"governement\": \"Republican\"}, {\"Year\": \"2018-01-01T00:00:00\", \"y1\": 730, \"y2\": 720, \"governement\": \"Republican\"}, {\"Year\": \"2019-01-01T00:00:00\", \"y1\": 730, \"y2\": 720, \"governement\": \"Republican\"}, {\"Year\": \"2020-01-01T00:00:00\", \"y1\": 730, \"y2\": 720, \"governement\": \"Republican\"}, {\"Year\": \"2021-01-01T00:00:00\", \"y1\": 730, \"y2\": 720, \"governement\": \"Republican\"}, {\"Year\": \"2022-01-01T00:00:00\", \"y1\": 730, \"y2\": 720, \"governement\": \"Democratic\"}, {\"Year\": \"2023-01-01T00:00:00\", \"y1\": 730, \"y2\": 720, \"governement\": \"Democratic\"}, {\"Year\": \"2024-01-01T00:00:00\", \"y1\": 730, \"y2\": 720, \"governement\": \"Democratic\"}], \"data-71905c7c7541ec249275b6ba2750d8e6\": [{\"Year\": \"2014-01-01T00:00:00\", \"Shootings\": 271}, {\"Year\": \"2015-01-01T00:00:00\", \"Shootings\": 330}, {\"Year\": \"2016-01-01T00:00:00\", \"Shootings\": 380}, {\"Year\": \"2017-01-01T00:00:00\", \"Shootings\": 343}, {\"Year\": \"2018-01-01T00:00:00\", \"Shootings\": 329}, {\"Year\": \"2019-01-01T00:00:00\", \"Shootings\": 411}, {\"Year\": \"2020-01-01T00:00:00\", \"Shootings\": 609}, {\"Year\": \"2021-01-01T00:00:00\", \"Shootings\": 679}, {\"Year\": \"2022-01-01T00:00:00\", \"Shootings\": 636}, {\"Year\": \"2023-01-01T00:00:00\", \"Shootings\": 649}]}}, {\"mode\": \"vega-lite\"});\n",
       "</script>"
      ],
      "text/plain": [
       "alt.LayerChart(...)"
      ]
     },
     "execution_count": 10,
     "metadata": {},
     "output_type": "execute_result"
    }
   ],
   "source": [
    "### FIRST ATTEMT ###\n",
    "gov = pd.DataFrame({\n",
    "    'Year': [i for i in range(2014, 2025)],\n",
    "    'y1': [230+500]*11,\n",
    "    'y2': [220+500]*11,\n",
    "    'governement': ['Democratic']*3 + ['Republican']*5 + ['Democratic']*3\n",
    "})\n",
    "\n",
    "gov['Year'] = pd.to_datetime(gov['Year'], format='%Y')\n",
    "\n",
    "chart_gov = alt.Chart(gov).mark_area().encode(\n",
    "    x=alt.X('Year:T', timeUnit = 'year', title='Year', axis=alt.Axis(labelAngle=0)),\n",
    "    y=alt.Y('y1:Q', title='Total Shootings', scale=alt.Scale(domain=(200, 720))),\n",
    "    y2='y2:Q',\n",
    "    color=alt.Color('governement', legend=alt.Legend(\n",
    "        orient='none', \n",
    "        legendX=185, legendY=-30,  # Ajusta la posició de la llegenda\n",
    "        direction='horizontal',\n",
    "        titleAnchor='middle'  # Centra el títol dins de la llegenda\n",
    "    ), scale=alt.Scale(domain=['Democratic', 'Republican'], range=['#3182bd', '#d7301f']))\n",
    ")\n",
    "\n",
    "df_GunViolence['Year'] = pd.to_datetime(df_GunViolence['Year'], format='%Y')\n",
    "\n",
    "chart_ms = alt.Chart(df_GunViolence).mark_line(\n",
    "    color='black',\n",
    "    point=alt.OverlayMarkDef(filled=True, fill=\"black\"),\n",
    "    strokeWidth=2.5).encode(\n",
    "    x=alt.X('Year:T', timeUnit='year', title='Year'),\n",
    "    y=alt.Y('Shootings:Q', title='Total Shootings').scale(domain=(200,750))\n",
    ").properties(\n",
    "    title={\n",
    "        \"text\":['Total Shootings per Year in the USA'],\n",
    "        \"dy\": -10,\n",
    "        \"fontSize\": 16,\n",
    "    },\n",
    "    width=460,\n",
    "    height=300\n",
    ")\n",
    "\n",
    "legend_data = pd.DataFrame({\n",
    "    'Year': ['2015-09-18 00:00:00+00:00', '2018-09-18 00:00:00+00:00'],\n",
    "    'Total Shootings': [700, 660],\n",
    "    'label': ['Democratic', 'Republican'],\n",
    "    'governement': ['Democratic', 'Republican']\n",
    "})\n",
    "\n",
    "\n",
    "\n",
    "linechart_years = chart_gov + chart_ms\n",
    "linechart_years"
   ]
  },
  {
   "cell_type": "markdown",
   "metadata": {},
   "source": [
    "We were not really convinced by the looks and space-efficiency of this approach, so we tried another option:"
   ]
  },
  {
   "cell_type": "code",
   "execution_count": 15,
   "metadata": {},
   "outputs": [
    {
     "data": {
      "text/html": [
       "\n",
       "<style>\n",
       "  #altair-viz-21f7862ac5d44bc1b3caaec11d0c067a.vega-embed {\n",
       "    width: 100%;\n",
       "    display: flex;\n",
       "  }\n",
       "\n",
       "  #altair-viz-21f7862ac5d44bc1b3caaec11d0c067a.vega-embed details,\n",
       "  #altair-viz-21f7862ac5d44bc1b3caaec11d0c067a.vega-embed details summary {\n",
       "    position: relative;\n",
       "  }\n",
       "</style>\n",
       "<div id=\"altair-viz-21f7862ac5d44bc1b3caaec11d0c067a\"></div>\n",
       "<script type=\"text/javascript\">\n",
       "  var VEGA_DEBUG = (typeof VEGA_DEBUG == \"undefined\") ? {} : VEGA_DEBUG;\n",
       "  (function(spec, embedOpt){\n",
       "    let outputDiv = document.currentScript.previousElementSibling;\n",
       "    if (outputDiv.id !== \"altair-viz-21f7862ac5d44bc1b3caaec11d0c067a\") {\n",
       "      outputDiv = document.getElementById(\"altair-viz-21f7862ac5d44bc1b3caaec11d0c067a\");\n",
       "    }\n",
       "    const paths = {\n",
       "      \"vega\": \"https://cdn.jsdelivr.net/npm/vega@5?noext\",\n",
       "      \"vega-lib\": \"https://cdn.jsdelivr.net/npm/vega-lib?noext\",\n",
       "      \"vega-lite\": \"https://cdn.jsdelivr.net/npm/vega-lite@5.20.1?noext\",\n",
       "      \"vega-embed\": \"https://cdn.jsdelivr.net/npm/vega-embed@6?noext\",\n",
       "    };\n",
       "\n",
       "    function maybeLoadScript(lib, version) {\n",
       "      var key = `${lib.replace(\"-\", \"\")}_version`;\n",
       "      return (VEGA_DEBUG[key] == version) ?\n",
       "        Promise.resolve(paths[lib]) :\n",
       "        new Promise(function(resolve, reject) {\n",
       "          var s = document.createElement('script');\n",
       "          document.getElementsByTagName(\"head\")[0].appendChild(s);\n",
       "          s.async = true;\n",
       "          s.onload = () => {\n",
       "            VEGA_DEBUG[key] = version;\n",
       "            return resolve(paths[lib]);\n",
       "          };\n",
       "          s.onerror = () => reject(`Error loading script: ${paths[lib]}`);\n",
       "          s.src = paths[lib];\n",
       "        });\n",
       "    }\n",
       "\n",
       "    function showError(err) {\n",
       "      outputDiv.innerHTML = `<div class=\"error\" style=\"color:red;\">${err}</div>`;\n",
       "      throw err;\n",
       "    }\n",
       "\n",
       "    function displayChart(vegaEmbed) {\n",
       "      vegaEmbed(outputDiv, spec, embedOpt)\n",
       "        .catch(err => showError(`Javascript Error: ${err.message}<br>This usually means there's a typo in your chart specification. See the javascript console for the full traceback.`));\n",
       "    }\n",
       "\n",
       "    if(typeof define === \"function\" && define.amd) {\n",
       "      requirejs.config({paths});\n",
       "      require([\"vega-embed\"], displayChart, err => showError(`Error loading script: ${err.message}`));\n",
       "    } else {\n",
       "      maybeLoadScript(\"vega\", \"5\")\n",
       "        .then(() => maybeLoadScript(\"vega-lite\", \"5.20.1\"))\n",
       "        .then(() => maybeLoadScript(\"vega-embed\", \"6\"))\n",
       "        .catch(showError)\n",
       "        .then(() => displayChart(vegaEmbed));\n",
       "    }\n",
       "  })({\"config\": {\"view\": {\"continuousWidth\": 300, \"continuousHeight\": 300}}, \"layer\": [{\"data\": {\"name\": \"data-a8548af86759c5cabe4cb2b4c3519b10\"}, \"mark\": {\"type\": \"rect\", \"color\": \"#f5b7b1\", \"opacity\": 1}, \"encoding\": {\"x\": {\"field\": \"x1\", \"type\": \"temporal\"}, \"x2\": {\"field\": \"x2\"}, \"y\": {\"field\": \"y1\", \"type\": \"nominal\"}, \"y2\": {\"field\": \"y2\"}}}, {\"data\": {\"name\": \"data-71905c7c7541ec249275b6ba2750d8e6\"}, \"mark\": {\"type\": \"line\", \"color\": \"black\", \"point\": {\"fill\": \"black\", \"filled\": true}, \"strokeWidth\": 2.5}, \"encoding\": {\"x\": {\"field\": \"Year\", \"timeUnit\": \"year\", \"title\": \"Year\", \"type\": \"temporal\"}, \"y\": {\"field\": \"Shootings\", \"scale\": {\"domain\": [200, 750]}, \"title\": \"Total Shootings\", \"type\": \"quantitative\"}}, \"title\": {\"text\": [\"Total Shootings per Year in the USA\"], \"dy\": -10, \"fontSize\": 16}}], \"height\": 400, \"resolve\": {\"scale\": {\"y\": \"shared\"}}, \"title\": \"Total Shootings per Year in the USA\", \"width\": 500, \"$schema\": \"https://vega.github.io/schema/vega-lite/v5.20.1.json\", \"datasets\": {\"data-a8548af86759c5cabe4cb2b4c3519b10\": [{\"x1\": \"2014-01-01T00:00:00\", \"x2\": \"2017-01-01T00:00:00\", \"y1\": 0, \"y2\": 1000, \"governement\": \"Democratic\"}, {\"x1\": \"2014-01-01T00:00:00\", \"x2\": \"2017-01-01T00:00:00\", \"y1\": 0, \"y2\": 1000, \"governement\": \"Democratic\"}], \"data-71905c7c7541ec249275b6ba2750d8e6\": [{\"Year\": \"2014-01-01T00:00:00\", \"Shootings\": 271}, {\"Year\": \"2015-01-01T00:00:00\", \"Shootings\": 330}, {\"Year\": \"2016-01-01T00:00:00\", \"Shootings\": 380}, {\"Year\": \"2017-01-01T00:00:00\", \"Shootings\": 343}, {\"Year\": \"2018-01-01T00:00:00\", \"Shootings\": 329}, {\"Year\": \"2019-01-01T00:00:00\", \"Shootings\": 411}, {\"Year\": \"2020-01-01T00:00:00\", \"Shootings\": 609}, {\"Year\": \"2021-01-01T00:00:00\", \"Shootings\": 679}, {\"Year\": \"2022-01-01T00:00:00\", \"Shootings\": 636}, {\"Year\": \"2023-01-01T00:00:00\", \"Shootings\": 649}]}}, {\"mode\": \"vega-lite\"});\n",
       "</script>"
      ],
      "text/plain": [
       "alt.LayerChart(...)"
      ]
     },
     "execution_count": 15,
     "metadata": {},
     "output_type": "execute_result"
    }
   ],
   "source": [
    "### we keep this part just for the legend ###\n",
    "\n",
    "RED = '#f5b7b1'\n",
    "BLUE = '#aed6f1' \n",
    "\n",
    "gov = pd.DataFrame({\n",
    "    'Year': [i for i in range(2014, 2025)],\n",
    "    'y1': [0]*11, \n",
    "    'y2': [0]*11,\n",
    "    'governement': ['Democratic']*3 + ['Republican']*5 + ['Democratic']*3\n",
    "})\n",
    "\n",
    "gov['Year'] = pd.to_datetime(gov['Year'], format='%Y')\n",
    "\n",
    "chart_gov = alt.Chart(gov).mark_area().encode(\n",
    "    x=alt.X('Year:T', timeUnit = 'year', title='Year', axis=alt.Axis(labelAngle=0)),\n",
    "    y=alt.Y('y1:Q', title='Total Shootings', scale=alt.Scale(domain=(200, 720)),axis=None),\n",
    "    y2='y2:Q',\n",
    "    color=alt.Color('governement', legend=alt.Legend(\n",
    "        orient='top-left',\n",
    "        strokeColor='gray',\n",
    "        fillColor='#EEEEEE',\n",
    "        padding=10,\n",
    "        cornerRadius=10,\n",
    "        titleAnchor='middle'\n",
    "    ), scale=alt.Scale(domain=['Democratic', 'Republican'], range=[BLUE, RED]))\n",
    ")\n",
    "\n",
    "\n",
    "\n",
    "# rectangles for the background colour\n",
    "df_rep = pd.DataFrame({\n",
    "    'x1': 2014,\n",
    "    'x2': 2017,\n",
    "    'y1': [0]*2, \n",
    "    'y2': [1000]*2,\n",
    "    'governement': ['Democratic']*2\n",
    "})\n",
    "\n",
    "df_rep['x1'] = pd.to_datetime(df_rep['x1'], format ='%Y')\n",
    "df_rep['x2'] = pd.to_datetime(df_rep['x2'], format ='%Y')\n",
    "\n",
    "rep = alt.Chart(df_rep).mark_rect(color=RED, opacity=1).encode(\n",
    "    x=alt.X('x1:T'),\n",
    "    x2=alt.X2('x2:T'),\n",
    "    y=alt.Y('y1:N'),\n",
    "    y2=alt.Y2('y2:N'))\n",
    "\n",
    "dem1 = alt.Chart().mark_rect(color=BLUE, opacity=1).encode(\n",
    "    x=alt.value(0),\n",
    "    y=alt.value(0),\n",
    "    x2=alt.value(160.5),\n",
    "    y2=alt.value(400))\n",
    "\n",
    "dem2 = alt.Chart().mark_rect(color=BLUE, opacity=1).encode(\n",
    "    x=alt.value(341.2),\n",
    "    y=alt.value(0),\n",
    "    x2=alt.value(500),\n",
    "    y2=alt.value(400))\n",
    "\n",
    "background = alt.layer(rep)\n",
    "\n",
    "# making manual grid\n",
    "y_values = pd.DataFrame({'y': list(range(0, 701, 50))})\n",
    "\n",
    "lines = alt.Chart(y_values).mark_rule(color='black', size=0.8, opacity=0.5).encode(\n",
    "    y=alt.Y('y:Q',title=None, axis=None)\n",
    ")\n",
    "\n",
    "# Line charts layered on top of the background rectangles\n",
    "chart_with_background = alt.layer(\n",
    "    rep,\n",
    "    chart_ms\n",
    ").properties(\n",
    "    title='Total Shootings per Year in the USA',\n",
    "    width=500,\n",
    "    height=400\n",
    ").resolve_scale(\n",
    "    y='shared'\n",
    ")\n",
    "\n",
    "chart_with_background"
   ]
  },
  {
   "cell_type": "code",
   "execution_count": 21,
   "metadata": {},
   "outputs": [
    {
     "data": {
      "text/html": [
       "\n",
       "<style>\n",
       "  #altair-viz-bf94d749ab7143b6a8b9e91fab5283bb.vega-embed {\n",
       "    width: 100%;\n",
       "    display: flex;\n",
       "  }\n",
       "\n",
       "  #altair-viz-bf94d749ab7143b6a8b9e91fab5283bb.vega-embed details,\n",
       "  #altair-viz-bf94d749ab7143b6a8b9e91fab5283bb.vega-embed details summary {\n",
       "    position: relative;\n",
       "  }\n",
       "</style>\n",
       "<div id=\"altair-viz-bf94d749ab7143b6a8b9e91fab5283bb\"></div>\n",
       "<script type=\"text/javascript\">\n",
       "  var VEGA_DEBUG = (typeof VEGA_DEBUG == \"undefined\") ? {} : VEGA_DEBUG;\n",
       "  (function(spec, embedOpt){\n",
       "    let outputDiv = document.currentScript.previousElementSibling;\n",
       "    if (outputDiv.id !== \"altair-viz-bf94d749ab7143b6a8b9e91fab5283bb\") {\n",
       "      outputDiv = document.getElementById(\"altair-viz-bf94d749ab7143b6a8b9e91fab5283bb\");\n",
       "    }\n",
       "    const paths = {\n",
       "      \"vega\": \"https://cdn.jsdelivr.net/npm/vega@5?noext\",\n",
       "      \"vega-lib\": \"https://cdn.jsdelivr.net/npm/vega-lib?noext\",\n",
       "      \"vega-lite\": \"https://cdn.jsdelivr.net/npm/vega-lite@5.20.1?noext\",\n",
       "      \"vega-embed\": \"https://cdn.jsdelivr.net/npm/vega-embed@6?noext\",\n",
       "    };\n",
       "\n",
       "    function maybeLoadScript(lib, version) {\n",
       "      var key = `${lib.replace(\"-\", \"\")}_version`;\n",
       "      return (VEGA_DEBUG[key] == version) ?\n",
       "        Promise.resolve(paths[lib]) :\n",
       "        new Promise(function(resolve, reject) {\n",
       "          var s = document.createElement('script');\n",
       "          document.getElementsByTagName(\"head\")[0].appendChild(s);\n",
       "          s.async = true;\n",
       "          s.onload = () => {\n",
       "            VEGA_DEBUG[key] = version;\n",
       "            return resolve(paths[lib]);\n",
       "          };\n",
       "          s.onerror = () => reject(`Error loading script: ${paths[lib]}`);\n",
       "          s.src = paths[lib];\n",
       "        });\n",
       "    }\n",
       "\n",
       "    function showError(err) {\n",
       "      outputDiv.innerHTML = `<div class=\"error\" style=\"color:red;\">${err}</div>`;\n",
       "      throw err;\n",
       "    }\n",
       "\n",
       "    function displayChart(vegaEmbed) {\n",
       "      vegaEmbed(outputDiv, spec, embedOpt)\n",
       "        .catch(err => showError(`Javascript Error: ${err.message}<br>This usually means there's a typo in your chart specification. See the javascript console for the full traceback.`));\n",
       "    }\n",
       "\n",
       "    if(typeof define === \"function\" && define.amd) {\n",
       "      requirejs.config({paths});\n",
       "      require([\"vega-embed\"], displayChart, err => showError(`Error loading script: ${err.message}`));\n",
       "    } else {\n",
       "      maybeLoadScript(\"vega\", \"5\")\n",
       "        .then(() => maybeLoadScript(\"vega-lite\", \"5.20.1\"))\n",
       "        .then(() => maybeLoadScript(\"vega-embed\", \"6\"))\n",
       "        .catch(showError)\n",
       "        .then(() => displayChart(vegaEmbed));\n",
       "    }\n",
       "  })({\"config\": {\"view\": {\"continuousWidth\": 300, \"continuousHeight\": 300}}, \"layer\": [{\"data\": {\"name\": \"data-b9d1175d54324332a9aa199e86907690\"}, \"mark\": {\"type\": \"rect\", \"color\": \"#f5b7b1\", \"opacity\": 1}, \"encoding\": {\"x\": {\"field\": \"x1\", \"title\": \"Year\", \"type\": \"temporal\"}, \"x2\": {\"field\": \"x2\"}, \"y\": {\"axis\": null, \"field\": \"y1\", \"scale\": {\"domain\": [200, 750]}, \"type\": \"quantitative\"}, \"y2\": {\"field\": \"y2\"}}}, {\"data\": {\"name\": \"data-1cdf7947fafe739a5f75981037321de8\"}, \"mark\": {\"type\": \"rule\", \"color\": \"gray\", \"opacity\": 0.5, \"size\": 0.8}, \"encoding\": {\"y\": {\"axis\": null, \"field\": \"y\", \"scale\": {\"domain\": [200, 750]}, \"title\": null, \"type\": \"quantitative\"}}}, {\"data\": {\"name\": \"data-71905c7c7541ec249275b6ba2750d8e6\"}, \"mark\": {\"type\": \"line\", \"color\": \"black\", \"point\": {\"fill\": \"black\", \"filled\": true}, \"strokeWidth\": 2.5}, \"encoding\": {\"x\": {\"field\": \"Year\", \"timeUnit\": \"year\", \"title\": \"Year\", \"type\": \"temporal\"}, \"y\": {\"field\": \"Shootings\", \"scale\": {\"domain\": [200, 750]}, \"title\": \"Total Shootings\", \"type\": \"quantitative\"}}, \"title\": {\"text\": [\"Total Shootings per Year in the USA\"], \"dy\": -10, \"fontSize\": 16}}], \"height\": 400, \"resolve\": {\"scale\": {\"y\": \"shared\"}}, \"width\": 500, \"$schema\": \"https://vega.github.io/schema/vega-lite/v5.20.1.json\", \"datasets\": {\"data-b9d1175d54324332a9aa199e86907690\": [{\"x1\": \"2014-01-01T00:00:00\", \"x2\": \"2017-01-01T00:00:00\", \"y1\": 200, \"y2\": 750, \"governement\": \"Democratic\"}, {\"x1\": \"2014-01-01T00:00:00\", \"x2\": \"2017-01-01T00:00:00\", \"y1\": 200, \"y2\": 750, \"governement\": \"Democratic\"}], \"data-1cdf7947fafe739a5f75981037321de8\": [{\"y\": 200}, {\"y\": 250}, {\"y\": 300}, {\"y\": 350}, {\"y\": 400}, {\"y\": 450}, {\"y\": 500}, {\"y\": 550}, {\"y\": 600}, {\"y\": 650}, {\"y\": 700}, {\"y\": 750}], \"data-71905c7c7541ec249275b6ba2750d8e6\": [{\"Year\": \"2014-01-01T00:00:00\", \"Shootings\": 271}, {\"Year\": \"2015-01-01T00:00:00\", \"Shootings\": 330}, {\"Year\": \"2016-01-01T00:00:00\", \"Shootings\": 380}, {\"Year\": \"2017-01-01T00:00:00\", \"Shootings\": 343}, {\"Year\": \"2018-01-01T00:00:00\", \"Shootings\": 329}, {\"Year\": \"2019-01-01T00:00:00\", \"Shootings\": 411}, {\"Year\": \"2020-01-01T00:00:00\", \"Shootings\": 609}, {\"Year\": \"2021-01-01T00:00:00\", \"Shootings\": 679}, {\"Year\": \"2022-01-01T00:00:00\", \"Shootings\": 636}, {\"Year\": \"2023-01-01T00:00:00\", \"Shootings\": 649}]}}, {\"mode\": \"vega-lite\"});\n",
       "</script>"
      ],
      "text/plain": [
       "alt.LayerChart(...)"
      ]
     },
     "execution_count": 21,
     "metadata": {},
     "output_type": "execute_result"
    }
   ],
   "source": [
    "import altair as alt\n",
    "import pandas as pd\n",
    "\n",
    "# Main chart with line\n",
    "chart_ms = alt.Chart(df_GunViolence).mark_line(\n",
    "    color='black',\n",
    "    point=alt.OverlayMarkDef(filled=True, fill=\"black\"),\n",
    "    strokeWidth=2.5\n",
    ").encode(\n",
    "    x=alt.X('Year:T', timeUnit='year', title='Year'),\n",
    "    y=alt.Y('Shootings:Q', title='Total Shootings', scale=alt.Scale(domain=(200, 750)))\n",
    ").properties(\n",
    "    title={\n",
    "        \"text\": ['Total Shootings per Year in the USA'],\n",
    "        \"dy\": -10,\n",
    "        \"fontSize\": 16,\n",
    "    },\n",
    "    width=500,\n",
    "    height=400\n",
    ")\n",
    "\n",
    "df_rep = pd.DataFrame({\n",
    "    'x1': 2014,\n",
    "    'x2': 2017,\n",
    "    'y1': [200]*2, \n",
    "    'y2': [750]*2,\n",
    "    'governement': ['Democratic']*2\n",
    "})\n",
    "\n",
    "df_rep['x1'] = pd.to_datetime(df_rep['x1'], format ='%Y')\n",
    "df_rep['x2'] = pd.to_datetime(df_rep['x2'], format ='%Y')\n",
    "\n",
    "# Rectangles for background (government representation)\n",
    "rep = alt.Chart(df_rep).mark_rect(color=RED, opacity=1).encode(\n",
    "    x=alt.X('x1:T', title='Year'),\n",
    "    x2='x2:T',\n",
    "    y=alt.Y('y1:Q', scale=alt.Scale(domain=(200, 750)), axis=None),\n",
    "    y2=alt.Y2('y2:Q')\n",
    ")\n",
    "\n",
    "# Manual gridlines\n",
    "y_values = pd.DataFrame({'y': list(range(200, 751, 50))})\n",
    "lines = alt.Chart(y_values).mark_rule(color='gray', size=0.8, opacity=0.5).encode(\n",
    "    y=alt.Y('y:Q', scale=alt.Scale(domain=(200, 750)), title=None, axis=None)\n",
    ")\n",
    "\n",
    "# Combine layers with shared y-scale\n",
    "chart_with_background = alt.layer(\n",
    "    rep,       # Background rectangles\n",
    "    lines,     # Gridlines\n",
    "    chart_ms   # Main line chart\n",
    ").properties(\n",
    "    width=500,\n",
    "    height=400\n",
    ").resolve_scale(\n",
    "    y='shared'  # Enforce shared y-scale for all layers\n",
    ")\n",
    "\n",
    "chart_with_background\n"
   ]
  },
  {
   "cell_type": "code",
   "execution_count": null,
   "metadata": {},
   "outputs": [],
   "source": [
    "y_"
   ]
  },
  {
   "cell_type": "code",
   "execution_count": 179,
   "metadata": {},
   "outputs": [
    {
     "data": {
      "text/html": [
       "\n",
       "<style>\n",
       "  #altair-viz-d67aeaf8d4ee40d2b8d957cb0dcd2051.vega-embed {\n",
       "    width: 100%;\n",
       "    display: flex;\n",
       "  }\n",
       "\n",
       "  #altair-viz-d67aeaf8d4ee40d2b8d957cb0dcd2051.vega-embed details,\n",
       "  #altair-viz-d67aeaf8d4ee40d2b8d957cb0dcd2051.vega-embed details summary {\n",
       "    position: relative;\n",
       "  }\n",
       "</style>\n",
       "<div id=\"altair-viz-d67aeaf8d4ee40d2b8d957cb0dcd2051\"></div>\n",
       "<script type=\"text/javascript\">\n",
       "  var VEGA_DEBUG = (typeof VEGA_DEBUG == \"undefined\") ? {} : VEGA_DEBUG;\n",
       "  (function(spec, embedOpt){\n",
       "    let outputDiv = document.currentScript.previousElementSibling;\n",
       "    if (outputDiv.id !== \"altair-viz-d67aeaf8d4ee40d2b8d957cb0dcd2051\") {\n",
       "      outputDiv = document.getElementById(\"altair-viz-d67aeaf8d4ee40d2b8d957cb0dcd2051\");\n",
       "    }\n",
       "    const paths = {\n",
       "      \"vega\": \"https://cdn.jsdelivr.net/npm/vega@5?noext\",\n",
       "      \"vega-lib\": \"https://cdn.jsdelivr.net/npm/vega-lib?noext\",\n",
       "      \"vega-lite\": \"https://cdn.jsdelivr.net/npm/vega-lite@5.20.1?noext\",\n",
       "      \"vega-embed\": \"https://cdn.jsdelivr.net/npm/vega-embed@6?noext\",\n",
       "    };\n",
       "\n",
       "    function maybeLoadScript(lib, version) {\n",
       "      var key = `${lib.replace(\"-\", \"\")}_version`;\n",
       "      return (VEGA_DEBUG[key] == version) ?\n",
       "        Promise.resolve(paths[lib]) :\n",
       "        new Promise(function(resolve, reject) {\n",
       "          var s = document.createElement('script');\n",
       "          document.getElementsByTagName(\"head\")[0].appendChild(s);\n",
       "          s.async = true;\n",
       "          s.onload = () => {\n",
       "            VEGA_DEBUG[key] = version;\n",
       "            return resolve(paths[lib]);\n",
       "          };\n",
       "          s.onerror = () => reject(`Error loading script: ${paths[lib]}`);\n",
       "          s.src = paths[lib];\n",
       "        });\n",
       "    }\n",
       "\n",
       "    function showError(err) {\n",
       "      outputDiv.innerHTML = `<div class=\"error\" style=\"color:red;\">${err}</div>`;\n",
       "      throw err;\n",
       "    }\n",
       "\n",
       "    function displayChart(vegaEmbed) {\n",
       "      vegaEmbed(outputDiv, spec, embedOpt)\n",
       "        .catch(err => showError(`Javascript Error: ${err.message}<br>This usually means there's a typo in your chart specification. See the javascript console for the full traceback.`));\n",
       "    }\n",
       "\n",
       "    if(typeof define === \"function\" && define.amd) {\n",
       "      requirejs.config({paths});\n",
       "      require([\"vega-embed\"], displayChart, err => showError(`Error loading script: ${err.message}`));\n",
       "    } else {\n",
       "      maybeLoadScript(\"vega\", \"5\")\n",
       "        .then(() => maybeLoadScript(\"vega-lite\", \"5.20.1\"))\n",
       "        .then(() => maybeLoadScript(\"vega-embed\", \"6\"))\n",
       "        .catch(showError)\n",
       "        .then(() => displayChart(vegaEmbed));\n",
       "    }\n",
       "  })({\"config\": {\"view\": {\"continuousWidth\": 300, \"continuousHeight\": 300}}, \"data\": {\"name\": \"data-a8548af86759c5cabe4cb2b4c3519b10\"}, \"mark\": {\"type\": \"rect\", \"color\": \"#f5b7b1\", \"opacity\": 1}, \"encoding\": {\"x\": {\"field\": \"x1\", \"type\": \"temporal\"}, \"x2\": {\"field\": \"x2\"}, \"y\": {\"field\": \"y1\", \"type\": \"nominal\"}, \"y2\": {\"field\": \"y2\"}}, \"$schema\": \"https://vega.github.io/schema/vega-lite/v5.20.1.json\", \"datasets\": {\"data-a8548af86759c5cabe4cb2b4c3519b10\": [{\"x1\": \"2014-01-01T00:00:00\", \"x2\": \"2017-01-01T00:00:00\", \"y1\": 0, \"y2\": 1000, \"governement\": \"Democratic\"}, {\"x1\": \"2014-01-01T00:00:00\", \"x2\": \"2017-01-01T00:00:00\", \"y1\": 0, \"y2\": 1000, \"governement\": \"Democratic\"}]}}, {\"mode\": \"vega-lite\"});\n",
       "</script>"
      ],
      "text/plain": [
       "alt.Chart(...)"
      ]
     },
     "metadata": {},
     "output_type": "display_data"
    }
   ],
   "source": [
    "df_rep = pd.DataFrame({\n",
    "    'x1': 2014,\n",
    "    'x2': 2017,\n",
    "    'y1': [0]*2, \n",
    "    'y2': [1000]*2,\n",
    "    'governement': ['Democratic']*2\n",
    "})\n",
    "\n",
    "df_rep['x1'] = pd.to_datetime(df_rep['x1'], format ='%Y')\n",
    "df_rep['x2'] = pd.to_datetime(df_rep['x2'], format ='%Y')\n",
    "\n",
    "rep = alt.Chart(df_rep).mark_rect(color=RED, opacity=1).encode(\n",
    "    x=alt.X('x1:T'),\n",
    "    x2=alt.X2('x2:T'),\n",
    "    y=alt.Y('y1:N'),\n",
    "    y2=alt.Y2('y2:N'))\n",
    "rep.show()"
   ]
  },
  {
   "cell_type": "markdown",
   "metadata": {},
   "source": [
    "<h4 style=\"color:goldenrod\"> Shooting trends inside a year </h4>"
   ]
  },
  {
   "cell_type": "code",
   "execution_count": 429,
   "metadata": {},
   "outputs": [],
   "source": [
    "monthly_shootings = MassShootings[MassShootings['Year']>2014].groupby(['Year', 'Month']).size().reset_index(name='Total Shootings')\n",
    "monthly_avg = monthly_shootings.groupby('Month')['Total Shootings'].mean().reset_index()"
   ]
  },
  {
   "cell_type": "code",
   "execution_count": 430,
   "metadata": {},
   "outputs": [
    {
     "data": {
      "text/html": [
       "\n",
       "<style>\n",
       "  #altair-viz-7173b7e1a8c4421e9fc5e0a9e26776af.vega-embed {\n",
       "    width: 100%;\n",
       "    display: flex;\n",
       "  }\n",
       "\n",
       "  #altair-viz-7173b7e1a8c4421e9fc5e0a9e26776af.vega-embed details,\n",
       "  #altair-viz-7173b7e1a8c4421e9fc5e0a9e26776af.vega-embed details summary {\n",
       "    position: relative;\n",
       "  }\n",
       "</style>\n",
       "<div id=\"altair-viz-7173b7e1a8c4421e9fc5e0a9e26776af\"></div>\n",
       "<script type=\"text/javascript\">\n",
       "  var VEGA_DEBUG = (typeof VEGA_DEBUG == \"undefined\") ? {} : VEGA_DEBUG;\n",
       "  (function(spec, embedOpt){\n",
       "    let outputDiv = document.currentScript.previousElementSibling;\n",
       "    if (outputDiv.id !== \"altair-viz-7173b7e1a8c4421e9fc5e0a9e26776af\") {\n",
       "      outputDiv = document.getElementById(\"altair-viz-7173b7e1a8c4421e9fc5e0a9e26776af\");\n",
       "    }\n",
       "    const paths = {\n",
       "      \"vega\": \"https://cdn.jsdelivr.net/npm/vega@5?noext\",\n",
       "      \"vega-lib\": \"https://cdn.jsdelivr.net/npm/vega-lib?noext\",\n",
       "      \"vega-lite\": \"https://cdn.jsdelivr.net/npm/vega-lite@5.20.1?noext\",\n",
       "      \"vega-embed\": \"https://cdn.jsdelivr.net/npm/vega-embed@6?noext\",\n",
       "    };\n",
       "\n",
       "    function maybeLoadScript(lib, version) {\n",
       "      var key = `${lib.replace(\"-\", \"\")}_version`;\n",
       "      return (VEGA_DEBUG[key] == version) ?\n",
       "        Promise.resolve(paths[lib]) :\n",
       "        new Promise(function(resolve, reject) {\n",
       "          var s = document.createElement('script');\n",
       "          document.getElementsByTagName(\"head\")[0].appendChild(s);\n",
       "          s.async = true;\n",
       "          s.onload = () => {\n",
       "            VEGA_DEBUG[key] = version;\n",
       "            return resolve(paths[lib]);\n",
       "          };\n",
       "          s.onerror = () => reject(`Error loading script: ${paths[lib]}`);\n",
       "          s.src = paths[lib];\n",
       "        });\n",
       "    }\n",
       "\n",
       "    function showError(err) {\n",
       "      outputDiv.innerHTML = `<div class=\"error\" style=\"color:red;\">${err}</div>`;\n",
       "      throw err;\n",
       "    }\n",
       "\n",
       "    function displayChart(vegaEmbed) {\n",
       "      vegaEmbed(outputDiv, spec, embedOpt)\n",
       "        .catch(err => showError(`Javascript Error: ${err.message}<br>This usually means there's a typo in your chart specification. See the javascript console for the full traceback.`));\n",
       "    }\n",
       "\n",
       "    if(typeof define === \"function\" && define.amd) {\n",
       "      requirejs.config({paths});\n",
       "      require([\"vega-embed\"], displayChart, err => showError(`Error loading script: ${err.message}`));\n",
       "    } else {\n",
       "      maybeLoadScript(\"vega\", \"5\")\n",
       "        .then(() => maybeLoadScript(\"vega-lite\", \"5.20.1\"))\n",
       "        .then(() => maybeLoadScript(\"vega-embed\", \"6\"))\n",
       "        .catch(showError)\n",
       "        .then(() => displayChart(vegaEmbed));\n",
       "    }\n",
       "  })({\"config\": {\"view\": {\"continuousWidth\": 300, \"continuousHeight\": 300}}, \"data\": {\"name\": \"data-c01ad75464e1ce59bd8297654603bd60\"}, \"mark\": {\"type\": \"line\"}, \"encoding\": {\"color\": {\"field\": \"Year\", \"title\": \"Any\", \"type\": \"ordinal\"}, \"x\": {\"axis\": {\"labelAngle\": 0}, \"field\": \"Month\", \"title\": \"Mes\", \"type\": \"ordinal\"}, \"y\": {\"field\": \"Total Shootings\", \"title\": \"Nombre total de tirotejos\", \"type\": \"quantitative\"}}, \"title\": \"Evoluci\\u00f3 mensual dels tirotejos massius als EUA per any\", \"$schema\": \"https://vega.github.io/schema/vega-lite/v5.20.1.json\", \"datasets\": {\"data-c01ad75464e1ce59bd8297654603bd60\": [{\"Year\": 2015, \"Month\": 1, \"Total Shootings\": 22}, {\"Year\": 2015, \"Month\": 2, \"Total Shootings\": 15}, {\"Year\": 2015, \"Month\": 3, \"Total Shootings\": 22}, {\"Year\": 2015, \"Month\": 4, \"Total Shootings\": 19}, {\"Year\": 2015, \"Month\": 5, \"Total Shootings\": 35}, {\"Year\": 2015, \"Month\": 6, \"Total Shootings\": 36}, {\"Year\": 2015, \"Month\": 7, \"Total Shootings\": 44}, {\"Year\": 2015, \"Month\": 8, \"Total Shootings\": 39}, {\"Year\": 2015, \"Month\": 9, \"Total Shootings\": 34}, {\"Year\": 2015, \"Month\": 10, \"Total Shootings\": 19}, {\"Year\": 2015, \"Month\": 11, \"Total Shootings\": 26}, {\"Year\": 2015, \"Month\": 12, \"Total Shootings\": 20}, {\"Year\": 2016, \"Month\": 1, \"Total Shootings\": 11}, {\"Year\": 2016, \"Month\": 2, \"Total Shootings\": 27}, {\"Year\": 2016, \"Month\": 3, \"Total Shootings\": 22}, {\"Year\": 2016, \"Month\": 4, \"Total Shootings\": 32}, {\"Year\": 2016, \"Month\": 5, \"Total Shootings\": 29}, {\"Year\": 2016, \"Month\": 6, \"Total Shootings\": 45}, {\"Year\": 2016, \"Month\": 7, \"Total Shootings\": 49}, {\"Year\": 2016, \"Month\": 8, \"Total Shootings\": 39}, {\"Year\": 2016, \"Month\": 9, \"Total Shootings\": 32}, {\"Year\": 2016, \"Month\": 10, \"Total Shootings\": 31}, {\"Year\": 2016, \"Month\": 11, \"Total Shootings\": 36}, {\"Year\": 2016, \"Month\": 12, \"Total Shootings\": 26}, {\"Year\": 2017, \"Month\": 1, \"Total Shootings\": 31}, {\"Year\": 2017, \"Month\": 2, \"Total Shootings\": 24}, {\"Year\": 2017, \"Month\": 3, \"Total Shootings\": 22}, {\"Year\": 2017, \"Month\": 4, \"Total Shootings\": 39}, {\"Year\": 2017, \"Month\": 5, \"Total Shootings\": 23}, {\"Year\": 2017, \"Month\": 6, \"Total Shootings\": 34}, {\"Year\": 2017, \"Month\": 7, \"Total Shootings\": 36}, {\"Year\": 2017, \"Month\": 8, \"Total Shootings\": 33}, {\"Year\": 2017, \"Month\": 9, \"Total Shootings\": 30}, {\"Year\": 2017, \"Month\": 10, \"Total Shootings\": 28}, {\"Year\": 2017, \"Month\": 11, \"Total Shootings\": 24}, {\"Year\": 2017, \"Month\": 12, \"Total Shootings\": 19}, {\"Year\": 2018, \"Month\": 1, \"Total Shootings\": 22}, {\"Year\": 2018, \"Month\": 2, \"Total Shootings\": 13}, {\"Year\": 2018, \"Month\": 3, \"Total Shootings\": 17}, {\"Year\": 2018, \"Month\": 4, \"Total Shootings\": 25}, {\"Year\": 2018, \"Month\": 5, \"Total Shootings\": 28}, {\"Year\": 2018, \"Month\": 6, \"Total Shootings\": 50}, {\"Year\": 2018, \"Month\": 7, \"Total Shootings\": 44}, {\"Year\": 2018, \"Month\": 8, \"Total Shootings\": 33}, {\"Year\": 2018, \"Month\": 9, \"Total Shootings\": 34}, {\"Year\": 2018, \"Month\": 10, \"Total Shootings\": 29}, {\"Year\": 2018, \"Month\": 11, \"Total Shootings\": 20}, {\"Year\": 2018, \"Month\": 12, \"Total Shootings\": 15}, {\"Year\": 2019, \"Month\": 1, \"Total Shootings\": 25}, {\"Year\": 2019, \"Month\": 2, \"Total Shootings\": 20}, {\"Year\": 2019, \"Month\": 3, \"Total Shootings\": 20}, {\"Year\": 2019, \"Month\": 4, \"Total Shootings\": 32}, {\"Year\": 2019, \"Month\": 5, \"Total Shootings\": 47}, {\"Year\": 2019, \"Month\": 6, \"Total Shootings\": 52}, {\"Year\": 2019, \"Month\": 7, \"Total Shootings\": 41}, {\"Year\": 2019, \"Month\": 8, \"Total Shootings\": 40}, {\"Year\": 2019, \"Month\": 9, \"Total Shootings\": 34}, {\"Year\": 2019, \"Month\": 10, \"Total Shootings\": 34}, {\"Year\": 2019, \"Month\": 11, \"Total Shootings\": 33}, {\"Year\": 2019, \"Month\": 12, \"Total Shootings\": 32}, {\"Year\": 2020, \"Month\": 1, \"Total Shootings\": 25}, {\"Year\": 2020, \"Month\": 2, \"Total Shootings\": 20}, {\"Year\": 2020, \"Month\": 3, \"Total Shootings\": 24}, {\"Year\": 2020, \"Month\": 4, \"Total Shootings\": 26}, {\"Year\": 2020, \"Month\": 5, \"Total Shootings\": 59}, {\"Year\": 2020, \"Month\": 6, \"Total Shootings\": 94}, {\"Year\": 2020, \"Month\": 7, \"Total Shootings\": 89}, {\"Year\": 2020, \"Month\": 8, \"Total Shootings\": 80}, {\"Year\": 2020, \"Month\": 9, \"Total Shootings\": 68}, {\"Year\": 2020, \"Month\": 10, \"Total Shootings\": 50}, {\"Year\": 2020, \"Month\": 11, \"Total Shootings\": 49}, {\"Year\": 2020, \"Month\": 12, \"Total Shootings\": 26}, {\"Year\": 2021, \"Month\": 1, \"Total Shootings\": 32}, {\"Year\": 2021, \"Month\": 2, \"Total Shootings\": 40}, {\"Year\": 2021, \"Month\": 3, \"Total Shootings\": 45}, {\"Year\": 2021, \"Month\": 4, \"Total Shootings\": 49}, {\"Year\": 2021, \"Month\": 5, \"Total Shootings\": 72}, {\"Year\": 2021, \"Month\": 6, \"Total Shootings\": 74}, {\"Year\": 2021, \"Month\": 7, \"Total Shootings\": 83}, {\"Year\": 2021, \"Month\": 8, \"Total Shootings\": 64}, {\"Year\": 2021, \"Month\": 9, \"Total Shootings\": 66}, {\"Year\": 2021, \"Month\": 10, \"Total Shootings\": 70}, {\"Year\": 2021, \"Month\": 11, \"Total Shootings\": 48}, {\"Year\": 2021, \"Month\": 12, \"Total Shootings\": 39}, {\"Year\": 2022, \"Month\": 1, \"Total Shootings\": 34}, {\"Year\": 2022, \"Month\": 2, \"Total Shootings\": 36}, {\"Year\": 2022, \"Month\": 3, \"Total Shootings\": 41}, {\"Year\": 2022, \"Month\": 4, \"Total Shootings\": 57}, {\"Year\": 2022, \"Month\": 5, \"Total Shootings\": 64}, {\"Year\": 2022, \"Month\": 6, \"Total Shootings\": 64}, {\"Year\": 2022, \"Month\": 7, \"Total Shootings\": 89}, {\"Year\": 2022, \"Month\": 8, \"Total Shootings\": 59}, {\"Year\": 2022, \"Month\": 9, \"Total Shootings\": 63}, {\"Year\": 2022, \"Month\": 10, \"Total Shootings\": 62}, {\"Year\": 2022, \"Month\": 11, \"Total Shootings\": 43}, {\"Year\": 2022, \"Month\": 12, \"Total Shootings\": 30}, {\"Year\": 2023, \"Month\": 1, \"Total Shootings\": 52}, {\"Year\": 2023, \"Month\": 2, \"Total Shootings\": 41}, {\"Year\": 2023, \"Month\": 3, \"Total Shootings\": 41}, {\"Year\": 2023, \"Month\": 4, \"Total Shootings\": 55}, {\"Year\": 2023, \"Month\": 5, \"Total Shootings\": 78}, {\"Year\": 2023, \"Month\": 6, \"Total Shootings\": 67}, {\"Year\": 2023, \"Month\": 7, \"Total Shootings\": 85}, {\"Year\": 2023, \"Month\": 8, \"Total Shootings\": 57}, {\"Year\": 2023, \"Month\": 9, \"Total Shootings\": 41}, {\"Year\": 2023, \"Month\": 10, \"Total Shootings\": 65}, {\"Year\": 2023, \"Month\": 11, \"Total Shootings\": 33}, {\"Year\": 2023, \"Month\": 12, \"Total Shootings\": 36}, {\"Year\": 2024, \"Month\": 1, \"Total Shootings\": 38}, {\"Year\": 2024, \"Month\": 2, \"Total Shootings\": 27}, {\"Year\": 2024, \"Month\": 3, \"Total Shootings\": 34}, {\"Year\": 2024, \"Month\": 4, \"Total Shootings\": 37}, {\"Year\": 2024, \"Month\": 5, \"Total Shootings\": 52}, {\"Year\": 2024, \"Month\": 6, \"Total Shootings\": 71}, {\"Year\": 2024, \"Month\": 7, \"Total Shootings\": 62}, {\"Year\": 2024, \"Month\": 8, \"Total Shootings\": 51}, {\"Year\": 2024, \"Month\": 9, \"Total Shootings\": 24}]}}, {\"mode\": \"vega-lite\"});\n",
       "</script>"
      ],
      "text/plain": [
       "alt.Chart(...)"
      ]
     },
     "execution_count": 430,
     "metadata": {},
     "output_type": "execute_result"
    }
   ],
   "source": [
    "line_chart_months1 = alt.Chart(monthly_shootings[monthly_shootings['Year']>2013]).mark_line().encode(\n",
    "    x=alt.X('Month:O', title='Mes', axis=alt.Axis(labelAngle=0)),\n",
    "    y=alt.Y('Total Shootings:Q', title='Nombre total de tirotejos'),\n",
    "    color=alt.Color('Year:O', title='Any')\n",
    ").properties(\n",
    "    title='Evolució mensual dels tirotejos massius als EUA per any'\n",
    ")\n",
    "\n",
    "line_chart_months1"
   ]
  },
  {
   "cell_type": "markdown",
   "metadata": {},
   "source": [
    "Even though the trend is well understood, there are too many years... we can try to visualize the last 5 years. A lighter color corresponds to an early year, but maybe it's not the best way to show the increasing amount of shootings during years."
   ]
  },
  {
   "cell_type": "code",
   "execution_count": 431,
   "metadata": {},
   "outputs": [
    {
     "data": {
      "text/html": [
       "\n",
       "<style>\n",
       "  #altair-viz-fa488b911d384d68b3422c8d72853c1f.vega-embed {\n",
       "    width: 100%;\n",
       "    display: flex;\n",
       "  }\n",
       "\n",
       "  #altair-viz-fa488b911d384d68b3422c8d72853c1f.vega-embed details,\n",
       "  #altair-viz-fa488b911d384d68b3422c8d72853c1f.vega-embed details summary {\n",
       "    position: relative;\n",
       "  }\n",
       "</style>\n",
       "<div id=\"altair-viz-fa488b911d384d68b3422c8d72853c1f\"></div>\n",
       "<script type=\"text/javascript\">\n",
       "  var VEGA_DEBUG = (typeof VEGA_DEBUG == \"undefined\") ? {} : VEGA_DEBUG;\n",
       "  (function(spec, embedOpt){\n",
       "    let outputDiv = document.currentScript.previousElementSibling;\n",
       "    if (outputDiv.id !== \"altair-viz-fa488b911d384d68b3422c8d72853c1f\") {\n",
       "      outputDiv = document.getElementById(\"altair-viz-fa488b911d384d68b3422c8d72853c1f\");\n",
       "    }\n",
       "    const paths = {\n",
       "      \"vega\": \"https://cdn.jsdelivr.net/npm/vega@5?noext\",\n",
       "      \"vega-lib\": \"https://cdn.jsdelivr.net/npm/vega-lib?noext\",\n",
       "      \"vega-lite\": \"https://cdn.jsdelivr.net/npm/vega-lite@5.20.1?noext\",\n",
       "      \"vega-embed\": \"https://cdn.jsdelivr.net/npm/vega-embed@6?noext\",\n",
       "    };\n",
       "\n",
       "    function maybeLoadScript(lib, version) {\n",
       "      var key = `${lib.replace(\"-\", \"\")}_version`;\n",
       "      return (VEGA_DEBUG[key] == version) ?\n",
       "        Promise.resolve(paths[lib]) :\n",
       "        new Promise(function(resolve, reject) {\n",
       "          var s = document.createElement('script');\n",
       "          document.getElementsByTagName(\"head\")[0].appendChild(s);\n",
       "          s.async = true;\n",
       "          s.onload = () => {\n",
       "            VEGA_DEBUG[key] = version;\n",
       "            return resolve(paths[lib]);\n",
       "          };\n",
       "          s.onerror = () => reject(`Error loading script: ${paths[lib]}`);\n",
       "          s.src = paths[lib];\n",
       "        });\n",
       "    }\n",
       "\n",
       "    function showError(err) {\n",
       "      outputDiv.innerHTML = `<div class=\"error\" style=\"color:red;\">${err}</div>`;\n",
       "      throw err;\n",
       "    }\n",
       "\n",
       "    function displayChart(vegaEmbed) {\n",
       "      vegaEmbed(outputDiv, spec, embedOpt)\n",
       "        .catch(err => showError(`Javascript Error: ${err.message}<br>This usually means there's a typo in your chart specification. See the javascript console for the full traceback.`));\n",
       "    }\n",
       "\n",
       "    if(typeof define === \"function\" && define.amd) {\n",
       "      requirejs.config({paths});\n",
       "      require([\"vega-embed\"], displayChart, err => showError(`Error loading script: ${err.message}`));\n",
       "    } else {\n",
       "      maybeLoadScript(\"vega\", \"5\")\n",
       "        .then(() => maybeLoadScript(\"vega-lite\", \"5.20.1\"))\n",
       "        .then(() => maybeLoadScript(\"vega-embed\", \"6\"))\n",
       "        .catch(showError)\n",
       "        .then(() => displayChart(vegaEmbed));\n",
       "    }\n",
       "  })({\"config\": {\"view\": {\"continuousWidth\": 300, \"continuousHeight\": 300}}, \"data\": {\"name\": \"data-8a621a930edbeab8b899cdea762cfc1d\"}, \"mark\": {\"type\": \"line\"}, \"encoding\": {\"color\": {\"field\": \"Year\", \"title\": \"Any\", \"type\": \"nominal\"}, \"x\": {\"axis\": {\"labelAngle\": 0}, \"field\": \"Month\", \"title\": \"Mes\", \"type\": \"ordinal\"}, \"y\": {\"field\": \"Total Shootings\", \"title\": \"Nombre total de tirotejos\", \"type\": \"quantitative\"}}, \"title\": \"Evoluci\\u00f3 mensual dels tirotejos massius als EUA per any\", \"$schema\": \"https://vega.github.io/schema/vega-lite/v5.20.1.json\", \"datasets\": {\"data-8a621a930edbeab8b899cdea762cfc1d\": [{\"Year\": 2020, \"Month\": 1, \"Total Shootings\": 25}, {\"Year\": 2020, \"Month\": 2, \"Total Shootings\": 20}, {\"Year\": 2020, \"Month\": 3, \"Total Shootings\": 24}, {\"Year\": 2020, \"Month\": 4, \"Total Shootings\": 26}, {\"Year\": 2020, \"Month\": 5, \"Total Shootings\": 59}, {\"Year\": 2020, \"Month\": 6, \"Total Shootings\": 94}, {\"Year\": 2020, \"Month\": 7, \"Total Shootings\": 89}, {\"Year\": 2020, \"Month\": 8, \"Total Shootings\": 80}, {\"Year\": 2020, \"Month\": 9, \"Total Shootings\": 68}, {\"Year\": 2020, \"Month\": 10, \"Total Shootings\": 50}, {\"Year\": 2020, \"Month\": 11, \"Total Shootings\": 49}, {\"Year\": 2020, \"Month\": 12, \"Total Shootings\": 26}, {\"Year\": 2021, \"Month\": 1, \"Total Shootings\": 32}, {\"Year\": 2021, \"Month\": 2, \"Total Shootings\": 40}, {\"Year\": 2021, \"Month\": 3, \"Total Shootings\": 45}, {\"Year\": 2021, \"Month\": 4, \"Total Shootings\": 49}, {\"Year\": 2021, \"Month\": 5, \"Total Shootings\": 72}, {\"Year\": 2021, \"Month\": 6, \"Total Shootings\": 74}, {\"Year\": 2021, \"Month\": 7, \"Total Shootings\": 83}, {\"Year\": 2021, \"Month\": 8, \"Total Shootings\": 64}, {\"Year\": 2021, \"Month\": 9, \"Total Shootings\": 66}, {\"Year\": 2021, \"Month\": 10, \"Total Shootings\": 70}, {\"Year\": 2021, \"Month\": 11, \"Total Shootings\": 48}, {\"Year\": 2021, \"Month\": 12, \"Total Shootings\": 39}, {\"Year\": 2022, \"Month\": 1, \"Total Shootings\": 34}, {\"Year\": 2022, \"Month\": 2, \"Total Shootings\": 36}, {\"Year\": 2022, \"Month\": 3, \"Total Shootings\": 41}, {\"Year\": 2022, \"Month\": 4, \"Total Shootings\": 57}, {\"Year\": 2022, \"Month\": 5, \"Total Shootings\": 64}, {\"Year\": 2022, \"Month\": 6, \"Total Shootings\": 64}, {\"Year\": 2022, \"Month\": 7, \"Total Shootings\": 89}, {\"Year\": 2022, \"Month\": 8, \"Total Shootings\": 59}, {\"Year\": 2022, \"Month\": 9, \"Total Shootings\": 63}, {\"Year\": 2022, \"Month\": 10, \"Total Shootings\": 62}, {\"Year\": 2022, \"Month\": 11, \"Total Shootings\": 43}, {\"Year\": 2022, \"Month\": 12, \"Total Shootings\": 30}, {\"Year\": 2023, \"Month\": 1, \"Total Shootings\": 52}, {\"Year\": 2023, \"Month\": 2, \"Total Shootings\": 41}, {\"Year\": 2023, \"Month\": 3, \"Total Shootings\": 41}, {\"Year\": 2023, \"Month\": 4, \"Total Shootings\": 55}, {\"Year\": 2023, \"Month\": 5, \"Total Shootings\": 78}, {\"Year\": 2023, \"Month\": 6, \"Total Shootings\": 67}, {\"Year\": 2023, \"Month\": 7, \"Total Shootings\": 85}, {\"Year\": 2023, \"Month\": 8, \"Total Shootings\": 57}, {\"Year\": 2023, \"Month\": 9, \"Total Shootings\": 41}, {\"Year\": 2023, \"Month\": 10, \"Total Shootings\": 65}, {\"Year\": 2023, \"Month\": 11, \"Total Shootings\": 33}, {\"Year\": 2023, \"Month\": 12, \"Total Shootings\": 36}, {\"Year\": 2024, \"Month\": 1, \"Total Shootings\": 38}, {\"Year\": 2024, \"Month\": 2, \"Total Shootings\": 27}, {\"Year\": 2024, \"Month\": 3, \"Total Shootings\": 34}, {\"Year\": 2024, \"Month\": 4, \"Total Shootings\": 37}, {\"Year\": 2024, \"Month\": 5, \"Total Shootings\": 52}, {\"Year\": 2024, \"Month\": 6, \"Total Shootings\": 71}, {\"Year\": 2024, \"Month\": 7, \"Total Shootings\": 62}, {\"Year\": 2024, \"Month\": 8, \"Total Shootings\": 51}, {\"Year\": 2024, \"Month\": 9, \"Total Shootings\": 24}]}}, {\"mode\": \"vega-lite\"});\n",
       "</script>"
      ],
      "text/plain": [
       "alt.Chart(...)"
      ]
     },
     "execution_count": 431,
     "metadata": {},
     "output_type": "execute_result"
    }
   ],
   "source": [
    "line_chart_months2 = alt.Chart(monthly_shootings[monthly_shootings['Year']>2019]).mark_line().encode(\n",
    "    x=alt.X('Month:O', title='Mes', axis=alt.Axis(labelAngle=0)),\n",
    "    y=alt.Y('Total Shootings:Q', title='Nombre total de tirotejos'),\n",
    "    color=alt.Color('Year:N', title='Any')\n",
    ").properties(\n",
    "    title='Evolució mensual dels tirotejos massius als EUA per any'\n",
    ")\n",
    "\n",
    "line_chart_months2"
   ]
  },
  {
   "cell_type": "markdown",
   "metadata": {},
   "source": [
    "That's better!"
   ]
  },
  {
   "cell_type": "code",
   "execution_count": 432,
   "metadata": {},
   "outputs": [
    {
     "data": {
      "text/html": [
       "\n",
       "<style>\n",
       "  #altair-viz-a3924925e1214d85b44d91fbcda127c4.vega-embed {\n",
       "    width: 100%;\n",
       "    display: flex;\n",
       "  }\n",
       "\n",
       "  #altair-viz-a3924925e1214d85b44d91fbcda127c4.vega-embed details,\n",
       "  #altair-viz-a3924925e1214d85b44d91fbcda127c4.vega-embed details summary {\n",
       "    position: relative;\n",
       "  }\n",
       "</style>\n",
       "<div id=\"altair-viz-a3924925e1214d85b44d91fbcda127c4\"></div>\n",
       "<script type=\"text/javascript\">\n",
       "  var VEGA_DEBUG = (typeof VEGA_DEBUG == \"undefined\") ? {} : VEGA_DEBUG;\n",
       "  (function(spec, embedOpt){\n",
       "    let outputDiv = document.currentScript.previousElementSibling;\n",
       "    if (outputDiv.id !== \"altair-viz-a3924925e1214d85b44d91fbcda127c4\") {\n",
       "      outputDiv = document.getElementById(\"altair-viz-a3924925e1214d85b44d91fbcda127c4\");\n",
       "    }\n",
       "    const paths = {\n",
       "      \"vega\": \"https://cdn.jsdelivr.net/npm/vega@5?noext\",\n",
       "      \"vega-lib\": \"https://cdn.jsdelivr.net/npm/vega-lib?noext\",\n",
       "      \"vega-lite\": \"https://cdn.jsdelivr.net/npm/vega-lite@5.20.1?noext\",\n",
       "      \"vega-embed\": \"https://cdn.jsdelivr.net/npm/vega-embed@6?noext\",\n",
       "    };\n",
       "\n",
       "    function maybeLoadScript(lib, version) {\n",
       "      var key = `${lib.replace(\"-\", \"\")}_version`;\n",
       "      return (VEGA_DEBUG[key] == version) ?\n",
       "        Promise.resolve(paths[lib]) :\n",
       "        new Promise(function(resolve, reject) {\n",
       "          var s = document.createElement('script');\n",
       "          document.getElementsByTagName(\"head\")[0].appendChild(s);\n",
       "          s.async = true;\n",
       "          s.onload = () => {\n",
       "            VEGA_DEBUG[key] = version;\n",
       "            return resolve(paths[lib]);\n",
       "          };\n",
       "          s.onerror = () => reject(`Error loading script: ${paths[lib]}`);\n",
       "          s.src = paths[lib];\n",
       "        });\n",
       "    }\n",
       "\n",
       "    function showError(err) {\n",
       "      outputDiv.innerHTML = `<div class=\"error\" style=\"color:red;\">${err}</div>`;\n",
       "      throw err;\n",
       "    }\n",
       "\n",
       "    function displayChart(vegaEmbed) {\n",
       "      vegaEmbed(outputDiv, spec, embedOpt)\n",
       "        .catch(err => showError(`Javascript Error: ${err.message}<br>This usually means there's a typo in your chart specification. See the javascript console for the full traceback.`));\n",
       "    }\n",
       "\n",
       "    if(typeof define === \"function\" && define.amd) {\n",
       "      requirejs.config({paths});\n",
       "      require([\"vega-embed\"], displayChart, err => showError(`Error loading script: ${err.message}`));\n",
       "    } else {\n",
       "      maybeLoadScript(\"vega\", \"5\")\n",
       "        .then(() => maybeLoadScript(\"vega-lite\", \"5.20.1\"))\n",
       "        .then(() => maybeLoadScript(\"vega-embed\", \"6\"))\n",
       "        .catch(showError)\n",
       "        .then(() => displayChart(vegaEmbed));\n",
       "    }\n",
       "  })({\"config\": {\"view\": {\"continuousWidth\": 300, \"continuousHeight\": 300}}, \"data\": {\"name\": \"data-c84d30ffb07fcf204ba7bf9497aa596d\"}, \"mark\": {\"type\": \"line\"}, \"encoding\": {\"x\": {\"axis\": null, \"field\": \"year-month\", \"title\": \"Mes\", \"type\": \"ordinal\"}, \"y\": {\"field\": \"Total Shootings\", \"title\": \"Nombre total de tirotejos\", \"type\": \"quantitative\"}}, \"title\": \"Evoluci\\u00f3 mensual dels tirotejos massius als EUA per any\", \"width\": 1500, \"$schema\": \"https://vega.github.io/schema/vega-lite/v5.20.1.json\", \"datasets\": {\"data-c84d30ffb07fcf204ba7bf9497aa596d\": [{\"Year\": 2015, \"Month\": 1, \"Total Shootings\": 22, \"year-month\": 201500.0}, {\"Year\": 2015, \"Month\": 2, \"Total Shootings\": 15, \"year-month\": 201500.9090909091}, {\"Year\": 2015, \"Month\": 3, \"Total Shootings\": 22, \"year-month\": 201501.81818181818}, {\"Year\": 2015, \"Month\": 4, \"Total Shootings\": 19, \"year-month\": 201502.72727272726}, {\"Year\": 2015, \"Month\": 5, \"Total Shootings\": 35, \"year-month\": 201503.63636363635}, {\"Year\": 2015, \"Month\": 6, \"Total Shootings\": 36, \"year-month\": 201504.54545454544}, {\"Year\": 2015, \"Month\": 7, \"Total Shootings\": 44, \"year-month\": 201505.45454545456}, {\"Year\": 2015, \"Month\": 8, \"Total Shootings\": 39, \"year-month\": 201506.36363636365}, {\"Year\": 2015, \"Month\": 9, \"Total Shootings\": 34, \"year-month\": 201507.27272727274}, {\"Year\": 2015, \"Month\": 10, \"Total Shootings\": 19, \"year-month\": 201508.18181818182}, {\"Year\": 2015, \"Month\": 11, \"Total Shootings\": 26, \"year-month\": 201509.0909090909}, {\"Year\": 2015, \"Month\": 12, \"Total Shootings\": 20, \"year-month\": 201510.0}, {\"Year\": 2016, \"Month\": 1, \"Total Shootings\": 11, \"year-month\": 201600.0}, {\"Year\": 2016, \"Month\": 2, \"Total Shootings\": 27, \"year-month\": 201600.9090909091}, {\"Year\": 2016, \"Month\": 3, \"Total Shootings\": 22, \"year-month\": 201601.81818181818}, {\"Year\": 2016, \"Month\": 4, \"Total Shootings\": 32, \"year-month\": 201602.72727272726}, {\"Year\": 2016, \"Month\": 5, \"Total Shootings\": 29, \"year-month\": 201603.63636363635}, {\"Year\": 2016, \"Month\": 6, \"Total Shootings\": 45, \"year-month\": 201604.54545454544}, {\"Year\": 2016, \"Month\": 7, \"Total Shootings\": 49, \"year-month\": 201605.45454545456}, {\"Year\": 2016, \"Month\": 8, \"Total Shootings\": 39, \"year-month\": 201606.36363636365}, {\"Year\": 2016, \"Month\": 9, \"Total Shootings\": 32, \"year-month\": 201607.27272727274}, {\"Year\": 2016, \"Month\": 10, \"Total Shootings\": 31, \"year-month\": 201608.18181818182}, {\"Year\": 2016, \"Month\": 11, \"Total Shootings\": 36, \"year-month\": 201609.0909090909}, {\"Year\": 2016, \"Month\": 12, \"Total Shootings\": 26, \"year-month\": 201610.0}, {\"Year\": 2017, \"Month\": 1, \"Total Shootings\": 31, \"year-month\": 201700.0}, {\"Year\": 2017, \"Month\": 2, \"Total Shootings\": 24, \"year-month\": 201700.9090909091}, {\"Year\": 2017, \"Month\": 3, \"Total Shootings\": 22, \"year-month\": 201701.81818181818}, {\"Year\": 2017, \"Month\": 4, \"Total Shootings\": 39, \"year-month\": 201702.72727272726}, {\"Year\": 2017, \"Month\": 5, \"Total Shootings\": 23, \"year-month\": 201703.63636363635}, {\"Year\": 2017, \"Month\": 6, \"Total Shootings\": 34, \"year-month\": 201704.54545454544}, {\"Year\": 2017, \"Month\": 7, \"Total Shootings\": 36, \"year-month\": 201705.45454545456}, {\"Year\": 2017, \"Month\": 8, \"Total Shootings\": 33, \"year-month\": 201706.36363636365}, {\"Year\": 2017, \"Month\": 9, \"Total Shootings\": 30, \"year-month\": 201707.27272727274}, {\"Year\": 2017, \"Month\": 10, \"Total Shootings\": 28, \"year-month\": 201708.18181818182}, {\"Year\": 2017, \"Month\": 11, \"Total Shootings\": 24, \"year-month\": 201709.0909090909}, {\"Year\": 2017, \"Month\": 12, \"Total Shootings\": 19, \"year-month\": 201710.0}, {\"Year\": 2018, \"Month\": 1, \"Total Shootings\": 22, \"year-month\": 201800.0}, {\"Year\": 2018, \"Month\": 2, \"Total Shootings\": 13, \"year-month\": 201800.9090909091}, {\"Year\": 2018, \"Month\": 3, \"Total Shootings\": 17, \"year-month\": 201801.81818181818}, {\"Year\": 2018, \"Month\": 4, \"Total Shootings\": 25, \"year-month\": 201802.72727272726}, {\"Year\": 2018, \"Month\": 5, \"Total Shootings\": 28, \"year-month\": 201803.63636363635}, {\"Year\": 2018, \"Month\": 6, \"Total Shootings\": 50, \"year-month\": 201804.54545454544}, {\"Year\": 2018, \"Month\": 7, \"Total Shootings\": 44, \"year-month\": 201805.45454545456}, {\"Year\": 2018, \"Month\": 8, \"Total Shootings\": 33, \"year-month\": 201806.36363636365}, {\"Year\": 2018, \"Month\": 9, \"Total Shootings\": 34, \"year-month\": 201807.27272727274}, {\"Year\": 2018, \"Month\": 10, \"Total Shootings\": 29, \"year-month\": 201808.18181818182}, {\"Year\": 2018, \"Month\": 11, \"Total Shootings\": 20, \"year-month\": 201809.0909090909}, {\"Year\": 2018, \"Month\": 12, \"Total Shootings\": 15, \"year-month\": 201810.0}, {\"Year\": 2019, \"Month\": 1, \"Total Shootings\": 25, \"year-month\": 201900.0}, {\"Year\": 2019, \"Month\": 2, \"Total Shootings\": 20, \"year-month\": 201900.9090909091}, {\"Year\": 2019, \"Month\": 3, \"Total Shootings\": 20, \"year-month\": 201901.81818181818}, {\"Year\": 2019, \"Month\": 4, \"Total Shootings\": 32, \"year-month\": 201902.72727272726}, {\"Year\": 2019, \"Month\": 5, \"Total Shootings\": 47, \"year-month\": 201903.63636363635}, {\"Year\": 2019, \"Month\": 6, \"Total Shootings\": 52, \"year-month\": 201904.54545454544}, {\"Year\": 2019, \"Month\": 7, \"Total Shootings\": 41, \"year-month\": 201905.45454545456}, {\"Year\": 2019, \"Month\": 8, \"Total Shootings\": 40, \"year-month\": 201906.36363636365}, {\"Year\": 2019, \"Month\": 9, \"Total Shootings\": 34, \"year-month\": 201907.27272727274}, {\"Year\": 2019, \"Month\": 10, \"Total Shootings\": 34, \"year-month\": 201908.18181818182}, {\"Year\": 2019, \"Month\": 11, \"Total Shootings\": 33, \"year-month\": 201909.0909090909}, {\"Year\": 2019, \"Month\": 12, \"Total Shootings\": 32, \"year-month\": 201910.0}, {\"Year\": 2020, \"Month\": 1, \"Total Shootings\": 25, \"year-month\": 202000.0}, {\"Year\": 2020, \"Month\": 2, \"Total Shootings\": 20, \"year-month\": 202000.9090909091}, {\"Year\": 2020, \"Month\": 3, \"Total Shootings\": 24, \"year-month\": 202001.81818181818}, {\"Year\": 2020, \"Month\": 4, \"Total Shootings\": 26, \"year-month\": 202002.72727272726}, {\"Year\": 2020, \"Month\": 5, \"Total Shootings\": 59, \"year-month\": 202003.63636363635}, {\"Year\": 2020, \"Month\": 6, \"Total Shootings\": 94, \"year-month\": 202004.54545454544}, {\"Year\": 2020, \"Month\": 7, \"Total Shootings\": 89, \"year-month\": 202005.45454545456}, {\"Year\": 2020, \"Month\": 8, \"Total Shootings\": 80, \"year-month\": 202006.36363636365}, {\"Year\": 2020, \"Month\": 9, \"Total Shootings\": 68, \"year-month\": 202007.27272727274}, {\"Year\": 2020, \"Month\": 10, \"Total Shootings\": 50, \"year-month\": 202008.18181818182}, {\"Year\": 2020, \"Month\": 11, \"Total Shootings\": 49, \"year-month\": 202009.0909090909}, {\"Year\": 2020, \"Month\": 12, \"Total Shootings\": 26, \"year-month\": 202010.0}, {\"Year\": 2021, \"Month\": 1, \"Total Shootings\": 32, \"year-month\": 202100.0}, {\"Year\": 2021, \"Month\": 2, \"Total Shootings\": 40, \"year-month\": 202100.9090909091}, {\"Year\": 2021, \"Month\": 3, \"Total Shootings\": 45, \"year-month\": 202101.81818181818}, {\"Year\": 2021, \"Month\": 4, \"Total Shootings\": 49, \"year-month\": 202102.72727272726}, {\"Year\": 2021, \"Month\": 5, \"Total Shootings\": 72, \"year-month\": 202103.63636363635}, {\"Year\": 2021, \"Month\": 6, \"Total Shootings\": 74, \"year-month\": 202104.54545454544}, {\"Year\": 2021, \"Month\": 7, \"Total Shootings\": 83, \"year-month\": 202105.45454545456}, {\"Year\": 2021, \"Month\": 8, \"Total Shootings\": 64, \"year-month\": 202106.36363636365}, {\"Year\": 2021, \"Month\": 9, \"Total Shootings\": 66, \"year-month\": 202107.27272727274}, {\"Year\": 2021, \"Month\": 10, \"Total Shootings\": 70, \"year-month\": 202108.18181818182}, {\"Year\": 2021, \"Month\": 11, \"Total Shootings\": 48, \"year-month\": 202109.0909090909}, {\"Year\": 2021, \"Month\": 12, \"Total Shootings\": 39, \"year-month\": 202110.0}, {\"Year\": 2022, \"Month\": 1, \"Total Shootings\": 34, \"year-month\": 202200.0}, {\"Year\": 2022, \"Month\": 2, \"Total Shootings\": 36, \"year-month\": 202200.9090909091}, {\"Year\": 2022, \"Month\": 3, \"Total Shootings\": 41, \"year-month\": 202201.81818181818}, {\"Year\": 2022, \"Month\": 4, \"Total Shootings\": 57, \"year-month\": 202202.72727272726}, {\"Year\": 2022, \"Month\": 5, \"Total Shootings\": 64, \"year-month\": 202203.63636363635}, {\"Year\": 2022, \"Month\": 6, \"Total Shootings\": 64, \"year-month\": 202204.54545454544}, {\"Year\": 2022, \"Month\": 7, \"Total Shootings\": 89, \"year-month\": 202205.45454545456}, {\"Year\": 2022, \"Month\": 8, \"Total Shootings\": 59, \"year-month\": 202206.36363636365}, {\"Year\": 2022, \"Month\": 9, \"Total Shootings\": 63, \"year-month\": 202207.27272727274}, {\"Year\": 2022, \"Month\": 10, \"Total Shootings\": 62, \"year-month\": 202208.18181818182}, {\"Year\": 2022, \"Month\": 11, \"Total Shootings\": 43, \"year-month\": 202209.0909090909}, {\"Year\": 2022, \"Month\": 12, \"Total Shootings\": 30, \"year-month\": 202210.0}, {\"Year\": 2023, \"Month\": 1, \"Total Shootings\": 52, \"year-month\": 202300.0}, {\"Year\": 2023, \"Month\": 2, \"Total Shootings\": 41, \"year-month\": 202300.9090909091}, {\"Year\": 2023, \"Month\": 3, \"Total Shootings\": 41, \"year-month\": 202301.81818181818}, {\"Year\": 2023, \"Month\": 4, \"Total Shootings\": 55, \"year-month\": 202302.72727272726}, {\"Year\": 2023, \"Month\": 5, \"Total Shootings\": 78, \"year-month\": 202303.63636363635}, {\"Year\": 2023, \"Month\": 6, \"Total Shootings\": 67, \"year-month\": 202304.54545454544}, {\"Year\": 2023, \"Month\": 7, \"Total Shootings\": 85, \"year-month\": 202305.45454545456}, {\"Year\": 2023, \"Month\": 8, \"Total Shootings\": 57, \"year-month\": 202306.36363636365}, {\"Year\": 2023, \"Month\": 9, \"Total Shootings\": 41, \"year-month\": 202307.27272727274}, {\"Year\": 2023, \"Month\": 10, \"Total Shootings\": 65, \"year-month\": 202308.18181818182}, {\"Year\": 2023, \"Month\": 11, \"Total Shootings\": 33, \"year-month\": 202309.0909090909}, {\"Year\": 2023, \"Month\": 12, \"Total Shootings\": 36, \"year-month\": 202310.0}, {\"Year\": 2024, \"Month\": 1, \"Total Shootings\": 38, \"year-month\": 202400.0}, {\"Year\": 2024, \"Month\": 2, \"Total Shootings\": 27, \"year-month\": 202400.9090909091}, {\"Year\": 2024, \"Month\": 3, \"Total Shootings\": 34, \"year-month\": 202401.81818181818}, {\"Year\": 2024, \"Month\": 4, \"Total Shootings\": 37, \"year-month\": 202402.72727272726}, {\"Year\": 2024, \"Month\": 5, \"Total Shootings\": 52, \"year-month\": 202403.63636363635}, {\"Year\": 2024, \"Month\": 6, \"Total Shootings\": 71, \"year-month\": 202404.54545454544}, {\"Year\": 2024, \"Month\": 7, \"Total Shootings\": 62, \"year-month\": 202405.45454545456}, {\"Year\": 2024, \"Month\": 8, \"Total Shootings\": 51, \"year-month\": 202406.36363636365}, {\"Year\": 2024, \"Month\": 9, \"Total Shootings\": 24, \"year-month\": 202407.27272727274}]}}, {\"mode\": \"vega-lite\"});\n",
       "</script>"
      ],
      "text/plain": [
       "alt.Chart(...)"
      ]
     },
     "execution_count": 432,
     "metadata": {},
     "output_type": "execute_result"
    }
   ],
   "source": [
    "monthly_shootings['year-month'] = (monthly_shootings['Year'])*100 + (monthly_shootings['Month']-1)*10/11\n",
    "\n",
    "line_chart_mont_year = alt.Chart(monthly_shootings[monthly_shootings['Year']>2013]).mark_line().encode(\n",
    "    x=alt.X('year-month:O', title='Mes', axis=None),\n",
    "    y=alt.Y('Total Shootings:Q', title='Nombre total de tirotejos')\n",
    ").properties(\n",
    "    title='Evolució mensual dels tirotejos massius als EUA per any',\n",
    "    width=1500\n",
    ")\n",
    "\n",
    "line_chart_mont_year"
   ]
  },
  {
   "cell_type": "markdown",
   "metadata": {},
   "source": [
    "Interesting, but uses way too much space"
   ]
  },
  {
   "cell_type": "code",
   "execution_count": 433,
   "metadata": {},
   "outputs": [
    {
     "data": {
      "text/html": [
       "\n",
       "<style>\n",
       "  #altair-viz-a2c2b143d77c4103b9b0459cf9427e8a.vega-embed {\n",
       "    width: 100%;\n",
       "    display: flex;\n",
       "  }\n",
       "\n",
       "  #altair-viz-a2c2b143d77c4103b9b0459cf9427e8a.vega-embed details,\n",
       "  #altair-viz-a2c2b143d77c4103b9b0459cf9427e8a.vega-embed details summary {\n",
       "    position: relative;\n",
       "  }\n",
       "</style>\n",
       "<div id=\"altair-viz-a2c2b143d77c4103b9b0459cf9427e8a\"></div>\n",
       "<script type=\"text/javascript\">\n",
       "  var VEGA_DEBUG = (typeof VEGA_DEBUG == \"undefined\") ? {} : VEGA_DEBUG;\n",
       "  (function(spec, embedOpt){\n",
       "    let outputDiv = document.currentScript.previousElementSibling;\n",
       "    if (outputDiv.id !== \"altair-viz-a2c2b143d77c4103b9b0459cf9427e8a\") {\n",
       "      outputDiv = document.getElementById(\"altair-viz-a2c2b143d77c4103b9b0459cf9427e8a\");\n",
       "    }\n",
       "    const paths = {\n",
       "      \"vega\": \"https://cdn.jsdelivr.net/npm/vega@5?noext\",\n",
       "      \"vega-lib\": \"https://cdn.jsdelivr.net/npm/vega-lib?noext\",\n",
       "      \"vega-lite\": \"https://cdn.jsdelivr.net/npm/vega-lite@5.20.1?noext\",\n",
       "      \"vega-embed\": \"https://cdn.jsdelivr.net/npm/vega-embed@6?noext\",\n",
       "    };\n",
       "\n",
       "    function maybeLoadScript(lib, version) {\n",
       "      var key = `${lib.replace(\"-\", \"\")}_version`;\n",
       "      return (VEGA_DEBUG[key] == version) ?\n",
       "        Promise.resolve(paths[lib]) :\n",
       "        new Promise(function(resolve, reject) {\n",
       "          var s = document.createElement('script');\n",
       "          document.getElementsByTagName(\"head\")[0].appendChild(s);\n",
       "          s.async = true;\n",
       "          s.onload = () => {\n",
       "            VEGA_DEBUG[key] = version;\n",
       "            return resolve(paths[lib]);\n",
       "          };\n",
       "          s.onerror = () => reject(`Error loading script: ${paths[lib]}`);\n",
       "          s.src = paths[lib];\n",
       "        });\n",
       "    }\n",
       "\n",
       "    function showError(err) {\n",
       "      outputDiv.innerHTML = `<div class=\"error\" style=\"color:red;\">${err}</div>`;\n",
       "      throw err;\n",
       "    }\n",
       "\n",
       "    function displayChart(vegaEmbed) {\n",
       "      vegaEmbed(outputDiv, spec, embedOpt)\n",
       "        .catch(err => showError(`Javascript Error: ${err.message}<br>This usually means there's a typo in your chart specification. See the javascript console for the full traceback.`));\n",
       "    }\n",
       "\n",
       "    if(typeof define === \"function\" && define.amd) {\n",
       "      requirejs.config({paths});\n",
       "      require([\"vega-embed\"], displayChart, err => showError(`Error loading script: ${err.message}`));\n",
       "    } else {\n",
       "      maybeLoadScript(\"vega\", \"5\")\n",
       "        .then(() => maybeLoadScript(\"vega-lite\", \"5.20.1\"))\n",
       "        .then(() => maybeLoadScript(\"vega-embed\", \"6\"))\n",
       "        .catch(showError)\n",
       "        .then(() => displayChart(vegaEmbed));\n",
       "    }\n",
       "  })({\"config\": {\"view\": {\"continuousWidth\": 300, \"continuousHeight\": 300}, \"legend\": {\"disable\": true}}, \"layer\": [{\"mark\": {\"type\": \"arc\", \"innerRadius\": 20, \"stroke\": \"#fff\"}, \"encoding\": {\"color\": {\"field\": \"Total Shootings\", \"scale\": {\"scheme\": \"reds\"}, \"type\": \"quantitative\"}, \"radius\": {\"field\": \"Total Shootings\", \"scale\": {\"type\": \"sqrt\", \"zero\": true, \"rangeMin\": 20}, \"type\": \"quantitative\"}, \"theta\": {\"field\": \"Month\", \"stack\": true, \"type\": \"ordinal\"}}}, {\"mark\": {\"type\": \"text\", \"radiusOffset\": 18}, \"encoding\": {\"color\": {\"condition\": {\"test\": \"datum.Total_Shootings > 5000\", \"value\": \"white\"}, \"value\": \"black\"}, \"radius\": {\"field\": \"Total Shootings\", \"scale\": {\"type\": \"sqrt\", \"zero\": true, \"rangeMin\": 20}, \"type\": \"quantitative\"}, \"text\": {\"field\": \"Mes\", \"type\": \"nominal\"}, \"theta\": {\"field\": \"Month\", \"stack\": true, \"type\": \"ordinal\"}}}], \"data\": {\"name\": \"data-7c76d77e7cdc2b9315b07d62cd61fbad\"}, \"height\": 400, \"title\": \"Mitjana mensual de tirotejos massius als EUA\", \"width\": 400, \"$schema\": \"https://vega.github.io/schema/vega-lite/v5.20.1.json\", \"datasets\": {\"data-7c76d77e7cdc2b9315b07d62cd61fbad\": [{\"Month\": 1, \"Total Shootings\": 29.2, \"Mes\": \"January\"}, {\"Month\": 2, \"Total Shootings\": 26.3, \"Mes\": \"February\"}, {\"Month\": 3, \"Total Shootings\": 28.8, \"Mes\": \"March\"}, {\"Month\": 4, \"Total Shootings\": 37.1, \"Mes\": \"April\"}, {\"Month\": 5, \"Total Shootings\": 48.7, \"Mes\": \"May\"}, {\"Month\": 6, \"Total Shootings\": 58.7, \"Mes\": \"June\"}, {\"Month\": 7, \"Total Shootings\": 62.2, \"Mes\": \"July\"}, {\"Month\": 8, \"Total Shootings\": 49.5, \"Mes\": \"August\"}, {\"Month\": 9, \"Total Shootings\": 42.6, \"Mes\": \"September\"}, {\"Month\": 10, \"Total Shootings\": 43.111111111111114, \"Mes\": \"October\"}, {\"Month\": 11, \"Total Shootings\": 34.666666666666664, \"Mes\": \"November\"}, {\"Month\": 12, \"Total Shootings\": 27.0, \"Mes\": \"December\"}]}}, {\"mode\": \"vega-lite\"});\n",
       "</script>"
      ],
      "text/plain": [
       "alt.LayerChart(...)"
      ]
     },
     "execution_count": 433,
     "metadata": {},
     "output_type": "execute_result"
    }
   ],
   "source": [
    "mesos = ['January', 'February', 'March', 'April', 'May', 'June', \n",
    "         'July', 'August', 'September', 'October', 'November', 'December']\n",
    "monthly_avg['Mes'] = [mesos[m-1] for m in monthly_avg['Month']]\n",
    "\n",
    "\n",
    "base = alt.Chart(monthly_avg).encode(\n",
    "    alt.Theta(\"Month:O\").stack(True),\n",
    "    alt.Radius(\"Total Shootings\").scale(type=\"sqrt\", zero=True, rangeMin=20),\n",
    "    alt.Color('Total Shootings:Q', scale=alt.Scale(scheme='reds'))  \n",
    ")\n",
    "\n",
    "\n",
    "c1 = base.mark_arc(innerRadius=20, stroke=\"#fff\")\n",
    "\n",
    "\n",
    "c2 = base.mark_text(\n",
    "    radiusOffset=18\n",
    ").encode(\n",
    "    text=\"Mes:N\",\n",
    "    color=alt.condition(\n",
    "        \"datum.Total_Shootings > \" + str(5000),\n",
    "        alt.value(\"white\"),\n",
    "        alt.value(\"black\"),\n",
    "    )\n",
    ")\n",
    "\n",
    "# Combine charts\n",
    "polar_area_chart = (c1 + c2).properties(\n",
    "    width=400,\n",
    "    height=400,\n",
    "    title=\"Mitjana mensual de tirotejos massius als EUA\"\n",
    ").configure_legend(\n",
    "    disable=True\n",
    ")\n",
    "\n",
    "polar_area_chart"
   ]
  },
  {
   "cell_type": "markdown",
   "metadata": {},
   "source": [
    "This chart is very nice visualy, but uses too much space for proving only the distribution amongh months. \n",
    "It would be good if we could show this dirtribution together with the first chart (shootings amongst years). If we only want to show the average distribution of shootings, we could use a 1x12 heatmap. It uses much less space and shows the trend perfectly."
   ]
  },
  {
   "cell_type": "code",
   "execution_count": 434,
   "metadata": {},
   "outputs": [
    {
     "data": {
      "text/html": [
       "\n",
       "<style>\n",
       "  #altair-viz-18e63121260f4b14bb34a2a05acdfcdd.vega-embed {\n",
       "    width: 100%;\n",
       "    display: flex;\n",
       "  }\n",
       "\n",
       "  #altair-viz-18e63121260f4b14bb34a2a05acdfcdd.vega-embed details,\n",
       "  #altair-viz-18e63121260f4b14bb34a2a05acdfcdd.vega-embed details summary {\n",
       "    position: relative;\n",
       "  }\n",
       "</style>\n",
       "<div id=\"altair-viz-18e63121260f4b14bb34a2a05acdfcdd\"></div>\n",
       "<script type=\"text/javascript\">\n",
       "  var VEGA_DEBUG = (typeof VEGA_DEBUG == \"undefined\") ? {} : VEGA_DEBUG;\n",
       "  (function(spec, embedOpt){\n",
       "    let outputDiv = document.currentScript.previousElementSibling;\n",
       "    if (outputDiv.id !== \"altair-viz-18e63121260f4b14bb34a2a05acdfcdd\") {\n",
       "      outputDiv = document.getElementById(\"altair-viz-18e63121260f4b14bb34a2a05acdfcdd\");\n",
       "    }\n",
       "    const paths = {\n",
       "      \"vega\": \"https://cdn.jsdelivr.net/npm/vega@5?noext\",\n",
       "      \"vega-lib\": \"https://cdn.jsdelivr.net/npm/vega-lib?noext\",\n",
       "      \"vega-lite\": \"https://cdn.jsdelivr.net/npm/vega-lite@5.20.1?noext\",\n",
       "      \"vega-embed\": \"https://cdn.jsdelivr.net/npm/vega-embed@6?noext\",\n",
       "    };\n",
       "\n",
       "    function maybeLoadScript(lib, version) {\n",
       "      var key = `${lib.replace(\"-\", \"\")}_version`;\n",
       "      return (VEGA_DEBUG[key] == version) ?\n",
       "        Promise.resolve(paths[lib]) :\n",
       "        new Promise(function(resolve, reject) {\n",
       "          var s = document.createElement('script');\n",
       "          document.getElementsByTagName(\"head\")[0].appendChild(s);\n",
       "          s.async = true;\n",
       "          s.onload = () => {\n",
       "            VEGA_DEBUG[key] = version;\n",
       "            return resolve(paths[lib]);\n",
       "          };\n",
       "          s.onerror = () => reject(`Error loading script: ${paths[lib]}`);\n",
       "          s.src = paths[lib];\n",
       "        });\n",
       "    }\n",
       "\n",
       "    function showError(err) {\n",
       "      outputDiv.innerHTML = `<div class=\"error\" style=\"color:red;\">${err}</div>`;\n",
       "      throw err;\n",
       "    }\n",
       "\n",
       "    function displayChart(vegaEmbed) {\n",
       "      vegaEmbed(outputDiv, spec, embedOpt)\n",
       "        .catch(err => showError(`Javascript Error: ${err.message}<br>This usually means there's a typo in your chart specification. See the javascript console for the full traceback.`));\n",
       "    }\n",
       "\n",
       "    if(typeof define === \"function\" && define.amd) {\n",
       "      requirejs.config({paths});\n",
       "      require([\"vega-embed\"], displayChart, err => showError(`Error loading script: ${err.message}`));\n",
       "    } else {\n",
       "      maybeLoadScript(\"vega\", \"5\")\n",
       "        .then(() => maybeLoadScript(\"vega-lite\", \"5.20.1\"))\n",
       "        .then(() => maybeLoadScript(\"vega-embed\", \"6\"))\n",
       "        .catch(showError)\n",
       "        .then(() => displayChart(vegaEmbed));\n",
       "    }\n",
       "  })({\"config\": {\"view\": {\"continuousWidth\": 300, \"continuousHeight\": 300}}, \"layer\": [{\"mark\": {\"type\": \"rect\"}, \"encoding\": {\"color\": {\"field\": \"Total Shootings\", \"legend\": null, \"scale\": {\"scheme\": \"lightorange\"}, \"type\": \"quantitative\"}, \"tooltip\": [{\"field\": \"Month Name\", \"title\": \"Month\", \"type\": \"nominal\"}, {\"field\": \"Total Shootings\", \"format\": \".1f\", \"title\": \"Average\", \"type\": \"quantitative\"}], \"y\": {\"field\": \"Month Name\", \"sort\": [\"January\", \"February\", \"March\", \"April\", \"May\", \"June\", \"July\", \"August\", \"September\", \"October\", \"November\", \"December\"], \"title\": null, \"type\": \"nominal\"}}, \"title\": {\"text\": [\"Average month\", \"ditribution\"], \"dy\": 0, \"fontSize\": 16}}, {\"mark\": {\"type\": \"text\", \"baseline\": \"middle\", \"color\": \"white\"}, \"encoding\": {\"text\": {\"field\": \"Total Shootings\", \"format\": \".1f\", \"type\": \"quantitative\"}, \"y\": {\"field\": \"Month Name\", \"sort\": [\"January\", \"February\", \"March\", \"April\", \"May\", \"June\", \"July\", \"August\", \"September\", \"October\", \"November\", \"December\"], \"type\": \"nominal\"}}}], \"data\": {\"name\": \"data-bda259859499f3b99bfb1fc1cd120c2b\"}, \"height\": 400, \"width\": 40, \"$schema\": \"https://vega.github.io/schema/vega-lite/v5.20.1.json\", \"datasets\": {\"data-bda259859499f3b99bfb1fc1cd120c2b\": [{\"Month\": 1, \"Total Shootings\": 29.2, \"Month Name\": \"January\"}, {\"Month\": 2, \"Total Shootings\": 26.3, \"Month Name\": \"February\"}, {\"Month\": 3, \"Total Shootings\": 28.8, \"Month Name\": \"March\"}, {\"Month\": 4, \"Total Shootings\": 37.1, \"Month Name\": \"April\"}, {\"Month\": 5, \"Total Shootings\": 48.7, \"Month Name\": \"May\"}, {\"Month\": 6, \"Total Shootings\": 58.7, \"Month Name\": \"June\"}, {\"Month\": 7, \"Total Shootings\": 62.2, \"Month Name\": \"July\"}, {\"Month\": 8, \"Total Shootings\": 49.5, \"Month Name\": \"August\"}, {\"Month\": 9, \"Total Shootings\": 42.6, \"Month Name\": \"September\"}, {\"Month\": 10, \"Total Shootings\": 43.111111111111114, \"Month Name\": \"October\"}, {\"Month\": 11, \"Total Shootings\": 34.666666666666664, \"Month Name\": \"November\"}, {\"Month\": 12, \"Total Shootings\": 27.0, \"Month Name\": \"December\"}]}}, {\"mode\": \"vega-lite\"});\n",
       "</script>"
      ],
      "text/plain": [
       "alt.LayerChart(...)"
      ]
     },
     "execution_count": 434,
     "metadata": {},
     "output_type": "execute_result"
    }
   ],
   "source": [
    "import pandas as pd\n",
    "import altair as alt\n",
    "\n",
    "\n",
    "monthly_avg = monthly_shootings.groupby('Month')['Total Shootings'].mean().reset_index()\n",
    "\n",
    "\n",
    "months = ['January', 'February', 'March', 'April', 'May', 'June', \n",
    "          'July', 'August', 'September', 'October', 'November', 'December']\n",
    "monthly_avg['Month Name'] = [months[m-1] for m in monthly_avg['Month']]\n",
    "\n",
    "\n",
    "heatmap = alt.Chart(monthly_avg).mark_rect().encode(\n",
    "    y=alt.Y('Month Name:N', sort=months, title=None),  # Canviar a l'eix Y\n",
    "    color=alt.Color('Total Shootings:Q',\n",
    "                    scale=alt.Scale(scheme='lightorange'),legend=None),\n",
    "    tooltip=[\n",
    "        alt.Tooltip('Month Name:N', title='Month'),\n",
    "        alt.Tooltip('Total Shootings:Q', title='Average', format='.1f')\n",
    "    ]\n",
    ").properties(\n",
    "    width=40,\n",
    "    height=400,\n",
    "    title={\n",
    "        \"text\":['Average month','ditribution'],\n",
    "        \"dy\": 0,\n",
    "        \"fontSize\": 16\n",
    "        }\n",
    ")\n",
    "\n",
    "text = alt.Chart(monthly_avg).mark_text(\n",
    "    baseline='middle',\n",
    "    color='white'\n",
    ").encode(\n",
    "    y=alt.Y('Month Name:N', sort=months),\n",
    "    text=alt.Text('Total Shootings:Q', format='.1f')\n",
    ")\n",
    "\n",
    "heatmap_month_distribution = (heatmap + text)\n",
    "\n",
    "heatmap_month_distribution\n"
   ]
  },
  {
   "cell_type": "markdown",
   "metadata": {},
   "source": [
    "Much better. Let's try to visualize this chart together with the first one:"
   ]
  },
  {
   "cell_type": "markdown",
   "metadata": {},
   "source": [
    "#### Final visualization 4"
   ]
  },
  {
   "cell_type": "code",
   "execution_count": 435,
   "metadata": {},
   "outputs": [
    {
     "data": {
      "text/html": [
       "\n",
       "<style>\n",
       "  #altair-viz-a36e12dec7e94329bb3df81a9d77ad52.vega-embed {\n",
       "    width: 100%;\n",
       "    display: flex;\n",
       "  }\n",
       "\n",
       "  #altair-viz-a36e12dec7e94329bb3df81a9d77ad52.vega-embed details,\n",
       "  #altair-viz-a36e12dec7e94329bb3df81a9d77ad52.vega-embed details summary {\n",
       "    position: relative;\n",
       "  }\n",
       "</style>\n",
       "<div id=\"altair-viz-a36e12dec7e94329bb3df81a9d77ad52\"></div>\n",
       "<script type=\"text/javascript\">\n",
       "  var VEGA_DEBUG = (typeof VEGA_DEBUG == \"undefined\") ? {} : VEGA_DEBUG;\n",
       "  (function(spec, embedOpt){\n",
       "    let outputDiv = document.currentScript.previousElementSibling;\n",
       "    if (outputDiv.id !== \"altair-viz-a36e12dec7e94329bb3df81a9d77ad52\") {\n",
       "      outputDiv = document.getElementById(\"altair-viz-a36e12dec7e94329bb3df81a9d77ad52\");\n",
       "    }\n",
       "    const paths = {\n",
       "      \"vega\": \"https://cdn.jsdelivr.net/npm/vega@5?noext\",\n",
       "      \"vega-lib\": \"https://cdn.jsdelivr.net/npm/vega-lib?noext\",\n",
       "      \"vega-lite\": \"https://cdn.jsdelivr.net/npm/vega-lite@5.20.1?noext\",\n",
       "      \"vega-embed\": \"https://cdn.jsdelivr.net/npm/vega-embed@6?noext\",\n",
       "    };\n",
       "\n",
       "    function maybeLoadScript(lib, version) {\n",
       "      var key = `${lib.replace(\"-\", \"\")}_version`;\n",
       "      return (VEGA_DEBUG[key] == version) ?\n",
       "        Promise.resolve(paths[lib]) :\n",
       "        new Promise(function(resolve, reject) {\n",
       "          var s = document.createElement('script');\n",
       "          document.getElementsByTagName(\"head\")[0].appendChild(s);\n",
       "          s.async = true;\n",
       "          s.onload = () => {\n",
       "            VEGA_DEBUG[key] = version;\n",
       "            return resolve(paths[lib]);\n",
       "          };\n",
       "          s.onerror = () => reject(`Error loading script: ${paths[lib]}`);\n",
       "          s.src = paths[lib];\n",
       "        });\n",
       "    }\n",
       "\n",
       "    function showError(err) {\n",
       "      outputDiv.innerHTML = `<div class=\"error\" style=\"color:red;\">${err}</div>`;\n",
       "      throw err;\n",
       "    }\n",
       "\n",
       "    function displayChart(vegaEmbed) {\n",
       "      vegaEmbed(outputDiv, spec, embedOpt)\n",
       "        .catch(err => showError(`Javascript Error: ${err.message}<br>This usually means there's a typo in your chart specification. See the javascript console for the full traceback.`));\n",
       "    }\n",
       "\n",
       "    if(typeof define === \"function\" && define.amd) {\n",
       "      requirejs.config({paths});\n",
       "      require([\"vega-embed\"], displayChart, err => showError(`Error loading script: ${err.message}`));\n",
       "    } else {\n",
       "      maybeLoadScript(\"vega\", \"5\")\n",
       "        .then(() => maybeLoadScript(\"vega-lite\", \"5.20.1\"))\n",
       "        .then(() => maybeLoadScript(\"vega-embed\", \"6\"))\n",
       "        .catch(showError)\n",
       "        .then(() => displayChart(vegaEmbed));\n",
       "    }\n",
       "  })({\"config\": {\"view\": {\"continuousWidth\": 300, \"continuousHeight\": 300}, \"axis\": {\"labelAngle\": 0, \"labelFontSize\": 12}, \"title\": {\"anchor\": \"middle\", \"fontSize\": 14}}, \"hconcat\": [{\"layer\": [{\"layer\": [{\"data\": {\"name\": \"empty\"}, \"mark\": {\"type\": \"rect\", \"color\": \"#aed6f1\", \"opacity\": 1}, \"encoding\": {\"x\": {\"value\": 0}, \"x2\": {\"value\": 160.5}, \"y\": {\"value\": 0}, \"y2\": {\"value\": 400}}}, {\"data\": {\"name\": \"empty\"}, \"mark\": {\"type\": \"rect\", \"color\": \"#f5b7b1\", \"opacity\": 1}, \"encoding\": {\"x\": {\"value\": 160}, \"x2\": {\"value\": 341}, \"y\": {\"value\": 0}, \"y2\": {\"value\": 400}}}, {\"data\": {\"name\": \"empty\"}, \"mark\": {\"type\": \"rect\", \"color\": \"#aed6f1\", \"opacity\": 1}, \"encoding\": {\"x\": {\"value\": 341.2}, \"x2\": {\"value\": 500}, \"y\": {\"value\": 0}, \"y2\": {\"value\": 400}}}]}, {\"data\": {\"name\": \"data-8277c5bc2dc8e16647ea5c377e998d75\"}, \"mark\": {\"type\": \"rule\", \"color\": \"black\", \"opacity\": 0.5, \"size\": 0.8}, \"encoding\": {\"y\": {\"axis\": null, \"field\": \"y\", \"title\": null, \"type\": \"quantitative\"}}}, {\"data\": {\"name\": \"data-026688d2d0c5dd192a7b9b24d926d62a\"}, \"mark\": {\"type\": \"line\", \"color\": \"black\", \"point\": {\"fill\": \"black\", \"filled\": true}, \"strokeWidth\": 2.5}, \"encoding\": {\"x\": {\"axis\": {\"grid\": false, \"labelAngle\": 0}, \"field\": \"Year\", \"title\": \"Year\", \"type\": \"ordinal\"}, \"y\": {\"field\": \"Total Shootings\", \"scale\": {\"domain\": [250, 710]}, \"title\": \"Total Shootings\", \"type\": \"quantitative\"}}, \"title\": \"Total Shootings per Year in the USA\"}, {\"data\": {\"name\": \"data-f5a0d41705e3d31c152a62c5ab6ce522\"}, \"mark\": {\"type\": \"area\"}, \"encoding\": {\"color\": {\"field\": \"governement\", \"legend\": {\"cornerRadius\": 10, \"fillColor\": \"#EEEEEE\", \"orient\": \"top-left\", \"padding\": 10, \"strokeColor\": \"gray\", \"titleAnchor\": \"middle\"}, \"scale\": {\"domain\": [\"Democratic\", \"Republican\"], \"range\": [\"#aed6f1\", \"#f5b7b1\"]}, \"type\": \"nominal\"}, \"x\": {\"axis\": {\"labelAngle\": 0}, \"field\": \"Year\", \"title\": \"Year\", \"type\": \"ordinal\"}, \"y\": {\"axis\": null, \"field\": \"y1\", \"scale\": {\"domain\": [200, 720]}, \"title\": \"Total Shootings\", \"type\": \"quantitative\"}, \"y2\": {\"field\": \"y2\"}}}], \"height\": 400, \"resolve\": {\"scale\": {\"y\": \"independent\"}}, \"title\": \"Total Shootings per Year in the USA\", \"width\": 500}, {\"layer\": [{\"mark\": {\"type\": \"rect\"}, \"encoding\": {\"color\": {\"field\": \"Total Shootings\", \"legend\": null, \"scale\": {\"scheme\": \"lightorange\"}, \"type\": \"quantitative\"}, \"tooltip\": [{\"field\": \"Month Name\", \"title\": \"Month\", \"type\": \"nominal\"}, {\"field\": \"Total Shootings\", \"format\": \".1f\", \"title\": \"Average\", \"type\": \"quantitative\"}], \"y\": {\"field\": \"Month Name\", \"sort\": [\"January\", \"February\", \"March\", \"April\", \"May\", \"June\", \"July\", \"August\", \"September\", \"October\", \"November\", \"December\"], \"title\": null, \"type\": \"nominal\"}}, \"title\": {\"text\": [\"Average month\", \"ditribution\"], \"dy\": 0, \"fontSize\": 16}}, {\"mark\": {\"type\": \"text\", \"baseline\": \"middle\", \"color\": \"white\"}, \"encoding\": {\"text\": {\"field\": \"Total Shootings\", \"format\": \".1f\", \"type\": \"quantitative\"}, \"y\": {\"field\": \"Month Name\", \"sort\": [\"January\", \"February\", \"March\", \"April\", \"May\", \"June\", \"July\", \"August\", \"September\", \"October\", \"November\", \"December\"], \"type\": \"nominal\"}}}], \"data\": {\"name\": \"data-bda259859499f3b99bfb1fc1cd120c2b\"}, \"height\": 400, \"width\": 40}], \"resolve\": {\"scale\": {\"color\": \"independent\"}}, \"$schema\": \"https://vega.github.io/schema/vega-lite/v5.20.1.json\", \"datasets\": {\"empty\": [{}], \"data-8277c5bc2dc8e16647ea5c377e998d75\": [{\"y\": 0}, {\"y\": 50}, {\"y\": 100}, {\"y\": 150}, {\"y\": 200}, {\"y\": 250}, {\"y\": 300}, {\"y\": 350}, {\"y\": 400}, {\"y\": 450}, {\"y\": 500}, {\"y\": 550}, {\"y\": 600}, {\"y\": 650}, {\"y\": 700}], \"data-026688d2d0c5dd192a7b9b24d926d62a\": [{\"Year\": 2014, \"Total Shootings\": 271}, {\"Year\": 2015, \"Total Shootings\": 331}, {\"Year\": 2016, \"Total Shootings\": 379}, {\"Year\": 2017, \"Total Shootings\": 343}, {\"Year\": 2018, \"Total Shootings\": 330}, {\"Year\": 2019, \"Total Shootings\": 410}, {\"Year\": 2020, \"Total Shootings\": 610}, {\"Year\": 2021, \"Total Shootings\": 682}, {\"Year\": 2022, \"Total Shootings\": 642}, {\"Year\": 2023, \"Total Shootings\": 651}, {\"Year\": 2024, \"Total Shootings\": 396}], \"data-f5a0d41705e3d31c152a62c5ab6ce522\": [{\"Year\": 2014, \"y1\": 0, \"y2\": 0, \"governement\": \"Democratic\"}, {\"Year\": 2015, \"y1\": 0, \"y2\": 0, \"governement\": \"Democratic\"}, {\"Year\": 2016, \"y1\": 0, \"y2\": 0, \"governement\": \"Democratic\"}, {\"Year\": 2017, \"y1\": 0, \"y2\": 0, \"governement\": \"Republican\"}, {\"Year\": 2018, \"y1\": 0, \"y2\": 0, \"governement\": \"Republican\"}, {\"Year\": 2019, \"y1\": 0, \"y2\": 0, \"governement\": \"Republican\"}, {\"Year\": 2020, \"y1\": 0, \"y2\": 0, \"governement\": \"Republican\"}, {\"Year\": 2021, \"y1\": 0, \"y2\": 0, \"governement\": \"Republican\"}, {\"Year\": 2022, \"y1\": 0, \"y2\": 0, \"governement\": \"Democratic\"}, {\"Year\": 2023, \"y1\": 0, \"y2\": 0, \"governement\": \"Democratic\"}, {\"Year\": 2024, \"y1\": 0, \"y2\": 0, \"governement\": \"Democratic\"}], \"data-bda259859499f3b99bfb1fc1cd120c2b\": [{\"Month\": 1, \"Total Shootings\": 29.2, \"Month Name\": \"January\"}, {\"Month\": 2, \"Total Shootings\": 26.3, \"Month Name\": \"February\"}, {\"Month\": 3, \"Total Shootings\": 28.8, \"Month Name\": \"March\"}, {\"Month\": 4, \"Total Shootings\": 37.1, \"Month Name\": \"April\"}, {\"Month\": 5, \"Total Shootings\": 48.7, \"Month Name\": \"May\"}, {\"Month\": 6, \"Total Shootings\": 58.7, \"Month Name\": \"June\"}, {\"Month\": 7, \"Total Shootings\": 62.2, \"Month Name\": \"July\"}, {\"Month\": 8, \"Total Shootings\": 49.5, \"Month Name\": \"August\"}, {\"Month\": 9, \"Total Shootings\": 42.6, \"Month Name\": \"September\"}, {\"Month\": 10, \"Total Shootings\": 43.111111111111114, \"Month Name\": \"October\"}, {\"Month\": 11, \"Total Shootings\": 34.666666666666664, \"Month Name\": \"November\"}, {\"Month\": 12, \"Total Shootings\": 27.0, \"Month Name\": \"December\"}]}}, {\"mode\": \"vega-lite\"});\n",
       "</script>"
      ],
      "text/plain": [
       "alt.HConcatChart(...)"
      ]
     },
     "execution_count": 435,
     "metadata": {},
     "output_type": "execute_result"
    }
   ],
   "source": [
    "# Crear el gràfic concatenat sense configuracions individuals\n",
    "combined_chart = alt.hconcat(\n",
    "    chart_with_background,\n",
    "    heatmap_month_distribution\n",
    ").resolve_scale(\n",
    "    color='independent'\n",
    ").configure_axis(\n",
    "    labelAngle=0,\n",
    "    labelFontSize=12\n",
    ").configure_title(\n",
    "    fontSize=14,\n",
    "    anchor='middle'\n",
    ")\n",
    "\n",
    "combined_chart\n"
   ]
  },
  {
   "cell_type": "markdown",
   "metadata": {},
   "source": [
    "... (description)"
   ]
  }
 ],
 "metadata": {
  "kernelspec": {
   "display_name": "Python 3",
   "language": "python",
   "name": "python3"
  },
  "language_info": {
   "codemirror_mode": {
    "name": "ipython",
    "version": 3
   },
   "file_extension": ".py",
   "mimetype": "text/x-python",
   "name": "python",
   "nbconvert_exporter": "python",
   "pygments_lexer": "ipython3",
   "version": "3.11.2"
  }
 },
 "nbformat": 4,
 "nbformat_minor": 2
}
