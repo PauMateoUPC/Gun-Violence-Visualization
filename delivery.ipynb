{
 "cells": [
  {
   "cell_type": "markdown",
   "metadata": {},
   "source": [
    "<h1 style=\"text-align:center;\">Mass Shootings in the USA</h1>"
   ]
  },
  {
   "cell_type": "markdown",
   "metadata": {},
   "source": [
    "<p style=\"text-align:center;\">Laia Mogas i Pau Mateo</p>\n",
    "<p style=\"text-align:center;\">Information Visualization - GCED</p>"
   ]
  },
  {
   "cell_type": "markdown",
   "metadata": {},
   "source": [
    "## Requirements"
   ]
  },
  {
   "cell_type": "code",
   "execution_count": 74,
   "metadata": {},
   "outputs": [],
   "source": [
    "# >pip install pandas\n",
    "# >pip install altair\n",
    "# >pip install json\n",
    "\n",
    "import pandas as pd\n",
    "import altair as alt\n",
    "import json\n",
    "from collections import defaultdict\n",
    "from random import choice"
   ]
  },
  {
   "cell_type": "markdown",
   "metadata": {},
   "source": [
    "## Obtaining data\n",
    "The main data sources we used in this project are:\n",
    "- https://www2.census.gov/\n",
    "- https://www.gunviolencearchive.org/reports\n",
    "\n",
    "From theese sources we obtain the following datasets:\n",
    "- Mass shootings (january 2014 to september 2024)\n",
    "- School incidents (january 2022 to 2024)\n",
    "- County population\n"
   ]
  },
  {
   "cell_type": "markdown",
   "metadata": {},
   "source": [
    "## Preprocessing and data cleaning - County Population\n",
    "We obtained the conty popultion data with two separate csv files: one correspondig to the years 2014-2019, an another one for 2020 and later. These datasets contained a lot of information, but we only needed the population estimate foer each county every year, so we eliminated the unnecesary columns. We merged these two datasets with pytohn pandas. Then noticed that the state Connecticut had a county redistribuition in 2020, so we decided to keep the latest cofniguration of counties and estimate uniformly the population of those counties for years before 2020. The code we used for this preprocessing is the following:"
   ]
  },
  {
   "cell_type": "code",
   "execution_count": null,
   "metadata": {},
   "outputs": [],
   "source": [
    "pop2010_20 = pd.read_csv('datasets/co-est2010-2020_alldata.csv', encoding='latin1')\n",
    "pop2020_23 = pd.read_csv('datasets/co-est2020-2023_alldata.csv', encoding='latin1')\n",
    "\n",
    "########## column projection ##########\n",
    "columns2010 = ['STATE', 'COUNTY','STNAME','CTYNAME']\n",
    "columns2010.extend(['POPESTIMATE201'+str(i) for i in range(10)])\n",
    "columns2020 = ['STATE', 'COUNTY','STNAME','CTYNAME']\n",
    "columns2020.extend(['POPESTIMATE202'+str(i) for i in range(4)])\n",
    "\n",
    "pop2010_20['FIPS'] = pop2010_20.apply(lambda row: f\"{int(row['STATE']):02d}{int(row['COUNTY']):03d}\", axis=1)\n",
    "pop2020_23['FIPS'] = pop2020_23.apply(lambda row: f\"{int(row['STATE']):02d}{int(row['COUNTY']):03d}\", axis=1)\n",
    "\n",
    "\n",
    "##########     merge     ##########\n",
    "popComplete = pd.merge(pop2010_20[columns2010], pop2020_23[columns2020], on=['STATE', 'COUNTY'])\n",
    "\n",
    "popComplete['STATE'] = popComplete['STATE'].astype(str)\n",
    "popComplete['COUNTY'] = popComplete['COUNTY'].astype(str)\n",
    "\n",
    "\n",
    "########## obraining FIPS ##########\n",
    "popComplete['FIPS'] = popComplete.apply(lambda row: f\"{int(row['STATE']):02d}{int(row['COUNTY']):03d}\", axis=1)\n",
    "popComplete['STNAME'] = popComplete['STNAME_x']\n",
    "popComplete['CTYNAME'] = popComplete['CTYNAME_x']\n",
    "\n",
    "########## ordering columns ##########\n",
    "new_cols_order = ['STNAME', 'CTYNAME', 'FIPS', 'STATE', 'COUNTY'] + ['POPESTIMATE20'+f'{i:02d}' for i in range(14,24)]\n",
    "popComplete = popComplete[new_cols_order]"
   ]
  },
  {
   "cell_type": "code",
   "execution_count": 57,
   "metadata": {},
   "outputs": [
    {
     "name": "stdout",
     "output_type": "stream",
     "text": [
      "['09001', '09003', '09005', '09007', '09009', '09011', '09013', '09015']\n",
      "['09110', '09120', '09130', '09140', '09150', '09160', '09170', '09180', '09190']\n"
     ]
    }
   ],
   "source": [
    "##### checking changed counties #####\n",
    "\n",
    "l1 = []\n",
    "for c in pop2010_20['FIPS']:\n",
    "    if c not in popComplete['FIPS'].values:\n",
    "        l1.append(c)\n",
    "\n",
    "l2 = []\n",
    "for c in pop2020_23['FIPS']:\n",
    "    if c not in popComplete['FIPS'].values:\n",
    "        l2.append(c)\n",
    "\n",
    "print(l1)\n",
    "print(l2)"
   ]
  },
  {
   "cell_type": "markdown",
   "metadata": {},
   "source": [
    "We see that indeed, the counties from the Connecticut state are different in the two datasets."
   ]
  },
  {
   "cell_type": "code",
   "execution_count": null,
   "metadata": {},
   "outputs": [],
   "source": [
    "##### dealing with state '09' (Connecticut) ######\n",
    "\n",
    "fips_connecticut = pop2020_23[pop2020_23['STATE']==9]['FIPS'].values\n",
    "N = len(fips_connecticut)\n",
    "\n",
    "totalpop = defaultdict()\n",
    "\n",
    "\n",
    "for i in range(14,24):\n",
    "    year = 'POPESTIMATE20'+ f'{i:02d}'\n",
    "    #calculate total population in state '09' in this year\n",
    "    if i < 20:\n",
    "        totalpop[year] = sum(pop2010_20[pop2010_20['STATE'] == 9][year].values)\n",
    "    else:\n",
    "        totalpop[year] = sum(pop2020_23[pop2020_23['STATE'] == 9][year].values)\n",
    "\n",
    "\n",
    "for fips in fips_connecticut:\n",
    "    new_row = pd.Series({\n",
    "        'STNAME': 'Connecticut', \n",
    "        'CTYNAME': 'connecticut_county_unknown',\n",
    "        'FIPS': fips, \n",
    "        'STATE': 9, \n",
    "        'COUNTY': fips[2:],\n",
    "        'POPESTIMATE2014': totalpop['POPESTIMATE2014'] / N,\n",
    "        'POPESTIMATE2015': totalpop['POPESTIMATE2015'] / N,\n",
    "        'POPESTIMATE2016': totalpop['POPESTIMATE2016'] / N,\n",
    "        'POPESTIMATE2017': totalpop['POPESTIMATE2017'] / N,\n",
    "        'POPESTIMATE2018': totalpop['POPESTIMATE2018'] / N,\n",
    "        'POPESTIMATE2019': totalpop['POPESTIMATE2019'] / N,\n",
    "        'POPESTIMATE2020': totalpop['POPESTIMATE2020'] / N,\n",
    "        'POPESTIMATE2021': totalpop['POPESTIMATE2021'] / N,\n",
    "        'POPESTIMATE2022': totalpop['POPESTIMATE2022'] / N,\n",
    "        'POPESTIMATE2023': totalpop['POPESTIMATE2023'] / N\n",
    "    })\n",
    "    popComplete.loc[len(popComplete)] = new_row\n"
   ]
  },
  {
   "cell_type": "code",
   "execution_count": null,
   "metadata": {},
   "outputs": [],
   "source": [
    "#### save completed dataset ###\n",
    "#  popComplete.to_csv('datasets/CountyPopulationAllYears.csv', index=False)"
   ]
  },
  {
   "cell_type": "markdown",
   "metadata": {},
   "source": [
    "Later on, we will have to redistribute the Mass Shootings and School incidents that occured in the counties that we've just eliminated."
   ]
  },
  {
   "cell_type": "markdown",
   "metadata": {},
   "source": [
    "## Preprocessing and data cleaning - Mass Shootings + School incidents"
   ]
  },
  {
   "cell_type": "markdown",
   "metadata": {},
   "source": [
    "To clean the Gun Violence data we used Open Refine followed by python.\n",
    "#### Concatenating mass shootings csv\n",
    "The raw data from the Gun Violence Archaive is splitted into various datasets. To add everything into a same csv file, we simply used Open Refine and opened all the csv when starting a new project. This way, the multiple csv are automatiqually concatenated, as they all have the same columns. Before doing that, we had to eliminate some of the duplicate rows in the data, as the file `MassShootings_2021.csv` overlaps with the file `GunVioleceAllYears.csv`. Again, we used Open Refine to do so, by making a time facet of the file `MassShootings_2021.csv` and selectig the rows that were already in the `GunVioleceAllYears.csv` file, and then eliminating them.\n",
    "\n",
    "#### Tranformations\n",
    "We applied some basic transformations to the dataset, mainly just changing the types of some columns, such as *Incident Date* to date, and numerical columns into intiger. \n",
    "\n",
    "#### Obtaining counties with OSM\n",
    "To answer accuratelly the questions of the projecy, we needed the exact county where each incident occured. To obtain those, we first used Open Refine to obtain some json information from Open Street Maps, with the methos \"Add column by fetching URLs\". The command we used is:"
   ]
  },
  {
   "cell_type": "raw",
   "metadata": {
    "vscode": {
     "languageId": "raw"
    }
   },
   "source": [
    "'https://nominatim.openstreetmap.org/search?format=json&email=pau.mateo.bernado@estudiantat.upc.edu&app=google-refine&q=' + \n",
    "escape(cells[\"City Or County\"].value + \", \" + cells[\"State\"].value, 'url') + '&limit=1&addressdetails =1'"
   ]
  },
  {
   "cell_type": "markdown",
   "metadata": {},
   "source": [
    "With this, we obtained some json information for each row, for example:"
   ]
  },
  {
   "cell_type": "code",
   "execution_count": null,
   "metadata": {},
   "outputs": [],
   "source": [
    "[{\"place_id\":323075484,\n",
    "\"licence\":\"Data © OpenStreetMap contributors, ODbL 1.0. http://osm.org/copyright\",\n",
    "\"osm_type\":\"relation\",\n",
    "\"osm_id\":1180533,\n",
    "\"lat\":\"38.6280278\",\n",
    "\"lon\":\"-90.1910154\",\n",
    "\"class\":\"boundary\",\n",
    "\"type\":\"administrative\",\n",
    "\"place_rank\":12,\n",
    "\"importance\":0.7078550940195126,\n",
    "\"addresstype\":\"independent_city\",\n",
    "\"name\":\"Saint Louis\",\n",
    "\"display_name\":\"Saint Louis, Missouri, United States\",\n",
    "\"boundingbox\":[\"38.5323215\",\"38.7743018\",\"-90.3206525\",\"-90.1641941\"]}]"
   ]
  },
  {
   "cell_type": "markdown",
   "metadata": {},
   "source": [
    "From this information we wantet to obtain the county for each incident. However, we weren't capable of doing so with Open Refine, as the URL used didn't return the names of the counties in the same format as the dataest form census.gov, so we had to process again this informatino with pytohn.\n",
    "We defined some functions that try to find a county name for each incident that exists in the population dataset obtained from census.gov. The functions iterate through the names in the key `\"display_name\"` from the json column (as there are some cases where the Township or some other information is also in the json code, so the county is not always in the same position) and applies some transformations to them and checks if the resulting name it's a county."
   ]
  },
  {
   "cell_type": "code",
   "execution_count": null,
   "metadata": {},
   "outputs": [],
   "source": [
    "pop = pd.read_csv(\"datasets/CountyPopulationAllYears.csv\")\n",
    "\n",
    "names_counties = defaultdict(set)  # names of the counties for each state\n",
    "\n",
    "for state in pop['STNAME'].values:\n",
    "    names_counties[state] = set(pop[pop['STNAME']==state]['CTYNAME'].values)\n",
    "\n",
    "\n",
    "def transforms(name: str) -> str:\n",
    "    if 'Clarke' in name: return 'Clarke County'\n",
    "    if 'Washington' in name: return 'District of Columbia'\n",
    "    if 'Connecticut' in name: return 'connecticut_county_unknown'\n",
    "    name = name.replace('Saint', 'St.').replace('Nashville-', '').replace('Vista', 'Buena Vista').replace('Compton', 'Los Angeles County')\n",
    "    name = name.replace('Monterey Park', 'Monterey County')\n",
    "    return name.strip()\n",
    "\n",
    "\n",
    "def try_find(name, state) -> str | None:\n",
    "    '''tries to find the countie corresponding to `name` by \n",
    "    appliying transformations and trying diferent formats'''\n",
    "    if name in names_counties[state]: return name\n",
    "\n",
    "    if transforms(name) in names_counties[state]: return transforms(name)\n",
    "\n",
    "    #try county\n",
    "    n = transforms(name)\n",
    "    if 'County' not in n: n += ' County'\n",
    "    if n in names_counties[state]: return n\n",
    "\n",
    "    #try parish\n",
    "    n = transforms(name)\n",
    "    if 'Parish' not in n: n += ' Parish'\n",
    "    if n in names_counties[state]: return n\n",
    "\n",
    "    #try city\n",
    "    n = transforms(name)\n",
    "    if 'city' not in n: n += ' city'\n",
    "    if n in names_counties[state]: return n\n",
    "\n",
    "    #try Municipality\n",
    "    n = transforms(name)\n",
    "    if 'city' not in n: n += ' Municipality'\n",
    "    if n in names_counties[state]: return n\n",
    "    \n",
    "    else: return None\n",
    "\n",
    "\n",
    "def extract_county(row) -> str | None:\n",
    "    '''tries to extract the corresponding countie for the given row'''\n",
    "    json_data = row['json']\n",
    "    state = row['State'].strip()\n",
    "\n",
    "    places = json.loads(json_data)\n",
    "    if places:\n",
    "        names = places[0].get(\"display_name\", \"\")\n",
    "        # Cerca \"County\", \"Parish\", o altres entitats equivalents en display_name\n",
    "        \n",
    "        delims = [\",\", \")\", \"(\"]\n",
    "\n",
    "        for delim in delims:\n",
    "            names = \"_\".join(names.split(delim))\n",
    "        names = names.split(\"_\")\n",
    "        names = [n.strip() for n in names if n != '']\n",
    "\n",
    "        for n in names:\n",
    "            cname = try_find(n, state)\n",
    "            if cname: return cname\n",
    "            else: continue\n",
    "    \n",
    "        return None\n",
    "    \n",
    "\n",
    "SchoolIncidents = pd.read_csv('datasets/Schoolincidents-json.csv')\n",
    "MassShootingsComplete = pd.read_csv(\"datasets/MassShootingsComplete-json.csv\")\n",
    "\n",
    "MassShootingsComplete['county'] = MassShootingsComplete.apply(extract_county, axis=1)\n",
    "SchoolIncidents['county'] = SchoolIncidents.apply(extract_county, axis=1)\n",
    "\n",
    "#remove rows with null or unknown county\n",
    "MassShootingsComplete = MassShootingsComplete.dropna(subset=['county'])\n",
    "SchoolIncidents = SchoolIncidents.dropna(subset=['county'])"
   ]
  },
  {
   "cell_type": "markdown",
   "metadata": {},
   "source": [
    "With this transformations we obtain a county for **all rows** that had a not null value in the json column (for 70 rows amongst 5k, the URLs from Open Refine extracted just `\"[]\"`)."
   ]
  },
  {
   "cell_type": "markdown",
   "metadata": {},
   "source": [
    "### Obtaining FIPS codes"
   ]
  },
  {
   "cell_type": "markdown",
   "metadata": {},
   "source": [
    "Obtaining the FIPS codes for each county facilitated us working with altair's cloropleth charts. At this point, it was easy to obtain the FIPS codes for each incident, as we already had them in the County population csv. A simple function was enough:"
   ]
  },
  {
   "cell_type": "code",
   "execution_count": null,
   "metadata": {},
   "outputs": [],
   "source": [
    "def get_fips(row) -> str | None:\n",
    "    \"\"\"\n",
    "    Returns the FIPS code for the given row by searching\n",
    "    it in the population csv\n",
    "    \"\"\"\n",
    "\n",
    "    county_value = row['county']\n",
    "\n",
    "    # connecticut separate case:\n",
    "    connecticut_fips = ['09110', '09120', '09130', '09140', '09150', '09160', '09170', '09180', '09190']\n",
    "    if county_value == 'connecticut_county_unknown':\n",
    "        fips = choice(connecticut_fips)  # we map the incident into a random county\n",
    "        return f'{int(fips):02d}'\n",
    "\n",
    "    if county_value is not None:\n",
    "        county_value = county_value.strip()\n",
    "    else:\n",
    "        county_value = \"\"  # Si és None, assignar una cadena buida per evitar errors\n",
    "    \n",
    "    fips_value = pop[(pop['STNAME'] == row['State']) & (pop['CTYNAME'] == county_value)]['FIPS']\n",
    "    \n",
    "    # Retornar el primer valor (ja que és únic)\n",
    "    return f'{fips_value.iloc[0]:02d}' if not fips_value.empty else None\n",
    "\n",
    "\n",
    "MassShootingsComplete['FIPS'] = MassShootingsComplete.apply(get_fips, axis=1)\n",
    "MassShootingsComplete['FIPS'] = MassShootingsComplete['FIPS'].apply(lambda x: f\"{int(x):05d}\") # to ensure length 5\n",
    "\n",
    "\n",
    "SchoolIncidents['FIPS'] = SchoolIncidents.apply(get_fips, axis=1)\n",
    "SchoolIncidents['FIPS'] = SchoolIncidents['FIPS'].apply(lambda x: f\"{int(x):05d}\")"
   ]
  },
  {
   "cell_type": "code",
   "execution_count": 72,
   "metadata": {},
   "outputs": [],
   "source": [
    "#### save completed datasets ###\n",
    "#  MassShootingsComplete.to_csv('datasets/MashShootingsComplete_FIPS.csv', index=False)\n",
    "#  SchoolIncidents.to_csv('datasets/SchoolIncidents_FIPS.csv', index=False)"
   ]
  },
  {
   "cell_type": "markdown",
   "metadata": {},
   "source": [
    "The preprocessing is done! We are ready to start making visualizations! 🚀🚀"
   ]
  },
  {
   "cell_type": "markdown",
   "metadata": {},
   "source": [
    "## Questions"
   ]
  },
  {
   "cell_type": "markdown",
   "metadata": {},
   "source": [
    "In the following sections we show the steps we followed in the design of the visualizatinos for each question. At the end of each section we provide the final visualization together with a breaf explanation of the decisions taken and the problems we encountered."
   ]
  },
  {
   "cell_type": "code",
   "execution_count": 82,
   "metadata": {},
   "outputs": [],
   "source": [
    "MassShootings = pd.read_csv(\"datasets/MassShootingsComplete_FIPS.csv\")\n",
    "ShoolIncidents = pd.read_csv(\"datasets/SchoolIncidents_FIPS.csv\")"
   ]
  },
  {
   "cell_type": "markdown",
   "metadata": {},
   "source": [
    "<h3 style=\"color:darkblue\"> Q1: What are the states with large number of mass shootings per citizen?"
   ]
  },
  {
   "cell_type": "code",
   "execution_count": null,
   "metadata": {},
   "outputs": [],
   "source": []
  },
  {
   "cell_type": "markdown",
   "metadata": {},
   "source": [
    "#### Visualization description\n",
    "We decided to..."
   ]
  },
  {
   "cell_type": "markdown",
   "metadata": {},
   "source": [
    "<h3 style=\"color:darkblue\"> Q2: How is the number of mass shootings per citizen distributed across the different counties in the US? And across states?"
   ]
  },
  {
   "cell_type": "code",
   "execution_count": null,
   "metadata": {},
   "outputs": [],
   "source": []
  },
  {
   "cell_type": "markdown",
   "metadata": {},
   "source": [
    "#### Visualization description\n",
    "We decided to..."
   ]
  },
  {
   "cell_type": "markdown",
   "metadata": {},
   "source": [
    "<h3 style=\"color:darkblue\"> Q3: Are the mass shootings correlated with gun violence incidents in schools?"
   ]
  },
  {
   "cell_type": "markdown",
   "metadata": {},
   "source": []
  },
  {
   "cell_type": "markdown",
   "metadata": {},
   "source": [
    "\n",
    "<h4 style=\"color:goldenrod\"> Visualization descprition </h4>\n",
    "We decided to..."
   ]
  },
  {
   "cell_type": "markdown",
   "metadata": {},
   "source": [
    "<h3 style=\"color:darkblue\"> Q4: How have mass shootings evolved the last years in the US?"
   ]
  },
  {
   "cell_type": "markdown",
   "metadata": {},
   "source": [
    "We had to main ideas: showing how have the number of shootings changed during the years (and maybe relationating it with the current governement), and showing the possible underlaying trends inside each year.\n",
    "\n",
    "Let's start with the first representation:"
   ]
  },
  {
   "cell_type": "markdown",
   "metadata": {},
   "source": [
    "<h4 style=\"color:goldenrod\"> Shootings per year </h4>"
   ]
  },
  {
   "cell_type": "code",
   "execution_count": 89,
   "metadata": {},
   "outputs": [
    {
     "data": {
      "text/html": [
       "\n",
       "<style>\n",
       "  #altair-viz-d15ed8e675b8444a9fa8b125fca78a44.vega-embed {\n",
       "    width: 100%;\n",
       "    display: flex;\n",
       "  }\n",
       "\n",
       "  #altair-viz-d15ed8e675b8444a9fa8b125fca78a44.vega-embed details,\n",
       "  #altair-viz-d15ed8e675b8444a9fa8b125fca78a44.vega-embed details summary {\n",
       "    position: relative;\n",
       "  }\n",
       "</style>\n",
       "<div id=\"altair-viz-d15ed8e675b8444a9fa8b125fca78a44\"></div>\n",
       "<script type=\"text/javascript\">\n",
       "  var VEGA_DEBUG = (typeof VEGA_DEBUG == \"undefined\") ? {} : VEGA_DEBUG;\n",
       "  (function(spec, embedOpt){\n",
       "    let outputDiv = document.currentScript.previousElementSibling;\n",
       "    if (outputDiv.id !== \"altair-viz-d15ed8e675b8444a9fa8b125fca78a44\") {\n",
       "      outputDiv = document.getElementById(\"altair-viz-d15ed8e675b8444a9fa8b125fca78a44\");\n",
       "    }\n",
       "    const paths = {\n",
       "      \"vega\": \"https://cdn.jsdelivr.net/npm/vega@5?noext\",\n",
       "      \"vega-lib\": \"https://cdn.jsdelivr.net/npm/vega-lib?noext\",\n",
       "      \"vega-lite\": \"https://cdn.jsdelivr.net/npm/vega-lite@5.20.1?noext\",\n",
       "      \"vega-embed\": \"https://cdn.jsdelivr.net/npm/vega-embed@6?noext\",\n",
       "    };\n",
       "\n",
       "    function maybeLoadScript(lib, version) {\n",
       "      var key = `${lib.replace(\"-\", \"\")}_version`;\n",
       "      return (VEGA_DEBUG[key] == version) ?\n",
       "        Promise.resolve(paths[lib]) :\n",
       "        new Promise(function(resolve, reject) {\n",
       "          var s = document.createElement('script');\n",
       "          document.getElementsByTagName(\"head\")[0].appendChild(s);\n",
       "          s.async = true;\n",
       "          s.onload = () => {\n",
       "            VEGA_DEBUG[key] = version;\n",
       "            return resolve(paths[lib]);\n",
       "          };\n",
       "          s.onerror = () => reject(`Error loading script: ${paths[lib]}`);\n",
       "          s.src = paths[lib];\n",
       "        });\n",
       "    }\n",
       "\n",
       "    function showError(err) {\n",
       "      outputDiv.innerHTML = `<div class=\"error\" style=\"color:red;\">${err}</div>`;\n",
       "      throw err;\n",
       "    }\n",
       "\n",
       "    function displayChart(vegaEmbed) {\n",
       "      vegaEmbed(outputDiv, spec, embedOpt)\n",
       "        .catch(err => showError(`Javascript Error: ${err.message}<br>This usually means there's a typo in your chart specification. See the javascript console for the full traceback.`));\n",
       "    }\n",
       "\n",
       "    if(typeof define === \"function\" && define.amd) {\n",
       "      requirejs.config({paths});\n",
       "      require([\"vega-embed\"], displayChart, err => showError(`Error loading script: ${err.message}`));\n",
       "    } else {\n",
       "      maybeLoadScript(\"vega\", \"5\")\n",
       "        .then(() => maybeLoadScript(\"vega-lite\", \"5.20.1\"))\n",
       "        .then(() => maybeLoadScript(\"vega-embed\", \"6\"))\n",
       "        .catch(showError)\n",
       "        .then(() => displayChart(vegaEmbed));\n",
       "    }\n",
       "  })({\"config\": {\"view\": {\"continuousWidth\": 300, \"continuousHeight\": 300}}, \"data\": {\"name\": \"data-026688d2d0c5dd192a7b9b24d926d62a\"}, \"mark\": {\"type\": \"line\", \"color\": \"black\", \"point\": {\"fill\": \"black\", \"filled\": true}, \"strokeWidth\": 2.5}, \"encoding\": {\"x\": {\"axis\": {\"labelAngle\": 0}, \"field\": \"Year\", \"title\": \"Year\", \"type\": \"ordinal\"}, \"y\": {\"field\": \"Total Shootings\", \"scale\": {\"domain\": [200, 710]}, \"title\": \"Total Shootings\", \"type\": \"quantitative\"}}, \"height\": 400, \"title\": \"Total Shootings per Year in the USA\", \"width\": 500, \"$schema\": \"https://vega.github.io/schema/vega-lite/v5.20.1.json\", \"datasets\": {\"data-026688d2d0c5dd192a7b9b24d926d62a\": [{\"Year\": 2014, \"Total Shootings\": 271}, {\"Year\": 2015, \"Total Shootings\": 331}, {\"Year\": 2016, \"Total Shootings\": 379}, {\"Year\": 2017, \"Total Shootings\": 343}, {\"Year\": 2018, \"Total Shootings\": 330}, {\"Year\": 2019, \"Total Shootings\": 410}, {\"Year\": 2020, \"Total Shootings\": 610}, {\"Year\": 2021, \"Total Shootings\": 682}, {\"Year\": 2022, \"Total Shootings\": 642}, {\"Year\": 2023, \"Total Shootings\": 651}, {\"Year\": 2024, \"Total Shootings\": 396}]}}, {\"mode\": \"vega-lite\"});\n",
       "</script>"
      ],
      "text/plain": [
       "alt.Chart(...)"
      ]
     },
     "metadata": {},
     "output_type": "display_data"
    }
   ],
   "source": [
    "MassShootings['Incident Date'] = pd.to_datetime(MassShootings['Incident Date'])\n",
    "MassShootings['Year'] = MassShootings['Incident Date'].dt.year\n",
    "MassShootings['Month'] = MassShootings['Incident Date'].dt.month\n",
    "\n",
    "# group by year\n",
    "MassShootings_year = MassShootings.groupby('Year').size().reset_index(name='Total Shootings')\n",
    "\n",
    "chart_ms = alt.Chart(MassShootings_year).mark_line(\n",
    "    color='black',\n",
    "    point=alt.OverlayMarkDef(filled=True, fill=\"black\"),\n",
    "    strokeWidth=2.5).encode(\n",
    "    x=alt.X('Year:O', title='Year', axis=alt.Axis(labelAngle=0)),\n",
    "    y=alt.Y('Total Shootings:Q', title='Total Shootings').scale(domain=(200,710))\n",
    ").properties(\n",
    "    title='Total Shootings per Year in the USA',\n",
    "    width=500,\n",
    "    height=400\n",
    ")\n",
    "\n",
    "chart_ms.show()"
   ]
  },
  {
   "cell_type": "markdown",
   "metadata": {},
   "source": [
    "Not bad! Let's try to add the current governement (democratic or republican) for each year."
   ]
  },
  {
   "cell_type": "code",
   "execution_count": null,
   "metadata": {},
   "outputs": [
    {
     "data": {
      "text/html": [
       "\n",
       "<style>\n",
       "  #altair-viz-bd20ca0c7e134d1d99bb5d09873b8bfc.vega-embed {\n",
       "    width: 100%;\n",
       "    display: flex;\n",
       "  }\n",
       "\n",
       "  #altair-viz-bd20ca0c7e134d1d99bb5d09873b8bfc.vega-embed details,\n",
       "  #altair-viz-bd20ca0c7e134d1d99bb5d09873b8bfc.vega-embed details summary {\n",
       "    position: relative;\n",
       "  }\n",
       "</style>\n",
       "<div id=\"altair-viz-bd20ca0c7e134d1d99bb5d09873b8bfc\"></div>\n",
       "<script type=\"text/javascript\">\n",
       "  var VEGA_DEBUG = (typeof VEGA_DEBUG == \"undefined\") ? {} : VEGA_DEBUG;\n",
       "  (function(spec, embedOpt){\n",
       "    let outputDiv = document.currentScript.previousElementSibling;\n",
       "    if (outputDiv.id !== \"altair-viz-bd20ca0c7e134d1d99bb5d09873b8bfc\") {\n",
       "      outputDiv = document.getElementById(\"altair-viz-bd20ca0c7e134d1d99bb5d09873b8bfc\");\n",
       "    }\n",
       "    const paths = {\n",
       "      \"vega\": \"https://cdn.jsdelivr.net/npm/vega@5?noext\",\n",
       "      \"vega-lib\": \"https://cdn.jsdelivr.net/npm/vega-lib?noext\",\n",
       "      \"vega-lite\": \"https://cdn.jsdelivr.net/npm/vega-lite@5.20.1?noext\",\n",
       "      \"vega-embed\": \"https://cdn.jsdelivr.net/npm/vega-embed@6?noext\",\n",
       "    };\n",
       "\n",
       "    function maybeLoadScript(lib, version) {\n",
       "      var key = `${lib.replace(\"-\", \"\")}_version`;\n",
       "      return (VEGA_DEBUG[key] == version) ?\n",
       "        Promise.resolve(paths[lib]) :\n",
       "        new Promise(function(resolve, reject) {\n",
       "          var s = document.createElement('script');\n",
       "          document.getElementsByTagName(\"head\")[0].appendChild(s);\n",
       "          s.async = true;\n",
       "          s.onload = () => {\n",
       "            VEGA_DEBUG[key] = version;\n",
       "            return resolve(paths[lib]);\n",
       "          };\n",
       "          s.onerror = () => reject(`Error loading script: ${paths[lib]}`);\n",
       "          s.src = paths[lib];\n",
       "        });\n",
       "    }\n",
       "\n",
       "    function showError(err) {\n",
       "      outputDiv.innerHTML = `<div class=\"error\" style=\"color:red;\">${err}</div>`;\n",
       "      throw err;\n",
       "    }\n",
       "\n",
       "    function displayChart(vegaEmbed) {\n",
       "      vegaEmbed(outputDiv, spec, embedOpt)\n",
       "        .catch(err => showError(`Javascript Error: ${err.message}<br>This usually means there's a typo in your chart specification. See the javascript console for the full traceback.`));\n",
       "    }\n",
       "\n",
       "    if(typeof define === \"function\" && define.amd) {\n",
       "      requirejs.config({paths});\n",
       "      require([\"vega-embed\"], displayChart, err => showError(`Error loading script: ${err.message}`));\n",
       "    } else {\n",
       "      maybeLoadScript(\"vega\", \"5\")\n",
       "        .then(() => maybeLoadScript(\"vega-lite\", \"5.20.1\"))\n",
       "        .then(() => maybeLoadScript(\"vega-embed\", \"6\"))\n",
       "        .catch(showError)\n",
       "        .then(() => displayChart(vegaEmbed));\n",
       "    }\n",
       "  })({\"config\": {\"view\": {\"continuousWidth\": 300, \"continuousHeight\": 300}}, \"layer\": [{\"data\": {\"name\": \"data-f144d64e687eb6b79261ed2488de01d6\"}, \"mark\": {\"type\": \"area\"}, \"encoding\": {\"color\": {\"field\": \"governement\", \"legend\": {\"direction\": \"horizontal\", \"legendX\": 185, \"legendY\": -30, \"orient\": \"none\", \"titleAnchor\": \"middle\"}, \"scale\": {\"domain\": [\"Democratic\", \"Republican\"], \"range\": [\"#3182bd\", \"#d7301f\"]}, \"type\": \"nominal\"}, \"x\": {\"axis\": {\"labelAngle\": 0}, \"field\": \"Year\", \"title\": \"Year\", \"type\": \"ordinal\"}, \"y\": {\"field\": \"y1\", \"scale\": {\"domain\": [200, 720]}, \"title\": \"Total Shootings\", \"type\": \"quantitative\"}, \"y2\": {\"field\": \"y2\"}}}, {\"data\": {\"name\": \"data-026688d2d0c5dd192a7b9b24d926d62a\"}, \"mark\": {\"type\": \"line\", \"color\": \"black\", \"point\": {\"fill\": \"black\", \"filled\": true}, \"strokeWidth\": 2.5}, \"encoding\": {\"x\": {\"axis\": {\"labelAngle\": 0}, \"field\": \"Year\", \"title\": \"Year\", \"type\": \"ordinal\"}, \"y\": {\"field\": \"Total Shootings\", \"scale\": {\"domain\": [200, 750]}, \"title\": \"Total Shootings\", \"type\": \"quantitative\"}}, \"title\": {\"text\": [\"Total Shootings per Year in the USA\"], \"dy\": -10, \"fontSize\": 16}}], \"height\": 400, \"width\": 460, \"$schema\": \"https://vega.github.io/schema/vega-lite/v5.20.1.json\", \"datasets\": {\"data-f144d64e687eb6b79261ed2488de01d6\": [{\"Year\": 2014, \"y1\": 730, \"y2\": 720, \"governement\": \"Democratic\"}, {\"Year\": 2015, \"y1\": 730, \"y2\": 720, \"governement\": \"Democratic\"}, {\"Year\": 2016, \"y1\": 730, \"y2\": 720, \"governement\": \"Democratic\"}, {\"Year\": 2017, \"y1\": 730, \"y2\": 720, \"governement\": \"Republican\"}, {\"Year\": 2018, \"y1\": 730, \"y2\": 720, \"governement\": \"Republican\"}, {\"Year\": 2019, \"y1\": 730, \"y2\": 720, \"governement\": \"Republican\"}, {\"Year\": 2020, \"y1\": 730, \"y2\": 720, \"governement\": \"Republican\"}, {\"Year\": 2021, \"y1\": 730, \"y2\": 720, \"governement\": \"Republican\"}, {\"Year\": 2022, \"y1\": 730, \"y2\": 720, \"governement\": \"Democratic\"}, {\"Year\": 2023, \"y1\": 730, \"y2\": 720, \"governement\": \"Democratic\"}, {\"Year\": 2024, \"y1\": 730, \"y2\": 720, \"governement\": \"Democratic\"}], \"data-026688d2d0c5dd192a7b9b24d926d62a\": [{\"Year\": 2014, \"Total Shootings\": 271}, {\"Year\": 2015, \"Total Shootings\": 331}, {\"Year\": 2016, \"Total Shootings\": 379}, {\"Year\": 2017, \"Total Shootings\": 343}, {\"Year\": 2018, \"Total Shootings\": 330}, {\"Year\": 2019, \"Total Shootings\": 410}, {\"Year\": 2020, \"Total Shootings\": 610}, {\"Year\": 2021, \"Total Shootings\": 682}, {\"Year\": 2022, \"Total Shootings\": 642}, {\"Year\": 2023, \"Total Shootings\": 651}, {\"Year\": 2024, \"Total Shootings\": 396}]}}, {\"mode\": \"vega-lite\"});\n",
       "</script>"
      ],
      "text/plain": [
       "alt.LayerChart(...)"
      ]
     },
     "execution_count": 230,
     "metadata": {},
     "output_type": "execute_result"
    }
   ],
   "source": [
    "### FIRST ATTEMT ###\n",
    "gov = pd.DataFrame({\n",
    "    'Year': [i for i in range(2014, 2025)],\n",
    "    'y1': [230+500]*11,\n",
    "    'y2': [220+500]*11,\n",
    "    'governement': ['Democratic']*3 + ['Republican']*5 + ['Democratic']*3\n",
    "})\n",
    "\n",
    "\n",
    "chart_gov = alt.Chart(gov).mark_area().encode(\n",
    "    x=alt.X('Year:O', title='Year', axis=alt.Axis(labelAngle=0)),\n",
    "    y=alt.Y('y1:Q', title='Total Shootings', scale=alt.Scale(domain=(200, 720))),\n",
    "    y2='y2:Q',\n",
    "    color=alt.Color('governement', legend=alt.Legend(\n",
    "        orient='none', \n",
    "        legendX=185, legendY=-30,  # Ajusta la posició de la llegenda\n",
    "        direction='horizontal',\n",
    "        titleAnchor='middle'  # Centra el títol dins de la llegenda\n",
    "    ), scale=alt.Scale(domain=['Democratic', 'Republican'], range=['#3182bd', '#d7301f']))\n",
    ")\n",
    "\n",
    "\n",
    "chart_ms = alt.Chart(MassShootings_year).mark_line(\n",
    "    color='black',\n",
    "    point=alt.OverlayMarkDef(filled=True, fill=\"black\"),\n",
    "    strokeWidth=2.5).encode(\n",
    "    x=alt.X('Year:O', title='Year', axis=alt.Axis(labelAngle=0)),\n",
    "    y=alt.Y('Total Shootings:Q', title='Total Shootings').scale(domain=(200,750))\n",
    ").properties(\n",
    "    title={\n",
    "        \"text\":['Total Shootings per Year in the USA'],\n",
    "        \"dy\": -10,\n",
    "        \"fontSize\": 16,\n",
    "    },\n",
    "    width=460,\n",
    "    height=300\n",
    ")\n",
    "\n",
    "legend_data = pd.DataFrame({\n",
    "    'Year': ['2015-09-18 00:00:00+00:00', '2018-09-18 00:00:00+00:00'],\n",
    "    'Total Shootings': [700, 660],\n",
    "    'label': ['Democratic', 'Republican'],\n",
    "    'governement': ['Democratic', 'Republican']\n",
    "})\n",
    "\n",
    "\n",
    "\n",
    "linechart_years = chart_gov + chart_ms\n",
    "linechart_years"
   ]
  },
  {
   "cell_type": "markdown",
   "metadata": {},
   "source": [
    "We were not really convinced by the looks and space-efficiency of this approach, so we tried another option:"
   ]
  },
  {
   "cell_type": "code",
   "execution_count": 240,
   "metadata": {},
   "outputs": [
    {
     "data": {
      "text/html": [
       "\n",
       "<style>\n",
       "  #altair-viz-674691a21a874da9a4e55acdc28455d3.vega-embed {\n",
       "    width: 100%;\n",
       "    display: flex;\n",
       "  }\n",
       "\n",
       "  #altair-viz-674691a21a874da9a4e55acdc28455d3.vega-embed details,\n",
       "  #altair-viz-674691a21a874da9a4e55acdc28455d3.vega-embed details summary {\n",
       "    position: relative;\n",
       "  }\n",
       "</style>\n",
       "<div id=\"altair-viz-674691a21a874da9a4e55acdc28455d3\"></div>\n",
       "<script type=\"text/javascript\">\n",
       "  var VEGA_DEBUG = (typeof VEGA_DEBUG == \"undefined\") ? {} : VEGA_DEBUG;\n",
       "  (function(spec, embedOpt){\n",
       "    let outputDiv = document.currentScript.previousElementSibling;\n",
       "    if (outputDiv.id !== \"altair-viz-674691a21a874da9a4e55acdc28455d3\") {\n",
       "      outputDiv = document.getElementById(\"altair-viz-674691a21a874da9a4e55acdc28455d3\");\n",
       "    }\n",
       "    const paths = {\n",
       "      \"vega\": \"https://cdn.jsdelivr.net/npm/vega@5?noext\",\n",
       "      \"vega-lib\": \"https://cdn.jsdelivr.net/npm/vega-lib?noext\",\n",
       "      \"vega-lite\": \"https://cdn.jsdelivr.net/npm/vega-lite@5.20.1?noext\",\n",
       "      \"vega-embed\": \"https://cdn.jsdelivr.net/npm/vega-embed@6?noext\",\n",
       "    };\n",
       "\n",
       "    function maybeLoadScript(lib, version) {\n",
       "      var key = `${lib.replace(\"-\", \"\")}_version`;\n",
       "      return (VEGA_DEBUG[key] == version) ?\n",
       "        Promise.resolve(paths[lib]) :\n",
       "        new Promise(function(resolve, reject) {\n",
       "          var s = document.createElement('script');\n",
       "          document.getElementsByTagName(\"head\")[0].appendChild(s);\n",
       "          s.async = true;\n",
       "          s.onload = () => {\n",
       "            VEGA_DEBUG[key] = version;\n",
       "            return resolve(paths[lib]);\n",
       "          };\n",
       "          s.onerror = () => reject(`Error loading script: ${paths[lib]}`);\n",
       "          s.src = paths[lib];\n",
       "        });\n",
       "    }\n",
       "\n",
       "    function showError(err) {\n",
       "      outputDiv.innerHTML = `<div class=\"error\" style=\"color:red;\">${err}</div>`;\n",
       "      throw err;\n",
       "    }\n",
       "\n",
       "    function displayChart(vegaEmbed) {\n",
       "      vegaEmbed(outputDiv, spec, embedOpt)\n",
       "        .catch(err => showError(`Javascript Error: ${err.message}<br>This usually means there's a typo in your chart specification. See the javascript console for the full traceback.`));\n",
       "    }\n",
       "\n",
       "    if(typeof define === \"function\" && define.amd) {\n",
       "      requirejs.config({paths});\n",
       "      require([\"vega-embed\"], displayChart, err => showError(`Error loading script: ${err.message}`));\n",
       "    } else {\n",
       "      maybeLoadScript(\"vega\", \"5\")\n",
       "        .then(() => maybeLoadScript(\"vega-lite\", \"5.20.1\"))\n",
       "        .then(() => maybeLoadScript(\"vega-embed\", \"6\"))\n",
       "        .catch(showError)\n",
       "        .then(() => displayChart(vegaEmbed));\n",
       "    }\n",
       "  })({\"config\": {\"view\": {\"continuousWidth\": 300, \"continuousHeight\": 300}}, \"layer\": [{\"layer\": [{\"data\": {\"name\": \"empty\"}, \"mark\": {\"type\": \"rect\", \"color\": \"#aed6f1\", \"opacity\": 1}, \"encoding\": {\"x\": {\"value\": 0}, \"x2\": {\"value\": 160.5}, \"y\": {\"value\": 0}, \"y2\": {\"value\": 400}}}, {\"data\": {\"name\": \"empty\"}, \"mark\": {\"type\": \"rect\", \"color\": \"#f5b7b1\", \"opacity\": 1}, \"encoding\": {\"x\": {\"value\": 160}, \"x2\": {\"value\": 341}, \"y\": {\"value\": 0}, \"y2\": {\"value\": 400}}}, {\"data\": {\"name\": \"empty\"}, \"mark\": {\"type\": \"rect\", \"color\": \"#aed6f1\", \"opacity\": 1}, \"encoding\": {\"x\": {\"value\": 341.2}, \"x2\": {\"value\": 500}, \"y\": {\"value\": 0}, \"y2\": {\"value\": 400}}}]}, {\"data\": {\"name\": \"data-8277c5bc2dc8e16647ea5c377e998d75\"}, \"mark\": {\"type\": \"rule\", \"color\": \"black\", \"opacity\": 0.5, \"size\": 0.8}, \"encoding\": {\"y\": {\"axis\": null, \"field\": \"y\", \"title\": null, \"type\": \"quantitative\"}}}, {\"data\": {\"name\": \"data-026688d2d0c5dd192a7b9b24d926d62a\"}, \"mark\": {\"type\": \"line\", \"color\": \"black\", \"point\": {\"fill\": \"black\", \"filled\": true}, \"strokeWidth\": 2.5}, \"encoding\": {\"x\": {\"axis\": {\"grid\": false, \"labelAngle\": 0}, \"field\": \"Year\", \"title\": \"Year\", \"type\": \"ordinal\"}, \"y\": {\"field\": \"Total Shootings\", \"scale\": {\"domain\": [250, 710]}, \"title\": \"Total Shootings\", \"type\": \"quantitative\"}}, \"title\": \"Total Shootings per Year in the USA\"}, {\"data\": {\"name\": \"data-f5a0d41705e3d31c152a62c5ab6ce522\"}, \"mark\": {\"type\": \"area\"}, \"encoding\": {\"color\": {\"field\": \"governement\", \"legend\": {\"cornerRadius\": 10, \"fillColor\": \"#EEEEEE\", \"orient\": \"top-left\", \"padding\": 10, \"strokeColor\": \"gray\", \"titleAnchor\": \"middle\"}, \"scale\": {\"domain\": [\"Democratic\", \"Republican\"], \"range\": [\"#aed6f1\", \"#f5b7b1\"]}, \"type\": \"nominal\"}, \"x\": {\"axis\": {\"labelAngle\": 0}, \"field\": \"Year\", \"title\": \"Year\", \"type\": \"ordinal\"}, \"y\": {\"axis\": null, \"field\": \"y1\", \"scale\": {\"domain\": [200, 720]}, \"title\": \"Total Shootings\", \"type\": \"quantitative\"}, \"y2\": {\"field\": \"y2\"}}}], \"height\": 400, \"resolve\": {\"scale\": {\"y\": \"independent\"}}, \"title\": \"Total Shootings per Year in the USA\", \"width\": 500, \"$schema\": \"https://vega.github.io/schema/vega-lite/v5.20.1.json\", \"datasets\": {\"empty\": [{}], \"data-8277c5bc2dc8e16647ea5c377e998d75\": [{\"y\": 0}, {\"y\": 50}, {\"y\": 100}, {\"y\": 150}, {\"y\": 200}, {\"y\": 250}, {\"y\": 300}, {\"y\": 350}, {\"y\": 400}, {\"y\": 450}, {\"y\": 500}, {\"y\": 550}, {\"y\": 600}, {\"y\": 650}, {\"y\": 700}], \"data-026688d2d0c5dd192a7b9b24d926d62a\": [{\"Year\": 2014, \"Total Shootings\": 271}, {\"Year\": 2015, \"Total Shootings\": 331}, {\"Year\": 2016, \"Total Shootings\": 379}, {\"Year\": 2017, \"Total Shootings\": 343}, {\"Year\": 2018, \"Total Shootings\": 330}, {\"Year\": 2019, \"Total Shootings\": 410}, {\"Year\": 2020, \"Total Shootings\": 610}, {\"Year\": 2021, \"Total Shootings\": 682}, {\"Year\": 2022, \"Total Shootings\": 642}, {\"Year\": 2023, \"Total Shootings\": 651}, {\"Year\": 2024, \"Total Shootings\": 396}], \"data-f5a0d41705e3d31c152a62c5ab6ce522\": [{\"Year\": 2014, \"y1\": 0, \"y2\": 0, \"governement\": \"Democratic\"}, {\"Year\": 2015, \"y1\": 0, \"y2\": 0, \"governement\": \"Democratic\"}, {\"Year\": 2016, \"y1\": 0, \"y2\": 0, \"governement\": \"Democratic\"}, {\"Year\": 2017, \"y1\": 0, \"y2\": 0, \"governement\": \"Republican\"}, {\"Year\": 2018, \"y1\": 0, \"y2\": 0, \"governement\": \"Republican\"}, {\"Year\": 2019, \"y1\": 0, \"y2\": 0, \"governement\": \"Republican\"}, {\"Year\": 2020, \"y1\": 0, \"y2\": 0, \"governement\": \"Republican\"}, {\"Year\": 2021, \"y1\": 0, \"y2\": 0, \"governement\": \"Republican\"}, {\"Year\": 2022, \"y1\": 0, \"y2\": 0, \"governement\": \"Democratic\"}, {\"Year\": 2023, \"y1\": 0, \"y2\": 0, \"governement\": \"Democratic\"}, {\"Year\": 2024, \"y1\": 0, \"y2\": 0, \"governement\": \"Democratic\"}]}}, {\"mode\": \"vega-lite\"});\n",
       "</script>"
      ],
      "text/plain": [
       "alt.LayerChart(...)"
      ]
     },
     "execution_count": 240,
     "metadata": {},
     "output_type": "execute_result"
    }
   ],
   "source": [
    "### we keep this part just for the legend ###\n",
    "\n",
    "RED = '#f5b7b1'\n",
    "BLUE = '#aed6f1' \n",
    "\n",
    "gov = pd.DataFrame({\n",
    "    'Year': [i for i in range(2014, 2025)],\n",
    "    'y1': [0]*11, \n",
    "    'y2': [0]*11,\n",
    "    'governement': ['Democratic']*3 + ['Republican']*5 + ['Democratic']*3\n",
    "})\n",
    "\n",
    "\n",
    "chart_gov = alt.Chart(gov).mark_area().encode(\n",
    "    x=alt.X('Year:O', title='Year', axis=alt.Axis(labelAngle=0)),\n",
    "    y=alt.Y('y1:Q', title='Total Shootings', scale=alt.Scale(domain=(200, 720)),axis=None),\n",
    "    y2='y2:Q',\n",
    "    color=alt.Color('governement', legend=alt.Legend(\n",
    "        orient='top-left',\n",
    "        strokeColor='gray',\n",
    "        fillColor='#EEEEEE',\n",
    "        padding=10,\n",
    "        cornerRadius=10,\n",
    "        titleAnchor='middle'\n",
    "    ), scale=alt.Scale(domain=['Democratic', 'Republican'], range=[BLUE, RED]))\n",
    ")\n",
    "\n",
    "\n",
    "chart_ms = alt.Chart(MassShootings_year).mark_line(\n",
    "    color='black',\n",
    "    point=alt.OverlayMarkDef(filled=True, fill=\"black\"),\n",
    "    strokeWidth=2.5).encode(\n",
    "    x=alt.X('Year:O', title='Year', axis=alt.Axis(labelAngle=0,grid=False)),\n",
    "    y=alt.Y('Total Shootings:Q', title='Total Shootings').scale(domain=(250,710))\n",
    ").properties(\n",
    "    title='Total Shootings per Year in the USA',\n",
    "    width=500,\n",
    "    height=400\n",
    ")\n",
    "\n",
    "\n",
    "# rectangles for the background colour\n",
    "rep = alt.Chart().mark_rect(color=RED, opacity=1).encode(\n",
    "    x=alt.value(160),\n",
    "    y=alt.value(0),\n",
    "    x2=alt.value(341),\n",
    "    y2=alt.value(400))\n",
    "\n",
    "dem1 = alt.Chart().mark_rect(color=BLUE, opacity=1).encode(\n",
    "    x=alt.value(0),\n",
    "    y=alt.value(0),\n",
    "    x2=alt.value(160.5),\n",
    "    y2=alt.value(400))\n",
    "\n",
    "dem2 = alt.Chart().mark_rect(color=BLUE, opacity=1).encode(\n",
    "    x=alt.value(341.2),\n",
    "    y=alt.value(0),\n",
    "    x2=alt.value(500),\n",
    "    y2=alt.value(400))\n",
    "\n",
    "background = alt.layer(dem1, rep, dem2)\n",
    "\n",
    "# making manual grid\n",
    "y_values = pd.DataFrame({'y': list(range(0, 701, 50))})\n",
    "\n",
    "lines = alt.Chart(y_values).mark_rule(color='black', size=0.8, opacity=0.5).encode(\n",
    "    y=alt.Y('y:Q',title=None, axis=None)\n",
    ")\n",
    "\n",
    "# Line charts layered on top of the background rectangles\n",
    "chart_with_background = alt.layer(\n",
    "    background,\n",
    "    lines,\n",
    "    chart_ms,\n",
    "    chart_gov\n",
    ").properties(\n",
    "    title='Total Shootings per Year in the USA',\n",
    "    width=500,\n",
    "    height=400\n",
    ").resolve_scale(\n",
    "    y='independent'\n",
    ")\n",
    "\n",
    "chart_with_background"
   ]
  },
  {
   "cell_type": "markdown",
   "metadata": {},
   "source": [
    "<h4 style=\"color:goldenrod\"> Shooting trends inside a year </h4>"
   ]
  },
  {
   "cell_type": "code",
   "execution_count": 90,
   "metadata": {},
   "outputs": [],
   "source": [
    "monthly_shootings = MassShootings[MassShootings['Year']>2014].groupby(['Year', 'Month']).size().reset_index(name='Total Shootings')\n",
    "monthly_avg = monthly_shootings.groupby('Month')['Total Shootings'].mean().reset_index()"
   ]
  },
  {
   "cell_type": "code",
   "execution_count": null,
   "metadata": {},
   "outputs": [
    {
     "data": {
      "text/html": [
       "\n",
       "<style>\n",
       "  #altair-viz-629e5514ce0f411cb2f414aab95d861c.vega-embed {\n",
       "    width: 100%;\n",
       "    display: flex;\n",
       "  }\n",
       "\n",
       "  #altair-viz-629e5514ce0f411cb2f414aab95d861c.vega-embed details,\n",
       "  #altair-viz-629e5514ce0f411cb2f414aab95d861c.vega-embed details summary {\n",
       "    position: relative;\n",
       "  }\n",
       "</style>\n",
       "<div id=\"altair-viz-629e5514ce0f411cb2f414aab95d861c\"></div>\n",
       "<script type=\"text/javascript\">\n",
       "  var VEGA_DEBUG = (typeof VEGA_DEBUG == \"undefined\") ? {} : VEGA_DEBUG;\n",
       "  (function(spec, embedOpt){\n",
       "    let outputDiv = document.currentScript.previousElementSibling;\n",
       "    if (outputDiv.id !== \"altair-viz-629e5514ce0f411cb2f414aab95d861c\") {\n",
       "      outputDiv = document.getElementById(\"altair-viz-629e5514ce0f411cb2f414aab95d861c\");\n",
       "    }\n",
       "    const paths = {\n",
       "      \"vega\": \"https://cdn.jsdelivr.net/npm/vega@5?noext\",\n",
       "      \"vega-lib\": \"https://cdn.jsdelivr.net/npm/vega-lib?noext\",\n",
       "      \"vega-lite\": \"https://cdn.jsdelivr.net/npm/vega-lite@5.20.1?noext\",\n",
       "      \"vega-embed\": \"https://cdn.jsdelivr.net/npm/vega-embed@6?noext\",\n",
       "    };\n",
       "\n",
       "    function maybeLoadScript(lib, version) {\n",
       "      var key = `${lib.replace(\"-\", \"\")}_version`;\n",
       "      return (VEGA_DEBUG[key] == version) ?\n",
       "        Promise.resolve(paths[lib]) :\n",
       "        new Promise(function(resolve, reject) {\n",
       "          var s = document.createElement('script');\n",
       "          document.getElementsByTagName(\"head\")[0].appendChild(s);\n",
       "          s.async = true;\n",
       "          s.onload = () => {\n",
       "            VEGA_DEBUG[key] = version;\n",
       "            return resolve(paths[lib]);\n",
       "          };\n",
       "          s.onerror = () => reject(`Error loading script: ${paths[lib]}`);\n",
       "          s.src = paths[lib];\n",
       "        });\n",
       "    }\n",
       "\n",
       "    function showError(err) {\n",
       "      outputDiv.innerHTML = `<div class=\"error\" style=\"color:red;\">${err}</div>`;\n",
       "      throw err;\n",
       "    }\n",
       "\n",
       "    function displayChart(vegaEmbed) {\n",
       "      vegaEmbed(outputDiv, spec, embedOpt)\n",
       "        .catch(err => showError(`Javascript Error: ${err.message}<br>This usually means there's a typo in your chart specification. See the javascript console for the full traceback.`));\n",
       "    }\n",
       "\n",
       "    if(typeof define === \"function\" && define.amd) {\n",
       "      requirejs.config({paths});\n",
       "      require([\"vega-embed\"], displayChart, err => showError(`Error loading script: ${err.message}`));\n",
       "    } else {\n",
       "      maybeLoadScript(\"vega\", \"5\")\n",
       "        .then(() => maybeLoadScript(\"vega-lite\", \"5.20.1\"))\n",
       "        .then(() => maybeLoadScript(\"vega-embed\", \"6\"))\n",
       "        .catch(showError)\n",
       "        .then(() => displayChart(vegaEmbed));\n",
       "    }\n",
       "  })({\"config\": {\"view\": {\"continuousWidth\": 300, \"continuousHeight\": 300}}, \"data\": {\"name\": \"data-c01ad75464e1ce59bd8297654603bd60\"}, \"mark\": {\"type\": \"line\"}, \"encoding\": {\"color\": {\"field\": \"Year\", \"title\": \"Any\", \"type\": \"ordinal\"}, \"x\": {\"axis\": {\"labelAngle\": 0}, \"field\": \"Month\", \"title\": \"Mes\", \"type\": \"ordinal\"}, \"y\": {\"field\": \"Total Shootings\", \"title\": \"Nombre total de tirotejos\", \"type\": \"quantitative\"}}, \"title\": \"Evoluci\\u00f3 mensual dels tirotejos massius als EUA per any\", \"$schema\": \"https://vega.github.io/schema/vega-lite/v5.20.1.json\", \"datasets\": {\"data-c01ad75464e1ce59bd8297654603bd60\": [{\"Year\": 2015, \"Month\": 1, \"Total Shootings\": 22}, {\"Year\": 2015, \"Month\": 2, \"Total Shootings\": 15}, {\"Year\": 2015, \"Month\": 3, \"Total Shootings\": 22}, {\"Year\": 2015, \"Month\": 4, \"Total Shootings\": 19}, {\"Year\": 2015, \"Month\": 5, \"Total Shootings\": 35}, {\"Year\": 2015, \"Month\": 6, \"Total Shootings\": 36}, {\"Year\": 2015, \"Month\": 7, \"Total Shootings\": 44}, {\"Year\": 2015, \"Month\": 8, \"Total Shootings\": 39}, {\"Year\": 2015, \"Month\": 9, \"Total Shootings\": 34}, {\"Year\": 2015, \"Month\": 10, \"Total Shootings\": 19}, {\"Year\": 2015, \"Month\": 11, \"Total Shootings\": 26}, {\"Year\": 2015, \"Month\": 12, \"Total Shootings\": 20}, {\"Year\": 2016, \"Month\": 1, \"Total Shootings\": 11}, {\"Year\": 2016, \"Month\": 2, \"Total Shootings\": 27}, {\"Year\": 2016, \"Month\": 3, \"Total Shootings\": 22}, {\"Year\": 2016, \"Month\": 4, \"Total Shootings\": 32}, {\"Year\": 2016, \"Month\": 5, \"Total Shootings\": 29}, {\"Year\": 2016, \"Month\": 6, \"Total Shootings\": 45}, {\"Year\": 2016, \"Month\": 7, \"Total Shootings\": 49}, {\"Year\": 2016, \"Month\": 8, \"Total Shootings\": 39}, {\"Year\": 2016, \"Month\": 9, \"Total Shootings\": 32}, {\"Year\": 2016, \"Month\": 10, \"Total Shootings\": 31}, {\"Year\": 2016, \"Month\": 11, \"Total Shootings\": 36}, {\"Year\": 2016, \"Month\": 12, \"Total Shootings\": 26}, {\"Year\": 2017, \"Month\": 1, \"Total Shootings\": 31}, {\"Year\": 2017, \"Month\": 2, \"Total Shootings\": 24}, {\"Year\": 2017, \"Month\": 3, \"Total Shootings\": 22}, {\"Year\": 2017, \"Month\": 4, \"Total Shootings\": 39}, {\"Year\": 2017, \"Month\": 5, \"Total Shootings\": 23}, {\"Year\": 2017, \"Month\": 6, \"Total Shootings\": 34}, {\"Year\": 2017, \"Month\": 7, \"Total Shootings\": 36}, {\"Year\": 2017, \"Month\": 8, \"Total Shootings\": 33}, {\"Year\": 2017, \"Month\": 9, \"Total Shootings\": 30}, {\"Year\": 2017, \"Month\": 10, \"Total Shootings\": 28}, {\"Year\": 2017, \"Month\": 11, \"Total Shootings\": 24}, {\"Year\": 2017, \"Month\": 12, \"Total Shootings\": 19}, {\"Year\": 2018, \"Month\": 1, \"Total Shootings\": 22}, {\"Year\": 2018, \"Month\": 2, \"Total Shootings\": 13}, {\"Year\": 2018, \"Month\": 3, \"Total Shootings\": 17}, {\"Year\": 2018, \"Month\": 4, \"Total Shootings\": 25}, {\"Year\": 2018, \"Month\": 5, \"Total Shootings\": 28}, {\"Year\": 2018, \"Month\": 6, \"Total Shootings\": 50}, {\"Year\": 2018, \"Month\": 7, \"Total Shootings\": 44}, {\"Year\": 2018, \"Month\": 8, \"Total Shootings\": 33}, {\"Year\": 2018, \"Month\": 9, \"Total Shootings\": 34}, {\"Year\": 2018, \"Month\": 10, \"Total Shootings\": 29}, {\"Year\": 2018, \"Month\": 11, \"Total Shootings\": 20}, {\"Year\": 2018, \"Month\": 12, \"Total Shootings\": 15}, {\"Year\": 2019, \"Month\": 1, \"Total Shootings\": 25}, {\"Year\": 2019, \"Month\": 2, \"Total Shootings\": 20}, {\"Year\": 2019, \"Month\": 3, \"Total Shootings\": 20}, {\"Year\": 2019, \"Month\": 4, \"Total Shootings\": 32}, {\"Year\": 2019, \"Month\": 5, \"Total Shootings\": 47}, {\"Year\": 2019, \"Month\": 6, \"Total Shootings\": 52}, {\"Year\": 2019, \"Month\": 7, \"Total Shootings\": 41}, {\"Year\": 2019, \"Month\": 8, \"Total Shootings\": 40}, {\"Year\": 2019, \"Month\": 9, \"Total Shootings\": 34}, {\"Year\": 2019, \"Month\": 10, \"Total Shootings\": 34}, {\"Year\": 2019, \"Month\": 11, \"Total Shootings\": 33}, {\"Year\": 2019, \"Month\": 12, \"Total Shootings\": 32}, {\"Year\": 2020, \"Month\": 1, \"Total Shootings\": 25}, {\"Year\": 2020, \"Month\": 2, \"Total Shootings\": 20}, {\"Year\": 2020, \"Month\": 3, \"Total Shootings\": 24}, {\"Year\": 2020, \"Month\": 4, \"Total Shootings\": 26}, {\"Year\": 2020, \"Month\": 5, \"Total Shootings\": 59}, {\"Year\": 2020, \"Month\": 6, \"Total Shootings\": 94}, {\"Year\": 2020, \"Month\": 7, \"Total Shootings\": 89}, {\"Year\": 2020, \"Month\": 8, \"Total Shootings\": 80}, {\"Year\": 2020, \"Month\": 9, \"Total Shootings\": 68}, {\"Year\": 2020, \"Month\": 10, \"Total Shootings\": 50}, {\"Year\": 2020, \"Month\": 11, \"Total Shootings\": 49}, {\"Year\": 2020, \"Month\": 12, \"Total Shootings\": 26}, {\"Year\": 2021, \"Month\": 1, \"Total Shootings\": 32}, {\"Year\": 2021, \"Month\": 2, \"Total Shootings\": 40}, {\"Year\": 2021, \"Month\": 3, \"Total Shootings\": 45}, {\"Year\": 2021, \"Month\": 4, \"Total Shootings\": 49}, {\"Year\": 2021, \"Month\": 5, \"Total Shootings\": 72}, {\"Year\": 2021, \"Month\": 6, \"Total Shootings\": 74}, {\"Year\": 2021, \"Month\": 7, \"Total Shootings\": 83}, {\"Year\": 2021, \"Month\": 8, \"Total Shootings\": 64}, {\"Year\": 2021, \"Month\": 9, \"Total Shootings\": 66}, {\"Year\": 2021, \"Month\": 10, \"Total Shootings\": 70}, {\"Year\": 2021, \"Month\": 11, \"Total Shootings\": 48}, {\"Year\": 2021, \"Month\": 12, \"Total Shootings\": 39}, {\"Year\": 2022, \"Month\": 1, \"Total Shootings\": 34}, {\"Year\": 2022, \"Month\": 2, \"Total Shootings\": 36}, {\"Year\": 2022, \"Month\": 3, \"Total Shootings\": 41}, {\"Year\": 2022, \"Month\": 4, \"Total Shootings\": 57}, {\"Year\": 2022, \"Month\": 5, \"Total Shootings\": 64}, {\"Year\": 2022, \"Month\": 6, \"Total Shootings\": 64}, {\"Year\": 2022, \"Month\": 7, \"Total Shootings\": 89}, {\"Year\": 2022, \"Month\": 8, \"Total Shootings\": 59}, {\"Year\": 2022, \"Month\": 9, \"Total Shootings\": 63}, {\"Year\": 2022, \"Month\": 10, \"Total Shootings\": 62}, {\"Year\": 2022, \"Month\": 11, \"Total Shootings\": 43}, {\"Year\": 2022, \"Month\": 12, \"Total Shootings\": 30}, {\"Year\": 2023, \"Month\": 1, \"Total Shootings\": 52}, {\"Year\": 2023, \"Month\": 2, \"Total Shootings\": 41}, {\"Year\": 2023, \"Month\": 3, \"Total Shootings\": 41}, {\"Year\": 2023, \"Month\": 4, \"Total Shootings\": 55}, {\"Year\": 2023, \"Month\": 5, \"Total Shootings\": 78}, {\"Year\": 2023, \"Month\": 6, \"Total Shootings\": 67}, {\"Year\": 2023, \"Month\": 7, \"Total Shootings\": 85}, {\"Year\": 2023, \"Month\": 8, \"Total Shootings\": 57}, {\"Year\": 2023, \"Month\": 9, \"Total Shootings\": 41}, {\"Year\": 2023, \"Month\": 10, \"Total Shootings\": 65}, {\"Year\": 2023, \"Month\": 11, \"Total Shootings\": 33}, {\"Year\": 2023, \"Month\": 12, \"Total Shootings\": 36}, {\"Year\": 2024, \"Month\": 1, \"Total Shootings\": 38}, {\"Year\": 2024, \"Month\": 2, \"Total Shootings\": 27}, {\"Year\": 2024, \"Month\": 3, \"Total Shootings\": 34}, {\"Year\": 2024, \"Month\": 4, \"Total Shootings\": 37}, {\"Year\": 2024, \"Month\": 5, \"Total Shootings\": 52}, {\"Year\": 2024, \"Month\": 6, \"Total Shootings\": 71}, {\"Year\": 2024, \"Month\": 7, \"Total Shootings\": 62}, {\"Year\": 2024, \"Month\": 8, \"Total Shootings\": 51}, {\"Year\": 2024, \"Month\": 9, \"Total Shootings\": 24}]}}, {\"mode\": \"vega-lite\"});\n",
       "</script>"
      ],
      "text/plain": [
       "alt.Chart(...)"
      ]
     },
     "execution_count": 92,
     "metadata": {},
     "output_type": "execute_result"
    }
   ],
   "source": [
    "line_chart_months1 = alt.Chart(monthly_shootings[monthly_shootings['Year']>2013]).mark_line().encode(\n",
    "    x=alt.X('Month:O', title='Mes', axis=alt.Axis(labelAngle=0)),\n",
    "    y=alt.Y('Total Shootings:Q', title='Nombre total de tirotejos'),\n",
    "    color=alt.Color('Year:O', title='Any')\n",
    ").properties(\n",
    "    title='Evolució mensual dels tirotejos massius als EUA per any'\n",
    ")\n",
    "\n",
    "line_chart_months1"
   ]
  },
  {
   "cell_type": "markdown",
   "metadata": {},
   "source": [
    "Even though the trend is well understood, there are too many years... we can try to visualize the last 5 years. A lighter color corresponds to an early year, but maybe it's not the best way to show the increasing amount of shootings during years."
   ]
  },
  {
   "cell_type": "code",
   "execution_count": null,
   "metadata": {},
   "outputs": [
    {
     "data": {
      "text/html": [
       "\n",
       "<style>\n",
       "  #altair-viz-e9e73e81909749d9b60aa75f1de6411a.vega-embed {\n",
       "    width: 100%;\n",
       "    display: flex;\n",
       "  }\n",
       "\n",
       "  #altair-viz-e9e73e81909749d9b60aa75f1de6411a.vega-embed details,\n",
       "  #altair-viz-e9e73e81909749d9b60aa75f1de6411a.vega-embed details summary {\n",
       "    position: relative;\n",
       "  }\n",
       "</style>\n",
       "<div id=\"altair-viz-e9e73e81909749d9b60aa75f1de6411a\"></div>\n",
       "<script type=\"text/javascript\">\n",
       "  var VEGA_DEBUG = (typeof VEGA_DEBUG == \"undefined\") ? {} : VEGA_DEBUG;\n",
       "  (function(spec, embedOpt){\n",
       "    let outputDiv = document.currentScript.previousElementSibling;\n",
       "    if (outputDiv.id !== \"altair-viz-e9e73e81909749d9b60aa75f1de6411a\") {\n",
       "      outputDiv = document.getElementById(\"altair-viz-e9e73e81909749d9b60aa75f1de6411a\");\n",
       "    }\n",
       "    const paths = {\n",
       "      \"vega\": \"https://cdn.jsdelivr.net/npm/vega@5?noext\",\n",
       "      \"vega-lib\": \"https://cdn.jsdelivr.net/npm/vega-lib?noext\",\n",
       "      \"vega-lite\": \"https://cdn.jsdelivr.net/npm/vega-lite@5.20.1?noext\",\n",
       "      \"vega-embed\": \"https://cdn.jsdelivr.net/npm/vega-embed@6?noext\",\n",
       "    };\n",
       "\n",
       "    function maybeLoadScript(lib, version) {\n",
       "      var key = `${lib.replace(\"-\", \"\")}_version`;\n",
       "      return (VEGA_DEBUG[key] == version) ?\n",
       "        Promise.resolve(paths[lib]) :\n",
       "        new Promise(function(resolve, reject) {\n",
       "          var s = document.createElement('script');\n",
       "          document.getElementsByTagName(\"head\")[0].appendChild(s);\n",
       "          s.async = true;\n",
       "          s.onload = () => {\n",
       "            VEGA_DEBUG[key] = version;\n",
       "            return resolve(paths[lib]);\n",
       "          };\n",
       "          s.onerror = () => reject(`Error loading script: ${paths[lib]}`);\n",
       "          s.src = paths[lib];\n",
       "        });\n",
       "    }\n",
       "\n",
       "    function showError(err) {\n",
       "      outputDiv.innerHTML = `<div class=\"error\" style=\"color:red;\">${err}</div>`;\n",
       "      throw err;\n",
       "    }\n",
       "\n",
       "    function displayChart(vegaEmbed) {\n",
       "      vegaEmbed(outputDiv, spec, embedOpt)\n",
       "        .catch(err => showError(`Javascript Error: ${err.message}<br>This usually means there's a typo in your chart specification. See the javascript console for the full traceback.`));\n",
       "    }\n",
       "\n",
       "    if(typeof define === \"function\" && define.amd) {\n",
       "      requirejs.config({paths});\n",
       "      require([\"vega-embed\"], displayChart, err => showError(`Error loading script: ${err.message}`));\n",
       "    } else {\n",
       "      maybeLoadScript(\"vega\", \"5\")\n",
       "        .then(() => maybeLoadScript(\"vega-lite\", \"5.20.1\"))\n",
       "        .then(() => maybeLoadScript(\"vega-embed\", \"6\"))\n",
       "        .catch(showError)\n",
       "        .then(() => displayChart(vegaEmbed));\n",
       "    }\n",
       "  })({\"config\": {\"view\": {\"continuousWidth\": 300, \"continuousHeight\": 300}}, \"data\": {\"name\": \"data-62fda8accba7ac520ae7c05f2483a333\"}, \"mark\": {\"type\": \"line\"}, \"encoding\": {\"color\": {\"field\": \"Year\", \"title\": \"Any\", \"type\": \"nominal\"}, \"x\": {\"axis\": {\"labelAngle\": 0}, \"field\": \"Month\", \"title\": \"Mes\", \"type\": \"ordinal\"}, \"y\": {\"field\": \"Total Shootings\", \"title\": \"Nombre total de tirotejos\", \"type\": \"quantitative\"}}, \"title\": \"Evoluci\\u00f3 mensual dels tirotejos massius als EUA per any\", \"$schema\": \"https://vega.github.io/schema/vega-lite/v5.20.1.json\", \"datasets\": {\"data-62fda8accba7ac520ae7c05f2483a333\": [{\"Year\": 2020, \"Month\": 1, \"Total Shootings\": 25, \"year-month\": 202000.0}, {\"Year\": 2020, \"Month\": 2, \"Total Shootings\": 20, \"year-month\": 202000.9090909091}, {\"Year\": 2020, \"Month\": 3, \"Total Shootings\": 24, \"year-month\": 202001.81818181818}, {\"Year\": 2020, \"Month\": 4, \"Total Shootings\": 26, \"year-month\": 202002.72727272726}, {\"Year\": 2020, \"Month\": 5, \"Total Shootings\": 59, \"year-month\": 202003.63636363635}, {\"Year\": 2020, \"Month\": 6, \"Total Shootings\": 94, \"year-month\": 202004.54545454544}, {\"Year\": 2020, \"Month\": 7, \"Total Shootings\": 89, \"year-month\": 202005.45454545456}, {\"Year\": 2020, \"Month\": 8, \"Total Shootings\": 80, \"year-month\": 202006.36363636365}, {\"Year\": 2020, \"Month\": 9, \"Total Shootings\": 68, \"year-month\": 202007.27272727274}, {\"Year\": 2020, \"Month\": 10, \"Total Shootings\": 50, \"year-month\": 202008.18181818182}, {\"Year\": 2020, \"Month\": 11, \"Total Shootings\": 49, \"year-month\": 202009.0909090909}, {\"Year\": 2020, \"Month\": 12, \"Total Shootings\": 26, \"year-month\": 202010.0}, {\"Year\": 2021, \"Month\": 1, \"Total Shootings\": 32, \"year-month\": 202100.0}, {\"Year\": 2021, \"Month\": 2, \"Total Shootings\": 40, \"year-month\": 202100.9090909091}, {\"Year\": 2021, \"Month\": 3, \"Total Shootings\": 45, \"year-month\": 202101.81818181818}, {\"Year\": 2021, \"Month\": 4, \"Total Shootings\": 49, \"year-month\": 202102.72727272726}, {\"Year\": 2021, \"Month\": 5, \"Total Shootings\": 72, \"year-month\": 202103.63636363635}, {\"Year\": 2021, \"Month\": 6, \"Total Shootings\": 74, \"year-month\": 202104.54545454544}, {\"Year\": 2021, \"Month\": 7, \"Total Shootings\": 83, \"year-month\": 202105.45454545456}, {\"Year\": 2021, \"Month\": 8, \"Total Shootings\": 64, \"year-month\": 202106.36363636365}, {\"Year\": 2021, \"Month\": 9, \"Total Shootings\": 66, \"year-month\": 202107.27272727274}, {\"Year\": 2021, \"Month\": 10, \"Total Shootings\": 70, \"year-month\": 202108.18181818182}, {\"Year\": 2021, \"Month\": 11, \"Total Shootings\": 48, \"year-month\": 202109.0909090909}, {\"Year\": 2021, \"Month\": 12, \"Total Shootings\": 39, \"year-month\": 202110.0}, {\"Year\": 2022, \"Month\": 1, \"Total Shootings\": 34, \"year-month\": 202200.0}, {\"Year\": 2022, \"Month\": 2, \"Total Shootings\": 36, \"year-month\": 202200.9090909091}, {\"Year\": 2022, \"Month\": 3, \"Total Shootings\": 41, \"year-month\": 202201.81818181818}, {\"Year\": 2022, \"Month\": 4, \"Total Shootings\": 57, \"year-month\": 202202.72727272726}, {\"Year\": 2022, \"Month\": 5, \"Total Shootings\": 64, \"year-month\": 202203.63636363635}, {\"Year\": 2022, \"Month\": 6, \"Total Shootings\": 64, \"year-month\": 202204.54545454544}, {\"Year\": 2022, \"Month\": 7, \"Total Shootings\": 89, \"year-month\": 202205.45454545456}, {\"Year\": 2022, \"Month\": 8, \"Total Shootings\": 59, \"year-month\": 202206.36363636365}, {\"Year\": 2022, \"Month\": 9, \"Total Shootings\": 63, \"year-month\": 202207.27272727274}, {\"Year\": 2022, \"Month\": 10, \"Total Shootings\": 62, \"year-month\": 202208.18181818182}, {\"Year\": 2022, \"Month\": 11, \"Total Shootings\": 43, \"year-month\": 202209.0909090909}, {\"Year\": 2022, \"Month\": 12, \"Total Shootings\": 30, \"year-month\": 202210.0}, {\"Year\": 2023, \"Month\": 1, \"Total Shootings\": 52, \"year-month\": 202300.0}, {\"Year\": 2023, \"Month\": 2, \"Total Shootings\": 41, \"year-month\": 202300.9090909091}, {\"Year\": 2023, \"Month\": 3, \"Total Shootings\": 41, \"year-month\": 202301.81818181818}, {\"Year\": 2023, \"Month\": 4, \"Total Shootings\": 55, \"year-month\": 202302.72727272726}, {\"Year\": 2023, \"Month\": 5, \"Total Shootings\": 78, \"year-month\": 202303.63636363635}, {\"Year\": 2023, \"Month\": 6, \"Total Shootings\": 67, \"year-month\": 202304.54545454544}, {\"Year\": 2023, \"Month\": 7, \"Total Shootings\": 85, \"year-month\": 202305.45454545456}, {\"Year\": 2023, \"Month\": 8, \"Total Shootings\": 57, \"year-month\": 202306.36363636365}, {\"Year\": 2023, \"Month\": 9, \"Total Shootings\": 41, \"year-month\": 202307.27272727274}, {\"Year\": 2023, \"Month\": 10, \"Total Shootings\": 65, \"year-month\": 202308.18181818182}, {\"Year\": 2023, \"Month\": 11, \"Total Shootings\": 33, \"year-month\": 202309.0909090909}, {\"Year\": 2023, \"Month\": 12, \"Total Shootings\": 36, \"year-month\": 202310.0}, {\"Year\": 2024, \"Month\": 1, \"Total Shootings\": 38, \"year-month\": 202400.0}, {\"Year\": 2024, \"Month\": 2, \"Total Shootings\": 27, \"year-month\": 202400.9090909091}, {\"Year\": 2024, \"Month\": 3, \"Total Shootings\": 34, \"year-month\": 202401.81818181818}, {\"Year\": 2024, \"Month\": 4, \"Total Shootings\": 37, \"year-month\": 202402.72727272726}, {\"Year\": 2024, \"Month\": 5, \"Total Shootings\": 52, \"year-month\": 202403.63636363635}, {\"Year\": 2024, \"Month\": 6, \"Total Shootings\": 71, \"year-month\": 202404.54545454544}, {\"Year\": 2024, \"Month\": 7, \"Total Shootings\": 62, \"year-month\": 202405.45454545456}, {\"Year\": 2024, \"Month\": 8, \"Total Shootings\": 51, \"year-month\": 202406.36363636365}, {\"Year\": 2024, \"Month\": 9, \"Total Shootings\": 24, \"year-month\": 202407.27272727274}]}}, {\"mode\": \"vega-lite\"});\n",
       "</script>"
      ],
      "text/plain": [
       "alt.Chart(...)"
      ]
     },
     "execution_count": 98,
     "metadata": {},
     "output_type": "execute_result"
    }
   ],
   "source": [
    "line_chart_months2 = alt.Chart(monthly_shootings[monthly_shootings['Year']>2019]).mark_line().encode(\n",
    "    x=alt.X('Month:O', title='Mes', axis=alt.Axis(labelAngle=0)),\n",
    "    y=alt.Y('Total Shootings:Q', title='Nombre total de tirotejos'),\n",
    "    color=alt.Color('Year:N', title='Any')\n",
    ").properties(\n",
    "    title='Evolució mensual dels tirotejos massius als EUA per any'\n",
    ")\n",
    "\n",
    "line_chart_months2"
   ]
  },
  {
   "cell_type": "markdown",
   "metadata": {},
   "source": [
    "That's better!"
   ]
  },
  {
   "cell_type": "code",
   "execution_count": 242,
   "metadata": {},
   "outputs": [
    {
     "data": {
      "text/html": [
       "\n",
       "<style>\n",
       "  #altair-viz-b257671a4b5d476fa05efa1362749afc.vega-embed {\n",
       "    width: 100%;\n",
       "    display: flex;\n",
       "  }\n",
       "\n",
       "  #altair-viz-b257671a4b5d476fa05efa1362749afc.vega-embed details,\n",
       "  #altair-viz-b257671a4b5d476fa05efa1362749afc.vega-embed details summary {\n",
       "    position: relative;\n",
       "  }\n",
       "</style>\n",
       "<div id=\"altair-viz-b257671a4b5d476fa05efa1362749afc\"></div>\n",
       "<script type=\"text/javascript\">\n",
       "  var VEGA_DEBUG = (typeof VEGA_DEBUG == \"undefined\") ? {} : VEGA_DEBUG;\n",
       "  (function(spec, embedOpt){\n",
       "    let outputDiv = document.currentScript.previousElementSibling;\n",
       "    if (outputDiv.id !== \"altair-viz-b257671a4b5d476fa05efa1362749afc\") {\n",
       "      outputDiv = document.getElementById(\"altair-viz-b257671a4b5d476fa05efa1362749afc\");\n",
       "    }\n",
       "    const paths = {\n",
       "      \"vega\": \"https://cdn.jsdelivr.net/npm/vega@5?noext\",\n",
       "      \"vega-lib\": \"https://cdn.jsdelivr.net/npm/vega-lib?noext\",\n",
       "      \"vega-lite\": \"https://cdn.jsdelivr.net/npm/vega-lite@5.20.1?noext\",\n",
       "      \"vega-embed\": \"https://cdn.jsdelivr.net/npm/vega-embed@6?noext\",\n",
       "    };\n",
       "\n",
       "    function maybeLoadScript(lib, version) {\n",
       "      var key = `${lib.replace(\"-\", \"\")}_version`;\n",
       "      return (VEGA_DEBUG[key] == version) ?\n",
       "        Promise.resolve(paths[lib]) :\n",
       "        new Promise(function(resolve, reject) {\n",
       "          var s = document.createElement('script');\n",
       "          document.getElementsByTagName(\"head\")[0].appendChild(s);\n",
       "          s.async = true;\n",
       "          s.onload = () => {\n",
       "            VEGA_DEBUG[key] = version;\n",
       "            return resolve(paths[lib]);\n",
       "          };\n",
       "          s.onerror = () => reject(`Error loading script: ${paths[lib]}`);\n",
       "          s.src = paths[lib];\n",
       "        });\n",
       "    }\n",
       "\n",
       "    function showError(err) {\n",
       "      outputDiv.innerHTML = `<div class=\"error\" style=\"color:red;\">${err}</div>`;\n",
       "      throw err;\n",
       "    }\n",
       "\n",
       "    function displayChart(vegaEmbed) {\n",
       "      vegaEmbed(outputDiv, spec, embedOpt)\n",
       "        .catch(err => showError(`Javascript Error: ${err.message}<br>This usually means there's a typo in your chart specification. See the javascript console for the full traceback.`));\n",
       "    }\n",
       "\n",
       "    if(typeof define === \"function\" && define.amd) {\n",
       "      requirejs.config({paths});\n",
       "      require([\"vega-embed\"], displayChart, err => showError(`Error loading script: ${err.message}`));\n",
       "    } else {\n",
       "      maybeLoadScript(\"vega\", \"5\")\n",
       "        .then(() => maybeLoadScript(\"vega-lite\", \"5.20.1\"))\n",
       "        .then(() => maybeLoadScript(\"vega-embed\", \"6\"))\n",
       "        .catch(showError)\n",
       "        .then(() => displayChart(vegaEmbed));\n",
       "    }\n",
       "  })({\"config\": {\"view\": {\"continuousWidth\": 300, \"continuousHeight\": 300}}, \"data\": {\"name\": \"data-c84d30ffb07fcf204ba7bf9497aa596d\"}, \"mark\": {\"type\": \"line\"}, \"encoding\": {\"x\": {\"axis\": null, \"field\": \"year-month\", \"title\": \"Mes\", \"type\": \"ordinal\"}, \"y\": {\"field\": \"Total Shootings\", \"title\": \"Nombre total de tirotejos\", \"type\": \"quantitative\"}}, \"title\": \"Evoluci\\u00f3 mensual dels tirotejos massius als EUA per any\", \"width\": 1500, \"$schema\": \"https://vega.github.io/schema/vega-lite/v5.20.1.json\", \"datasets\": {\"data-c84d30ffb07fcf204ba7bf9497aa596d\": [{\"Year\": 2015, \"Month\": 1, \"Total Shootings\": 22, \"year-month\": 201500.0}, {\"Year\": 2015, \"Month\": 2, \"Total Shootings\": 15, \"year-month\": 201500.9090909091}, {\"Year\": 2015, \"Month\": 3, \"Total Shootings\": 22, \"year-month\": 201501.81818181818}, {\"Year\": 2015, \"Month\": 4, \"Total Shootings\": 19, \"year-month\": 201502.72727272726}, {\"Year\": 2015, \"Month\": 5, \"Total Shootings\": 35, \"year-month\": 201503.63636363635}, {\"Year\": 2015, \"Month\": 6, \"Total Shootings\": 36, \"year-month\": 201504.54545454544}, {\"Year\": 2015, \"Month\": 7, \"Total Shootings\": 44, \"year-month\": 201505.45454545456}, {\"Year\": 2015, \"Month\": 8, \"Total Shootings\": 39, \"year-month\": 201506.36363636365}, {\"Year\": 2015, \"Month\": 9, \"Total Shootings\": 34, \"year-month\": 201507.27272727274}, {\"Year\": 2015, \"Month\": 10, \"Total Shootings\": 19, \"year-month\": 201508.18181818182}, {\"Year\": 2015, \"Month\": 11, \"Total Shootings\": 26, \"year-month\": 201509.0909090909}, {\"Year\": 2015, \"Month\": 12, \"Total Shootings\": 20, \"year-month\": 201510.0}, {\"Year\": 2016, \"Month\": 1, \"Total Shootings\": 11, \"year-month\": 201600.0}, {\"Year\": 2016, \"Month\": 2, \"Total Shootings\": 27, \"year-month\": 201600.9090909091}, {\"Year\": 2016, \"Month\": 3, \"Total Shootings\": 22, \"year-month\": 201601.81818181818}, {\"Year\": 2016, \"Month\": 4, \"Total Shootings\": 32, \"year-month\": 201602.72727272726}, {\"Year\": 2016, \"Month\": 5, \"Total Shootings\": 29, \"year-month\": 201603.63636363635}, {\"Year\": 2016, \"Month\": 6, \"Total Shootings\": 45, \"year-month\": 201604.54545454544}, {\"Year\": 2016, \"Month\": 7, \"Total Shootings\": 49, \"year-month\": 201605.45454545456}, {\"Year\": 2016, \"Month\": 8, \"Total Shootings\": 39, \"year-month\": 201606.36363636365}, {\"Year\": 2016, \"Month\": 9, \"Total Shootings\": 32, \"year-month\": 201607.27272727274}, {\"Year\": 2016, \"Month\": 10, \"Total Shootings\": 31, \"year-month\": 201608.18181818182}, {\"Year\": 2016, \"Month\": 11, \"Total Shootings\": 36, \"year-month\": 201609.0909090909}, {\"Year\": 2016, \"Month\": 12, \"Total Shootings\": 26, \"year-month\": 201610.0}, {\"Year\": 2017, \"Month\": 1, \"Total Shootings\": 31, \"year-month\": 201700.0}, {\"Year\": 2017, \"Month\": 2, \"Total Shootings\": 24, \"year-month\": 201700.9090909091}, {\"Year\": 2017, \"Month\": 3, \"Total Shootings\": 22, \"year-month\": 201701.81818181818}, {\"Year\": 2017, \"Month\": 4, \"Total Shootings\": 39, \"year-month\": 201702.72727272726}, {\"Year\": 2017, \"Month\": 5, \"Total Shootings\": 23, \"year-month\": 201703.63636363635}, {\"Year\": 2017, \"Month\": 6, \"Total Shootings\": 34, \"year-month\": 201704.54545454544}, {\"Year\": 2017, \"Month\": 7, \"Total Shootings\": 36, \"year-month\": 201705.45454545456}, {\"Year\": 2017, \"Month\": 8, \"Total Shootings\": 33, \"year-month\": 201706.36363636365}, {\"Year\": 2017, \"Month\": 9, \"Total Shootings\": 30, \"year-month\": 201707.27272727274}, {\"Year\": 2017, \"Month\": 10, \"Total Shootings\": 28, \"year-month\": 201708.18181818182}, {\"Year\": 2017, \"Month\": 11, \"Total Shootings\": 24, \"year-month\": 201709.0909090909}, {\"Year\": 2017, \"Month\": 12, \"Total Shootings\": 19, \"year-month\": 201710.0}, {\"Year\": 2018, \"Month\": 1, \"Total Shootings\": 22, \"year-month\": 201800.0}, {\"Year\": 2018, \"Month\": 2, \"Total Shootings\": 13, \"year-month\": 201800.9090909091}, {\"Year\": 2018, \"Month\": 3, \"Total Shootings\": 17, \"year-month\": 201801.81818181818}, {\"Year\": 2018, \"Month\": 4, \"Total Shootings\": 25, \"year-month\": 201802.72727272726}, {\"Year\": 2018, \"Month\": 5, \"Total Shootings\": 28, \"year-month\": 201803.63636363635}, {\"Year\": 2018, \"Month\": 6, \"Total Shootings\": 50, \"year-month\": 201804.54545454544}, {\"Year\": 2018, \"Month\": 7, \"Total Shootings\": 44, \"year-month\": 201805.45454545456}, {\"Year\": 2018, \"Month\": 8, \"Total Shootings\": 33, \"year-month\": 201806.36363636365}, {\"Year\": 2018, \"Month\": 9, \"Total Shootings\": 34, \"year-month\": 201807.27272727274}, {\"Year\": 2018, \"Month\": 10, \"Total Shootings\": 29, \"year-month\": 201808.18181818182}, {\"Year\": 2018, \"Month\": 11, \"Total Shootings\": 20, \"year-month\": 201809.0909090909}, {\"Year\": 2018, \"Month\": 12, \"Total Shootings\": 15, \"year-month\": 201810.0}, {\"Year\": 2019, \"Month\": 1, \"Total Shootings\": 25, \"year-month\": 201900.0}, {\"Year\": 2019, \"Month\": 2, \"Total Shootings\": 20, \"year-month\": 201900.9090909091}, {\"Year\": 2019, \"Month\": 3, \"Total Shootings\": 20, \"year-month\": 201901.81818181818}, {\"Year\": 2019, \"Month\": 4, \"Total Shootings\": 32, \"year-month\": 201902.72727272726}, {\"Year\": 2019, \"Month\": 5, \"Total Shootings\": 47, \"year-month\": 201903.63636363635}, {\"Year\": 2019, \"Month\": 6, \"Total Shootings\": 52, \"year-month\": 201904.54545454544}, {\"Year\": 2019, \"Month\": 7, \"Total Shootings\": 41, \"year-month\": 201905.45454545456}, {\"Year\": 2019, \"Month\": 8, \"Total Shootings\": 40, \"year-month\": 201906.36363636365}, {\"Year\": 2019, \"Month\": 9, \"Total Shootings\": 34, \"year-month\": 201907.27272727274}, {\"Year\": 2019, \"Month\": 10, \"Total Shootings\": 34, \"year-month\": 201908.18181818182}, {\"Year\": 2019, \"Month\": 11, \"Total Shootings\": 33, \"year-month\": 201909.0909090909}, {\"Year\": 2019, \"Month\": 12, \"Total Shootings\": 32, \"year-month\": 201910.0}, {\"Year\": 2020, \"Month\": 1, \"Total Shootings\": 25, \"year-month\": 202000.0}, {\"Year\": 2020, \"Month\": 2, \"Total Shootings\": 20, \"year-month\": 202000.9090909091}, {\"Year\": 2020, \"Month\": 3, \"Total Shootings\": 24, \"year-month\": 202001.81818181818}, {\"Year\": 2020, \"Month\": 4, \"Total Shootings\": 26, \"year-month\": 202002.72727272726}, {\"Year\": 2020, \"Month\": 5, \"Total Shootings\": 59, \"year-month\": 202003.63636363635}, {\"Year\": 2020, \"Month\": 6, \"Total Shootings\": 94, \"year-month\": 202004.54545454544}, {\"Year\": 2020, \"Month\": 7, \"Total Shootings\": 89, \"year-month\": 202005.45454545456}, {\"Year\": 2020, \"Month\": 8, \"Total Shootings\": 80, \"year-month\": 202006.36363636365}, {\"Year\": 2020, \"Month\": 9, \"Total Shootings\": 68, \"year-month\": 202007.27272727274}, {\"Year\": 2020, \"Month\": 10, \"Total Shootings\": 50, \"year-month\": 202008.18181818182}, {\"Year\": 2020, \"Month\": 11, \"Total Shootings\": 49, \"year-month\": 202009.0909090909}, {\"Year\": 2020, \"Month\": 12, \"Total Shootings\": 26, \"year-month\": 202010.0}, {\"Year\": 2021, \"Month\": 1, \"Total Shootings\": 32, \"year-month\": 202100.0}, {\"Year\": 2021, \"Month\": 2, \"Total Shootings\": 40, \"year-month\": 202100.9090909091}, {\"Year\": 2021, \"Month\": 3, \"Total Shootings\": 45, \"year-month\": 202101.81818181818}, {\"Year\": 2021, \"Month\": 4, \"Total Shootings\": 49, \"year-month\": 202102.72727272726}, {\"Year\": 2021, \"Month\": 5, \"Total Shootings\": 72, \"year-month\": 202103.63636363635}, {\"Year\": 2021, \"Month\": 6, \"Total Shootings\": 74, \"year-month\": 202104.54545454544}, {\"Year\": 2021, \"Month\": 7, \"Total Shootings\": 83, \"year-month\": 202105.45454545456}, {\"Year\": 2021, \"Month\": 8, \"Total Shootings\": 64, \"year-month\": 202106.36363636365}, {\"Year\": 2021, \"Month\": 9, \"Total Shootings\": 66, \"year-month\": 202107.27272727274}, {\"Year\": 2021, \"Month\": 10, \"Total Shootings\": 70, \"year-month\": 202108.18181818182}, {\"Year\": 2021, \"Month\": 11, \"Total Shootings\": 48, \"year-month\": 202109.0909090909}, {\"Year\": 2021, \"Month\": 12, \"Total Shootings\": 39, \"year-month\": 202110.0}, {\"Year\": 2022, \"Month\": 1, \"Total Shootings\": 34, \"year-month\": 202200.0}, {\"Year\": 2022, \"Month\": 2, \"Total Shootings\": 36, \"year-month\": 202200.9090909091}, {\"Year\": 2022, \"Month\": 3, \"Total Shootings\": 41, \"year-month\": 202201.81818181818}, {\"Year\": 2022, \"Month\": 4, \"Total Shootings\": 57, \"year-month\": 202202.72727272726}, {\"Year\": 2022, \"Month\": 5, \"Total Shootings\": 64, \"year-month\": 202203.63636363635}, {\"Year\": 2022, \"Month\": 6, \"Total Shootings\": 64, \"year-month\": 202204.54545454544}, {\"Year\": 2022, \"Month\": 7, \"Total Shootings\": 89, \"year-month\": 202205.45454545456}, {\"Year\": 2022, \"Month\": 8, \"Total Shootings\": 59, \"year-month\": 202206.36363636365}, {\"Year\": 2022, \"Month\": 9, \"Total Shootings\": 63, \"year-month\": 202207.27272727274}, {\"Year\": 2022, \"Month\": 10, \"Total Shootings\": 62, \"year-month\": 202208.18181818182}, {\"Year\": 2022, \"Month\": 11, \"Total Shootings\": 43, \"year-month\": 202209.0909090909}, {\"Year\": 2022, \"Month\": 12, \"Total Shootings\": 30, \"year-month\": 202210.0}, {\"Year\": 2023, \"Month\": 1, \"Total Shootings\": 52, \"year-month\": 202300.0}, {\"Year\": 2023, \"Month\": 2, \"Total Shootings\": 41, \"year-month\": 202300.9090909091}, {\"Year\": 2023, \"Month\": 3, \"Total Shootings\": 41, \"year-month\": 202301.81818181818}, {\"Year\": 2023, \"Month\": 4, \"Total Shootings\": 55, \"year-month\": 202302.72727272726}, {\"Year\": 2023, \"Month\": 5, \"Total Shootings\": 78, \"year-month\": 202303.63636363635}, {\"Year\": 2023, \"Month\": 6, \"Total Shootings\": 67, \"year-month\": 202304.54545454544}, {\"Year\": 2023, \"Month\": 7, \"Total Shootings\": 85, \"year-month\": 202305.45454545456}, {\"Year\": 2023, \"Month\": 8, \"Total Shootings\": 57, \"year-month\": 202306.36363636365}, {\"Year\": 2023, \"Month\": 9, \"Total Shootings\": 41, \"year-month\": 202307.27272727274}, {\"Year\": 2023, \"Month\": 10, \"Total Shootings\": 65, \"year-month\": 202308.18181818182}, {\"Year\": 2023, \"Month\": 11, \"Total Shootings\": 33, \"year-month\": 202309.0909090909}, {\"Year\": 2023, \"Month\": 12, \"Total Shootings\": 36, \"year-month\": 202310.0}, {\"Year\": 2024, \"Month\": 1, \"Total Shootings\": 38, \"year-month\": 202400.0}, {\"Year\": 2024, \"Month\": 2, \"Total Shootings\": 27, \"year-month\": 202400.9090909091}, {\"Year\": 2024, \"Month\": 3, \"Total Shootings\": 34, \"year-month\": 202401.81818181818}, {\"Year\": 2024, \"Month\": 4, \"Total Shootings\": 37, \"year-month\": 202402.72727272726}, {\"Year\": 2024, \"Month\": 5, \"Total Shootings\": 52, \"year-month\": 202403.63636363635}, {\"Year\": 2024, \"Month\": 6, \"Total Shootings\": 71, \"year-month\": 202404.54545454544}, {\"Year\": 2024, \"Month\": 7, \"Total Shootings\": 62, \"year-month\": 202405.45454545456}, {\"Year\": 2024, \"Month\": 8, \"Total Shootings\": 51, \"year-month\": 202406.36363636365}, {\"Year\": 2024, \"Month\": 9, \"Total Shootings\": 24, \"year-month\": 202407.27272727274}]}}, {\"mode\": \"vega-lite\"});\n",
       "</script>"
      ],
      "text/plain": [
       "alt.Chart(...)"
      ]
     },
     "execution_count": 242,
     "metadata": {},
     "output_type": "execute_result"
    }
   ],
   "source": [
    "monthly_shootings['year-month'] = (monthly_shootings['Year'])*100 + (monthly_shootings['Month']-1)*10/11\n",
    "\n",
    "line_chart_mont_year = alt.Chart(monthly_shootings[monthly_shootings['Year']>2013]).mark_line().encode(\n",
    "    x=alt.X('year-month:O', title='Mes', axis=None),\n",
    "    y=alt.Y('Total Shootings:Q', title='Nombre total de tirotejos')\n",
    ").properties(\n",
    "    title='Evolució mensual dels tirotejos massius als EUA per any',\n",
    "    width=1500\n",
    ")\n",
    "\n",
    "line_chart_mont_year"
   ]
  },
  {
   "cell_type": "markdown",
   "metadata": {},
   "source": [
    "Interesting, but uses way too much space"
   ]
  },
  {
   "cell_type": "code",
   "execution_count": null,
   "metadata": {},
   "outputs": [
    {
     "data": {
      "text/html": [
       "\n",
       "<style>\n",
       "  #altair-viz-85a31406b6e84813ac0fc16574b2026c.vega-embed {\n",
       "    width: 100%;\n",
       "    display: flex;\n",
       "  }\n",
       "\n",
       "  #altair-viz-85a31406b6e84813ac0fc16574b2026c.vega-embed details,\n",
       "  #altair-viz-85a31406b6e84813ac0fc16574b2026c.vega-embed details summary {\n",
       "    position: relative;\n",
       "  }\n",
       "</style>\n",
       "<div id=\"altair-viz-85a31406b6e84813ac0fc16574b2026c\"></div>\n",
       "<script type=\"text/javascript\">\n",
       "  var VEGA_DEBUG = (typeof VEGA_DEBUG == \"undefined\") ? {} : VEGA_DEBUG;\n",
       "  (function(spec, embedOpt){\n",
       "    let outputDiv = document.currentScript.previousElementSibling;\n",
       "    if (outputDiv.id !== \"altair-viz-85a31406b6e84813ac0fc16574b2026c\") {\n",
       "      outputDiv = document.getElementById(\"altair-viz-85a31406b6e84813ac0fc16574b2026c\");\n",
       "    }\n",
       "    const paths = {\n",
       "      \"vega\": \"https://cdn.jsdelivr.net/npm/vega@5?noext\",\n",
       "      \"vega-lib\": \"https://cdn.jsdelivr.net/npm/vega-lib?noext\",\n",
       "      \"vega-lite\": \"https://cdn.jsdelivr.net/npm/vega-lite@5.20.1?noext\",\n",
       "      \"vega-embed\": \"https://cdn.jsdelivr.net/npm/vega-embed@6?noext\",\n",
       "    };\n",
       "\n",
       "    function maybeLoadScript(lib, version) {\n",
       "      var key = `${lib.replace(\"-\", \"\")}_version`;\n",
       "      return (VEGA_DEBUG[key] == version) ?\n",
       "        Promise.resolve(paths[lib]) :\n",
       "        new Promise(function(resolve, reject) {\n",
       "          var s = document.createElement('script');\n",
       "          document.getElementsByTagName(\"head\")[0].appendChild(s);\n",
       "          s.async = true;\n",
       "          s.onload = () => {\n",
       "            VEGA_DEBUG[key] = version;\n",
       "            return resolve(paths[lib]);\n",
       "          };\n",
       "          s.onerror = () => reject(`Error loading script: ${paths[lib]}`);\n",
       "          s.src = paths[lib];\n",
       "        });\n",
       "    }\n",
       "\n",
       "    function showError(err) {\n",
       "      outputDiv.innerHTML = `<div class=\"error\" style=\"color:red;\">${err}</div>`;\n",
       "      throw err;\n",
       "    }\n",
       "\n",
       "    function displayChart(vegaEmbed) {\n",
       "      vegaEmbed(outputDiv, spec, embedOpt)\n",
       "        .catch(err => showError(`Javascript Error: ${err.message}<br>This usually means there's a typo in your chart specification. See the javascript console for the full traceback.`));\n",
       "    }\n",
       "\n",
       "    if(typeof define === \"function\" && define.amd) {\n",
       "      requirejs.config({paths});\n",
       "      require([\"vega-embed\"], displayChart, err => showError(`Error loading script: ${err.message}`));\n",
       "    } else {\n",
       "      maybeLoadScript(\"vega\", \"5\")\n",
       "        .then(() => maybeLoadScript(\"vega-lite\", \"5.20.1\"))\n",
       "        .then(() => maybeLoadScript(\"vega-embed\", \"6\"))\n",
       "        .catch(showError)\n",
       "        .then(() => displayChart(vegaEmbed));\n",
       "    }\n",
       "  })({\"config\": {\"view\": {\"continuousWidth\": 300, \"continuousHeight\": 300}, \"legend\": {\"disable\": true}}, \"layer\": [{\"mark\": {\"type\": \"arc\", \"innerRadius\": 20, \"stroke\": \"#fff\"}, \"encoding\": {\"color\": {\"field\": \"Total Shootings\", \"scale\": {\"scheme\": \"reds\"}, \"type\": \"quantitative\"}, \"radius\": {\"field\": \"Total Shootings\", \"scale\": {\"type\": \"sqrt\", \"zero\": true, \"rangeMin\": 20}, \"type\": \"quantitative\"}, \"theta\": {\"field\": \"Month\", \"stack\": true, \"type\": \"ordinal\"}}}, {\"mark\": {\"type\": \"text\", \"radiusOffset\": 18}, \"encoding\": {\"color\": {\"condition\": {\"test\": \"datum.Total_Shootings > 5000\", \"value\": \"white\"}, \"value\": \"black\"}, \"radius\": {\"field\": \"Total Shootings\", \"scale\": {\"type\": \"sqrt\", \"zero\": true, \"rangeMin\": 20}, \"type\": \"quantitative\"}, \"text\": {\"field\": \"Mes\", \"type\": \"nominal\"}, \"theta\": {\"field\": \"Month\", \"stack\": true, \"type\": \"ordinal\"}}}], \"data\": {\"name\": \"data-fd211b6b6cbe038da832a41b0a11c52f\"}, \"height\": 400, \"title\": \"Mitjana mensual de tirotejos massius als EUA\", \"width\": 400, \"$schema\": \"https://vega.github.io/schema/vega-lite/v5.20.1.json\", \"datasets\": {\"data-fd211b6b6cbe038da832a41b0a11c52f\": [{\"Month\": 1, \"Total Shootings\": 29.2, \"Month Name\": \"January\", \"Mes\": \"January\"}, {\"Month\": 2, \"Total Shootings\": 26.3, \"Month Name\": \"February\", \"Mes\": \"February\"}, {\"Month\": 3, \"Total Shootings\": 28.8, \"Month Name\": \"March\", \"Mes\": \"March\"}, {\"Month\": 4, \"Total Shootings\": 37.1, \"Month Name\": \"April\", \"Mes\": \"April\"}, {\"Month\": 5, \"Total Shootings\": 48.7, \"Month Name\": \"May\", \"Mes\": \"May\"}, {\"Month\": 6, \"Total Shootings\": 58.7, \"Month Name\": \"June\", \"Mes\": \"June\"}, {\"Month\": 7, \"Total Shootings\": 62.2, \"Month Name\": \"July\", \"Mes\": \"July\"}, {\"Month\": 8, \"Total Shootings\": 49.5, \"Month Name\": \"August\", \"Mes\": \"August\"}, {\"Month\": 9, \"Total Shootings\": 42.6, \"Month Name\": \"September\", \"Mes\": \"September\"}, {\"Month\": 10, \"Total Shootings\": 43.111111111111114, \"Month Name\": \"October\", \"Mes\": \"October\"}, {\"Month\": 11, \"Total Shootings\": 34.666666666666664, \"Month Name\": \"November\", \"Mes\": \"November\"}, {\"Month\": 12, \"Total Shootings\": 27.0, \"Month Name\": \"December\", \"Mes\": \"December\"}]}}, {\"mode\": \"vega-lite\"});\n",
       "</script>"
      ],
      "text/plain": [
       "alt.LayerChart(...)"
      ]
     },
     "execution_count": 130,
     "metadata": {},
     "output_type": "execute_result"
    }
   ],
   "source": [
    "mesos = ['January', 'February', 'March', 'April', 'May', 'June', \n",
    "         'July', 'August', 'September', 'October', 'November', 'December']\n",
    "monthly_avg['Mes'] = [mesos[m-1] for m in monthly_avg['Month']]\n",
    "\n",
    "\n",
    "base = alt.Chart(monthly_avg).encode(\n",
    "    alt.Theta(\"Month:O\").stack(True),\n",
    "    alt.Radius(\"Total Shootings\").scale(type=\"sqrt\", zero=True, rangeMin=20),\n",
    "    alt.Color('Total Shootings:Q', scale=alt.Scale(scheme='reds'))  \n",
    ")\n",
    "\n",
    "\n",
    "c1 = base.mark_arc(innerRadius=20, stroke=\"#fff\")\n",
    "\n",
    "\n",
    "c2 = base.mark_text(\n",
    "    radiusOffset=18\n",
    ").encode(\n",
    "    text=\"Mes:N\",\n",
    "    color=alt.condition(\n",
    "        \"datum.Total_Shootings > \" + str(5000),\n",
    "        alt.value(\"white\"),\n",
    "        alt.value(\"black\"),\n",
    "    )\n",
    ")\n",
    "\n",
    "# Combine charts\n",
    "polar_area_chart = (c1 + c2).properties(\n",
    "    width=400,\n",
    "    height=400,\n",
    "    title=\"Mitjana mensual de tirotejos massius als EUA\"\n",
    ").configure_legend(\n",
    "    disable=True\n",
    ")\n",
    "\n",
    "polar_area_chart"
   ]
  },
  {
   "cell_type": "markdown",
   "metadata": {},
   "source": [
    "This chart is very nice visualy, but uses too much space for proving only the distribution amongh months. \n",
    "It would be good if we could show this dirtribution together with the first chart (shootings amongst years). If we only want to show the average distribution of shootings, we could use a 1x12 heatmap. It uses much less space and shows the trend perfectly."
   ]
  },
  {
   "cell_type": "code",
   "execution_count": 259,
   "metadata": {},
   "outputs": [
    {
     "data": {
      "text/html": [
       "\n",
       "<style>\n",
       "  #altair-viz-9d3965a6fc27400c9cfaca31a19cebfb.vega-embed {\n",
       "    width: 100%;\n",
       "    display: flex;\n",
       "  }\n",
       "\n",
       "  #altair-viz-9d3965a6fc27400c9cfaca31a19cebfb.vega-embed details,\n",
       "  #altair-viz-9d3965a6fc27400c9cfaca31a19cebfb.vega-embed details summary {\n",
       "    position: relative;\n",
       "  }\n",
       "</style>\n",
       "<div id=\"altair-viz-9d3965a6fc27400c9cfaca31a19cebfb\"></div>\n",
       "<script type=\"text/javascript\">\n",
       "  var VEGA_DEBUG = (typeof VEGA_DEBUG == \"undefined\") ? {} : VEGA_DEBUG;\n",
       "  (function(spec, embedOpt){\n",
       "    let outputDiv = document.currentScript.previousElementSibling;\n",
       "    if (outputDiv.id !== \"altair-viz-9d3965a6fc27400c9cfaca31a19cebfb\") {\n",
       "      outputDiv = document.getElementById(\"altair-viz-9d3965a6fc27400c9cfaca31a19cebfb\");\n",
       "    }\n",
       "    const paths = {\n",
       "      \"vega\": \"https://cdn.jsdelivr.net/npm/vega@5?noext\",\n",
       "      \"vega-lib\": \"https://cdn.jsdelivr.net/npm/vega-lib?noext\",\n",
       "      \"vega-lite\": \"https://cdn.jsdelivr.net/npm/vega-lite@5.20.1?noext\",\n",
       "      \"vega-embed\": \"https://cdn.jsdelivr.net/npm/vega-embed@6?noext\",\n",
       "    };\n",
       "\n",
       "    function maybeLoadScript(lib, version) {\n",
       "      var key = `${lib.replace(\"-\", \"\")}_version`;\n",
       "      return (VEGA_DEBUG[key] == version) ?\n",
       "        Promise.resolve(paths[lib]) :\n",
       "        new Promise(function(resolve, reject) {\n",
       "          var s = document.createElement('script');\n",
       "          document.getElementsByTagName(\"head\")[0].appendChild(s);\n",
       "          s.async = true;\n",
       "          s.onload = () => {\n",
       "            VEGA_DEBUG[key] = version;\n",
       "            return resolve(paths[lib]);\n",
       "          };\n",
       "          s.onerror = () => reject(`Error loading script: ${paths[lib]}`);\n",
       "          s.src = paths[lib];\n",
       "        });\n",
       "    }\n",
       "\n",
       "    function showError(err) {\n",
       "      outputDiv.innerHTML = `<div class=\"error\" style=\"color:red;\">${err}</div>`;\n",
       "      throw err;\n",
       "    }\n",
       "\n",
       "    function displayChart(vegaEmbed) {\n",
       "      vegaEmbed(outputDiv, spec, embedOpt)\n",
       "        .catch(err => showError(`Javascript Error: ${err.message}<br>This usually means there's a typo in your chart specification. See the javascript console for the full traceback.`));\n",
       "    }\n",
       "\n",
       "    if(typeof define === \"function\" && define.amd) {\n",
       "      requirejs.config({paths});\n",
       "      require([\"vega-embed\"], displayChart, err => showError(`Error loading script: ${err.message}`));\n",
       "    } else {\n",
       "      maybeLoadScript(\"vega\", \"5\")\n",
       "        .then(() => maybeLoadScript(\"vega-lite\", \"5.20.1\"))\n",
       "        .then(() => maybeLoadScript(\"vega-embed\", \"6\"))\n",
       "        .catch(showError)\n",
       "        .then(() => displayChart(vegaEmbed));\n",
       "    }\n",
       "  })({\"config\": {\"view\": {\"continuousWidth\": 300, \"continuousHeight\": 300}}, \"layer\": [{\"mark\": {\"type\": \"rect\"}, \"encoding\": {\"color\": {\"field\": \"Total Shootings\", \"legend\": null, \"scale\": {\"scheme\": \"lightorange\"}, \"type\": \"quantitative\"}, \"tooltip\": [{\"field\": \"Month Name\", \"title\": \"Month\", \"type\": \"nominal\"}, {\"field\": \"Total Shootings\", \"format\": \".1f\", \"title\": \"Average\", \"type\": \"quantitative\"}], \"y\": {\"field\": \"Month Name\", \"sort\": [\"January\", \"February\", \"March\", \"April\", \"May\", \"June\", \"July\", \"August\", \"September\", \"October\", \"November\", \"December\"], \"title\": null, \"type\": \"nominal\"}}, \"title\": {\"text\": [\"Average month\", \"ditribution\"], \"dy\": 0, \"fontSize\": 16}}, {\"mark\": {\"type\": \"text\", \"baseline\": \"middle\", \"color\": \"white\"}, \"encoding\": {\"text\": {\"field\": \"Total Shootings\", \"format\": \".1f\", \"type\": \"quantitative\"}, \"y\": {\"field\": \"Month Name\", \"sort\": [\"January\", \"February\", \"March\", \"April\", \"May\", \"June\", \"July\", \"August\", \"September\", \"October\", \"November\", \"December\"], \"type\": \"nominal\"}}}], \"data\": {\"name\": \"data-bda259859499f3b99bfb1fc1cd120c2b\"}, \"height\": 400, \"width\": 40, \"$schema\": \"https://vega.github.io/schema/vega-lite/v5.20.1.json\", \"datasets\": {\"data-bda259859499f3b99bfb1fc1cd120c2b\": [{\"Month\": 1, \"Total Shootings\": 29.2, \"Month Name\": \"January\"}, {\"Month\": 2, \"Total Shootings\": 26.3, \"Month Name\": \"February\"}, {\"Month\": 3, \"Total Shootings\": 28.8, \"Month Name\": \"March\"}, {\"Month\": 4, \"Total Shootings\": 37.1, \"Month Name\": \"April\"}, {\"Month\": 5, \"Total Shootings\": 48.7, \"Month Name\": \"May\"}, {\"Month\": 6, \"Total Shootings\": 58.7, \"Month Name\": \"June\"}, {\"Month\": 7, \"Total Shootings\": 62.2, \"Month Name\": \"July\"}, {\"Month\": 8, \"Total Shootings\": 49.5, \"Month Name\": \"August\"}, {\"Month\": 9, \"Total Shootings\": 42.6, \"Month Name\": \"September\"}, {\"Month\": 10, \"Total Shootings\": 43.111111111111114, \"Month Name\": \"October\"}, {\"Month\": 11, \"Total Shootings\": 34.666666666666664, \"Month Name\": \"November\"}, {\"Month\": 12, \"Total Shootings\": 27.0, \"Month Name\": \"December\"}]}}, {\"mode\": \"vega-lite\"});\n",
       "</script>"
      ],
      "text/plain": [
       "alt.LayerChart(...)"
      ]
     },
     "execution_count": 259,
     "metadata": {},
     "output_type": "execute_result"
    }
   ],
   "source": [
    "import pandas as pd\n",
    "import altair as alt\n",
    "\n",
    "# Calcular la mitjana de tirotejos per mes\n",
    "monthly_avg = monthly_shootings.groupby('Month')['Total Shootings'].mean().reset_index()\n",
    "\n",
    "# Afegir els noms dels mesos en anglès\n",
    "months = ['January', 'February', 'March', 'April', 'May', 'June', \n",
    "          'July', 'August', 'September', 'October', 'November', 'December']\n",
    "monthly_avg['Month Name'] = [months[m-1] for m in monthly_avg['Month']]\n",
    "\n",
    "# Crear el heatmap en format vertical\n",
    "heatmap = alt.Chart(monthly_avg).mark_rect().encode(\n",
    "    y=alt.Y('Month Name:N', sort=months, title=None),  # Canviar a l'eix Y\n",
    "    color=alt.Color('Total Shootings:Q',\n",
    "                    scale=alt.Scale(scheme='lightorange'),legend=None),\n",
    "    tooltip=[\n",
    "        alt.Tooltip('Month Name:N', title='Month'),\n",
    "        alt.Tooltip('Total Shootings:Q', title='Average', format='.1f')\n",
    "    ]\n",
    ").properties(\n",
    "    width=40,\n",
    "    height=400,\n",
    "    title={\n",
    "        \"text\":['Average month','ditribution'],\n",
    "        \"dy\": 0,\n",
    "        \"fontSize\": 16\n",
    "        }\n",
    ")\n",
    "\n",
    "text = alt.Chart(monthly_avg).mark_text(\n",
    "    baseline='middle',\n",
    "    color='white'\n",
    ").encode(\n",
    "    y=alt.Y('Month Name:N', sort=months),\n",
    "    text=alt.Text('Total Shootings:Q', format='.1f')\n",
    ")\n",
    "\n",
    "# Combinar el heatmap amb el text\n",
    "heatmap_month_distribution = (heatmap + text)\n",
    "\n",
    "\n",
    "heatmap_month_distribution\n"
   ]
  },
  {
   "cell_type": "markdown",
   "metadata": {},
   "source": [
    "Much better. Let's try to visualize this chart together with the first one:"
   ]
  },
  {
   "cell_type": "markdown",
   "metadata": {},
   "source": [
    "#### Final visualization 4"
   ]
  },
  {
   "cell_type": "code",
   "execution_count": 260,
   "metadata": {},
   "outputs": [
    {
     "data": {
      "text/html": [
       "\n",
       "<style>\n",
       "  #altair-viz-dcaefb5259cb4adfb327922395f0014d.vega-embed {\n",
       "    width: 100%;\n",
       "    display: flex;\n",
       "  }\n",
       "\n",
       "  #altair-viz-dcaefb5259cb4adfb327922395f0014d.vega-embed details,\n",
       "  #altair-viz-dcaefb5259cb4adfb327922395f0014d.vega-embed details summary {\n",
       "    position: relative;\n",
       "  }\n",
       "</style>\n",
       "<div id=\"altair-viz-dcaefb5259cb4adfb327922395f0014d\"></div>\n",
       "<script type=\"text/javascript\">\n",
       "  var VEGA_DEBUG = (typeof VEGA_DEBUG == \"undefined\") ? {} : VEGA_DEBUG;\n",
       "  (function(spec, embedOpt){\n",
       "    let outputDiv = document.currentScript.previousElementSibling;\n",
       "    if (outputDiv.id !== \"altair-viz-dcaefb5259cb4adfb327922395f0014d\") {\n",
       "      outputDiv = document.getElementById(\"altair-viz-dcaefb5259cb4adfb327922395f0014d\");\n",
       "    }\n",
       "    const paths = {\n",
       "      \"vega\": \"https://cdn.jsdelivr.net/npm/vega@5?noext\",\n",
       "      \"vega-lib\": \"https://cdn.jsdelivr.net/npm/vega-lib?noext\",\n",
       "      \"vega-lite\": \"https://cdn.jsdelivr.net/npm/vega-lite@5.20.1?noext\",\n",
       "      \"vega-embed\": \"https://cdn.jsdelivr.net/npm/vega-embed@6?noext\",\n",
       "    };\n",
       "\n",
       "    function maybeLoadScript(lib, version) {\n",
       "      var key = `${lib.replace(\"-\", \"\")}_version`;\n",
       "      return (VEGA_DEBUG[key] == version) ?\n",
       "        Promise.resolve(paths[lib]) :\n",
       "        new Promise(function(resolve, reject) {\n",
       "          var s = document.createElement('script');\n",
       "          document.getElementsByTagName(\"head\")[0].appendChild(s);\n",
       "          s.async = true;\n",
       "          s.onload = () => {\n",
       "            VEGA_DEBUG[key] = version;\n",
       "            return resolve(paths[lib]);\n",
       "          };\n",
       "          s.onerror = () => reject(`Error loading script: ${paths[lib]}`);\n",
       "          s.src = paths[lib];\n",
       "        });\n",
       "    }\n",
       "\n",
       "    function showError(err) {\n",
       "      outputDiv.innerHTML = `<div class=\"error\" style=\"color:red;\">${err}</div>`;\n",
       "      throw err;\n",
       "    }\n",
       "\n",
       "    function displayChart(vegaEmbed) {\n",
       "      vegaEmbed(outputDiv, spec, embedOpt)\n",
       "        .catch(err => showError(`Javascript Error: ${err.message}<br>This usually means there's a typo in your chart specification. See the javascript console for the full traceback.`));\n",
       "    }\n",
       "\n",
       "    if(typeof define === \"function\" && define.amd) {\n",
       "      requirejs.config({paths});\n",
       "      require([\"vega-embed\"], displayChart, err => showError(`Error loading script: ${err.message}`));\n",
       "    } else {\n",
       "      maybeLoadScript(\"vega\", \"5\")\n",
       "        .then(() => maybeLoadScript(\"vega-lite\", \"5.20.1\"))\n",
       "        .then(() => maybeLoadScript(\"vega-embed\", \"6\"))\n",
       "        .catch(showError)\n",
       "        .then(() => displayChart(vegaEmbed));\n",
       "    }\n",
       "  })({\"config\": {\"view\": {\"continuousWidth\": 300, \"continuousHeight\": 300}, \"axis\": {\"labelAngle\": 0, \"labelFontSize\": 12}, \"title\": {\"anchor\": \"middle\", \"fontSize\": 14}}, \"hconcat\": [{\"layer\": [{\"layer\": [{\"data\": {\"name\": \"empty\"}, \"mark\": {\"type\": \"rect\", \"color\": \"#aed6f1\", \"opacity\": 1}, \"encoding\": {\"x\": {\"value\": 0}, \"x2\": {\"value\": 160.5}, \"y\": {\"value\": 0}, \"y2\": {\"value\": 400}}}, {\"data\": {\"name\": \"empty\"}, \"mark\": {\"type\": \"rect\", \"color\": \"#f5b7b1\", \"opacity\": 1}, \"encoding\": {\"x\": {\"value\": 160}, \"x2\": {\"value\": 341}, \"y\": {\"value\": 0}, \"y2\": {\"value\": 400}}}, {\"data\": {\"name\": \"empty\"}, \"mark\": {\"type\": \"rect\", \"color\": \"#aed6f1\", \"opacity\": 1}, \"encoding\": {\"x\": {\"value\": 341.2}, \"x2\": {\"value\": 500}, \"y\": {\"value\": 0}, \"y2\": {\"value\": 400}}}]}, {\"data\": {\"name\": \"data-8277c5bc2dc8e16647ea5c377e998d75\"}, \"mark\": {\"type\": \"rule\", \"color\": \"black\", \"opacity\": 0.5, \"size\": 0.8}, \"encoding\": {\"y\": {\"axis\": null, \"field\": \"y\", \"title\": null, \"type\": \"quantitative\"}}}, {\"data\": {\"name\": \"data-026688d2d0c5dd192a7b9b24d926d62a\"}, \"mark\": {\"type\": \"line\", \"color\": \"black\", \"point\": {\"fill\": \"black\", \"filled\": true}, \"strokeWidth\": 2.5}, \"encoding\": {\"x\": {\"axis\": {\"grid\": false, \"labelAngle\": 0}, \"field\": \"Year\", \"title\": \"Year\", \"type\": \"ordinal\"}, \"y\": {\"field\": \"Total Shootings\", \"scale\": {\"domain\": [250, 710]}, \"title\": \"Total Shootings\", \"type\": \"quantitative\"}}, \"title\": \"Total Shootings per Year in the USA\"}, {\"data\": {\"name\": \"data-f5a0d41705e3d31c152a62c5ab6ce522\"}, \"mark\": {\"type\": \"area\"}, \"encoding\": {\"color\": {\"field\": \"governement\", \"legend\": {\"cornerRadius\": 10, \"fillColor\": \"#EEEEEE\", \"orient\": \"top-left\", \"padding\": 10, \"strokeColor\": \"gray\", \"titleAnchor\": \"middle\"}, \"scale\": {\"domain\": [\"Democratic\", \"Republican\"], \"range\": [\"#aed6f1\", \"#f5b7b1\"]}, \"type\": \"nominal\"}, \"x\": {\"axis\": {\"labelAngle\": 0}, \"field\": \"Year\", \"title\": \"Year\", \"type\": \"ordinal\"}, \"y\": {\"axis\": null, \"field\": \"y1\", \"scale\": {\"domain\": [200, 720]}, \"title\": \"Total Shootings\", \"type\": \"quantitative\"}, \"y2\": {\"field\": \"y2\"}}}], \"height\": 400, \"resolve\": {\"scale\": {\"y\": \"independent\"}}, \"title\": \"Total Shootings per Year in the USA\", \"width\": 500}, {\"layer\": [{\"mark\": {\"type\": \"rect\"}, \"encoding\": {\"color\": {\"field\": \"Total Shootings\", \"legend\": null, \"scale\": {\"scheme\": \"lightorange\"}, \"type\": \"quantitative\"}, \"tooltip\": [{\"field\": \"Month Name\", \"title\": \"Month\", \"type\": \"nominal\"}, {\"field\": \"Total Shootings\", \"format\": \".1f\", \"title\": \"Average\", \"type\": \"quantitative\"}], \"y\": {\"field\": \"Month Name\", \"sort\": [\"January\", \"February\", \"March\", \"April\", \"May\", \"June\", \"July\", \"August\", \"September\", \"October\", \"November\", \"December\"], \"title\": null, \"type\": \"nominal\"}}, \"title\": {\"text\": [\"Average month\", \"ditribution\"], \"dy\": 0, \"fontSize\": 16}}, {\"mark\": {\"type\": \"text\", \"baseline\": \"middle\", \"color\": \"white\"}, \"encoding\": {\"text\": {\"field\": \"Total Shootings\", \"format\": \".1f\", \"type\": \"quantitative\"}, \"y\": {\"field\": \"Month Name\", \"sort\": [\"January\", \"February\", \"March\", \"April\", \"May\", \"June\", \"July\", \"August\", \"September\", \"October\", \"November\", \"December\"], \"type\": \"nominal\"}}}], \"data\": {\"name\": \"data-bda259859499f3b99bfb1fc1cd120c2b\"}, \"height\": 400, \"width\": 40}], \"resolve\": {\"scale\": {\"color\": \"independent\"}}, \"$schema\": \"https://vega.github.io/schema/vega-lite/v5.20.1.json\", \"datasets\": {\"empty\": [{}], \"data-8277c5bc2dc8e16647ea5c377e998d75\": [{\"y\": 0}, {\"y\": 50}, {\"y\": 100}, {\"y\": 150}, {\"y\": 200}, {\"y\": 250}, {\"y\": 300}, {\"y\": 350}, {\"y\": 400}, {\"y\": 450}, {\"y\": 500}, {\"y\": 550}, {\"y\": 600}, {\"y\": 650}, {\"y\": 700}], \"data-026688d2d0c5dd192a7b9b24d926d62a\": [{\"Year\": 2014, \"Total Shootings\": 271}, {\"Year\": 2015, \"Total Shootings\": 331}, {\"Year\": 2016, \"Total Shootings\": 379}, {\"Year\": 2017, \"Total Shootings\": 343}, {\"Year\": 2018, \"Total Shootings\": 330}, {\"Year\": 2019, \"Total Shootings\": 410}, {\"Year\": 2020, \"Total Shootings\": 610}, {\"Year\": 2021, \"Total Shootings\": 682}, {\"Year\": 2022, \"Total Shootings\": 642}, {\"Year\": 2023, \"Total Shootings\": 651}, {\"Year\": 2024, \"Total Shootings\": 396}], \"data-f5a0d41705e3d31c152a62c5ab6ce522\": [{\"Year\": 2014, \"y1\": 0, \"y2\": 0, \"governement\": \"Democratic\"}, {\"Year\": 2015, \"y1\": 0, \"y2\": 0, \"governement\": \"Democratic\"}, {\"Year\": 2016, \"y1\": 0, \"y2\": 0, \"governement\": \"Democratic\"}, {\"Year\": 2017, \"y1\": 0, \"y2\": 0, \"governement\": \"Republican\"}, {\"Year\": 2018, \"y1\": 0, \"y2\": 0, \"governement\": \"Republican\"}, {\"Year\": 2019, \"y1\": 0, \"y2\": 0, \"governement\": \"Republican\"}, {\"Year\": 2020, \"y1\": 0, \"y2\": 0, \"governement\": \"Republican\"}, {\"Year\": 2021, \"y1\": 0, \"y2\": 0, \"governement\": \"Republican\"}, {\"Year\": 2022, \"y1\": 0, \"y2\": 0, \"governement\": \"Democratic\"}, {\"Year\": 2023, \"y1\": 0, \"y2\": 0, \"governement\": \"Democratic\"}, {\"Year\": 2024, \"y1\": 0, \"y2\": 0, \"governement\": \"Democratic\"}], \"data-bda259859499f3b99bfb1fc1cd120c2b\": [{\"Month\": 1, \"Total Shootings\": 29.2, \"Month Name\": \"January\"}, {\"Month\": 2, \"Total Shootings\": 26.3, \"Month Name\": \"February\"}, {\"Month\": 3, \"Total Shootings\": 28.8, \"Month Name\": \"March\"}, {\"Month\": 4, \"Total Shootings\": 37.1, \"Month Name\": \"April\"}, {\"Month\": 5, \"Total Shootings\": 48.7, \"Month Name\": \"May\"}, {\"Month\": 6, \"Total Shootings\": 58.7, \"Month Name\": \"June\"}, {\"Month\": 7, \"Total Shootings\": 62.2, \"Month Name\": \"July\"}, {\"Month\": 8, \"Total Shootings\": 49.5, \"Month Name\": \"August\"}, {\"Month\": 9, \"Total Shootings\": 42.6, \"Month Name\": \"September\"}, {\"Month\": 10, \"Total Shootings\": 43.111111111111114, \"Month Name\": \"October\"}, {\"Month\": 11, \"Total Shootings\": 34.666666666666664, \"Month Name\": \"November\"}, {\"Month\": 12, \"Total Shootings\": 27.0, \"Month Name\": \"December\"}]}}, {\"mode\": \"vega-lite\"});\n",
       "</script>"
      ],
      "text/plain": [
       "alt.HConcatChart(...)"
      ]
     },
     "execution_count": 260,
     "metadata": {},
     "output_type": "execute_result"
    }
   ],
   "source": [
    "# Crear el gràfic concatenat sense configuracions individuals\n",
    "combined_chart = alt.hconcat(\n",
    "    chart_with_background,\n",
    "    heatmap_month_distribution\n",
    ").resolve_scale(\n",
    "    color='independent'\n",
    ").configure_axis(\n",
    "    labelAngle=0,\n",
    "    labelFontSize=12\n",
    ").configure_title(\n",
    "    fontSize=14,\n",
    "    anchor='middle'\n",
    ")\n",
    "\n",
    "combined_chart\n"
   ]
  },
  {
   "cell_type": "markdown",
   "metadata": {},
   "source": [
    "... (description)"
   ]
  }
 ],
 "metadata": {
  "kernelspec": {
   "display_name": "Python 3",
   "language": "python",
   "name": "python3"
  },
  "language_info": {
   "codemirror_mode": {
    "name": "ipython",
    "version": 3
   },
   "file_extension": ".py",
   "mimetype": "text/x-python",
   "name": "python",
   "nbconvert_exporter": "python",
   "pygments_lexer": "ipython3",
   "version": "3.11.2"
  }
 },
 "nbformat": 4,
 "nbformat_minor": 2
}
