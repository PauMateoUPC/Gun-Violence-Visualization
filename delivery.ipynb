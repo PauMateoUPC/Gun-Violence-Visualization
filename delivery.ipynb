{
 "cells": [
  {
   "cell_type": "markdown",
   "metadata": {},
   "source": [
    "<h1 style=\"text-align:center;\">Mass Shootings in the USA</h1>"
   ]
  },
  {
   "cell_type": "markdown",
   "metadata": {},
   "source": [
    "<p style=\"text-align:center;\">Laia Mogas i Pau Mateo</p>\n",
    "<p style=\"text-align:center;\">Information Visualization - GCED</p>"
   ]
  },
  {
   "cell_type": "markdown",
   "metadata": {},
   "source": [
    "## Requirements"
   ]
  },
  {
   "cell_type": "code",
   "execution_count": 267,
   "metadata": {},
   "outputs": [],
   "source": [
    "# >pip install pandas\n",
    "# >pip install altair\n",
    "# >pip install json\n",
    "\n",
    "import pandas as pd\n",
    "import altair as alt\n",
    "import json\n",
    "from collections import defaultdict\n",
    "from random import choice"
   ]
  },
  {
   "cell_type": "markdown",
   "metadata": {},
   "source": [
    "## Obtaining data\n",
    "The main data sources we used in this project are:\n",
    "- https://www2.census.gov/\n",
    "- https://www.gunviolencearchive.org/reports\n",
    "\n",
    "From theese sources we obtain the following datasets:\n",
    "- Mass shootings (january 2014 to september 2024)\n",
    "- School incidents (january 2022 to 2024)\n",
    "- County population\n"
   ]
  },
  {
   "cell_type": "markdown",
   "metadata": {},
   "source": [
    "## Preprocessing and data cleaning - County Population\n",
    "We obtained the conty popultion data with two separate csv files: one correspondig to the years 2014-2019, an another one for 2020 and later. These datasets contained a lot of information, but we only needed the population estimate foer each county every year, so we eliminated the unnecesary columns. We merged these two datasets with pytohn pandas. Then noticed that the state Connecticut had a county redistribuition in 2020, so we decided to keep the latest cofniguration of counties and estimate uniformly the population of those counties for years before 2020. The code we used for this preprocessing is the following:"
   ]
  },
  {
   "cell_type": "code",
   "execution_count": 268,
   "metadata": {},
   "outputs": [],
   "source": [
    "pop2010_20 = pd.read_csv('datasets/co-est2010-2020_alldata.csv', encoding='latin1')\n",
    "pop2020_23 = pd.read_csv('datasets/co-est2020-2023_alldata.csv', encoding='latin1')\n",
    "\n",
    "########## column projection ##########\n",
    "columns2010 = ['STATE', 'COUNTY','STNAME','CTYNAME']\n",
    "columns2010.extend(['POPESTIMATE201'+str(i) for i in range(10)])\n",
    "columns2020 = ['STATE', 'COUNTY','STNAME','CTYNAME']\n",
    "columns2020.extend(['POPESTIMATE202'+str(i) for i in range(4)])\n",
    "\n",
    "pop2010_20['FIPS'] = pop2010_20.apply(lambda row: f\"{int(row['STATE']):02d}{int(row['COUNTY']):03d}\", axis=1)\n",
    "pop2020_23['FIPS'] = pop2020_23.apply(lambda row: f\"{int(row['STATE']):02d}{int(row['COUNTY']):03d}\", axis=1)\n",
    "\n",
    "\n",
    "##########     merge     ##########\n",
    "df_population = pd.merge(pop2010_20[columns2010], pop2020_23[columns2020], on=['STATE', 'COUNTY'])\n",
    "\n",
    "df_population['STATE'] = df_population['STATE'].astype(str)\n",
    "df_population['COUNTY'] = df_population['COUNTY'].astype(str)\n",
    "\n",
    "\n",
    "########## obraining FIPS ##########\n",
    "df_population['FIPS'] = df_population.apply(lambda row: f\"{int(row['STATE']):02d}{int(row['COUNTY']):03d}\", axis=1)\n",
    "df_population['STNAME'] = df_population['STNAME_x']\n",
    "df_population['CTYNAME'] = df_population['CTYNAME_x']\n",
    "\n",
    "########## ordering columns ##########\n",
    "new_cols_order = ['STNAME', 'CTYNAME', 'FIPS', 'STATE', 'COUNTY'] + ['POPESTIMATE20'+f'{i:02d}' for i in range(14,24)]\n",
    "df_population = df_population[new_cols_order]"
   ]
  },
  {
   "cell_type": "code",
   "execution_count": 269,
   "metadata": {},
   "outputs": [
    {
     "name": "stdout",
     "output_type": "stream",
     "text": [
      "['09001', '09003', '09005', '09007', '09009', '09011', '09013', '09015']\n",
      "['09110', '09120', '09130', '09140', '09150', '09160', '09170', '09180', '09190']\n"
     ]
    }
   ],
   "source": [
    "##### checking changed counties #####\n",
    "\n",
    "l1 = []\n",
    "for c in pop2010_20['FIPS']:\n",
    "    if c not in df_population['FIPS'].values:\n",
    "        l1.append(c)\n",
    "\n",
    "l2 = []\n",
    "for c in pop2020_23['FIPS']:\n",
    "    if c not in df_population['FIPS'].values:\n",
    "        l2.append(c)\n",
    "\n",
    "print(l1)\n",
    "print(l2)"
   ]
  },
  {
   "cell_type": "markdown",
   "metadata": {},
   "source": [
    "We see that indeed, the counties from the Connecticut state are different in the two datasets."
   ]
  },
  {
   "cell_type": "code",
   "execution_count": 270,
   "metadata": {},
   "outputs": [],
   "source": [
    "##### dealing with state '09' (Connecticut) ######\n",
    "\n",
    "fips_connecticut = pop2020_23[pop2020_23['STATE']==9]['FIPS'].values\n",
    "N = len(fips_connecticut)\n",
    "\n",
    "totalpop = defaultdict()\n",
    "\n",
    "\n",
    "for i in range(14,24):\n",
    "    year = 'POPESTIMATE20'+ f'{i:02d}'\n",
    "    #calculate total population in state '09' in this year\n",
    "    if i < 20:\n",
    "        totalpop[year] = sum(pop2010_20[pop2010_20['STATE'] == 9][year].values)\n",
    "    else:\n",
    "        totalpop[year] = sum(pop2020_23[pop2020_23['STATE'] == 9][year].values)\n",
    "\n",
    "\n",
    "for fips in fips_connecticut:\n",
    "    new_row = pd.Series({\n",
    "        'STNAME': 'Connecticut', \n",
    "        'CTYNAME': 'connecticut_county_unknown',\n",
    "        'FIPS': fips, \n",
    "        'STATE': 9, \n",
    "        'COUNTY': fips[2:],\n",
    "        'POPESTIMATE2014': totalpop['POPESTIMATE2014'] / N,\n",
    "        'POPESTIMATE2015': totalpop['POPESTIMATE2015'] / N,\n",
    "        'POPESTIMATE2016': totalpop['POPESTIMATE2016'] / N,\n",
    "        'POPESTIMATE2017': totalpop['POPESTIMATE2017'] / N,\n",
    "        'POPESTIMATE2018': totalpop['POPESTIMATE2018'] / N,\n",
    "        'POPESTIMATE2019': totalpop['POPESTIMATE2019'] / N,\n",
    "        'POPESTIMATE2020': totalpop['POPESTIMATE2020'] / N,\n",
    "        'POPESTIMATE2021': totalpop['POPESTIMATE2021'] / N,\n",
    "        'POPESTIMATE2022': totalpop['POPESTIMATE2022'] / N,\n",
    "        'POPESTIMATE2023': totalpop['POPESTIMATE2023'] / N\n",
    "    })\n",
    "    df_population.loc[len(df_population)] = new_row\n"
   ]
  },
  {
   "cell_type": "code",
   "execution_count": 271,
   "metadata": {},
   "outputs": [],
   "source": [
    "#### save partial dataset ###\n",
    "df_population.to_csv('datasets/CountyPopulationAllYears.csv', index=False)"
   ]
  },
  {
   "cell_type": "markdown",
   "metadata": {},
   "source": [
    "Later on, we will have to redistribute the Mass Shootings and School incidents that occured in the counties that we've just eliminated."
   ]
  },
  {
   "cell_type": "markdown",
   "metadata": {},
   "source": [
    "## Preprocessing and data cleaning - Mass Shootings + School incidents"
   ]
  },
  {
   "cell_type": "markdown",
   "metadata": {},
   "source": [
    "To clean the Gun Violence data we used Open Refine followed by python.\n",
    "#### Concatenating mass shootings csv\n",
    "The raw data from the Gun Violence Archaive is splitted into various datasets. To add everything into a same csv file, we simply used Open Refine and opened all the csv when starting a new project. This way, the multiple csv are automatiqually concatenated, as they all have the same columns. Before doing that, we had to eliminate some of the duplicate rows in the data, as the file `MassShootings_2021.csv` overlaps with the file `GunVioleceAllYears.csv`. Again, we used Open Refine to do so, by making a time facet of the file `MassShootings_2021.csv` and selectig the rows that were already in the `GunVioleceAllYears.csv` file, and then eliminating them.\n",
    "\n",
    "#### Tranformations\n",
    "We applied some basic transformations to the dataset, mainly just changing the types of some columns, such as *Incident Date* to date, and numerical columns into intiger. \n",
    "\n",
    "#### Obtaining counties with OSM\n",
    "To answer accuratelly the questions of the projecy, we needed the exact county where each incident occured. To obtain those, we first used Open Refine to obtain some json information from Open Street Maps, with the methos \"Add column by fetching URLs\". The command we used is:"
   ]
  },
  {
   "cell_type": "raw",
   "metadata": {
    "vscode": {
     "languageId": "raw"
    }
   },
   "source": [
    "'https://nominatim.openstreetmap.org/search?format=json&email=pau.mateo.bernado@estudiantat.upc.edu&app=google-refine&q=' + \n",
    "escape(cells[\"City Or County\"].value + \", \" + cells[\"State\"].value, 'url') + '&limit=1&addressdetails =1'"
   ]
  },
  {
   "cell_type": "markdown",
   "metadata": {},
   "source": [
    "With this, we obtained some json information for each row, for example:"
   ]
  },
  {
   "cell_type": "code",
   "execution_count": 272,
   "metadata": {},
   "outputs": [
    {
     "data": {
      "text/plain": [
       "[{'place_id': 323075484,\n",
       "  'licence': 'Data © OpenStreetMap contributors, ODbL 1.0. http://osm.org/copyright',\n",
       "  'osm_type': 'relation',\n",
       "  'osm_id': 1180533,\n",
       "  'lat': '38.6280278',\n",
       "  'lon': '-90.1910154',\n",
       "  'class': 'boundary',\n",
       "  'type': 'administrative',\n",
       "  'place_rank': 12,\n",
       "  'importance': 0.7078550940195126,\n",
       "  'addresstype': 'independent_city',\n",
       "  'name': 'Saint Louis',\n",
       "  'display_name': 'Saint Louis, Missouri, United States',\n",
       "  'boundingbox': ['38.5323215', '38.7743018', '-90.3206525', '-90.1641941']}]"
      ]
     },
     "execution_count": 272,
     "metadata": {},
     "output_type": "execute_result"
    }
   ],
   "source": [
    "[{\"place_id\":323075484,\n",
    "\"licence\":\"Data © OpenStreetMap contributors, ODbL 1.0. http://osm.org/copyright\",\n",
    "\"osm_type\":\"relation\",\n",
    "\"osm_id\":1180533,\n",
    "\"lat\":\"38.6280278\",\n",
    "\"lon\":\"-90.1910154\",\n",
    "\"class\":\"boundary\",\n",
    "\"type\":\"administrative\",\n",
    "\"place_rank\":12,\n",
    "\"importance\":0.7078550940195126,\n",
    "\"addresstype\":\"independent_city\",\n",
    "\"name\":\"Saint Louis\",\n",
    "\"display_name\":\"Saint Louis, Missouri, United States\",\n",
    "\"boundingbox\":[\"38.5323215\",\"38.7743018\",\"-90.3206525\",\"-90.1641941\"]}]"
   ]
  },
  {
   "cell_type": "markdown",
   "metadata": {},
   "source": [
    "From this information we wantet to obtain the county for each incident. However, we weren't capable of doing so with Open Refine, as the URL used didn't return the names of the counties in the same format as the dataest form census.gov, so we had to process again this informatino with pytohn.\n",
    "We defined some functions that try to find a county name for each incident that exists in the population dataset obtained from census.gov. The functions iterate through the names in the key `\"display_name\"` from the json column (as there are some cases where the Township or some other information is also in the json code, so the county is not always in the same position) and applies some transformations to them and checks if the resulting name it's a county."
   ]
  },
  {
   "cell_type": "code",
   "execution_count": null,
   "metadata": {},
   "outputs": [],
   "source": [
    "names_counties = defaultdict(set)  # names of the counties for each state\n",
    "\n",
    "for state in df_population['STNAME'].values:\n",
    "    names_counties[state] = set(df_population[df_population['STNAME']==state]['CTYNAME'].values)\n",
    "\n",
    "\n",
    "def transforms(name: str) -> str:\n",
    "    if 'Clarke' in name: return 'Clarke County'\n",
    "    if 'Connecticut' in name: return 'connecticut_county_unknown'\n",
    "    name = name.replace('Saint', 'St.').replace('Nashville-', '').replace('Vista', 'Buena Vista').replace('Compton', 'Los Angeles County')\n",
    "    name = name.replace('Monterey Park', 'Monterey County')\n",
    "    return name.strip()\n",
    "\n",
    "\n",
    "def try_find(name, state) -> str | None:\n",
    "    '''tries to find the countie corresponding to `name` by \n",
    "    appliying transformations and trying diferent formats'''\n",
    "    if name in names_counties[state]: return name\n",
    "\n",
    "    if transforms(name) in names_counties[state]: return transforms(name)\n",
    "\n",
    "    #try county\n",
    "    n = transforms(name)\n",
    "    if 'County' not in n: n += ' County'\n",
    "    if n in names_counties[state]: return n\n",
    "\n",
    "    #try parish\n",
    "    n = transforms(name)\n",
    "    if 'Parish' not in n: n += ' Parish'\n",
    "    if n in names_counties[state]: return n\n",
    "\n",
    "    #try city\n",
    "    n = transforms(name)\n",
    "    if 'city' not in n: n += ' city'\n",
    "    if n in names_counties[state]: return n\n",
    "\n",
    "    #try Municipality\n",
    "    n = transforms(name)\n",
    "    if 'city' not in n: n += ' Municipality'\n",
    "    if n in names_counties[state]: return n\n",
    "    \n",
    "    else: return None\n",
    "\n",
    "\n",
    "def extract_county(row) -> str | None:\n",
    "    '''tries to extract the corresponding countie for the given row'''\n",
    "    json_data = row['json']\n",
    "    state = row['State'].strip()\n",
    "\n",
    "    places = json.loads(json_data)\n",
    "    if places:\n",
    "        names = places[0].get(\"display_name\", \"\")\n",
    "        # Cerca \"County\", \"Parish\", o altres entitats equivalents en display_name\n",
    "        \n",
    "        delims = [\",\", \")\", \"(\"]\n",
    "\n",
    "        for delim in delims:\n",
    "            names = \"_\".join(names.split(delim))\n",
    "        names = names.split(\"_\")\n",
    "        names = [n.strip() for n in names if n != '']\n",
    "\n",
    "        for n in names:\n",
    "            cname = try_find(n, state)\n",
    "            if cname: return cname\n",
    "            else: continue\n",
    "    \n",
    "        return None\n",
    "    \n",
    "\n",
    "df_school_incidents = pd.read_csv('datasets/Schoolincidents-json.csv')\n",
    "df_shootings = pd.read_csv(\"datasets/MassShootingsComplete-json.csv\")\n",
    "\n",
    "df_shootings['County'] = df_shootings.apply(extract_county, axis=1)\n",
    "df_school_incidents['County'] = df_school_incidents.apply(extract_county, axis=1)\n",
    "\n",
    "#remove rows with null or unknown county\n",
    "df_shootings = df_shootings.dropna(subset=['County'])\n",
    "df_school_incidents = df_school_incidents.dropna(subset=['County'])"
   ]
  },
  {
   "cell_type": "markdown",
   "metadata": {},
   "source": [
    "With this transformations we obtain a county for **all rows** that had a not null value in the json column (for 70 rows amongst 5k, the URLs from Open Refine extracted just `\"[]\"`)."
   ]
  },
  {
   "cell_type": "markdown",
   "metadata": {},
   "source": [
    "\n",
    "### Obtaining FIPS codes"
   ]
  },
  {
   "cell_type": "markdown",
   "metadata": {},
   "source": [
    "Obtaining the FIPS codes for each county facilitated us working with altair's cloropleth charts. At this point, it was easy to obtain the FIPS codes for each incident, as we already had them in the County population csv. A simple function was enough:"
   ]
  },
  {
   "cell_type": "code",
   "execution_count": 274,
   "metadata": {},
   "outputs": [],
   "source": [
    "def get_fips(row) -> str | None:\n",
    "    \"\"\"\n",
    "    Returns the FIPS code for the given row by searching\n",
    "    it in the population csv\n",
    "    \"\"\"\n",
    "\n",
    "    county_value = row['County']\n",
    "\n",
    "    # connecticut separate case:\n",
    "    connecticut_fips = ['09110', '09120', '09130', '09140', '09150', '09160', '09170', '09180', '09190']\n",
    "    if county_value == 'connecticut_county_unknown':\n",
    "        fips = choice(connecticut_fips)  # we map the incident into a random county\n",
    "        return f'{int(fips):02d}'\n",
    "\n",
    "    if county_value is not None:\n",
    "        county_value = county_value.strip()\n",
    "    else:\n",
    "        county_value = \"\"  # Si és None, assignar una cadena buida per evitar errors\n",
    "    \n",
    "    fips_value = df_population[(df_population['STNAME'] == row['State']) & (df_population['CTYNAME'] == county_value)]['FIPS']\n",
    "    \n",
    "    # Retornar el primer valor (ja que és únic)\n",
    "    return f'{int(fips_value.iloc[0]):02d}' if not fips_value.empty else None\n",
    "\n",
    "\n",
    "df_shootings['FIPS'] = df_shootings.apply(get_fips, axis=1)\n",
    "df_shootings.dropna(inplace=True)\n",
    "df_shootings['FIPS'] = df_shootings['FIPS'].apply(lambda x: f\"{int(x):05d}\") # to ensure length 5\n",
    "\n",
    "\n",
    "df_school_incidents['FIPS'] = df_school_incidents.apply(get_fips, axis=1)\n",
    "df_school_incidents.dropna(inplace=True)\n",
    "df_school_incidents['FIPS'] = df_school_incidents['FIPS'].apply(lambda x: f\"{int(x):05d}\")"
   ]
  },
  {
   "cell_type": "code",
   "execution_count": 275,
   "metadata": {},
   "outputs": [],
   "source": [
    "#### save partial datasets ###\n",
    "# df_shootings.to_csv('datasets/MassShootingsComplete_FIPS.csv', index=False)\n",
    "# df_school_incidents.to_csv('datasets/SchoolIncidents_FIPS.csv', index=False)"
   ]
  },
  {
   "cell_type": "markdown",
   "metadata": {},
   "source": [
    "Now, we just need to do some last agregations and transformations so that we can put together all this information n only one csv file to simplify the code for the altair charts."
   ]
  },
  {
   "cell_type": "markdown",
   "metadata": {},
   "source": [
    "### Final transformations"
   ]
  },
  {
   "cell_type": "code",
   "execution_count": 276,
   "metadata": {},
   "outputs": [],
   "source": [
    "def split_date(df):\n",
    "    df['Incident Date'] = pd.to_datetime(df['Incident Date'])\n",
    "    df['Year'] = df['Incident Date'].dt.year\n",
    "    df['Month'] = df['Incident Date'].dt.month\n",
    "    df.drop(labels='Incident Date', axis=1, inplace=True)\n",
    "    return df"
   ]
  },
  {
   "cell_type": "markdown",
   "metadata": {},
   "source": [
    "#### County population"
   ]
  },
  {
   "cell_type": "code",
   "execution_count": 277,
   "metadata": {},
   "outputs": [],
   "source": [
    "df_population.drop(['STATE', 'COUNTY'], inplace=True, axis=1)\n",
    "\n",
    "df_population.rename(inplace=True, columns={\n",
    "    'STNAME': 'State',\n",
    "    'CTYNAME': 'County',\n",
    "    'POPESTIMATE2014': '2014',\n",
    "    'POPESTIMATE2015': '2015',\n",
    "    'POPESTIMATE2016': '2016',\n",
    "    'POPESTIMATE2017': '2017',\n",
    "    'POPESTIMATE2018': '2018',\n",
    "    'POPESTIMATE2019': '2019',\n",
    "    'POPESTIMATE2020': '2020',\n",
    "    'POPESTIMATE2021': '2021',\n",
    "    'POPESTIMATE2022': '2022',\n",
    "    'POPESTIMATE2023': '2023'    \n",
    "})\n",
    "\n",
    "\n",
    "df_population = pd.melt(df_population, id_vars=['FIPS','State','County'], value_vars=[str(i) for i in range(2014,2024)])\n",
    "df_population.rename(inplace=True, columns={\n",
    "    'variable': 'Year',\n",
    "    'value': 'Population'\n",
    "})"
   ]
  },
  {
   "cell_type": "code",
   "execution_count": 278,
   "metadata": {},
   "outputs": [
    {
     "data": {
      "text/plain": [
       "Index(['FIPS', 'State', 'County', 'Year', 'Population'], dtype='object')"
      ]
     },
     "execution_count": 278,
     "metadata": {},
     "output_type": "execute_result"
    }
   ],
   "source": [
    "df_population.columns"
   ]
  },
  {
   "cell_type": "markdown",
   "metadata": {},
   "source": [
    "#### Mass shootings"
   ]
  },
  {
   "cell_type": "code",
   "execution_count": 279,
   "metadata": {},
   "outputs": [],
   "source": [
    "df_shootings = split_date(df_shootings)\n",
    "df_shootings = df_shootings[df_shootings['Year']<2024]\n",
    "df_shootings['FIPS'] = df_shootings['FIPS'].astype(int)\n",
    "df_population['FIPS'] = df_population['FIPS'].astype(int)\n",
    "df_shootings = df_shootings.groupby(['FIPS', 'County', 'State', 'Year', 'Month']).size().reset_index(name='Shootings')"
   ]
  },
  {
   "cell_type": "markdown",
   "metadata": {},
   "source": [
    "#### School incidents"
   ]
  },
  {
   "cell_type": "code",
   "execution_count": 280,
   "metadata": {},
   "outputs": [],
   "source": [
    "df_school_incidents.drop(['Address', 'Business/Location Name'], axis=1, inplace=True)\n",
    "df_school_incidents = split_date(df_school_incidents)\n",
    "df_school_incidents = df_school_incidents.groupby(['FIPS', 'County', 'State', 'Year', 'Month']).size().reset_index(name='School Incidents')"
   ]
  },
  {
   "cell_type": "markdown",
   "metadata": {},
   "source": [
    "### Final merge"
   ]
  },
  {
   "cell_type": "code",
   "execution_count": 281,
   "metadata": {},
   "outputs": [],
   "source": [
    "### Merge mass shootings and school incidents\n",
    "df_school_incidents['Year'] = df_school_incidents['Year'].apply(str)\n",
    "df_population['Year'] = df_population['Year'].apply(str)\n",
    "df_shootings['Year'] = df_shootings['Year'].astype(str)\n",
    "df_school_incidents['FIPS'] = df_school_incidents['FIPS'].astype(int)\n",
    "df_complete = pd.merge(df_shootings, df_school_incidents, on=['FIPS', 'County', 'State', 'Year', 'Month'], how='outer')\n",
    "df_complete = pd.DataFrame(df_complete.fillna(0))\n",
    "\n",
    "# join population\n",
    "df_population['Year'] = df_population['Year'].apply(str)\n",
    "df_shootings['Year'] = df_shootings['Year'].astype(str)\n",
    "df_complete = pd.merge(df_complete, df_population, on=['FIPS', 'County', 'State', 'Year'], how='left')\n",
    "df_complete['FIPS'] = df_complete['FIPS'].apply(lambda x: f'{x:02d}')\n",
    "\n",
    "# compute ratio\n",
    "df_complete['Ratio County'] = df_complete['Shootings'] / df_complete['Population'] * 1000000"
   ]
  },
  {
   "cell_type": "code",
   "execution_count": 283,
   "metadata": {},
   "outputs": [],
   "source": [
    "### save to csv file\n",
    "df_complete.to_csv('datasets/GunViolenceCompleteData.csv')"
   ]
  },
  {
   "cell_type": "markdown",
   "metadata": {},
   "source": [
    "The preprocessing is done! We are ready to start making visualizations! 🚀🚀"
   ]
  },
  {
   "cell_type": "markdown",
   "metadata": {},
   "source": [
    "## Questions"
   ]
  },
  {
   "cell_type": "markdown",
   "metadata": {},
   "source": [
    "In the following sections we show the steps we followed in the design of the visualizatinos for each question. At the end of each section we provide the final visualization together with a breaf explanation of the decisions taken and the problems we encountered."
   ]
  },
  {
   "cell_type": "code",
   "execution_count": 284,
   "metadata": {},
   "outputs": [],
   "source": [
    "df_GunViolence_csv = pd.read_csv('datasets/GunViolenceCompleteData.csv')"
   ]
  },
  {
   "cell_type": "markdown",
   "metadata": {},
   "source": [
    "<h3 style=\"color:darkblue\"> Q1: What are the states with large number of mass shootings per citizen?"
   ]
  },
  {
   "cell_type": "code",
   "execution_count": 288,
   "metadata": {},
   "outputs": [
    {
     "name": "stdout",
     "output_type": "stream",
     "text": [
      "      FIPS                County                 State  Year  Population  \\\n",
      "458  11000  District of Columbia  District of Columbia  2014    663603.0   \n",
      "459  11000  District of Columbia  District of Columbia  2015    677014.0   \n",
      "460  11000  District of Columbia  District of Columbia  2016    687576.0   \n",
      "461  11000  District of Columbia  District of Columbia  2017    697079.0   \n",
      "462  11000  District of Columbia  District of Columbia  2018    704147.0   \n",
      "\n",
      "     Shootings  \n",
      "458        6.0  \n",
      "459        3.0  \n",
      "460        5.0  \n",
      "461        5.0  \n",
      "462        6.0  \n",
      "       FIPS             County      State  Year  Population  Shootings\n",
      "1075  22001      Acadia Parish  Louisiana  2020     57478.0        1.0\n",
      "1076  22005   Ascension Parish  Louisiana  2019    126798.0        1.0\n",
      "1077  22005   Ascension Parish  Louisiana  2020    126978.0        1.0\n",
      "1078  22005   Ascension Parish  Louisiana  2023    131632.0        1.0\n",
      "1079  22007  Assumption Parish  Louisiana  2023     20160.0        1.0\n",
      "post agrupar per state\n",
      "                   State  Year  Shootings  Population  Ratio State\n",
      "81  District of Columbia  2014        6.0    663603.0     9.041550\n",
      "82  District of Columbia  2015        3.0    677014.0     4.431223\n",
      "83  District of Columbia  2016        5.0    687576.0     7.271923\n",
      "84  District of Columbia  2017        5.0    697079.0     7.172788\n",
      "85  District of Columbia  2018        6.0    704147.0     8.520948\n",
      "         State  Year  Shootings  Population  Ratio State\n",
      "170  Louisiana  2014       11.0    449363.0    24.479096\n",
      "171  Louisiana  2015       15.0   1539196.0     9.745348\n",
      "172  Louisiana  2016       14.0   1923733.0     7.277517\n",
      "173  Louisiana  2017       15.0   2375706.0     6.313913\n",
      "174  Louisiana  2018       13.0   1158941.0    11.217137\n",
      "        State  Ratio State\n",
      "0     Alabama     7.271017\n",
      "1      Alaska     2.428610\n",
      "2     Arizona     1.069883\n",
      "3    Arkansas     8.891015\n",
      "4  California     0.795654\n"
     ]
    },
    {
     "data": {
      "text/html": [
       "<div>\n",
       "<style scoped>\n",
       "    .dataframe tbody tr th:only-of-type {\n",
       "        vertical-align: middle;\n",
       "    }\n",
       "\n",
       "    .dataframe tbody tr th {\n",
       "        vertical-align: top;\n",
       "    }\n",
       "\n",
       "    .dataframe thead th {\n",
       "        text-align: right;\n",
       "    }\n",
       "</style>\n",
       "<table border=\"1\" class=\"dataframe\">\n",
       "  <thead>\n",
       "    <tr style=\"text-align: right;\">\n",
       "      <th></th>\n",
       "      <th>State</th>\n",
       "      <th>Ratio State</th>\n",
       "      <th>Republican Vote</th>\n",
       "    </tr>\n",
       "  </thead>\n",
       "  <tbody>\n",
       "    <tr>\n",
       "      <th>8</th>\n",
       "      <td>District of Columbia</td>\n",
       "      <td>11.177704</td>\n",
       "      <td>0</td>\n",
       "    </tr>\n",
       "  </tbody>\n",
       "</table>\n",
       "</div>"
      ],
      "text/plain": [
       "                  State  Ratio State  Republican Vote\n",
       "8  District of Columbia    11.177704                0"
      ]
     },
     "execution_count": 288,
     "metadata": {},
     "output_type": "execute_result"
    }
   ],
   "source": [
    "elections_republican = {'Alabama': 4, 'Alaska': 4, 'Arizona': 3, 'Arkansas': 4, 'California': 0, 'Colorado': 0, 'Connecticut': 0, 'Delaware': 0, 'District of Columbia': 0, 'Florida': 3, 'Georgia': 3, 'Hawaii': 0, 'Idaho': 4, 'Illinois': 0, 'Indiana': 4, 'Iowa': 3, 'Kansas': 4, 'Kentucky': 4, 'Louisiana': 4, 'Maine': 0, 'Maryland': 0, 'Massachusetts': 0, 'Michigan': 2, 'Minnesota': 0, 'Mississippi': 4, 'Missouri': 4, 'Montana': 4, 'Nebraska': 4, 'Nevada': 1, 'New Hampshire': 0, 'New Jersey': 0, 'New Mexico': 0, 'New York': 0, 'North Carolina': 4, 'North Dakota': 4, 'Ohio': 3, 'Oklahoma': 4, 'Oregon': 0, 'Pennsylvania': 2, 'Rhode Island': 0, 'South Carolina': 4, 'South Dakota': 4, 'Tennessee': 4, 'Texas': 4, 'Utah': 4, 'Vermont': 0, 'Virginia': 0, 'Washington': 0, 'West Virginia': 4, 'Wisconsin': 2, 'Wyoming': 4}\n",
    "\n",
    "#print(df_GunViolence.loc[df_GunViolence['State'] == 'District of Columbia'])\n",
    "df_GunViolence = df_GunViolence_csv\n",
    "\n",
    "# agrupar per any\n",
    "df_GunViolence = (\n",
    "    df_GunViolence.groupby(['FIPS', 'County', 'State', 'Year'])\n",
    "    .agg({\n",
    "        'Population': 'first',  # Tomar el primer valor disponible de Population\n",
    "        'Shootings': 'sum'      # Sumar los valores de Shootings\n",
    "    })\n",
    "    .reset_index()\n",
    ")\n",
    "print(df_GunViolence.loc[df_GunViolence['State'] == 'District of Columbia'].head())\n",
    "print(df_GunViolence.loc[df_GunViolence['State'] == 'Louisiana'].head())\n",
    "\n",
    "\n",
    "# agrupar per state\n",
    "df_GunViolence = df_GunViolence.groupby(['State', 'Year'])[['Shootings', 'Population']].sum().reset_index()\n",
    "df_GunViolence['Ratio State'] = df_GunViolence['Shootings'] / df_GunViolence['Population'] * 1000000 # ratio entre shootings i population\n",
    "\n",
    "print('post agrupar per state')\n",
    "print(df_GunViolence.loc[df_GunViolence['State'] == 'District of Columbia'].head())\n",
    "print(df_GunViolence.loc[df_GunViolence['State'] == 'Louisiana'].head())\n",
    "\n",
    "# mean ratio for years\n",
    "df_GunViolence = df_GunViolence.groupby('State')['Ratio State'].mean().reset_index()\n",
    "\n",
    "print(df_GunViolence.head())\n",
    "\n",
    "elections_republican = {'Alabama': 4, 'Alaska': 4, 'Arizona': 3, 'Arkansas': 4, 'California': 0, 'Colorado': 0, 'Connecticut': 0, 'Delaware': 0, 'District of Columbia': 0, 'Florida': 3, 'Georgia': 3, 'Hawaii': 0, 'Idaho': 4, 'Illinois': 0, 'Indiana': 4, 'Iowa': 3, 'Kansas': 4, 'Kentucky': 4, 'Louisiana': 4, 'Maine': 0, 'Maryland': 0, 'Massachusetts': 0, 'Michigan': 2, 'Minnesota': 0, 'Mississippi': 4, 'Missouri': 4, 'Montana': 4, 'Nebraska': 4, 'Nevada': 1, 'New Hampshire': 0, 'New Jersey': 0, 'New Mexico': 0, 'New York': 0, 'North Carolina': 4, 'North Dakota': 4, 'Ohio': 3, 'Oklahoma': 4, 'Oregon': 0, 'Pennsylvania': 2, 'Rhode Island': 0, 'South Carolina': 4, 'South Dakota': 4, 'Tennessee': 4, 'Texas': 4, 'Utah': 4, 'Vermont': 0, 'Virginia': 0, 'Washington': 0, 'West Virginia': 4, 'Wisconsin': 2, 'Wyoming': 4}\n",
    "df_GunViolence['Republican Vote'] = df_GunViolence['State'].map(elections_republican)\n",
    "\n",
    "df_GunViolence[df_GunViolence['State'] == 'District of Columbia'].head()\n"
   ]
  },
  {
   "cell_type": "code",
   "execution_count": 289,
   "metadata": {},
   "outputs": [
    {
     "data": {
      "text/html": [
       "\n",
       "<style>\n",
       "  #altair-viz-4d98a24b701a47b18d497d0376d08fe6.vega-embed {\n",
       "    width: 100%;\n",
       "    display: flex;\n",
       "  }\n",
       "\n",
       "  #altair-viz-4d98a24b701a47b18d497d0376d08fe6.vega-embed details,\n",
       "  #altair-viz-4d98a24b701a47b18d497d0376d08fe6.vega-embed details summary {\n",
       "    position: relative;\n",
       "  }\n",
       "</style>\n",
       "<div id=\"altair-viz-4d98a24b701a47b18d497d0376d08fe6\"></div>\n",
       "<script type=\"text/javascript\">\n",
       "  var VEGA_DEBUG = (typeof VEGA_DEBUG == \"undefined\") ? {} : VEGA_DEBUG;\n",
       "  (function(spec, embedOpt){\n",
       "    let outputDiv = document.currentScript.previousElementSibling;\n",
       "    if (outputDiv.id !== \"altair-viz-4d98a24b701a47b18d497d0376d08fe6\") {\n",
       "      outputDiv = document.getElementById(\"altair-viz-4d98a24b701a47b18d497d0376d08fe6\");\n",
       "    }\n",
       "    const paths = {\n",
       "      \"vega\": \"https://cdn.jsdelivr.net/npm/vega@5?noext\",\n",
       "      \"vega-lib\": \"https://cdn.jsdelivr.net/npm/vega-lib?noext\",\n",
       "      \"vega-lite\": \"https://cdn.jsdelivr.net/npm/vega-lite@5.20.1?noext\",\n",
       "      \"vega-embed\": \"https://cdn.jsdelivr.net/npm/vega-embed@6?noext\",\n",
       "    };\n",
       "\n",
       "    function maybeLoadScript(lib, version) {\n",
       "      var key = `${lib.replace(\"-\", \"\")}_version`;\n",
       "      return (VEGA_DEBUG[key] == version) ?\n",
       "        Promise.resolve(paths[lib]) :\n",
       "        new Promise(function(resolve, reject) {\n",
       "          var s = document.createElement('script');\n",
       "          document.getElementsByTagName(\"head\")[0].appendChild(s);\n",
       "          s.async = true;\n",
       "          s.onload = () => {\n",
       "            VEGA_DEBUG[key] = version;\n",
       "            return resolve(paths[lib]);\n",
       "          };\n",
       "          s.onerror = () => reject(`Error loading script: ${paths[lib]}`);\n",
       "          s.src = paths[lib];\n",
       "        });\n",
       "    }\n",
       "\n",
       "    function showError(err) {\n",
       "      outputDiv.innerHTML = `<div class=\"error\" style=\"color:red;\">${err}</div>`;\n",
       "      throw err;\n",
       "    }\n",
       "\n",
       "    function displayChart(vegaEmbed) {\n",
       "      vegaEmbed(outputDiv, spec, embedOpt)\n",
       "        .catch(err => showError(`Javascript Error: ${err.message}<br>This usually means there's a typo in your chart specification. See the javascript console for the full traceback.`));\n",
       "    }\n",
       "\n",
       "    if(typeof define === \"function\" && define.amd) {\n",
       "      requirejs.config({paths});\n",
       "      require([\"vega-embed\"], displayChart, err => showError(`Error loading script: ${err.message}`));\n",
       "    } else {\n",
       "      maybeLoadScript(\"vega\", \"5\")\n",
       "        .then(() => maybeLoadScript(\"vega-lite\", \"5.20.1\"))\n",
       "        .then(() => maybeLoadScript(\"vega-embed\", \"6\"))\n",
       "        .catch(showError)\n",
       "        .then(() => displayChart(vegaEmbed));\n",
       "    }\n",
       "  })({\"config\": {\"view\": {\"continuousWidth\": 300, \"continuousHeight\": 300}}, \"data\": {\"name\": \"data-b641be647716d69c2dd90469871e3ee1\"}, \"mark\": {\"type\": \"bar\"}, \"encoding\": {\"color\": {\"field\": \"Republican Vote\", \"scale\": {\"domain\": [0, 1, 2, 3, 4], \"range\": [\"#0000FF\", \"#ADD8E6\", \"#800080\", \"#FF6666\", \"#FF0000\"]}, \"title\": \"Majoritary Vote\", \"type\": \"ordinal\"}, \"x\": {\"field\": \"Ratio State\", \"type\": \"quantitative\"}, \"y\": {\"field\": \"State\", \"sort\": \"-x\", \"type\": \"nominal\"}}, \"title\": \"Ratio per state\", \"$schema\": \"https://vega.github.io/schema/vega-lite/v5.20.1.json\", \"datasets\": {\"data-b641be647716d69c2dd90469871e3ee1\": [{\"State\": \"Alabama\", \"Ratio State\": 7.271017493256683, \"Republican Vote\": 4}, {\"State\": \"Alaska\", \"Ratio State\": 2.428610487589612, \"Republican Vote\": 4}, {\"State\": \"Arizona\", \"Ratio State\": 1.0698834467288032, \"Republican Vote\": 3}, {\"State\": \"Arkansas\", \"Ratio State\": 8.891014713856457, \"Republican Vote\": 4}, {\"State\": \"California\", \"Ratio State\": 0.7956543367460504, \"Republican Vote\": 0}, {\"State\": \"Colorado\", \"Ratio State\": 16.086274014656443, \"Republican Vote\": 0}, {\"State\": \"Connecticut\", \"Ratio State\": 0.7853504312430274, \"Republican Vote\": 0}, {\"State\": \"Delaware\", \"Ratio State\": 3.4849801161922107, \"Republican Vote\": 0}, {\"State\": \"District of Columbia\", \"Ratio State\": 11.177704115525444, \"Republican Vote\": 0}, {\"State\": \"Florida\", \"Ratio State\": 2.2144745316990355, \"Republican Vote\": 3}, {\"State\": \"Georgia\", \"Ratio State\": 5.904242156675621, \"Republican Vote\": 3}, {\"State\": \"Hawaii\", \"Ratio State\": 1.0107053915068405, \"Republican Vote\": 0}, {\"State\": \"Idaho\", \"Ratio State\": 44.74392604229505, \"Republican Vote\": 4}, {\"State\": \"Illinois\", \"Ratio State\": 6.495322439661152, \"Republican Vote\": 0}, {\"State\": \"Indiana\", \"Ratio State\": 4.399157280921978, \"Republican Vote\": 4}, {\"State\": \"Iowa\", \"Ratio State\": 13.885119632604278, \"Republican Vote\": 3}, {\"State\": \"Kansas\", \"Ratio State\": 169.16515677500877, \"Republican Vote\": 4}, {\"State\": \"Kentucky\", \"Ratio State\": 5.463006388989133, \"Republican Vote\": 4}, {\"State\": \"Louisiana\", \"Ratio State\": 11.7133662834103, \"Republican Vote\": 4}, {\"State\": \"Maine\", \"Ratio State\": 14.471452999346475, \"Republican Vote\": 0}, {\"State\": \"Maryland\", \"Ratio State\": 5.162653105574521, \"Republican Vote\": 0}, {\"State\": \"Massachusetts\", \"Ratio State\": 1.9016239907412014, \"Republican Vote\": 0}, {\"State\": \"Michigan\", \"Ratio State\": 3.10055563675362, \"Republican Vote\": 2}, {\"State\": \"Minnesota\", \"Ratio State\": 3.5753517210042163, \"Republican Vote\": 0}, {\"State\": \"Mississippi\", \"Ratio State\": 19.354322373092863, \"Republican Vote\": 4}, {\"State\": \"Missouri\", \"Ratio State\": 6.156894841652829, \"Republican Vote\": 4}, {\"State\": \"Montana\", \"Ratio State\": 48.4910465860756, \"Republican Vote\": 4}, {\"State\": \"Nebraska\", \"Ratio State\": 3.9618692082547584, \"Republican Vote\": 4}, {\"State\": \"Nevada\", \"Ratio State\": 1.5443407528360669, \"Republican Vote\": 1}, {\"State\": \"New Hampshire\", \"Ratio State\": 1.8465085223039184, \"Republican Vote\": 0}, {\"State\": \"New Jersey\", \"Ratio State\": 3.3849125153290265, \"Republican Vote\": 0}, {\"State\": \"New Mexico\", \"Ratio State\": 7.187620560918985, \"Republican Vote\": 0}, {\"State\": \"New York\", \"Ratio State\": 0.7900771857403954, \"Republican Vote\": 0}, {\"State\": \"North Carolina\", \"Ratio State\": 4.128070172760536, \"Republican Vote\": 4}, {\"State\": \"North Dakota\", \"Ratio State\": 3.3741151383049792, \"Republican Vote\": 4}, {\"State\": \"Ohio\", \"Ratio State\": 3.7680136406932356, \"Republican Vote\": 3}, {\"State\": \"Oklahoma\", \"Ratio State\": 5.568028707588052, \"Republican Vote\": 4}, {\"State\": \"Oregon\", \"Ratio State\": 3.1946881482838605, \"Republican Vote\": 0}, {\"State\": \"Pennsylvania\", \"Ratio State\": 5.116559189341496, \"Republican Vote\": 2}, {\"State\": \"Rhode Island\", \"Ratio State\": 1.5481552229499487, \"Republican Vote\": 0}, {\"State\": \"South Carolina\", \"Ratio State\": 6.541567228725322, \"Republican Vote\": 4}, {\"State\": \"South Dakota\", \"Ratio State\": 70.40814533029432, \"Republican Vote\": 4}, {\"State\": \"Tennessee\", \"Ratio State\": 6.034538449057999, \"Republican Vote\": 4}, {\"State\": \"Texas\", \"Ratio State\": 2.415160153909279, \"Republican Vote\": 4}, {\"State\": \"Utah\", \"Ratio State\": 3.057946580964717, \"Republican Vote\": 4}, {\"State\": \"Vermont\", \"Ratio State\": 8.516871923280018, \"Republican Vote\": 0}, {\"State\": \"Virginia\", \"Ratio State\": 9.439507442691209, \"Republican Vote\": 0}, {\"State\": \"Washington\", \"Ratio State\": 1.169387666525416, \"Republican Vote\": 0}, {\"State\": \"West Virginia\", \"Ratio State\": 5.16618212226536, \"Republican Vote\": 4}, {\"State\": \"Wisconsin\", \"Ratio State\": 3.902307854236451, \"Republican Vote\": 2}, {\"State\": \"Wyoming\", \"Ratio State\": 5.0067591248185055, \"Republican Vote\": 4}]}}, {\"mode\": \"vega-lite\"});\n",
       "</script>"
      ],
      "text/plain": [
       "alt.Chart(...)"
      ]
     },
     "execution_count": 289,
     "metadata": {},
     "output_type": "execute_result"
    }
   ],
   "source": [
    "chart_state = alt.Chart(df_GunViolence).mark_bar().encode(\n",
    "    alt.X('Ratio State:Q'),\n",
    "    alt.Y('State:N', sort='-x'),\n",
    "    alt.Color('Republican Vote:O', \n",
    "              scale=alt.Scale(domain=[0, 1, 2, 3, 4], range=['#0000FF', '#ADD8E6', '#800080', '#FF6666', '#FF0000']),\n",
    "              title='Majoritary Vote'\n",
    "    )\n",
    ").properties(title = 'Ratio per state')\n",
    "\n",
    "chart_state"
   ]
  },
  {
   "cell_type": "markdown",
   "metadata": {},
   "source": [
    "#### Visualization description\n",
    "We decided to..."
   ]
  },
  {
   "cell_type": "markdown",
   "metadata": {},
   "source": [
    "<h3 style=\"color:darkblue\"> Q2: How is the number of mass shootings per citizen distributed across the different counties in the US? And across states?"
   ]
  },
  {
   "cell_type": "code",
   "execution_count": null,
   "metadata": {},
   "outputs": [],
   "source": []
  },
  {
   "cell_type": "markdown",
   "metadata": {},
   "source": [
    "#### Visualization description\n",
    "We decided to..."
   ]
  },
  {
   "cell_type": "markdown",
   "metadata": {},
   "source": [
    "<h3 style=\"color:darkblue\"> Q3: Are the mass shootings correlated with gun violence incidents in schools?"
   ]
  },
  {
   "cell_type": "code",
   "execution_count": 228,
   "metadata": {},
   "outputs": [],
   "source": [
    "df_GunViolence = df_GunViolence_csv"
   ]
  },
  {
   "cell_type": "code",
   "execution_count": 243,
   "metadata": {},
   "outputs": [
    {
     "data": {
      "text/html": [
       "\n",
       "<style>\n",
       "  #altair-viz-ec040c43bbc74fa3bdb85ed646294948.vega-embed {\n",
       "    width: 100%;\n",
       "    display: flex;\n",
       "  }\n",
       "\n",
       "  #altair-viz-ec040c43bbc74fa3bdb85ed646294948.vega-embed details,\n",
       "  #altair-viz-ec040c43bbc74fa3bdb85ed646294948.vega-embed details summary {\n",
       "    position: relative;\n",
       "  }\n",
       "</style>\n",
       "<div id=\"altair-viz-ec040c43bbc74fa3bdb85ed646294948\"></div>\n",
       "<script type=\"text/javascript\">\n",
       "  var VEGA_DEBUG = (typeof VEGA_DEBUG == \"undefined\") ? {} : VEGA_DEBUG;\n",
       "  (function(spec, embedOpt){\n",
       "    let outputDiv = document.currentScript.previousElementSibling;\n",
       "    if (outputDiv.id !== \"altair-viz-ec040c43bbc74fa3bdb85ed646294948\") {\n",
       "      outputDiv = document.getElementById(\"altair-viz-ec040c43bbc74fa3bdb85ed646294948\");\n",
       "    }\n",
       "    const paths = {\n",
       "      \"vega\": \"https://cdn.jsdelivr.net/npm/vega@5?noext\",\n",
       "      \"vega-lib\": \"https://cdn.jsdelivr.net/npm/vega-lib?noext\",\n",
       "      \"vega-lite\": \"https://cdn.jsdelivr.net/npm/vega-lite@5.20.1?noext\",\n",
       "      \"vega-embed\": \"https://cdn.jsdelivr.net/npm/vega-embed@6?noext\",\n",
       "    };\n",
       "\n",
       "    function maybeLoadScript(lib, version) {\n",
       "      var key = `${lib.replace(\"-\", \"\")}_version`;\n",
       "      return (VEGA_DEBUG[key] == version) ?\n",
       "        Promise.resolve(paths[lib]) :\n",
       "        new Promise(function(resolve, reject) {\n",
       "          var s = document.createElement('script');\n",
       "          document.getElementsByTagName(\"head\")[0].appendChild(s);\n",
       "          s.async = true;\n",
       "          s.onload = () => {\n",
       "            VEGA_DEBUG[key] = version;\n",
       "            return resolve(paths[lib]);\n",
       "          };\n",
       "          s.onerror = () => reject(`Error loading script: ${paths[lib]}`);\n",
       "          s.src = paths[lib];\n",
       "        });\n",
       "    }\n",
       "\n",
       "    function showError(err) {\n",
       "      outputDiv.innerHTML = `<div class=\"error\" style=\"color:red;\">${err}</div>`;\n",
       "      throw err;\n",
       "    }\n",
       "\n",
       "    function displayChart(vegaEmbed) {\n",
       "      vegaEmbed(outputDiv, spec, embedOpt)\n",
       "        .catch(err => showError(`Javascript Error: ${err.message}<br>This usually means there's a typo in your chart specification. See the javascript console for the full traceback.`));\n",
       "    }\n",
       "\n",
       "    if(typeof define === \"function\" && define.amd) {\n",
       "      requirejs.config({paths});\n",
       "      require([\"vega-embed\"], displayChart, err => showError(`Error loading script: ${err.message}`));\n",
       "    } else {\n",
       "      maybeLoadScript(\"vega\", \"5\")\n",
       "        .then(() => maybeLoadScript(\"vega-lite\", \"5.20.1\"))\n",
       "        .then(() => maybeLoadScript(\"vega-embed\", \"6\"))\n",
       "        .catch(showError)\n",
       "        .then(() => displayChart(vegaEmbed));\n",
       "    }\n",
       "  })({\"config\": {\"view\": {\"continuousWidth\": 300, \"continuousHeight\": 300}}, \"data\": {\"name\": \"data-400c795736a0a601b7bf954ba77ae182\"}, \"mark\": {\"type\": \"circle\", \"size\": 100}, \"encoding\": {\"tooltip\": [{\"field\": \"State\", \"type\": \"nominal\"}, {\"field\": \"Shootings\", \"type\": \"quantitative\"}, {\"field\": \"School Incidents\", \"type\": \"quantitative\"}, {\"field\": \"Population\", \"type\": \"quantitative\"}], \"x\": {\"field\": \"Ratio School Incidents\", \"title\": \"\", \"type\": \"quantitative\"}, \"y\": {\"field\": \"Ratio Shootings\", \"title\": \"Ratio of Shootings per Population\", \"type\": \"quantitative\"}}, \"height\": 600, \"title\": \"Ratio of Shootings per Population by State\", \"width\": 800, \"$schema\": \"https://vega.github.io/schema/vega-lite/v5.20.1.json\", \"datasets\": {\"data-400c795736a0a601b7bf954ba77ae182\": [{\"State\": \"Alabama\", \"Shootings\": 11.0, \"School Incidents\": 40.0, \"Population\": 64728.0, \"Ratio Shootings\": 169.9419107650476, \"Ratio School Incidents\": 617.9705846001731}, {\"State\": \"Alaska\", \"Shootings\": 0.0, \"School Incidents\": 4.0, \"Population\": 286075.0, \"Ratio Shootings\": 0.0, \"Ratio School Incidents\": 13.98234728655073}, {\"State\": \"Arizona\", \"Shootings\": 9.0, \"School Incidents\": 24.0, \"Population\": 213221.0, \"Ratio Shootings\": 42.20972605887788, \"Ratio School Incidents\": 112.55926949034101}, {\"State\": \"Arkansas\", \"Shootings\": 9.0, \"School Incidents\": 18.0, \"Population\": 20044.0, \"Ratio Shootings\": 449.0121732189184, \"Ratio School Incidents\": 898.0243464378368}, {\"State\": \"California\", \"Shootings\": 51.0, \"School Incidents\": 56.0, \"Population\": 220544.0, \"Ratio Shootings\": 231.2463726059199, \"Ratio School Incidents\": 253.9175856065003}, {\"State\": \"Colorado\", \"Shootings\": 16.0, \"School Incidents\": 10.0, \"Population\": 169422.0, \"Ratio Shootings\": 94.43873877064372, \"Ratio School Incidents\": 59.02421173165232}, {\"State\": \"Connecticut\", \"Shootings\": 1.0, \"School Incidents\": 3.0, \"Population\": 723435.2, \"Ratio Shootings\": 1.3822938115258976, \"Ratio School Incidents\": 4.1468814345776925}, {\"State\": \"Delaware\", \"Shootings\": 1.0, \"School Incidents\": 6.0, \"Population\": 263509.0, \"Ratio Shootings\": 3.794936795327674, \"Ratio School Incidents\": 22.769620771966043}, {\"State\": \"District of Columbia\", \"Shootings\": 11.0, \"School Incidents\": 6.0, \"Population\": 678972.0, \"Ratio Shootings\": 16.200962631743284, \"Ratio School Incidents\": 8.836888708223608}, {\"State\": \"Florida\", \"Shootings\": 30.0, \"School Incidents\": 70.0, \"Population\": 590357.0, \"Ratio Shootings\": 50.816709211544875, \"Ratio School Incidents\": 118.57232149360472}, {\"State\": \"Georgia\", \"Shootings\": 25.0, \"School Incidents\": 46.0, \"Population\": 106702.0, \"Ratio Shootings\": 234.2973889898971, \"Ratio School Incidents\": 431.10719574141064}, {\"State\": \"Hawaii\", \"Shootings\": 1.0, \"School Incidents\": 1.0, \"Population\": 989408.0, \"Ratio Shootings\": 1.0107053915068405, \"Ratio School Incidents\": 1.0107053915068405}, {\"State\": \"Idaho\", \"Shootings\": 1.0, \"School Incidents\": 3.0, \"Population\": 95156.0, \"Ratio Shootings\": 10.509058808693094, \"Ratio School Incidents\": 31.52717642607928}, {\"State\": \"Illinois\", \"Shootings\": 50.0, \"School Incidents\": 30.0, \"Population\": 38285.0, \"Ratio Shootings\": 1305.9945148230377, \"Ratio School Incidents\": 783.5967088938227}, {\"State\": \"Indiana\", \"Shootings\": 15.0, \"School Incidents\": 42.0, \"Population\": 34742.0, \"Ratio Shootings\": 431.7540728800875, \"Ratio School Incidents\": 1208.911404064245}, {\"State\": \"Iowa\", \"Shootings\": 1.0, \"School Incidents\": 7.0, \"Population\": 105951.0, \"Ratio Shootings\": 9.438325263565233, \"Ratio School Incidents\": 66.06827684495663}, {\"State\": \"Kansas\", \"Shootings\": 2.0, \"School Incidents\": 5.0, \"Population\": 165281.0, \"Ratio Shootings\": 12.100604425191039, \"Ratio School Incidents\": 30.251511062977595}, {\"State\": \"Kentucky\", \"Shootings\": 8.0, \"School Incidents\": 30.0, \"Population\": 49515.0, \"Ratio Shootings\": 161.56720185802283, \"Ratio School Incidents\": 605.8770069675855}, {\"State\": \"Louisiana\", \"Shootings\": 31.0, \"School Incidents\": 16.0, \"Population\": 28266.0, \"Ratio Shootings\": 1096.7239793391354, \"Ratio School Incidents\": 566.0510861105215}, {\"State\": \"Maine\", \"Shootings\": 2.0, \"School Incidents\": 5.0, \"Population\": 218586.0, \"Ratio Shootings\": 9.149716816264537, \"Ratio School Incidents\": 22.87429204066134}, {\"State\": \"Maryland\", \"Shootings\": 22.0, \"School Incidents\": 44.0, \"Population\": 104800.0, \"Ratio Shootings\": 209.9236641221374, \"Ratio School Incidents\": 419.8473282442748}, {\"State\": \"Massachusetts\", \"Shootings\": 7.0, \"School Incidents\": 10.0, \"Population\": 866866.0, \"Ratio Shootings\": 8.075065811786367, \"Ratio School Incidents\": 11.53580830255195}, {\"State\": \"Michigan\", \"Shootings\": 14.0, \"School Incidents\": 28.0, \"Population\": 1751169.0, \"Ratio Shootings\": 7.994659567408971, \"Ratio School Incidents\": 15.989319134817942}, {\"State\": \"Minnesota\", \"Shootings\": 11.0, \"School Incidents\": 12.0, \"Population\": 200514.0, \"Ratio Shootings\": 54.85901233829059, \"Ratio School Incidents\": 59.84619527813519}, {\"State\": \"Mississippi\", \"Shootings\": 23.0, \"School Incidents\": 14.0, \"Population\": 17416.0, \"Ratio Shootings\": 1320.6247129076712, \"Ratio School Incidents\": 803.8585209003215}, {\"State\": \"Missouri\", \"Shootings\": 14.0, \"School Incidents\": 15.0, \"Population\": 56775.0, \"Ratio Shootings\": 246.58740642888594, \"Ratio School Incidents\": 264.2007926023778}, {\"State\": \"Montana\", \"Shootings\": 0.0, \"School Incidents\": 1.0, \"Population\": 121849.0, \"Ratio Shootings\": 0.0, \"Ratio School Incidents\": 8.206879005982815}, {\"State\": \"Nebraska\", \"Shootings\": 2.0, \"School Incidents\": 7.0, \"Population\": 33365.0, \"Ratio Shootings\": 59.943054098606325, \"Ratio School Incidents\": 209.80068934512212}, {\"State\": \"Nevada\", \"Shootings\": 5.0, \"School Incidents\": 22.0, \"Population\": 498022.0, \"Ratio Shootings\": 10.039717120930401, \"Ratio School Incidents\": 44.17475533209376}, {\"State\": \"New Hampshire\", \"Shootings\": 1.0, \"School Incidents\": 2.0, \"Population\": 320689.0, \"Ratio Shootings\": 3.1182859405841796, \"Ratio School Incidents\": 6.236571881168359}, {\"State\": \"New Jersey\", \"Shootings\": 12.0, \"School Incidents\": 4.0, \"Population\": 572726.0, \"Ratio Shootings\": 20.95242751333098, \"Ratio School Incidents\": 6.9841425044436605}, {\"State\": \"New Mexico\", \"Shootings\": 3.0, \"School Incidents\": 19.0, \"Population\": 79141.0, \"Ratio Shootings\": 37.907026699182474, \"Ratio School Incidents\": 240.07783576148898}, {\"State\": \"New York\", \"Shootings\": 16.0, \"School Incidents\": 21.0, \"Population\": 990817.0, \"Ratio Shootings\": 16.14828974472582, \"Ratio School Incidents\": 21.194630289952634}, {\"State\": \"North Carolina\", \"Shootings\": 33.0, \"School Incidents\": 84.0, \"Population\": 37774.0, \"Ratio Shootings\": 873.6167734420501, \"Ratio School Incidents\": 2223.7517869434}, {\"State\": \"North Dakota\", \"Shootings\": 1.0, \"School Incidents\": 1.0, \"Population\": 196362.0, \"Ratio Shootings\": 5.092635031217853, \"Ratio School Incidents\": 5.092635031217853}, {\"State\": \"Ohio\", \"Shootings\": 32.0, \"School Incidents\": 47.0, \"Population\": 252148.0, \"Ratio Shootings\": 126.90959277884417, \"Ratio School Incidents\": 186.39846439392738}, {\"State\": \"Oklahoma\", \"Shootings\": 7.0, \"School Incidents\": 16.0, \"Population\": 682868.0, \"Ratio Shootings\": 10.250883040353333, \"Ratio School Incidents\": 23.430589806521905}, {\"State\": \"Oregon\", \"Shootings\": 2.0, \"School Incidents\": 4.0, \"Population\": 789698.0, \"Ratio Shootings\": 2.5326137333512304, \"Ratio School Incidents\": 5.065227466702461}, {\"State\": \"Pennsylvania\", \"Shootings\": 35.0, \"School Incidents\": 35.0, \"Population\": 464640.0, \"Ratio Shootings\": 75.3271349862259, \"Ratio School Incidents\": 75.3271349862259}, {\"State\": \"Rhode Island\", \"Shootings\": 0.0, \"School Incidents\": 1.0, \"Population\": 660615.0, \"Ratio Shootings\": 0.0, \"Ratio School Incidents\": 1.5137409837802653}, {\"State\": \"South Carolina\", \"Shootings\": 16.0, \"School Incidents\": 47.0, \"Population\": 298320.0, \"Ratio Shootings\": 53.63368195226602, \"Ratio School Incidents\": 157.54894073478144}, {\"State\": \"South Dakota\", \"Shootings\": 0.0, \"School Incidents\": 1.0, \"Population\": 115903.0, \"Ratio Shootings\": 0.0, \"Ratio School Incidents\": 8.627904368307982}, {\"State\": \"Tennessee\", \"Shootings\": 21.0, \"School Incidents\": 44.0, \"Population\": 163674.0, \"Ratio Shootings\": 128.30382345393892, \"Ratio School Incidents\": 268.82705866539584}, {\"State\": \"Texas\", \"Shootings\": 64.0, \"School Incidents\": 92.0, \"Population\": 269148.0, \"Ratio Shootings\": 237.78738835139032, \"Ratio School Incidents\": 341.8193707551236}, {\"State\": \"Utah\", \"Shootings\": 2.0, \"School Incidents\": 11.0, \"Population\": 719174.0, \"Ratio Shootings\": 2.780968166257401, \"Ratio School Incidents\": 15.295324914415705}, {\"State\": \"Vermont\", \"Shootings\": 0.0, \"School Incidents\": 1.0, \"Population\": 169481.0, \"Ratio Shootings\": 0.0, \"Ratio School Incidents\": 5.900366412754232}, {\"State\": \"Virginia\", \"Shootings\": 7.0, \"School Incidents\": 39.0, \"Population\": 23182.0, \"Ratio Shootings\": 301.9584160124234, \"Ratio School Incidents\": 1682.3397463549306}, {\"State\": \"Washington\", \"Shootings\": 15.0, \"School Incidents\": 11.0, \"Population\": 299003.0, \"Ratio Shootings\": 50.16672073524346, \"Ratio School Incidents\": 36.788928539178535}, {\"State\": \"West Virginia\", \"Shootings\": 0.0, \"School Incidents\": 3.0, \"Population\": 12382.0, \"Ratio Shootings\": 0.0, \"Ratio School Incidents\": 242.28719108383137}, {\"State\": \"Wisconsin\", \"Shootings\": 9.0, \"School Incidents\": 22.0, \"Population\": 171735.0, \"Ratio Shootings\": 52.4063236963927, \"Ratio School Incidents\": 128.10434681340436}]}}, {\"mode\": \"vega-lite\"});\n",
       "</script>"
      ],
      "text/plain": [
       "alt.Chart(...)"
      ]
     },
     "metadata": {},
     "output_type": "display_data"
    }
   ],
   "source": [
    "# Agrupar per estat i comptar el nombre total de tirotejos per estat\n",
    "df_GunViolence = df_GunViolence_csv\n",
    "\n",
    "\n",
    "df_GunViolence = df_GunViolence[df_GunViolence['Year']==2023]\n",
    "df_GunViolence = df_GunViolence.groupby(['State'])[['Shootings', 'School Incidents', 'Population']].agg({\n",
    "    'Shootings': 'sum',\n",
    "    'School Incidents': 'sum',\n",
    "    'Population': 'last'\n",
    "}).reset_index()\n",
    "\n",
    "df_GunViolence['Ratio Shootings'] = df_GunViolence['Shootings']*1000000 / df_GunViolence['Population']\n",
    "df_GunViolence['Ratio School Incidents'] = df_GunViolence['School Incidents'] *1000000/ df_GunViolence['Population']\n",
    "\n",
    "\n",
    "scatter_plot = alt.Chart(df_GunViolence).mark_circle(size=100).encode(\n",
    "    y=alt.Y('Ratio Shootings:Q', title='Ratio of Shootings per Population'),\n",
    "    x=alt.X('Ratio School Incidents:Q', title=''),\n",
    "    tooltip=['State', 'Shootings', 'School Incidents', 'Population'] \n",
    ").properties(\n",
    "    width=800,\n",
    "    height=600,\n",
    "    title=\"Ratio of Shootings per Population by State\"\n",
    ")\n",
    "\n",
    "scatter_plot.show()\n"
   ]
  },
  {
   "cell_type": "code",
   "execution_count": 244,
   "metadata": {},
   "outputs": [
    {
     "data": {
      "text/plain": [
       "Index(['FIPS', 'State', 'County', 'Year', 'Population'], dtype='object')"
      ]
     },
     "execution_count": 244,
     "metadata": {},
     "output_type": "execute_result"
    }
   ],
   "source": [
    "df_population.columns"
   ]
  },
  {
   "cell_type": "code",
   "execution_count": 49,
   "metadata": {},
   "outputs": [
    {
     "data": {
      "text/html": [
       "<div>\n",
       "<style scoped>\n",
       "    .dataframe tbody tr th:only-of-type {\n",
       "        vertical-align: middle;\n",
       "    }\n",
       "\n",
       "    .dataframe tbody tr th {\n",
       "        vertical-align: top;\n",
       "    }\n",
       "\n",
       "    .dataframe thead th {\n",
       "        text-align: right;\n",
       "    }\n",
       "</style>\n",
       "<table border=\"1\" class=\"dataframe\">\n",
       "  <thead>\n",
       "    <tr style=\"text-align: right;\">\n",
       "      <th></th>\n",
       "      <th>Unnamed: 0</th>\n",
       "      <th>FIPS</th>\n",
       "      <th>County</th>\n",
       "      <th>State</th>\n",
       "      <th>Year</th>\n",
       "      <th>Month</th>\n",
       "      <th>Shootings</th>\n",
       "      <th>Population</th>\n",
       "      <th>Ratio County</th>\n",
       "    </tr>\n",
       "  </thead>\n",
       "  <tbody>\n",
       "    <tr>\n",
       "      <th>0</th>\n",
       "      <td>0</td>\n",
       "      <td>1001</td>\n",
       "      <td>Autauga County</td>\n",
       "      <td>Alabama</td>\n",
       "      <td>2017</td>\n",
       "      <td>7</td>\n",
       "      <td>1</td>\n",
       "      <td>55448.0</td>\n",
       "      <td>18.034916</td>\n",
       "    </tr>\n",
       "    <tr>\n",
       "      <th>1</th>\n",
       "      <td>1</td>\n",
       "      <td>1001</td>\n",
       "      <td>Autauga County</td>\n",
       "      <td>Alabama</td>\n",
       "      <td>2022</td>\n",
       "      <td>3</td>\n",
       "      <td>1</td>\n",
       "      <td>59726.0</td>\n",
       "      <td>16.743127</td>\n",
       "    </tr>\n",
       "    <tr>\n",
       "      <th>2</th>\n",
       "      <td>2</td>\n",
       "      <td>1003</td>\n",
       "      <td>Baldwin County</td>\n",
       "      <td>Alabama</td>\n",
       "      <td>2023</td>\n",
       "      <td>2</td>\n",
       "      <td>1</td>\n",
       "      <td>253507.0</td>\n",
       "      <td>3.944664</td>\n",
       "    </tr>\n",
       "    <tr>\n",
       "      <th>3</th>\n",
       "      <td>3</td>\n",
       "      <td>1009</td>\n",
       "      <td>Blount County</td>\n",
       "      <td>Alabama</td>\n",
       "      <td>2016</td>\n",
       "      <td>4</td>\n",
       "      <td>1</td>\n",
       "      <td>57487.0</td>\n",
       "      <td>17.395237</td>\n",
       "    </tr>\n",
       "    <tr>\n",
       "      <th>4</th>\n",
       "      <td>4</td>\n",
       "      <td>1011</td>\n",
       "      <td>Bullock County</td>\n",
       "      <td>Alabama</td>\n",
       "      <td>2018</td>\n",
       "      <td>1</td>\n",
       "      <td>1</td>\n",
       "      <td>10165.0</td>\n",
       "      <td>98.376783</td>\n",
       "    </tr>\n",
       "  </tbody>\n",
       "</table>\n",
       "</div>"
      ],
      "text/plain": [
       "   Unnamed: 0  FIPS          County    State  Year  Month  Shootings  \\\n",
       "0           0  1001  Autauga County  Alabama  2017      7          1   \n",
       "1           1  1001  Autauga County  Alabama  2022      3          1   \n",
       "2           2  1003  Baldwin County  Alabama  2023      2          1   \n",
       "3           3  1009   Blount County  Alabama  2016      4          1   \n",
       "4           4  1011  Bullock County  Alabama  2018      1          1   \n",
       "\n",
       "   Population  Ratio County  \n",
       "0     55448.0     18.034916  \n",
       "1     59726.0     16.743127  \n",
       "2    253507.0      3.944664  \n",
       "3     57487.0     17.395237  \n",
       "4     10165.0     98.376783  "
      ]
     },
     "execution_count": 49,
     "metadata": {},
     "output_type": "execute_result"
    }
   ],
   "source": [
    "df_GunViolence.head()"
   ]
  },
  {
   "cell_type": "code",
   "execution_count": 48,
   "metadata": {},
   "outputs": [],
   "source": [
    "df_GunViolence = df_GunViolence_csv"
   ]
  },
  {
   "cell_type": "code",
   "execution_count": 290,
   "metadata": {},
   "outputs": [
    {
     "name": "stdout",
     "output_type": "stream",
     "text": [
      "      FIPS                County                 State  Year  Population  \\\n",
      "458  11000  District of Columbia  District of Columbia  2014    663603.0   \n",
      "459  11000  District of Columbia  District of Columbia  2015    677014.0   \n",
      "460  11000  District of Columbia  District of Columbia  2016    687576.0   \n",
      "461  11000  District of Columbia  District of Columbia  2017    697079.0   \n",
      "462  11000  District of Columbia  District of Columbia  2018    704147.0   \n",
      "\n",
      "     Shootings  \n",
      "458        6.0  \n",
      "459        3.0  \n",
      "460        5.0  \n",
      "461        5.0  \n",
      "462        6.0  \n",
      "       FIPS             County      State  Year  Population  Shootings\n",
      "1075  22001      Acadia Parish  Louisiana  2020     57478.0        1.0\n",
      "1076  22005   Ascension Parish  Louisiana  2019    126798.0        1.0\n",
      "1077  22005   Ascension Parish  Louisiana  2020    126978.0        1.0\n",
      "1078  22005   Ascension Parish  Louisiana  2023    131632.0        1.0\n",
      "1079  22007  Assumption Parish  Louisiana  2023     20160.0        1.0\n",
      "post agrupar per state\n",
      "                   State  Year  Shootings  Population  Ratio State\n",
      "81  District of Columbia  2014        6.0    663603.0     9.041550\n",
      "82  District of Columbia  2015        3.0    677014.0     4.431223\n",
      "83  District of Columbia  2016        5.0    687576.0     7.271923\n",
      "84  District of Columbia  2017        5.0    697079.0     7.172788\n",
      "85  District of Columbia  2018        6.0    704147.0     8.520948\n",
      "         State  Year  Shootings  Population  Ratio State\n",
      "170  Louisiana  2014       11.0    449363.0    24.479096\n",
      "171  Louisiana  2015       15.0   1539196.0     9.745348\n",
      "172  Louisiana  2016       14.0   1923733.0     7.277517\n",
      "173  Louisiana  2017       15.0   2375706.0     6.313913\n",
      "174  Louisiana  2018       13.0   1158941.0    11.217137\n",
      "        State  Ratio State\n",
      "0     Alabama     7.271017\n",
      "1      Alaska     2.428610\n",
      "2     Arizona     1.069883\n",
      "3    Arkansas     8.891015\n",
      "4  California     0.795654\n"
     ]
    },
    {
     "data": {
      "text/html": [
       "<div>\n",
       "<style scoped>\n",
       "    .dataframe tbody tr th:only-of-type {\n",
       "        vertical-align: middle;\n",
       "    }\n",
       "\n",
       "    .dataframe tbody tr th {\n",
       "        vertical-align: top;\n",
       "    }\n",
       "\n",
       "    .dataframe thead th {\n",
       "        text-align: right;\n",
       "    }\n",
       "</style>\n",
       "<table border=\"1\" class=\"dataframe\">\n",
       "  <thead>\n",
       "    <tr style=\"text-align: right;\">\n",
       "      <th></th>\n",
       "      <th>State</th>\n",
       "      <th>Ratio State</th>\n",
       "      <th>Republican Vote</th>\n",
       "    </tr>\n",
       "  </thead>\n",
       "  <tbody>\n",
       "    <tr>\n",
       "      <th>0</th>\n",
       "      <td>Alabama</td>\n",
       "      <td>7.271017</td>\n",
       "      <td>4</td>\n",
       "    </tr>\n",
       "    <tr>\n",
       "      <th>1</th>\n",
       "      <td>Alaska</td>\n",
       "      <td>2.428610</td>\n",
       "      <td>4</td>\n",
       "    </tr>\n",
       "    <tr>\n",
       "      <th>2</th>\n",
       "      <td>Arizona</td>\n",
       "      <td>1.069883</td>\n",
       "      <td>3</td>\n",
       "    </tr>\n",
       "    <tr>\n",
       "      <th>3</th>\n",
       "      <td>Arkansas</td>\n",
       "      <td>8.891015</td>\n",
       "      <td>4</td>\n",
       "    </tr>\n",
       "    <tr>\n",
       "      <th>4</th>\n",
       "      <td>California</td>\n",
       "      <td>0.795654</td>\n",
       "      <td>0</td>\n",
       "    </tr>\n",
       "  </tbody>\n",
       "</table>\n",
       "</div>"
      ],
      "text/plain": [
       "        State  Ratio State  Republican Vote\n",
       "0     Alabama     7.271017                4\n",
       "1      Alaska     2.428610                4\n",
       "2     Arizona     1.069883                3\n",
       "3    Arkansas     8.891015                4\n",
       "4  California     0.795654                0"
      ]
     },
     "execution_count": 290,
     "metadata": {},
     "output_type": "execute_result"
    }
   ],
   "source": [
    "elections_republican = {'Alabama': 4, 'Alaska': 4, 'Arizona': 3, 'Arkansas': 4, 'California': 0, 'Colorado': 0, 'Connecticut': 0, 'Delaware': 0, 'District of Columbia': 0, 'Florida': 3, 'Georgia': 3, 'Hawaii': 0, 'Idaho': 4, 'Illinois': 0, 'Indiana': 4, 'Iowa': 3, 'Kansas': 4, 'Kentucky': 4, 'Louisiana': 4, 'Maine': 0, 'Maryland': 0, 'Massachusetts': 0, 'Michigan': 2, 'Minnesota': 0, 'Mississippi': 4, 'Missouri': 4, 'Montana': 4, 'Nebraska': 4, 'Nevada': 1, 'New Hampshire': 0, 'New Jersey': 0, 'New Mexico': 0, 'New York': 0, 'North Carolina': 4, 'North Dakota': 4, 'Ohio': 3, 'Oklahoma': 4, 'Oregon': 0, 'Pennsylvania': 2, 'Rhode Island': 0, 'South Carolina': 4, 'South Dakota': 4, 'Tennessee': 4, 'Texas': 4, 'Utah': 4, 'Vermont': 0, 'Virginia': 0, 'Washington': 0, 'West Virginia': 4, 'Wisconsin': 2, 'Wyoming': 4}\n",
    "\n",
    "#print(df_GunViolence.loc[df_GunViolence['State'] == 'District of Columbia'])\n",
    "df_GunViolence = df_GunViolence_csv\n",
    "\n",
    "# agrupar per any\n",
    "df_GunViolence = (\n",
    "    df_GunViolence.groupby(['FIPS', 'County', 'State', 'Year'])\n",
    "    .agg({\n",
    "        'Population': 'first',  # Tomar el primer valor disponible de Population\n",
    "        'Shootings': 'sum'      # Sumar los valores de Shootings\n",
    "    })\n",
    "    .reset_index()\n",
    ")\n",
    "print(df_GunViolence.loc[df_GunViolence['State'] == 'District of Columbia'].head())\n",
    "print(df_GunViolence.loc[df_GunViolence['State'] == 'Louisiana'].head())\n",
    "\n",
    "\n",
    "# agrupar per state\n",
    "df_GunViolence = df_GunViolence.groupby(['State', 'Year'])[['Shootings', 'Population']].sum().reset_index()\n",
    "df_GunViolence['Ratio State'] = df_GunViolence['Shootings'] / df_GunViolence['Population'] * 1000000 # ratio entre shootings i population\n",
    "\n",
    "print('post agrupar per state')\n",
    "print(df_GunViolence.loc[df_GunViolence['State'] == 'District of Columbia'].head())\n",
    "print(df_GunViolence.loc[df_GunViolence['State'] == 'Louisiana'].head())\n",
    "\n",
    "breakpoint()\n",
    "# mean ratio for years\n",
    "df_GunViolence = df_GunViolence.groupby('State')['Ratio State'].mean().reset_index()\n",
    "\n",
    "print(df_GunViolence.head())\n",
    "\n",
    "elections_republican = {'Alabama': 4, 'Alaska': 4, 'Arizona': 3, 'Arkansas': 4, 'California': 0, 'Colorado': 0, 'Connecticut': 0, 'Delaware': 0, 'District of Columbia': 0, 'Florida': 3, 'Georgia': 3, 'Hawaii': 0, 'Idaho': 4, 'Illinois': 0, 'Indiana': 4, 'Iowa': 3, 'Kansas': 4, 'Kentucky': 4, 'Louisiana': 4, 'Maine': 0, 'Maryland': 0, 'Massachusetts': 0, 'Michigan': 2, 'Minnesota': 0, 'Mississippi': 4, 'Missouri': 4, 'Montana': 4, 'Nebraska': 4, 'Nevada': 1, 'New Hampshire': 0, 'New Jersey': 0, 'New Mexico': 0, 'New York': 0, 'North Carolina': 4, 'North Dakota': 4, 'Ohio': 3, 'Oklahoma': 4, 'Oregon': 0, 'Pennsylvania': 2, 'Rhode Island': 0, 'South Carolina': 4, 'South Dakota': 4, 'Tennessee': 4, 'Texas': 4, 'Utah': 4, 'Vermont': 0, 'Virginia': 0, 'Washington': 0, 'West Virginia': 4, 'Wisconsin': 2, 'Wyoming': 4}\n",
    "df_GunViolence['Republican Vote'] = df_GunViolence['State'].map(elections_republican)\n",
    "\n",
    "df_GunViolence.head()\n"
   ]
  },
  {
   "cell_type": "markdown",
   "metadata": {},
   "source": [
    "\n",
    "<h4 style=\"color:goldenrod\"> Visualization descprition </h4>\n",
    "We decided to..."
   ]
  },
  {
   "cell_type": "markdown",
   "metadata": {},
   "source": [
    "<h3 style=\"color:darkblue\"> Q4: How have mass shootings evolved the last years in the US?"
   ]
  },
  {
   "cell_type": "markdown",
   "metadata": {},
   "source": [
    "We had to main ideas: showing how have the number of shootings changed during the years (and maybe relationating it with the current governement), and showing the possible underlaying trends inside each year.\n",
    "\n",
    "Let's start with the first representation:"
   ]
  },
  {
   "cell_type": "markdown",
   "metadata": {},
   "source": [
    "<h4 style=\"color:goldenrod\"> Shootings per year </h4>"
   ]
  },
  {
   "cell_type": "code",
   "execution_count": 9,
   "metadata": {},
   "outputs": [
    {
     "data": {
      "text/html": [
       "\n",
       "<style>\n",
       "  #altair-viz-c4bb3fec5f0d44ba97798919890a7e4a.vega-embed {\n",
       "    width: 100%;\n",
       "    display: flex;\n",
       "  }\n",
       "\n",
       "  #altair-viz-c4bb3fec5f0d44ba97798919890a7e4a.vega-embed details,\n",
       "  #altair-viz-c4bb3fec5f0d44ba97798919890a7e4a.vega-embed details summary {\n",
       "    position: relative;\n",
       "  }\n",
       "</style>\n",
       "<div id=\"altair-viz-c4bb3fec5f0d44ba97798919890a7e4a\"></div>\n",
       "<script type=\"text/javascript\">\n",
       "  var VEGA_DEBUG = (typeof VEGA_DEBUG == \"undefined\") ? {} : VEGA_DEBUG;\n",
       "  (function(spec, embedOpt){\n",
       "    let outputDiv = document.currentScript.previousElementSibling;\n",
       "    if (outputDiv.id !== \"altair-viz-c4bb3fec5f0d44ba97798919890a7e4a\") {\n",
       "      outputDiv = document.getElementById(\"altair-viz-c4bb3fec5f0d44ba97798919890a7e4a\");\n",
       "    }\n",
       "    const paths = {\n",
       "      \"vega\": \"https://cdn.jsdelivr.net/npm/vega@5?noext\",\n",
       "      \"vega-lib\": \"https://cdn.jsdelivr.net/npm/vega-lib?noext\",\n",
       "      \"vega-lite\": \"https://cdn.jsdelivr.net/npm/vega-lite@5.20.1?noext\",\n",
       "      \"vega-embed\": \"https://cdn.jsdelivr.net/npm/vega-embed@6?noext\",\n",
       "    };\n",
       "\n",
       "    function maybeLoadScript(lib, version) {\n",
       "      var key = `${lib.replace(\"-\", \"\")}_version`;\n",
       "      return (VEGA_DEBUG[key] == version) ?\n",
       "        Promise.resolve(paths[lib]) :\n",
       "        new Promise(function(resolve, reject) {\n",
       "          var s = document.createElement('script');\n",
       "          document.getElementsByTagName(\"head\")[0].appendChild(s);\n",
       "          s.async = true;\n",
       "          s.onload = () => {\n",
       "            VEGA_DEBUG[key] = version;\n",
       "            return resolve(paths[lib]);\n",
       "          };\n",
       "          s.onerror = () => reject(`Error loading script: ${paths[lib]}`);\n",
       "          s.src = paths[lib];\n",
       "        });\n",
       "    }\n",
       "\n",
       "    function showError(err) {\n",
       "      outputDiv.innerHTML = `<div class=\"error\" style=\"color:red;\">${err}</div>`;\n",
       "      throw err;\n",
       "    }\n",
       "\n",
       "    function displayChart(vegaEmbed) {\n",
       "      vegaEmbed(outputDiv, spec, embedOpt)\n",
       "        .catch(err => showError(`Javascript Error: ${err.message}<br>This usually means there's a typo in your chart specification. See the javascript console for the full traceback.`));\n",
       "    }\n",
       "\n",
       "    if(typeof define === \"function\" && define.amd) {\n",
       "      requirejs.config({paths});\n",
       "      require([\"vega-embed\"], displayChart, err => showError(`Error loading script: ${err.message}`));\n",
       "    } else {\n",
       "      maybeLoadScript(\"vega\", \"5\")\n",
       "        .then(() => maybeLoadScript(\"vega-lite\", \"5.20.1\"))\n",
       "        .then(() => maybeLoadScript(\"vega-embed\", \"6\"))\n",
       "        .catch(showError)\n",
       "        .then(() => displayChart(vegaEmbed));\n",
       "    }\n",
       "  })({\"config\": {\"view\": {\"continuousWidth\": 300, \"continuousHeight\": 300}}, \"data\": {\"name\": \"data-dbe6098d56dc8056903ad371bd083e83\"}, \"mark\": {\"type\": \"line\", \"color\": \"black\", \"point\": {\"fill\": \"black\", \"filled\": true}, \"strokeWidth\": 2.5}, \"encoding\": {\"x\": {\"axis\": {\"labelAngle\": 0}, \"field\": \"Year\", \"title\": \"Year\", \"type\": \"ordinal\"}, \"y\": {\"field\": \"Shootings\", \"scale\": {\"domain\": [200, 710]}, \"title\": \"Total Shootings\", \"type\": \"quantitative\"}}, \"height\": 400, \"title\": \"Total Shootings per Year in the USA\", \"width\": 500, \"$schema\": \"https://vega.github.io/schema/vega-lite/v5.20.1.json\", \"datasets\": {\"data-dbe6098d56dc8056903ad371bd083e83\": [{\"Year\": 2014, \"Shootings\": 271}, {\"Year\": 2015, \"Shootings\": 330}, {\"Year\": 2016, \"Shootings\": 380}, {\"Year\": 2017, \"Shootings\": 343}, {\"Year\": 2018, \"Shootings\": 329}, {\"Year\": 2019, \"Shootings\": 411}, {\"Year\": 2020, \"Shootings\": 609}, {\"Year\": 2021, \"Shootings\": 679}, {\"Year\": 2022, \"Shootings\": 636}, {\"Year\": 2023, \"Shootings\": 649}]}}, {\"mode\": \"vega-lite\"});\n",
       "</script>"
      ],
      "text/plain": [
       "alt.Chart(...)"
      ]
     },
     "metadata": {},
     "output_type": "display_data"
    }
   ],
   "source": [
    "df_GunViolence = df_GunViolence_csv\n",
    "\n",
    "df_GunViolence = df_GunViolence.groupby('Year')[\"Shootings\"].sum().reset_index()\n",
    "\n",
    "chart_ms = alt.Chart(df_GunViolence).mark_line(\n",
    "    color='black',\n",
    "    point=alt.OverlayMarkDef(filled=True, fill=\"black\"),\n",
    "    strokeWidth=2.5).encode(\n",
    "    x=alt.X('Year:O', title='Year', axis=alt.Axis(labelAngle=0)),\n",
    "    y=alt.Y('Shootings:Q', title='Total Shootings').scale(domain=(200,710))\n",
    ").properties(\n",
    "    title='Total Shootings per Year in the USA',\n",
    "    width=500,\n",
    "    height=400\n",
    ")\n",
    "\n",
    "chart_ms.show()"
   ]
  },
  {
   "cell_type": "markdown",
   "metadata": {},
   "source": [
    "Not bad! Let's try to add the current governement (democratic or republican) for each year."
   ]
  },
  {
   "cell_type": "code",
   "execution_count": 10,
   "metadata": {},
   "outputs": [
    {
     "data": {
      "text/html": [
       "\n",
       "<style>\n",
       "  #altair-viz-0b484983cffd4534ab13414df7f76a4b.vega-embed {\n",
       "    width: 100%;\n",
       "    display: flex;\n",
       "  }\n",
       "\n",
       "  #altair-viz-0b484983cffd4534ab13414df7f76a4b.vega-embed details,\n",
       "  #altair-viz-0b484983cffd4534ab13414df7f76a4b.vega-embed details summary {\n",
       "    position: relative;\n",
       "  }\n",
       "</style>\n",
       "<div id=\"altair-viz-0b484983cffd4534ab13414df7f76a4b\"></div>\n",
       "<script type=\"text/javascript\">\n",
       "  var VEGA_DEBUG = (typeof VEGA_DEBUG == \"undefined\") ? {} : VEGA_DEBUG;\n",
       "  (function(spec, embedOpt){\n",
       "    let outputDiv = document.currentScript.previousElementSibling;\n",
       "    if (outputDiv.id !== \"altair-viz-0b484983cffd4534ab13414df7f76a4b\") {\n",
       "      outputDiv = document.getElementById(\"altair-viz-0b484983cffd4534ab13414df7f76a4b\");\n",
       "    }\n",
       "    const paths = {\n",
       "      \"vega\": \"https://cdn.jsdelivr.net/npm/vega@5?noext\",\n",
       "      \"vega-lib\": \"https://cdn.jsdelivr.net/npm/vega-lib?noext\",\n",
       "      \"vega-lite\": \"https://cdn.jsdelivr.net/npm/vega-lite@5.20.1?noext\",\n",
       "      \"vega-embed\": \"https://cdn.jsdelivr.net/npm/vega-embed@6?noext\",\n",
       "    };\n",
       "\n",
       "    function maybeLoadScript(lib, version) {\n",
       "      var key = `${lib.replace(\"-\", \"\")}_version`;\n",
       "      return (VEGA_DEBUG[key] == version) ?\n",
       "        Promise.resolve(paths[lib]) :\n",
       "        new Promise(function(resolve, reject) {\n",
       "          var s = document.createElement('script');\n",
       "          document.getElementsByTagName(\"head\")[0].appendChild(s);\n",
       "          s.async = true;\n",
       "          s.onload = () => {\n",
       "            VEGA_DEBUG[key] = version;\n",
       "            return resolve(paths[lib]);\n",
       "          };\n",
       "          s.onerror = () => reject(`Error loading script: ${paths[lib]}`);\n",
       "          s.src = paths[lib];\n",
       "        });\n",
       "    }\n",
       "\n",
       "    function showError(err) {\n",
       "      outputDiv.innerHTML = `<div class=\"error\" style=\"color:red;\">${err}</div>`;\n",
       "      throw err;\n",
       "    }\n",
       "\n",
       "    function displayChart(vegaEmbed) {\n",
       "      vegaEmbed(outputDiv, spec, embedOpt)\n",
       "        .catch(err => showError(`Javascript Error: ${err.message}<br>This usually means there's a typo in your chart specification. See the javascript console for the full traceback.`));\n",
       "    }\n",
       "\n",
       "    if(typeof define === \"function\" && define.amd) {\n",
       "      requirejs.config({paths});\n",
       "      require([\"vega-embed\"], displayChart, err => showError(`Error loading script: ${err.message}`));\n",
       "    } else {\n",
       "      maybeLoadScript(\"vega\", \"5\")\n",
       "        .then(() => maybeLoadScript(\"vega-lite\", \"5.20.1\"))\n",
       "        .then(() => maybeLoadScript(\"vega-embed\", \"6\"))\n",
       "        .catch(showError)\n",
       "        .then(() => displayChart(vegaEmbed));\n",
       "    }\n",
       "  })({\"config\": {\"view\": {\"continuousWidth\": 300, \"continuousHeight\": 300}}, \"layer\": [{\"data\": {\"name\": \"data-c539bfb7537eb8ebeea0421644036691\"}, \"mark\": {\"type\": \"area\"}, \"encoding\": {\"color\": {\"field\": \"governement\", \"legend\": {\"direction\": \"horizontal\", \"legendX\": 185, \"legendY\": -30, \"orient\": \"none\", \"titleAnchor\": \"middle\"}, \"scale\": {\"domain\": [\"Democratic\", \"Republican\"], \"range\": [\"#3182bd\", \"#d7301f\"]}, \"type\": \"nominal\"}, \"x\": {\"axis\": {\"labelAngle\": 0}, \"field\": \"Year\", \"timeUnit\": \"year\", \"title\": \"Year\", \"type\": \"temporal\"}, \"y\": {\"field\": \"y1\", \"scale\": {\"domain\": [200, 720]}, \"title\": \"Total Shootings\", \"type\": \"quantitative\"}, \"y2\": {\"field\": \"y2\"}}}, {\"data\": {\"name\": \"data-71905c7c7541ec249275b6ba2750d8e6\"}, \"mark\": {\"type\": \"line\", \"color\": \"black\", \"point\": {\"fill\": \"black\", \"filled\": true}, \"strokeWidth\": 2.5}, \"encoding\": {\"x\": {\"field\": \"Year\", \"timeUnit\": \"year\", \"title\": \"Year\", \"type\": \"temporal\"}, \"y\": {\"field\": \"Shootings\", \"scale\": {\"domain\": [200, 750]}, \"title\": \"Total Shootings\", \"type\": \"quantitative\"}}, \"title\": {\"text\": [\"Total Shootings per Year in the USA\"], \"dy\": -10, \"fontSize\": 16}}], \"height\": 300, \"width\": 460, \"$schema\": \"https://vega.github.io/schema/vega-lite/v5.20.1.json\", \"datasets\": {\"data-c539bfb7537eb8ebeea0421644036691\": [{\"Year\": \"2014-01-01T00:00:00\", \"y1\": 730, \"y2\": 720, \"governement\": \"Democratic\"}, {\"Year\": \"2015-01-01T00:00:00\", \"y1\": 730, \"y2\": 720, \"governement\": \"Democratic\"}, {\"Year\": \"2016-01-01T00:00:00\", \"y1\": 730, \"y2\": 720, \"governement\": \"Democratic\"}, {\"Year\": \"2017-01-01T00:00:00\", \"y1\": 730, \"y2\": 720, \"governement\": \"Republican\"}, {\"Year\": \"2018-01-01T00:00:00\", \"y1\": 730, \"y2\": 720, \"governement\": \"Republican\"}, {\"Year\": \"2019-01-01T00:00:00\", \"y1\": 730, \"y2\": 720, \"governement\": \"Republican\"}, {\"Year\": \"2020-01-01T00:00:00\", \"y1\": 730, \"y2\": 720, \"governement\": \"Republican\"}, {\"Year\": \"2021-01-01T00:00:00\", \"y1\": 730, \"y2\": 720, \"governement\": \"Republican\"}, {\"Year\": \"2022-01-01T00:00:00\", \"y1\": 730, \"y2\": 720, \"governement\": \"Democratic\"}, {\"Year\": \"2023-01-01T00:00:00\", \"y1\": 730, \"y2\": 720, \"governement\": \"Democratic\"}, {\"Year\": \"2024-01-01T00:00:00\", \"y1\": 730, \"y2\": 720, \"governement\": \"Democratic\"}], \"data-71905c7c7541ec249275b6ba2750d8e6\": [{\"Year\": \"2014-01-01T00:00:00\", \"Shootings\": 271}, {\"Year\": \"2015-01-01T00:00:00\", \"Shootings\": 330}, {\"Year\": \"2016-01-01T00:00:00\", \"Shootings\": 380}, {\"Year\": \"2017-01-01T00:00:00\", \"Shootings\": 343}, {\"Year\": \"2018-01-01T00:00:00\", \"Shootings\": 329}, {\"Year\": \"2019-01-01T00:00:00\", \"Shootings\": 411}, {\"Year\": \"2020-01-01T00:00:00\", \"Shootings\": 609}, {\"Year\": \"2021-01-01T00:00:00\", \"Shootings\": 679}, {\"Year\": \"2022-01-01T00:00:00\", \"Shootings\": 636}, {\"Year\": \"2023-01-01T00:00:00\", \"Shootings\": 649}]}}, {\"mode\": \"vega-lite\"});\n",
       "</script>"
      ],
      "text/plain": [
       "alt.LayerChart(...)"
      ]
     },
     "execution_count": 10,
     "metadata": {},
     "output_type": "execute_result"
    }
   ],
   "source": [
    "### FIRST ATTEMT ###\n",
    "gov = pd.DataFrame({\n",
    "    'Year': [i for i in range(2014, 2025)],\n",
    "    'y1': [230+500]*11,\n",
    "    'y2': [220+500]*11,\n",
    "    'governement': ['Democratic']*3 + ['Republican']*5 + ['Democratic']*3\n",
    "})\n",
    "\n",
    "gov['Year'] = pd.to_datetime(gov['Year'], format='%Y')\n",
    "\n",
    "chart_gov = alt.Chart(gov).mark_area().encode(\n",
    "    x=alt.X('Year:T', timeUnit = 'year', title='Year', axis=alt.Axis(labelAngle=0)),\n",
    "    y=alt.Y('y1:Q', title='Total Shootings', scale=alt.Scale(domain=(200, 720))),\n",
    "    y2='y2:Q',\n",
    "    color=alt.Color('governement', legend=alt.Legend(\n",
    "        orient='none', \n",
    "        legendX=185, legendY=-30,  # Ajusta la posició de la llegenda\n",
    "        direction='horizontal',\n",
    "        titleAnchor='middle'  # Centra el títol dins de la llegenda\n",
    "    ), scale=alt.Scale(domain=['Democratic', 'Republican'], range=['#3182bd', '#d7301f']))\n",
    ")\n",
    "\n",
    "df_GunViolence['Year'] = pd.to_datetime(df_GunViolence['Year'], format='%Y')\n",
    "\n",
    "chart_ms = alt.Chart(df_GunViolence).mark_line(\n",
    "    color='black',\n",
    "    point=alt.OverlayMarkDef(filled=True, fill=\"black\"),\n",
    "    strokeWidth=2.5).encode(\n",
    "    x=alt.X('Year:T', timeUnit='year', title='Year'),\n",
    "    y=alt.Y('Shootings:Q', title='Total Shootings').scale(domain=(200,750))\n",
    ").properties(\n",
    "    title={\n",
    "        \"text\":['Total Shootings per Year in the USA'],\n",
    "        \"dy\": -10,\n",
    "        \"fontSize\": 16,\n",
    "    },\n",
    "    width=460,\n",
    "    height=300\n",
    ")\n",
    "\n",
    "legend_data = pd.DataFrame({\n",
    "    'Year': ['2015-09-18 00:00:00+00:00', '2018-09-18 00:00:00+00:00'],\n",
    "    'Total Shootings': [700, 660],\n",
    "    'label': ['Democratic', 'Republican'],\n",
    "    'governement': ['Democratic', 'Republican']\n",
    "})\n",
    "\n",
    "\n",
    "\n",
    "linechart_years = chart_gov + chart_ms\n",
    "linechart_years"
   ]
  },
  {
   "cell_type": "markdown",
   "metadata": {},
   "source": [
    "We were not really convinced by the looks and space-efficiency of this approach, so we tried another option:"
   ]
  },
  {
   "cell_type": "code",
   "execution_count": 23,
   "metadata": {},
   "outputs": [],
   "source": [
    "import altair as alt\n",
    "import pandas as pd"
   ]
  },
  {
   "cell_type": "code",
   "execution_count": 44,
   "metadata": {},
   "outputs": [
    {
     "data": {
      "text/html": [
       "\n",
       "<style>\n",
       "  #altair-viz-74de331d055043cd9de27fca8e71c072.vega-embed {\n",
       "    width: 100%;\n",
       "    display: flex;\n",
       "  }\n",
       "\n",
       "  #altair-viz-74de331d055043cd9de27fca8e71c072.vega-embed details,\n",
       "  #altair-viz-74de331d055043cd9de27fca8e71c072.vega-embed details summary {\n",
       "    position: relative;\n",
       "  }\n",
       "</style>\n",
       "<div id=\"altair-viz-74de331d055043cd9de27fca8e71c072\"></div>\n",
       "<script type=\"text/javascript\">\n",
       "  var VEGA_DEBUG = (typeof VEGA_DEBUG == \"undefined\") ? {} : VEGA_DEBUG;\n",
       "  (function(spec, embedOpt){\n",
       "    let outputDiv = document.currentScript.previousElementSibling;\n",
       "    if (outputDiv.id !== \"altair-viz-74de331d055043cd9de27fca8e71c072\") {\n",
       "      outputDiv = document.getElementById(\"altair-viz-74de331d055043cd9de27fca8e71c072\");\n",
       "    }\n",
       "    const paths = {\n",
       "      \"vega\": \"https://cdn.jsdelivr.net/npm/vega@5?noext\",\n",
       "      \"vega-lib\": \"https://cdn.jsdelivr.net/npm/vega-lib?noext\",\n",
       "      \"vega-lite\": \"https://cdn.jsdelivr.net/npm/vega-lite@5.20.1?noext\",\n",
       "      \"vega-embed\": \"https://cdn.jsdelivr.net/npm/vega-embed@6?noext\",\n",
       "    };\n",
       "\n",
       "    function maybeLoadScript(lib, version) {\n",
       "      var key = `${lib.replace(\"-\", \"\")}_version`;\n",
       "      return (VEGA_DEBUG[key] == version) ?\n",
       "        Promise.resolve(paths[lib]) :\n",
       "        new Promise(function(resolve, reject) {\n",
       "          var s = document.createElement('script');\n",
       "          document.getElementsByTagName(\"head\")[0].appendChild(s);\n",
       "          s.async = true;\n",
       "          s.onload = () => {\n",
       "            VEGA_DEBUG[key] = version;\n",
       "            return resolve(paths[lib]);\n",
       "          };\n",
       "          s.onerror = () => reject(`Error loading script: ${paths[lib]}`);\n",
       "          s.src = paths[lib];\n",
       "        });\n",
       "    }\n",
       "\n",
       "    function showError(err) {\n",
       "      outputDiv.innerHTML = `<div class=\"error\" style=\"color:red;\">${err}</div>`;\n",
       "      throw err;\n",
       "    }\n",
       "\n",
       "    function displayChart(vegaEmbed) {\n",
       "      vegaEmbed(outputDiv, spec, embedOpt)\n",
       "        .catch(err => showError(`Javascript Error: ${err.message}<br>This usually means there's a typo in your chart specification. See the javascript console for the full traceback.`));\n",
       "    }\n",
       "\n",
       "    if(typeof define === \"function\" && define.amd) {\n",
       "      requirejs.config({paths});\n",
       "      require([\"vega-embed\"], displayChart, err => showError(`Error loading script: ${err.message}`));\n",
       "    } else {\n",
       "      maybeLoadScript(\"vega\", \"5\")\n",
       "        .then(() => maybeLoadScript(\"vega-lite\", \"5.20.1\"))\n",
       "        .then(() => maybeLoadScript(\"vega-embed\", \"6\"))\n",
       "        .catch(showError)\n",
       "        .then(() => displayChart(vegaEmbed));\n",
       "    }\n",
       "  })({\"config\": {\"view\": {\"continuousWidth\": 300, \"continuousHeight\": 300}}, \"layer\": [{\"data\": {\"name\": \"data-26bc7c82a7d7034d8865fda124452b1a\"}, \"mark\": {\"type\": \"rect\", \"color\": \"#aed6f1\", \"opacity\": 1}, \"encoding\": {\"x\": {\"field\": \"x1\", \"title\": null, \"type\": \"temporal\"}, \"x2\": {\"field\": \"x2\"}, \"y\": {\"axis\": null, \"field\": \"y1\", \"scale\": {\"domain\": [250, 700]}, \"type\": \"quantitative\"}, \"y2\": {\"field\": \"y2\"}}}, {\"data\": {\"name\": \"data-c37607424eac664a6a959dc84cbb5305\"}, \"mark\": {\"type\": \"rect\", \"color\": \"#aed6f1\", \"opacity\": 1}, \"encoding\": {\"x\": {\"field\": \"x1\", \"title\": null, \"type\": \"temporal\"}, \"x2\": {\"field\": \"x2\"}, \"y\": {\"axis\": null, \"field\": \"y1\", \"scale\": {\"domain\": [250, 700]}, \"type\": \"quantitative\"}, \"y2\": {\"field\": \"y2\"}}}, {\"data\": {\"name\": \"data-1843673334af0996af5fe93fba9f5264\"}, \"mark\": {\"type\": \"rect\", \"color\": \"#f5b7b1\", \"opacity\": 1}, \"encoding\": {\"x\": {\"field\": \"x1\", \"title\": null, \"type\": \"temporal\"}, \"x2\": {\"field\": \"x2\"}, \"y\": {\"axis\": null, \"field\": \"y1\", \"scale\": {\"domain\": [250, 700]}, \"type\": \"quantitative\"}, \"y2\": {\"field\": \"y2\"}}}, {\"data\": {\"name\": \"data-96dd4fa6eb56b42f0a478d0100d61176\"}, \"mark\": {\"type\": \"rule\", \"color\": \"gray\", \"opacity\": 0.5, \"size\": 0.8}, \"encoding\": {\"y\": {\"axis\": null, \"field\": \"y\", \"scale\": {\"domain\": [250, 700]}, \"title\": null, \"type\": \"quantitative\"}}}, {\"data\": {\"name\": \"data-71905c7c7541ec249275b6ba2750d8e6\"}, \"mark\": {\"type\": \"line\", \"color\": \"black\", \"point\": {\"fill\": \"black\", \"filled\": true}, \"strokeWidth\": 2.5}, \"encoding\": {\"x\": {\"field\": \"Year\", \"timeUnit\": \"year\", \"title\": \"Year\", \"type\": \"temporal\"}, \"y\": {\"field\": \"Shootings\", \"scale\": {\"domain\": [250, 700]}, \"title\": \"Total Shootings\", \"type\": \"quantitative\"}}, \"title\": {\"text\": [\"Total Shootings per Year in the USA\"], \"fontSize\": 16}}, {\"data\": {\"name\": \"data-8216db5e2af4589001650dcac4d75cbb\"}, \"mark\": {\"type\": \"area\"}, \"encoding\": {\"color\": {\"field\": \"governement\", \"legend\": {\"cornerRadius\": 10, \"fillColor\": \"#EEEEEE\", \"legendX\": 130, \"legendY\": -100, \"orient\": \"top-left\", \"padding\": 10, \"strokeColor\": \"gray\", \"titleAnchor\": \"middle\"}, \"scale\": {\"domain\": [\"Democratic\", \"Republican\"], \"range\": [\"#aed6f1\", \"#f5b7b1\"]}, \"type\": \"nominal\"}, \"x\": {\"axis\": {\"labelAngle\": 0}, \"field\": \"Year\", \"title\": \"Year\", \"type\": \"temporal\"}, \"y\": {\"field\": \"y1\", \"scale\": {\"domain\": [200, 720]}, \"title\": \"Total Shootings\", \"type\": \"quantitative\"}, \"y2\": {\"field\": \"y2\"}}}], \"height\": 400, \"resolve\": {\"scale\": {\"y\": \"independent\"}}, \"width\": 500, \"$schema\": \"https://vega.github.io/schema/vega-lite/v5.20.1.json\", \"datasets\": {\"data-26bc7c82a7d7034d8865fda124452b1a\": [{\"x1\": \"2014-01-01T00:00:00\", \"x2\": \"2017-01-01T00:00:00\", \"y1\": 250, \"y2\": 700, \"governement\": \"Democratic\"}, {\"x1\": \"2014-01-01T00:00:00\", \"x2\": \"2017-01-01T00:00:00\", \"y1\": 250, \"y2\": 700, \"governement\": \"Democratic\"}], \"data-c37607424eac664a6a959dc84cbb5305\": [{\"x1\": \"2021-01-01T00:00:00\", \"x2\": \"2023-01-01T00:00:00\", \"y1\": 250, \"y2\": 700, \"governement\": \"Democratic\"}, {\"x1\": \"2021-01-01T00:00:00\", \"x2\": \"2023-01-01T00:00:00\", \"y1\": 250, \"y2\": 700, \"governement\": \"Democratic\"}], \"data-1843673334af0996af5fe93fba9f5264\": [{\"x1\": \"2017-01-01T00:00:00\", \"x2\": \"2021-01-01T00:00:00\", \"y1\": 250, \"y2\": 700, \"governement\": \"Republican\"}, {\"x1\": \"2017-01-01T00:00:00\", \"x2\": \"2021-01-01T00:00:00\", \"y1\": 250, \"y2\": 700, \"governement\": \"Republican\"}], \"data-96dd4fa6eb56b42f0a478d0100d61176\": [{\"y\": 250}, {\"y\": 300}, {\"y\": 350}, {\"y\": 400}, {\"y\": 450}, {\"y\": 500}, {\"y\": 550}, {\"y\": 600}, {\"y\": 650}, {\"y\": 700}], \"data-71905c7c7541ec249275b6ba2750d8e6\": [{\"Year\": \"2014-01-01T00:00:00\", \"Shootings\": 271}, {\"Year\": \"2015-01-01T00:00:00\", \"Shootings\": 330}, {\"Year\": \"2016-01-01T00:00:00\", \"Shootings\": 380}, {\"Year\": \"2017-01-01T00:00:00\", \"Shootings\": 343}, {\"Year\": \"2018-01-01T00:00:00\", \"Shootings\": 329}, {\"Year\": \"2019-01-01T00:00:00\", \"Shootings\": 411}, {\"Year\": \"2020-01-01T00:00:00\", \"Shootings\": 609}, {\"Year\": \"2021-01-01T00:00:00\", \"Shootings\": 679}, {\"Year\": \"2022-01-01T00:00:00\", \"Shootings\": 636}, {\"Year\": \"2023-01-01T00:00:00\", \"Shootings\": 649}], \"data-8216db5e2af4589001650dcac4d75cbb\": [{\"governement\": \"Republican\"}, {\"governement\": \"Democratic\"}]}}, {\"mode\": \"vega-lite\"});\n",
       "</script>"
      ],
      "text/plain": [
       "alt.LayerChart(...)"
      ]
     },
     "metadata": {},
     "output_type": "display_data"
    }
   ],
   "source": [
    "RED = '#f5b7b1'\n",
    "BLUE = '#aed6f1' \n",
    "\n",
    "\n",
    "chart_ms = alt.Chart(df_GunViolence).mark_line(\n",
    "    color='black',\n",
    "    point=alt.OverlayMarkDef(filled=True, fill=\"black\"),\n",
    "    strokeWidth=2.5\n",
    ").encode(\n",
    "    x=alt.X('Year:T', timeUnit='year', title='Year'),\n",
    "    y=alt.Y('Shootings:Q', title='Total Shootings', scale=alt.Scale(domain=(250, 700)))\n",
    ").properties(\n",
    "    title={\n",
    "        \"text\": ['Total Shootings per Year in the USA'],\n",
    "        \"fontSize\": 16,\n",
    "    },\n",
    "    width=500,\n",
    "    height=400\n",
    ")\n",
    "\n",
    "#we keep this just for the legend\n",
    "gov = pd.DataFrame({\n",
    "    'governement':['Republican', 'Democratic']\n",
    "})\n",
    "\n",
    "chart_gov = alt.Chart(gov).mark_area().encode(\n",
    "    x=alt.X('Year:T', title='Year', axis=alt.Axis(labelAngle=0)),\n",
    "    y=alt.Y('y1:Q', title='Total Shootings', scale=alt.Scale(domain=(200, 720))),\n",
    "    y2='y2:Q',\n",
    "    color=alt.Color('governement', legend=alt.Legend(\n",
    "        orient='top-left', \n",
    "        legendX=130, legendY=-100,  # Ajusta la posició de la llegenda\n",
    "        strokeColor='gray',\n",
    "        fillColor='#EEEEEE',\n",
    "        padding=10,\n",
    "        cornerRadius=10,\n",
    "        titleAnchor='middle'  # Centra el títol dins de la llegenda\n",
    "    ), scale=alt.Scale(domain=['Democratic', 'Republican'], range=[BLUE, RED]))\n",
    ")\n",
    "\n",
    "\n",
    "\n",
    "df_dem1 = pd.DataFrame({\n",
    "    'x1': 2014,\n",
    "    'x2': 2017,\n",
    "    'y1': [250]*2, \n",
    "    'y2': [700]*2,\n",
    "    'governement': ['Democratic']*2\n",
    "})\n",
    "df_dem1['x1'] = pd.to_datetime(df_dem1['x1'], format ='%Y')\n",
    "df_dem1['x2'] = pd.to_datetime(df_dem1['x2'], format ='%Y')\n",
    "\n",
    "\n",
    "df_rep = pd.DataFrame({\n",
    "    'x1': 2017,\n",
    "    'x2': 2021,\n",
    "    'y1': [250]*2, \n",
    "    'y2': [700]*2,\n",
    "    'governement': ['Republican']*2\n",
    "})\n",
    "df_rep['x1'] = pd.to_datetime(df_rep['x1'], format ='%Y')\n",
    "df_rep['x2'] = pd.to_datetime(df_rep['x2'], format ='%Y')\n",
    "\n",
    "df_dem2 = pd.DataFrame({\n",
    "    'x1': 2021,\n",
    "    'x2': 2023,\n",
    "    'y1': [250]*2, \n",
    "    'y2': [700]*2,\n",
    "    'governement': ['Democratic']*2\n",
    "})\n",
    "df_dem2['x1'] = pd.to_datetime(df_dem2['x1'], format ='%Y')\n",
    "df_dem2['x2'] = pd.to_datetime(df_dem2['x2'], format ='%Y')\n",
    "\n",
    "# Rectangles for government background\n",
    "dem1 = alt.Chart(df_dem1).mark_rect(color=BLUE, opacity=1).encode(\n",
    "    x=alt.X('x1:T', title=None),  # No title for X axis here\n",
    "    x2='x2:T',\n",
    "    y=alt.Y('y1:Q', scale=alt.Scale(domain=(250, 700)), axis=None),  # No Y axis for background\n",
    "    y2=alt.Y2('y2:Q')\n",
    ")\n",
    "\n",
    "rep = alt.Chart(df_rep).mark_rect(color=RED, opacity=1).encode(\n",
    "    x=alt.X('x1:T', title=None),\n",
    "    x2='x2:T',\n",
    "    y=alt.Y('y1:Q', scale=alt.Scale(domain=(250, 700)), axis=None),\n",
    "    y2=alt.Y2('y2:Q')\n",
    ")\n",
    "\n",
    "dem2 = alt.Chart(df_dem2).mark_rect(color=BLUE, opacity=1).encode(\n",
    "    x=alt.X('x1:T', title=None),\n",
    "    x2='x2:T',\n",
    "    y=alt.Y('y1:Q', scale=alt.Scale(domain=(250, 700)), axis=None),\n",
    "    y2=alt.Y2('y2:Q')\n",
    ")\n",
    "\n",
    "# Manual gridlines\n",
    "y_values = pd.DataFrame({'y': list(range(250, 701, 50))})\n",
    "lines = alt.Chart(y_values).mark_rule(color='gray', size=0.8, opacity=0.5).encode(\n",
    "    y=alt.Y('y:Q', scale=alt.Scale(domain=(250, 700)), title=None, axis=None)\n",
    ")\n",
    "\n",
    "\n",
    "# Combine layers with shared y-scale\n",
    "chart_with_background = alt.layer(\n",
    "    dem1,       # Background rectangles\n",
    "    dem2,\n",
    "    rep,\n",
    "    lines,     # Gridlines\n",
    "    chart_ms,   # Main line chart\n",
    "    chart_gov\n",
    ").properties(\n",
    "    width=500,\n",
    "    height=400\n",
    ").resolve_scale(\n",
    "    y='independent'  # Enforce shared y-scale for all layers\n",
    ")\n",
    "\n",
    "\n",
    "chart_with_background.show()"
   ]
  },
  {
   "cell_type": "markdown",
   "metadata": {},
   "source": [
    "<h4 style=\"color:goldenrod\"> Shooting trends inside a year </h4>"
   ]
  },
  {
   "cell_type": "code",
   "execution_count": 429,
   "metadata": {},
   "outputs": [],
   "source": [
    "monthly_shootings = MassShootings[MassShootings['Year']>2014].groupby(['Year', 'Month']).size().reset_index(name='Total Shootings')\n",
    "monthly_avg = monthly_shootings.groupby('Month')['Total Shootings'].mean().reset_index()"
   ]
  },
  {
   "cell_type": "code",
   "execution_count": 430,
   "metadata": {},
   "outputs": [
    {
     "data": {
      "text/html": [
       "\n",
       "<style>\n",
       "  #altair-viz-7173b7e1a8c4421e9fc5e0a9e26776af.vega-embed {\n",
       "    width: 100%;\n",
       "    display: flex;\n",
       "  }\n",
       "\n",
       "  #altair-viz-7173b7e1a8c4421e9fc5e0a9e26776af.vega-embed details,\n",
       "  #altair-viz-7173b7e1a8c4421e9fc5e0a9e26776af.vega-embed details summary {\n",
       "    position: relative;\n",
       "  }\n",
       "</style>\n",
       "<div id=\"altair-viz-7173b7e1a8c4421e9fc5e0a9e26776af\"></div>\n",
       "<script type=\"text/javascript\">\n",
       "  var VEGA_DEBUG = (typeof VEGA_DEBUG == \"undefined\") ? {} : VEGA_DEBUG;\n",
       "  (function(spec, embedOpt){\n",
       "    let outputDiv = document.currentScript.previousElementSibling;\n",
       "    if (outputDiv.id !== \"altair-viz-7173b7e1a8c4421e9fc5e0a9e26776af\") {\n",
       "      outputDiv = document.getElementById(\"altair-viz-7173b7e1a8c4421e9fc5e0a9e26776af\");\n",
       "    }\n",
       "    const paths = {\n",
       "      \"vega\": \"https://cdn.jsdelivr.net/npm/vega@5?noext\",\n",
       "      \"vega-lib\": \"https://cdn.jsdelivr.net/npm/vega-lib?noext\",\n",
       "      \"vega-lite\": \"https://cdn.jsdelivr.net/npm/vega-lite@5.20.1?noext\",\n",
       "      \"vega-embed\": \"https://cdn.jsdelivr.net/npm/vega-embed@6?noext\",\n",
       "    };\n",
       "\n",
       "    function maybeLoadScript(lib, version) {\n",
       "      var key = `${lib.replace(\"-\", \"\")}_version`;\n",
       "      return (VEGA_DEBUG[key] == version) ?\n",
       "        Promise.resolve(paths[lib]) :\n",
       "        new Promise(function(resolve, reject) {\n",
       "          var s = document.createElement('script');\n",
       "          document.getElementsByTagName(\"head\")[0].appendChild(s);\n",
       "          s.async = true;\n",
       "          s.onload = () => {\n",
       "            VEGA_DEBUG[key] = version;\n",
       "            return resolve(paths[lib]);\n",
       "          };\n",
       "          s.onerror = () => reject(`Error loading script: ${paths[lib]}`);\n",
       "          s.src = paths[lib];\n",
       "        });\n",
       "    }\n",
       "\n",
       "    function showError(err) {\n",
       "      outputDiv.innerHTML = `<div class=\"error\" style=\"color:red;\">${err}</div>`;\n",
       "      throw err;\n",
       "    }\n",
       "\n",
       "    function displayChart(vegaEmbed) {\n",
       "      vegaEmbed(outputDiv, spec, embedOpt)\n",
       "        .catch(err => showError(`Javascript Error: ${err.message}<br>This usually means there's a typo in your chart specification. See the javascript console for the full traceback.`));\n",
       "    }\n",
       "\n",
       "    if(typeof define === \"function\" && define.amd) {\n",
       "      requirejs.config({paths});\n",
       "      require([\"vega-embed\"], displayChart, err => showError(`Error loading script: ${err.message}`));\n",
       "    } else {\n",
       "      maybeLoadScript(\"vega\", \"5\")\n",
       "        .then(() => maybeLoadScript(\"vega-lite\", \"5.20.1\"))\n",
       "        .then(() => maybeLoadScript(\"vega-embed\", \"6\"))\n",
       "        .catch(showError)\n",
       "        .then(() => displayChart(vegaEmbed));\n",
       "    }\n",
       "  })({\"config\": {\"view\": {\"continuousWidth\": 300, \"continuousHeight\": 300}}, \"data\": {\"name\": \"data-c01ad75464e1ce59bd8297654603bd60\"}, \"mark\": {\"type\": \"line\"}, \"encoding\": {\"color\": {\"field\": \"Year\", \"title\": \"Any\", \"type\": \"ordinal\"}, \"x\": {\"axis\": {\"labelAngle\": 0}, \"field\": \"Month\", \"title\": \"Mes\", \"type\": \"ordinal\"}, \"y\": {\"field\": \"Total Shootings\", \"title\": \"Nombre total de tirotejos\", \"type\": \"quantitative\"}}, \"title\": \"Evoluci\\u00f3 mensual dels tirotejos massius als EUA per any\", \"$schema\": \"https://vega.github.io/schema/vega-lite/v5.20.1.json\", \"datasets\": {\"data-c01ad75464e1ce59bd8297654603bd60\": [{\"Year\": 2015, \"Month\": 1, \"Total Shootings\": 22}, {\"Year\": 2015, \"Month\": 2, \"Total Shootings\": 15}, {\"Year\": 2015, \"Month\": 3, \"Total Shootings\": 22}, {\"Year\": 2015, \"Month\": 4, \"Total Shootings\": 19}, {\"Year\": 2015, \"Month\": 5, \"Total Shootings\": 35}, {\"Year\": 2015, \"Month\": 6, \"Total Shootings\": 36}, {\"Year\": 2015, \"Month\": 7, \"Total Shootings\": 44}, {\"Year\": 2015, \"Month\": 8, \"Total Shootings\": 39}, {\"Year\": 2015, \"Month\": 9, \"Total Shootings\": 34}, {\"Year\": 2015, \"Month\": 10, \"Total Shootings\": 19}, {\"Year\": 2015, \"Month\": 11, \"Total Shootings\": 26}, {\"Year\": 2015, \"Month\": 12, \"Total Shootings\": 20}, {\"Year\": 2016, \"Month\": 1, \"Total Shootings\": 11}, {\"Year\": 2016, \"Month\": 2, \"Total Shootings\": 27}, {\"Year\": 2016, \"Month\": 3, \"Total Shootings\": 22}, {\"Year\": 2016, \"Month\": 4, \"Total Shootings\": 32}, {\"Year\": 2016, \"Month\": 5, \"Total Shootings\": 29}, {\"Year\": 2016, \"Month\": 6, \"Total Shootings\": 45}, {\"Year\": 2016, \"Month\": 7, \"Total Shootings\": 49}, {\"Year\": 2016, \"Month\": 8, \"Total Shootings\": 39}, {\"Year\": 2016, \"Month\": 9, \"Total Shootings\": 32}, {\"Year\": 2016, \"Month\": 10, \"Total Shootings\": 31}, {\"Year\": 2016, \"Month\": 11, \"Total Shootings\": 36}, {\"Year\": 2016, \"Month\": 12, \"Total Shootings\": 26}, {\"Year\": 2017, \"Month\": 1, \"Total Shootings\": 31}, {\"Year\": 2017, \"Month\": 2, \"Total Shootings\": 24}, {\"Year\": 2017, \"Month\": 3, \"Total Shootings\": 22}, {\"Year\": 2017, \"Month\": 4, \"Total Shootings\": 39}, {\"Year\": 2017, \"Month\": 5, \"Total Shootings\": 23}, {\"Year\": 2017, \"Month\": 6, \"Total Shootings\": 34}, {\"Year\": 2017, \"Month\": 7, \"Total Shootings\": 36}, {\"Year\": 2017, \"Month\": 8, \"Total Shootings\": 33}, {\"Year\": 2017, \"Month\": 9, \"Total Shootings\": 30}, {\"Year\": 2017, \"Month\": 10, \"Total Shootings\": 28}, {\"Year\": 2017, \"Month\": 11, \"Total Shootings\": 24}, {\"Year\": 2017, \"Month\": 12, \"Total Shootings\": 19}, {\"Year\": 2018, \"Month\": 1, \"Total Shootings\": 22}, {\"Year\": 2018, \"Month\": 2, \"Total Shootings\": 13}, {\"Year\": 2018, \"Month\": 3, \"Total Shootings\": 17}, {\"Year\": 2018, \"Month\": 4, \"Total Shootings\": 25}, {\"Year\": 2018, \"Month\": 5, \"Total Shootings\": 28}, {\"Year\": 2018, \"Month\": 6, \"Total Shootings\": 50}, {\"Year\": 2018, \"Month\": 7, \"Total Shootings\": 44}, {\"Year\": 2018, \"Month\": 8, \"Total Shootings\": 33}, {\"Year\": 2018, \"Month\": 9, \"Total Shootings\": 34}, {\"Year\": 2018, \"Month\": 10, \"Total Shootings\": 29}, {\"Year\": 2018, \"Month\": 11, \"Total Shootings\": 20}, {\"Year\": 2018, \"Month\": 12, \"Total Shootings\": 15}, {\"Year\": 2019, \"Month\": 1, \"Total Shootings\": 25}, {\"Year\": 2019, \"Month\": 2, \"Total Shootings\": 20}, {\"Year\": 2019, \"Month\": 3, \"Total Shootings\": 20}, {\"Year\": 2019, \"Month\": 4, \"Total Shootings\": 32}, {\"Year\": 2019, \"Month\": 5, \"Total Shootings\": 47}, {\"Year\": 2019, \"Month\": 6, \"Total Shootings\": 52}, {\"Year\": 2019, \"Month\": 7, \"Total Shootings\": 41}, {\"Year\": 2019, \"Month\": 8, \"Total Shootings\": 40}, {\"Year\": 2019, \"Month\": 9, \"Total Shootings\": 34}, {\"Year\": 2019, \"Month\": 10, \"Total Shootings\": 34}, {\"Year\": 2019, \"Month\": 11, \"Total Shootings\": 33}, {\"Year\": 2019, \"Month\": 12, \"Total Shootings\": 32}, {\"Year\": 2020, \"Month\": 1, \"Total Shootings\": 25}, {\"Year\": 2020, \"Month\": 2, \"Total Shootings\": 20}, {\"Year\": 2020, \"Month\": 3, \"Total Shootings\": 24}, {\"Year\": 2020, \"Month\": 4, \"Total Shootings\": 26}, {\"Year\": 2020, \"Month\": 5, \"Total Shootings\": 59}, {\"Year\": 2020, \"Month\": 6, \"Total Shootings\": 94}, {\"Year\": 2020, \"Month\": 7, \"Total Shootings\": 89}, {\"Year\": 2020, \"Month\": 8, \"Total Shootings\": 80}, {\"Year\": 2020, \"Month\": 9, \"Total Shootings\": 68}, {\"Year\": 2020, \"Month\": 10, \"Total Shootings\": 50}, {\"Year\": 2020, \"Month\": 11, \"Total Shootings\": 49}, {\"Year\": 2020, \"Month\": 12, \"Total Shootings\": 26}, {\"Year\": 2021, \"Month\": 1, \"Total Shootings\": 32}, {\"Year\": 2021, \"Month\": 2, \"Total Shootings\": 40}, {\"Year\": 2021, \"Month\": 3, \"Total Shootings\": 45}, {\"Year\": 2021, \"Month\": 4, \"Total Shootings\": 49}, {\"Year\": 2021, \"Month\": 5, \"Total Shootings\": 72}, {\"Year\": 2021, \"Month\": 6, \"Total Shootings\": 74}, {\"Year\": 2021, \"Month\": 7, \"Total Shootings\": 83}, {\"Year\": 2021, \"Month\": 8, \"Total Shootings\": 64}, {\"Year\": 2021, \"Month\": 9, \"Total Shootings\": 66}, {\"Year\": 2021, \"Month\": 10, \"Total Shootings\": 70}, {\"Year\": 2021, \"Month\": 11, \"Total Shootings\": 48}, {\"Year\": 2021, \"Month\": 12, \"Total Shootings\": 39}, {\"Year\": 2022, \"Month\": 1, \"Total Shootings\": 34}, {\"Year\": 2022, \"Month\": 2, \"Total Shootings\": 36}, {\"Year\": 2022, \"Month\": 3, \"Total Shootings\": 41}, {\"Year\": 2022, \"Month\": 4, \"Total Shootings\": 57}, {\"Year\": 2022, \"Month\": 5, \"Total Shootings\": 64}, {\"Year\": 2022, \"Month\": 6, \"Total Shootings\": 64}, {\"Year\": 2022, \"Month\": 7, \"Total Shootings\": 89}, {\"Year\": 2022, \"Month\": 8, \"Total Shootings\": 59}, {\"Year\": 2022, \"Month\": 9, \"Total Shootings\": 63}, {\"Year\": 2022, \"Month\": 10, \"Total Shootings\": 62}, {\"Year\": 2022, \"Month\": 11, \"Total Shootings\": 43}, {\"Year\": 2022, \"Month\": 12, \"Total Shootings\": 30}, {\"Year\": 2023, \"Month\": 1, \"Total Shootings\": 52}, {\"Year\": 2023, \"Month\": 2, \"Total Shootings\": 41}, {\"Year\": 2023, \"Month\": 3, \"Total Shootings\": 41}, {\"Year\": 2023, \"Month\": 4, \"Total Shootings\": 55}, {\"Year\": 2023, \"Month\": 5, \"Total Shootings\": 78}, {\"Year\": 2023, \"Month\": 6, \"Total Shootings\": 67}, {\"Year\": 2023, \"Month\": 7, \"Total Shootings\": 85}, {\"Year\": 2023, \"Month\": 8, \"Total Shootings\": 57}, {\"Year\": 2023, \"Month\": 9, \"Total Shootings\": 41}, {\"Year\": 2023, \"Month\": 10, \"Total Shootings\": 65}, {\"Year\": 2023, \"Month\": 11, \"Total Shootings\": 33}, {\"Year\": 2023, \"Month\": 12, \"Total Shootings\": 36}, {\"Year\": 2024, \"Month\": 1, \"Total Shootings\": 38}, {\"Year\": 2024, \"Month\": 2, \"Total Shootings\": 27}, {\"Year\": 2024, \"Month\": 3, \"Total Shootings\": 34}, {\"Year\": 2024, \"Month\": 4, \"Total Shootings\": 37}, {\"Year\": 2024, \"Month\": 5, \"Total Shootings\": 52}, {\"Year\": 2024, \"Month\": 6, \"Total Shootings\": 71}, {\"Year\": 2024, \"Month\": 7, \"Total Shootings\": 62}, {\"Year\": 2024, \"Month\": 8, \"Total Shootings\": 51}, {\"Year\": 2024, \"Month\": 9, \"Total Shootings\": 24}]}}, {\"mode\": \"vega-lite\"});\n",
       "</script>"
      ],
      "text/plain": [
       "alt.Chart(...)"
      ]
     },
     "execution_count": 430,
     "metadata": {},
     "output_type": "execute_result"
    }
   ],
   "source": [
    "line_chart_months1 = alt.Chart(monthly_shootings[monthly_shootings['Year']>2013]).mark_line().encode(\n",
    "    x=alt.X('Month:O', title='Mes', axis=alt.Axis(labelAngle=0)),\n",
    "    y=alt.Y('Total Shootings:Q', title='Nombre total de tirotejos'),\n",
    "    color=alt.Color('Year:O', title='Any')\n",
    ").properties(\n",
    "    title='Evolució mensual dels tirotejos massius als EUA per any'\n",
    ")\n",
    "\n",
    "line_chart_months1"
   ]
  },
  {
   "cell_type": "markdown",
   "metadata": {},
   "source": [
    "Even though the trend is well understood, there are too many years... we can try to visualize the last 5 years. A lighter color corresponds to an early year, but maybe it's not the best way to show the increasing amount of shootings during years."
   ]
  },
  {
   "cell_type": "code",
   "execution_count": 431,
   "metadata": {},
   "outputs": [
    {
     "data": {
      "text/html": [
       "\n",
       "<style>\n",
       "  #altair-viz-fa488b911d384d68b3422c8d72853c1f.vega-embed {\n",
       "    width: 100%;\n",
       "    display: flex;\n",
       "  }\n",
       "\n",
       "  #altair-viz-fa488b911d384d68b3422c8d72853c1f.vega-embed details,\n",
       "  #altair-viz-fa488b911d384d68b3422c8d72853c1f.vega-embed details summary {\n",
       "    position: relative;\n",
       "  }\n",
       "</style>\n",
       "<div id=\"altair-viz-fa488b911d384d68b3422c8d72853c1f\"></div>\n",
       "<script type=\"text/javascript\">\n",
       "  var VEGA_DEBUG = (typeof VEGA_DEBUG == \"undefined\") ? {} : VEGA_DEBUG;\n",
       "  (function(spec, embedOpt){\n",
       "    let outputDiv = document.currentScript.previousElementSibling;\n",
       "    if (outputDiv.id !== \"altair-viz-fa488b911d384d68b3422c8d72853c1f\") {\n",
       "      outputDiv = document.getElementById(\"altair-viz-fa488b911d384d68b3422c8d72853c1f\");\n",
       "    }\n",
       "    const paths = {\n",
       "      \"vega\": \"https://cdn.jsdelivr.net/npm/vega@5?noext\",\n",
       "      \"vega-lib\": \"https://cdn.jsdelivr.net/npm/vega-lib?noext\",\n",
       "      \"vega-lite\": \"https://cdn.jsdelivr.net/npm/vega-lite@5.20.1?noext\",\n",
       "      \"vega-embed\": \"https://cdn.jsdelivr.net/npm/vega-embed@6?noext\",\n",
       "    };\n",
       "\n",
       "    function maybeLoadScript(lib, version) {\n",
       "      var key = `${lib.replace(\"-\", \"\")}_version`;\n",
       "      return (VEGA_DEBUG[key] == version) ?\n",
       "        Promise.resolve(paths[lib]) :\n",
       "        new Promise(function(resolve, reject) {\n",
       "          var s = document.createElement('script');\n",
       "          document.getElementsByTagName(\"head\")[0].appendChild(s);\n",
       "          s.async = true;\n",
       "          s.onload = () => {\n",
       "            VEGA_DEBUG[key] = version;\n",
       "            return resolve(paths[lib]);\n",
       "          };\n",
       "          s.onerror = () => reject(`Error loading script: ${paths[lib]}`);\n",
       "          s.src = paths[lib];\n",
       "        });\n",
       "    }\n",
       "\n",
       "    function showError(err) {\n",
       "      outputDiv.innerHTML = `<div class=\"error\" style=\"color:red;\">${err}</div>`;\n",
       "      throw err;\n",
       "    }\n",
       "\n",
       "    function displayChart(vegaEmbed) {\n",
       "      vegaEmbed(outputDiv, spec, embedOpt)\n",
       "        .catch(err => showError(`Javascript Error: ${err.message}<br>This usually means there's a typo in your chart specification. See the javascript console for the full traceback.`));\n",
       "    }\n",
       "\n",
       "    if(typeof define === \"function\" && define.amd) {\n",
       "      requirejs.config({paths});\n",
       "      require([\"vega-embed\"], displayChart, err => showError(`Error loading script: ${err.message}`));\n",
       "    } else {\n",
       "      maybeLoadScript(\"vega\", \"5\")\n",
       "        .then(() => maybeLoadScript(\"vega-lite\", \"5.20.1\"))\n",
       "        .then(() => maybeLoadScript(\"vega-embed\", \"6\"))\n",
       "        .catch(showError)\n",
       "        .then(() => displayChart(vegaEmbed));\n",
       "    }\n",
       "  })({\"config\": {\"view\": {\"continuousWidth\": 300, \"continuousHeight\": 300}}, \"data\": {\"name\": \"data-8a621a930edbeab8b899cdea762cfc1d\"}, \"mark\": {\"type\": \"line\"}, \"encoding\": {\"color\": {\"field\": \"Year\", \"title\": \"Any\", \"type\": \"nominal\"}, \"x\": {\"axis\": {\"labelAngle\": 0}, \"field\": \"Month\", \"title\": \"Mes\", \"type\": \"ordinal\"}, \"y\": {\"field\": \"Total Shootings\", \"title\": \"Nombre total de tirotejos\", \"type\": \"quantitative\"}}, \"title\": \"Evoluci\\u00f3 mensual dels tirotejos massius als EUA per any\", \"$schema\": \"https://vega.github.io/schema/vega-lite/v5.20.1.json\", \"datasets\": {\"data-8a621a930edbeab8b899cdea762cfc1d\": [{\"Year\": 2020, \"Month\": 1, \"Total Shootings\": 25}, {\"Year\": 2020, \"Month\": 2, \"Total Shootings\": 20}, {\"Year\": 2020, \"Month\": 3, \"Total Shootings\": 24}, {\"Year\": 2020, \"Month\": 4, \"Total Shootings\": 26}, {\"Year\": 2020, \"Month\": 5, \"Total Shootings\": 59}, {\"Year\": 2020, \"Month\": 6, \"Total Shootings\": 94}, {\"Year\": 2020, \"Month\": 7, \"Total Shootings\": 89}, {\"Year\": 2020, \"Month\": 8, \"Total Shootings\": 80}, {\"Year\": 2020, \"Month\": 9, \"Total Shootings\": 68}, {\"Year\": 2020, \"Month\": 10, \"Total Shootings\": 50}, {\"Year\": 2020, \"Month\": 11, \"Total Shootings\": 49}, {\"Year\": 2020, \"Month\": 12, \"Total Shootings\": 26}, {\"Year\": 2021, \"Month\": 1, \"Total Shootings\": 32}, {\"Year\": 2021, \"Month\": 2, \"Total Shootings\": 40}, {\"Year\": 2021, \"Month\": 3, \"Total Shootings\": 45}, {\"Year\": 2021, \"Month\": 4, \"Total Shootings\": 49}, {\"Year\": 2021, \"Month\": 5, \"Total Shootings\": 72}, {\"Year\": 2021, \"Month\": 6, \"Total Shootings\": 74}, {\"Year\": 2021, \"Month\": 7, \"Total Shootings\": 83}, {\"Year\": 2021, \"Month\": 8, \"Total Shootings\": 64}, {\"Year\": 2021, \"Month\": 9, \"Total Shootings\": 66}, {\"Year\": 2021, \"Month\": 10, \"Total Shootings\": 70}, {\"Year\": 2021, \"Month\": 11, \"Total Shootings\": 48}, {\"Year\": 2021, \"Month\": 12, \"Total Shootings\": 39}, {\"Year\": 2022, \"Month\": 1, \"Total Shootings\": 34}, {\"Year\": 2022, \"Month\": 2, \"Total Shootings\": 36}, {\"Year\": 2022, \"Month\": 3, \"Total Shootings\": 41}, {\"Year\": 2022, \"Month\": 4, \"Total Shootings\": 57}, {\"Year\": 2022, \"Month\": 5, \"Total Shootings\": 64}, {\"Year\": 2022, \"Month\": 6, \"Total Shootings\": 64}, {\"Year\": 2022, \"Month\": 7, \"Total Shootings\": 89}, {\"Year\": 2022, \"Month\": 8, \"Total Shootings\": 59}, {\"Year\": 2022, \"Month\": 9, \"Total Shootings\": 63}, {\"Year\": 2022, \"Month\": 10, \"Total Shootings\": 62}, {\"Year\": 2022, \"Month\": 11, \"Total Shootings\": 43}, {\"Year\": 2022, \"Month\": 12, \"Total Shootings\": 30}, {\"Year\": 2023, \"Month\": 1, \"Total Shootings\": 52}, {\"Year\": 2023, \"Month\": 2, \"Total Shootings\": 41}, {\"Year\": 2023, \"Month\": 3, \"Total Shootings\": 41}, {\"Year\": 2023, \"Month\": 4, \"Total Shootings\": 55}, {\"Year\": 2023, \"Month\": 5, \"Total Shootings\": 78}, {\"Year\": 2023, \"Month\": 6, \"Total Shootings\": 67}, {\"Year\": 2023, \"Month\": 7, \"Total Shootings\": 85}, {\"Year\": 2023, \"Month\": 8, \"Total Shootings\": 57}, {\"Year\": 2023, \"Month\": 9, \"Total Shootings\": 41}, {\"Year\": 2023, \"Month\": 10, \"Total Shootings\": 65}, {\"Year\": 2023, \"Month\": 11, \"Total Shootings\": 33}, {\"Year\": 2023, \"Month\": 12, \"Total Shootings\": 36}, {\"Year\": 2024, \"Month\": 1, \"Total Shootings\": 38}, {\"Year\": 2024, \"Month\": 2, \"Total Shootings\": 27}, {\"Year\": 2024, \"Month\": 3, \"Total Shootings\": 34}, {\"Year\": 2024, \"Month\": 4, \"Total Shootings\": 37}, {\"Year\": 2024, \"Month\": 5, \"Total Shootings\": 52}, {\"Year\": 2024, \"Month\": 6, \"Total Shootings\": 71}, {\"Year\": 2024, \"Month\": 7, \"Total Shootings\": 62}, {\"Year\": 2024, \"Month\": 8, \"Total Shootings\": 51}, {\"Year\": 2024, \"Month\": 9, \"Total Shootings\": 24}]}}, {\"mode\": \"vega-lite\"});\n",
       "</script>"
      ],
      "text/plain": [
       "alt.Chart(...)"
      ]
     },
     "execution_count": 431,
     "metadata": {},
     "output_type": "execute_result"
    }
   ],
   "source": [
    "line_chart_months2 = alt.Chart(monthly_shootings[monthly_shootings['Year']>2019]).mark_line().encode(\n",
    "    x=alt.X('Month:O', title='Mes', axis=alt.Axis(labelAngle=0)),\n",
    "    y=alt.Y('Total Shootings:Q', title='Nombre total de tirotejos'),\n",
    "    color=alt.Color('Year:N', title='Any')\n",
    ").properties(\n",
    "    title='Evolució mensual dels tirotejos massius als EUA per any'\n",
    ")\n",
    "\n",
    "line_chart_months2"
   ]
  },
  {
   "cell_type": "markdown",
   "metadata": {},
   "source": [
    "That's better!"
   ]
  },
  {
   "cell_type": "code",
   "execution_count": 40,
   "metadata": {},
   "outputs": [
    {
     "ename": "NameError",
     "evalue": "name 'monthly_shootings' is not defined",
     "output_type": "error",
     "traceback": [
      "\u001b[1;31m---------------------------------------------------------------------------\u001b[0m",
      "\u001b[1;31mNameError\u001b[0m                                 Traceback (most recent call last)",
      "Cell \u001b[1;32mIn[40], line 1\u001b[0m\n\u001b[1;32m----> 1\u001b[0m monthly_shootings[\u001b[38;5;124m'\u001b[39m\u001b[38;5;124myear-month\u001b[39m\u001b[38;5;124m'\u001b[39m] \u001b[38;5;241m=\u001b[39m (\u001b[43mmonthly_shootings\u001b[49m[\u001b[38;5;124m'\u001b[39m\u001b[38;5;124mYear\u001b[39m\u001b[38;5;124m'\u001b[39m])\u001b[38;5;241m*\u001b[39m\u001b[38;5;241m100\u001b[39m \u001b[38;5;241m+\u001b[39m (monthly_shootings[\u001b[38;5;124m'\u001b[39m\u001b[38;5;124mMonth\u001b[39m\u001b[38;5;124m'\u001b[39m]\u001b[38;5;241m-\u001b[39m\u001b[38;5;241m1\u001b[39m)\u001b[38;5;241m*\u001b[39m\u001b[38;5;241m10\u001b[39m\u001b[38;5;241m/\u001b[39m\u001b[38;5;241m11\u001b[39m\n\u001b[0;32m      3\u001b[0m line_chart_mont_year \u001b[38;5;241m=\u001b[39m alt\u001b[38;5;241m.\u001b[39mChart(monthly_shootings[monthly_shootings[\u001b[38;5;124m'\u001b[39m\u001b[38;5;124mYear\u001b[39m\u001b[38;5;124m'\u001b[39m]\u001b[38;5;241m>\u001b[39m\u001b[38;5;241m2013\u001b[39m])\u001b[38;5;241m.\u001b[39mmark_line()\u001b[38;5;241m.\u001b[39mencode(\n\u001b[0;32m      4\u001b[0m     x\u001b[38;5;241m=\u001b[39malt\u001b[38;5;241m.\u001b[39mX(\u001b[38;5;124m'\u001b[39m\u001b[38;5;124myear-month:O\u001b[39m\u001b[38;5;124m'\u001b[39m, title\u001b[38;5;241m=\u001b[39m\u001b[38;5;124m'\u001b[39m\u001b[38;5;124mMes\u001b[39m\u001b[38;5;124m'\u001b[39m, axis\u001b[38;5;241m=\u001b[39m\u001b[38;5;28;01mNone\u001b[39;00m),\n\u001b[0;32m      5\u001b[0m     y\u001b[38;5;241m=\u001b[39malt\u001b[38;5;241m.\u001b[39mY(\u001b[38;5;124m'\u001b[39m\u001b[38;5;124mTotal Shootings:Q\u001b[39m\u001b[38;5;124m'\u001b[39m, title\u001b[38;5;241m=\u001b[39m\u001b[38;5;124m'\u001b[39m\u001b[38;5;124mNombre total de tirotejos\u001b[39m\u001b[38;5;124m'\u001b[39m)\n\u001b[1;32m   (...)\u001b[0m\n\u001b[0;32m      8\u001b[0m     width\u001b[38;5;241m=\u001b[39m\u001b[38;5;241m1200\u001b[39m\n\u001b[0;32m      9\u001b[0m )\n\u001b[0;32m     11\u001b[0m line_chart_mont_year\n",
      "\u001b[1;31mNameError\u001b[0m: name 'monthly_shootings' is not defined"
     ]
    }
   ],
   "source": [
    "monthly_shootings['year-month'] = (monthly_shootings['Year'])*100 + (monthly_shootings['Month']-1)*10/11\n",
    "\n",
    "line_chart_mont_year = alt.Chart(monthly_shootings[monthly_shootings['Year']>2013]).mark_line().encode(\n",
    "    x=alt.X('year-month:O', title='Mes', axis=None),\n",
    "    y=alt.Y('Total Shootings:Q', title='Nombre total de tirotejos')\n",
    ").properties(\n",
    "    title='Evolució mensual dels tirotejos massius als EUA per any',\n",
    "    width=1200\n",
    ")\n",
    "\n",
    "line_chart_mont_year"
   ]
  },
  {
   "cell_type": "markdown",
   "metadata": {},
   "source": [
    "Interesting, but uses way too much space"
   ]
  },
  {
   "cell_type": "code",
   "execution_count": 433,
   "metadata": {},
   "outputs": [
    {
     "data": {
      "text/html": [
       "\n",
       "<style>\n",
       "  #altair-viz-a2c2b143d77c4103b9b0459cf9427e8a.vega-embed {\n",
       "    width: 100%;\n",
       "    display: flex;\n",
       "  }\n",
       "\n",
       "  #altair-viz-a2c2b143d77c4103b9b0459cf9427e8a.vega-embed details,\n",
       "  #altair-viz-a2c2b143d77c4103b9b0459cf9427e8a.vega-embed details summary {\n",
       "    position: relative;\n",
       "  }\n",
       "</style>\n",
       "<div id=\"altair-viz-a2c2b143d77c4103b9b0459cf9427e8a\"></div>\n",
       "<script type=\"text/javascript\">\n",
       "  var VEGA_DEBUG = (typeof VEGA_DEBUG == \"undefined\") ? {} : VEGA_DEBUG;\n",
       "  (function(spec, embedOpt){\n",
       "    let outputDiv = document.currentScript.previousElementSibling;\n",
       "    if (outputDiv.id !== \"altair-viz-a2c2b143d77c4103b9b0459cf9427e8a\") {\n",
       "      outputDiv = document.getElementById(\"altair-viz-a2c2b143d77c4103b9b0459cf9427e8a\");\n",
       "    }\n",
       "    const paths = {\n",
       "      \"vega\": \"https://cdn.jsdelivr.net/npm/vega@5?noext\",\n",
       "      \"vega-lib\": \"https://cdn.jsdelivr.net/npm/vega-lib?noext\",\n",
       "      \"vega-lite\": \"https://cdn.jsdelivr.net/npm/vega-lite@5.20.1?noext\",\n",
       "      \"vega-embed\": \"https://cdn.jsdelivr.net/npm/vega-embed@6?noext\",\n",
       "    };\n",
       "\n",
       "    function maybeLoadScript(lib, version) {\n",
       "      var key = `${lib.replace(\"-\", \"\")}_version`;\n",
       "      return (VEGA_DEBUG[key] == version) ?\n",
       "        Promise.resolve(paths[lib]) :\n",
       "        new Promise(function(resolve, reject) {\n",
       "          var s = document.createElement('script');\n",
       "          document.getElementsByTagName(\"head\")[0].appendChild(s);\n",
       "          s.async = true;\n",
       "          s.onload = () => {\n",
       "            VEGA_DEBUG[key] = version;\n",
       "            return resolve(paths[lib]);\n",
       "          };\n",
       "          s.onerror = () => reject(`Error loading script: ${paths[lib]}`);\n",
       "          s.src = paths[lib];\n",
       "        });\n",
       "    }\n",
       "\n",
       "    function showError(err) {\n",
       "      outputDiv.innerHTML = `<div class=\"error\" style=\"color:red;\">${err}</div>`;\n",
       "      throw err;\n",
       "    }\n",
       "\n",
       "    function displayChart(vegaEmbed) {\n",
       "      vegaEmbed(outputDiv, spec, embedOpt)\n",
       "        .catch(err => showError(`Javascript Error: ${err.message}<br>This usually means there's a typo in your chart specification. See the javascript console for the full traceback.`));\n",
       "    }\n",
       "\n",
       "    if(typeof define === \"function\" && define.amd) {\n",
       "      requirejs.config({paths});\n",
       "      require([\"vega-embed\"], displayChart, err => showError(`Error loading script: ${err.message}`));\n",
       "    } else {\n",
       "      maybeLoadScript(\"vega\", \"5\")\n",
       "        .then(() => maybeLoadScript(\"vega-lite\", \"5.20.1\"))\n",
       "        .then(() => maybeLoadScript(\"vega-embed\", \"6\"))\n",
       "        .catch(showError)\n",
       "        .then(() => displayChart(vegaEmbed));\n",
       "    }\n",
       "  })({\"config\": {\"view\": {\"continuousWidth\": 300, \"continuousHeight\": 300}, \"legend\": {\"disable\": true}}, \"layer\": [{\"mark\": {\"type\": \"arc\", \"innerRadius\": 20, \"stroke\": \"#fff\"}, \"encoding\": {\"color\": {\"field\": \"Total Shootings\", \"scale\": {\"scheme\": \"reds\"}, \"type\": \"quantitative\"}, \"radius\": {\"field\": \"Total Shootings\", \"scale\": {\"type\": \"sqrt\", \"zero\": true, \"rangeMin\": 20}, \"type\": \"quantitative\"}, \"theta\": {\"field\": \"Month\", \"stack\": true, \"type\": \"ordinal\"}}}, {\"mark\": {\"type\": \"text\", \"radiusOffset\": 18}, \"encoding\": {\"color\": {\"condition\": {\"test\": \"datum.Total_Shootings > 5000\", \"value\": \"white\"}, \"value\": \"black\"}, \"radius\": {\"field\": \"Total Shootings\", \"scale\": {\"type\": \"sqrt\", \"zero\": true, \"rangeMin\": 20}, \"type\": \"quantitative\"}, \"text\": {\"field\": \"Mes\", \"type\": \"nominal\"}, \"theta\": {\"field\": \"Month\", \"stack\": true, \"type\": \"ordinal\"}}}], \"data\": {\"name\": \"data-7c76d77e7cdc2b9315b07d62cd61fbad\"}, \"height\": 400, \"title\": \"Mitjana mensual de tirotejos massius als EUA\", \"width\": 400, \"$schema\": \"https://vega.github.io/schema/vega-lite/v5.20.1.json\", \"datasets\": {\"data-7c76d77e7cdc2b9315b07d62cd61fbad\": [{\"Month\": 1, \"Total Shootings\": 29.2, \"Mes\": \"January\"}, {\"Month\": 2, \"Total Shootings\": 26.3, \"Mes\": \"February\"}, {\"Month\": 3, \"Total Shootings\": 28.8, \"Mes\": \"March\"}, {\"Month\": 4, \"Total Shootings\": 37.1, \"Mes\": \"April\"}, {\"Month\": 5, \"Total Shootings\": 48.7, \"Mes\": \"May\"}, {\"Month\": 6, \"Total Shootings\": 58.7, \"Mes\": \"June\"}, {\"Month\": 7, \"Total Shootings\": 62.2, \"Mes\": \"July\"}, {\"Month\": 8, \"Total Shootings\": 49.5, \"Mes\": \"August\"}, {\"Month\": 9, \"Total Shootings\": 42.6, \"Mes\": \"September\"}, {\"Month\": 10, \"Total Shootings\": 43.111111111111114, \"Mes\": \"October\"}, {\"Month\": 11, \"Total Shootings\": 34.666666666666664, \"Mes\": \"November\"}, {\"Month\": 12, \"Total Shootings\": 27.0, \"Mes\": \"December\"}]}}, {\"mode\": \"vega-lite\"});\n",
       "</script>"
      ],
      "text/plain": [
       "alt.LayerChart(...)"
      ]
     },
     "execution_count": 433,
     "metadata": {},
     "output_type": "execute_result"
    }
   ],
   "source": [
    "mesos = ['January', 'February', 'March', 'April', 'May', 'June', \n",
    "         'July', 'August', 'September', 'October', 'November', 'December']\n",
    "monthly_avg['Mes'] = [mesos[m-1] for m in monthly_avg['Month']]\n",
    "\n",
    "\n",
    "base = alt.Chart(monthly_avg).encode(\n",
    "    alt.Theta(\"Month:O\").stack(True),\n",
    "    alt.Radius(\"Total Shootings\").scale(type=\"sqrt\", zero=True, rangeMin=20),\n",
    "    alt.Color('Total Shootings:Q', scale=alt.Scale(scheme='reds'))  \n",
    ")\n",
    "\n",
    "\n",
    "c1 = base.mark_arc(innerRadius=20, stroke=\"#fff\")\n",
    "\n",
    "\n",
    "c2 = base.mark_text(\n",
    "    radiusOffset=18\n",
    ").encode(\n",
    "    text=\"Mes:N\",\n",
    "    color=alt.condition(\n",
    "        \"datum.Total_Shootings > \" + str(5000),\n",
    "        alt.value(\"white\"),\n",
    "        alt.value(\"black\"),\n",
    "    )\n",
    ")\n",
    "\n",
    "# Combine charts\n",
    "polar_area_chart = (c1 + c2).properties(\n",
    "    width=400,\n",
    "    height=400,\n",
    "    title=\"Mitjana mensual de tirotejos massius als EUA\"\n",
    ").configure_legend(\n",
    "    disable=True\n",
    ")\n",
    "\n",
    "polar_area_chart"
   ]
  },
  {
   "cell_type": "markdown",
   "metadata": {},
   "source": [
    "This chart is very nice visualy, but uses too much space for proving only the distribution amongh months. \n",
    "It would be good if we could show this dirtribution together with the first chart (shootings amongst years). If we only want to show the average distribution of shootings, we could use a 1x12 heatmap. It uses much less space and shows the trend perfectly."
   ]
  },
  {
   "cell_type": "code",
   "execution_count": 434,
   "metadata": {},
   "outputs": [
    {
     "data": {
      "text/html": [
       "\n",
       "<style>\n",
       "  #altair-viz-18e63121260f4b14bb34a2a05acdfcdd.vega-embed {\n",
       "    width: 100%;\n",
       "    display: flex;\n",
       "  }\n",
       "\n",
       "  #altair-viz-18e63121260f4b14bb34a2a05acdfcdd.vega-embed details,\n",
       "  #altair-viz-18e63121260f4b14bb34a2a05acdfcdd.vega-embed details summary {\n",
       "    position: relative;\n",
       "  }\n",
       "</style>\n",
       "<div id=\"altair-viz-18e63121260f4b14bb34a2a05acdfcdd\"></div>\n",
       "<script type=\"text/javascript\">\n",
       "  var VEGA_DEBUG = (typeof VEGA_DEBUG == \"undefined\") ? {} : VEGA_DEBUG;\n",
       "  (function(spec, embedOpt){\n",
       "    let outputDiv = document.currentScript.previousElementSibling;\n",
       "    if (outputDiv.id !== \"altair-viz-18e63121260f4b14bb34a2a05acdfcdd\") {\n",
       "      outputDiv = document.getElementById(\"altair-viz-18e63121260f4b14bb34a2a05acdfcdd\");\n",
       "    }\n",
       "    const paths = {\n",
       "      \"vega\": \"https://cdn.jsdelivr.net/npm/vega@5?noext\",\n",
       "      \"vega-lib\": \"https://cdn.jsdelivr.net/npm/vega-lib?noext\",\n",
       "      \"vega-lite\": \"https://cdn.jsdelivr.net/npm/vega-lite@5.20.1?noext\",\n",
       "      \"vega-embed\": \"https://cdn.jsdelivr.net/npm/vega-embed@6?noext\",\n",
       "    };\n",
       "\n",
       "    function maybeLoadScript(lib, version) {\n",
       "      var key = `${lib.replace(\"-\", \"\")}_version`;\n",
       "      return (VEGA_DEBUG[key] == version) ?\n",
       "        Promise.resolve(paths[lib]) :\n",
       "        new Promise(function(resolve, reject) {\n",
       "          var s = document.createElement('script');\n",
       "          document.getElementsByTagName(\"head\")[0].appendChild(s);\n",
       "          s.async = true;\n",
       "          s.onload = () => {\n",
       "            VEGA_DEBUG[key] = version;\n",
       "            return resolve(paths[lib]);\n",
       "          };\n",
       "          s.onerror = () => reject(`Error loading script: ${paths[lib]}`);\n",
       "          s.src = paths[lib];\n",
       "        });\n",
       "    }\n",
       "\n",
       "    function showError(err) {\n",
       "      outputDiv.innerHTML = `<div class=\"error\" style=\"color:red;\">${err}</div>`;\n",
       "      throw err;\n",
       "    }\n",
       "\n",
       "    function displayChart(vegaEmbed) {\n",
       "      vegaEmbed(outputDiv, spec, embedOpt)\n",
       "        .catch(err => showError(`Javascript Error: ${err.message}<br>This usually means there's a typo in your chart specification. See the javascript console for the full traceback.`));\n",
       "    }\n",
       "\n",
       "    if(typeof define === \"function\" && define.amd) {\n",
       "      requirejs.config({paths});\n",
       "      require([\"vega-embed\"], displayChart, err => showError(`Error loading script: ${err.message}`));\n",
       "    } else {\n",
       "      maybeLoadScript(\"vega\", \"5\")\n",
       "        .then(() => maybeLoadScript(\"vega-lite\", \"5.20.1\"))\n",
       "        .then(() => maybeLoadScript(\"vega-embed\", \"6\"))\n",
       "        .catch(showError)\n",
       "        .then(() => displayChart(vegaEmbed));\n",
       "    }\n",
       "  })({\"config\": {\"view\": {\"continuousWidth\": 300, \"continuousHeight\": 300}}, \"layer\": [{\"mark\": {\"type\": \"rect\"}, \"encoding\": {\"color\": {\"field\": \"Total Shootings\", \"legend\": null, \"scale\": {\"scheme\": \"lightorange\"}, \"type\": \"quantitative\"}, \"tooltip\": [{\"field\": \"Month Name\", \"title\": \"Month\", \"type\": \"nominal\"}, {\"field\": \"Total Shootings\", \"format\": \".1f\", \"title\": \"Average\", \"type\": \"quantitative\"}], \"y\": {\"field\": \"Month Name\", \"sort\": [\"January\", \"February\", \"March\", \"April\", \"May\", \"June\", \"July\", \"August\", \"September\", \"October\", \"November\", \"December\"], \"title\": null, \"type\": \"nominal\"}}, \"title\": {\"text\": [\"Average month\", \"ditribution\"], \"dy\": 0, \"fontSize\": 16}}, {\"mark\": {\"type\": \"text\", \"baseline\": \"middle\", \"color\": \"white\"}, \"encoding\": {\"text\": {\"field\": \"Total Shootings\", \"format\": \".1f\", \"type\": \"quantitative\"}, \"y\": {\"field\": \"Month Name\", \"sort\": [\"January\", \"February\", \"March\", \"April\", \"May\", \"June\", \"July\", \"August\", \"September\", \"October\", \"November\", \"December\"], \"type\": \"nominal\"}}}], \"data\": {\"name\": \"data-bda259859499f3b99bfb1fc1cd120c2b\"}, \"height\": 400, \"width\": 40, \"$schema\": \"https://vega.github.io/schema/vega-lite/v5.20.1.json\", \"datasets\": {\"data-bda259859499f3b99bfb1fc1cd120c2b\": [{\"Month\": 1, \"Total Shootings\": 29.2, \"Month Name\": \"January\"}, {\"Month\": 2, \"Total Shootings\": 26.3, \"Month Name\": \"February\"}, {\"Month\": 3, \"Total Shootings\": 28.8, \"Month Name\": \"March\"}, {\"Month\": 4, \"Total Shootings\": 37.1, \"Month Name\": \"April\"}, {\"Month\": 5, \"Total Shootings\": 48.7, \"Month Name\": \"May\"}, {\"Month\": 6, \"Total Shootings\": 58.7, \"Month Name\": \"June\"}, {\"Month\": 7, \"Total Shootings\": 62.2, \"Month Name\": \"July\"}, {\"Month\": 8, \"Total Shootings\": 49.5, \"Month Name\": \"August\"}, {\"Month\": 9, \"Total Shootings\": 42.6, \"Month Name\": \"September\"}, {\"Month\": 10, \"Total Shootings\": 43.111111111111114, \"Month Name\": \"October\"}, {\"Month\": 11, \"Total Shootings\": 34.666666666666664, \"Month Name\": \"November\"}, {\"Month\": 12, \"Total Shootings\": 27.0, \"Month Name\": \"December\"}]}}, {\"mode\": \"vega-lite\"});\n",
       "</script>"
      ],
      "text/plain": [
       "alt.LayerChart(...)"
      ]
     },
     "execution_count": 434,
     "metadata": {},
     "output_type": "execute_result"
    }
   ],
   "source": [
    "import pandas as pd\n",
    "import altair as alt\n",
    "\n",
    "\n",
    "monthly_avg = monthly_shootings.groupby('Month')['Total Shootings'].mean().reset_index()\n",
    "\n",
    "\n",
    "months = ['January', 'February', 'March', 'April', 'May', 'June', \n",
    "          'July', 'August', 'September', 'October', 'November', 'December']\n",
    "monthly_avg['Month Name'] = [months[m-1] for m in monthly_avg['Month']]\n",
    "\n",
    "\n",
    "heatmap = alt.Chart(monthly_avg).mark_rect().encode(\n",
    "    y=alt.Y('Month Name:N', sort=months, title=None),  # Canviar a l'eix Y\n",
    "    color=alt.Color('Total Shootings:Q',\n",
    "                    scale=alt.Scale(scheme='lightorange'),legend=None),\n",
    "    tooltip=[\n",
    "        alt.Tooltip('Month Name:N', title='Month'),\n",
    "        alt.Tooltip('Total Shootings:Q', title='Average', format='.1f')\n",
    "    ]\n",
    ").properties(\n",
    "    width=40,\n",
    "    height=400,\n",
    "    title={\n",
    "        \"text\":['Average month','ditribution'],\n",
    "        \"dy\": 0,\n",
    "        \"fontSize\": 16\n",
    "        }\n",
    ")\n",
    "\n",
    "text = alt.Chart(monthly_avg).mark_text(\n",
    "    baseline='middle',\n",
    "    color='white'\n",
    ").encode(\n",
    "    y=alt.Y('Month Name:N', sort=months),\n",
    "    text=alt.Text('Total Shootings:Q', format='.1f')\n",
    ")\n",
    "\n",
    "heatmap_month_distribution = (heatmap + text)\n",
    "\n",
    "heatmap_month_distribution\n"
   ]
  },
  {
   "cell_type": "markdown",
   "metadata": {},
   "source": [
    "Much better. Let's try to visualize this chart together with the first one:"
   ]
  },
  {
   "cell_type": "markdown",
   "metadata": {},
   "source": [
    "#### Final visualization 4"
   ]
  },
  {
   "cell_type": "code",
   "execution_count": 435,
   "metadata": {},
   "outputs": [
    {
     "data": {
      "text/html": [
       "\n",
       "<style>\n",
       "  #altair-viz-a36e12dec7e94329bb3df81a9d77ad52.vega-embed {\n",
       "    width: 100%;\n",
       "    display: flex;\n",
       "  }\n",
       "\n",
       "  #altair-viz-a36e12dec7e94329bb3df81a9d77ad52.vega-embed details,\n",
       "  #altair-viz-a36e12dec7e94329bb3df81a9d77ad52.vega-embed details summary {\n",
       "    position: relative;\n",
       "  }\n",
       "</style>\n",
       "<div id=\"altair-viz-a36e12dec7e94329bb3df81a9d77ad52\"></div>\n",
       "<script type=\"text/javascript\">\n",
       "  var VEGA_DEBUG = (typeof VEGA_DEBUG == \"undefined\") ? {} : VEGA_DEBUG;\n",
       "  (function(spec, embedOpt){\n",
       "    let outputDiv = document.currentScript.previousElementSibling;\n",
       "    if (outputDiv.id !== \"altair-viz-a36e12dec7e94329bb3df81a9d77ad52\") {\n",
       "      outputDiv = document.getElementById(\"altair-viz-a36e12dec7e94329bb3df81a9d77ad52\");\n",
       "    }\n",
       "    const paths = {\n",
       "      \"vega\": \"https://cdn.jsdelivr.net/npm/vega@5?noext\",\n",
       "      \"vega-lib\": \"https://cdn.jsdelivr.net/npm/vega-lib?noext\",\n",
       "      \"vega-lite\": \"https://cdn.jsdelivr.net/npm/vega-lite@5.20.1?noext\",\n",
       "      \"vega-embed\": \"https://cdn.jsdelivr.net/npm/vega-embed@6?noext\",\n",
       "    };\n",
       "\n",
       "    function maybeLoadScript(lib, version) {\n",
       "      var key = `${lib.replace(\"-\", \"\")}_version`;\n",
       "      return (VEGA_DEBUG[key] == version) ?\n",
       "        Promise.resolve(paths[lib]) :\n",
       "        new Promise(function(resolve, reject) {\n",
       "          var s = document.createElement('script');\n",
       "          document.getElementsByTagName(\"head\")[0].appendChild(s);\n",
       "          s.async = true;\n",
       "          s.onload = () => {\n",
       "            VEGA_DEBUG[key] = version;\n",
       "            return resolve(paths[lib]);\n",
       "          };\n",
       "          s.onerror = () => reject(`Error loading script: ${paths[lib]}`);\n",
       "          s.src = paths[lib];\n",
       "        });\n",
       "    }\n",
       "\n",
       "    function showError(err) {\n",
       "      outputDiv.innerHTML = `<div class=\"error\" style=\"color:red;\">${err}</div>`;\n",
       "      throw err;\n",
       "    }\n",
       "\n",
       "    function displayChart(vegaEmbed) {\n",
       "      vegaEmbed(outputDiv, spec, embedOpt)\n",
       "        .catch(err => showError(`Javascript Error: ${err.message}<br>This usually means there's a typo in your chart specification. See the javascript console for the full traceback.`));\n",
       "    }\n",
       "\n",
       "    if(typeof define === \"function\" && define.amd) {\n",
       "      requirejs.config({paths});\n",
       "      require([\"vega-embed\"], displayChart, err => showError(`Error loading script: ${err.message}`));\n",
       "    } else {\n",
       "      maybeLoadScript(\"vega\", \"5\")\n",
       "        .then(() => maybeLoadScript(\"vega-lite\", \"5.20.1\"))\n",
       "        .then(() => maybeLoadScript(\"vega-embed\", \"6\"))\n",
       "        .catch(showError)\n",
       "        .then(() => displayChart(vegaEmbed));\n",
       "    }\n",
       "  })({\"config\": {\"view\": {\"continuousWidth\": 300, \"continuousHeight\": 300}, \"axis\": {\"labelAngle\": 0, \"labelFontSize\": 12}, \"title\": {\"anchor\": \"middle\", \"fontSize\": 14}}, \"hconcat\": [{\"layer\": [{\"layer\": [{\"data\": {\"name\": \"empty\"}, \"mark\": {\"type\": \"rect\", \"color\": \"#aed6f1\", \"opacity\": 1}, \"encoding\": {\"x\": {\"value\": 0}, \"x2\": {\"value\": 160.5}, \"y\": {\"value\": 0}, \"y2\": {\"value\": 400}}}, {\"data\": {\"name\": \"empty\"}, \"mark\": {\"type\": \"rect\", \"color\": \"#f5b7b1\", \"opacity\": 1}, \"encoding\": {\"x\": {\"value\": 160}, \"x2\": {\"value\": 341}, \"y\": {\"value\": 0}, \"y2\": {\"value\": 400}}}, {\"data\": {\"name\": \"empty\"}, \"mark\": {\"type\": \"rect\", \"color\": \"#aed6f1\", \"opacity\": 1}, \"encoding\": {\"x\": {\"value\": 341.2}, \"x2\": {\"value\": 500}, \"y\": {\"value\": 0}, \"y2\": {\"value\": 400}}}]}, {\"data\": {\"name\": \"data-8277c5bc2dc8e16647ea5c377e998d75\"}, \"mark\": {\"type\": \"rule\", \"color\": \"black\", \"opacity\": 0.5, \"size\": 0.8}, \"encoding\": {\"y\": {\"axis\": null, \"field\": \"y\", \"title\": null, \"type\": \"quantitative\"}}}, {\"data\": {\"name\": \"data-026688d2d0c5dd192a7b9b24d926d62a\"}, \"mark\": {\"type\": \"line\", \"color\": \"black\", \"point\": {\"fill\": \"black\", \"filled\": true}, \"strokeWidth\": 2.5}, \"encoding\": {\"x\": {\"axis\": {\"grid\": false, \"labelAngle\": 0}, \"field\": \"Year\", \"title\": \"Year\", \"type\": \"ordinal\"}, \"y\": {\"field\": \"Total Shootings\", \"scale\": {\"domain\": [250, 710]}, \"title\": \"Total Shootings\", \"type\": \"quantitative\"}}, \"title\": \"Total Shootings per Year in the USA\"}, {\"data\": {\"name\": \"data-f5a0d41705e3d31c152a62c5ab6ce522\"}, \"mark\": {\"type\": \"area\"}, \"encoding\": {\"color\": {\"field\": \"governement\", \"legend\": {\"cornerRadius\": 10, \"fillColor\": \"#EEEEEE\", \"orient\": \"top-left\", \"padding\": 10, \"strokeColor\": \"gray\", \"titleAnchor\": \"middle\"}, \"scale\": {\"domain\": [\"Democratic\", \"Republican\"], \"range\": [\"#aed6f1\", \"#f5b7b1\"]}, \"type\": \"nominal\"}, \"x\": {\"axis\": {\"labelAngle\": 0}, \"field\": \"Year\", \"title\": \"Year\", \"type\": \"ordinal\"}, \"y\": {\"axis\": null, \"field\": \"y1\", \"scale\": {\"domain\": [200, 720]}, \"title\": \"Total Shootings\", \"type\": \"quantitative\"}, \"y2\": {\"field\": \"y2\"}}}], \"height\": 400, \"resolve\": {\"scale\": {\"y\": \"independent\"}}, \"title\": \"Total Shootings per Year in the USA\", \"width\": 500}, {\"layer\": [{\"mark\": {\"type\": \"rect\"}, \"encoding\": {\"color\": {\"field\": \"Total Shootings\", \"legend\": null, \"scale\": {\"scheme\": \"lightorange\"}, \"type\": \"quantitative\"}, \"tooltip\": [{\"field\": \"Month Name\", \"title\": \"Month\", \"type\": \"nominal\"}, {\"field\": \"Total Shootings\", \"format\": \".1f\", \"title\": \"Average\", \"type\": \"quantitative\"}], \"y\": {\"field\": \"Month Name\", \"sort\": [\"January\", \"February\", \"March\", \"April\", \"May\", \"June\", \"July\", \"August\", \"September\", \"October\", \"November\", \"December\"], \"title\": null, \"type\": \"nominal\"}}, \"title\": {\"text\": [\"Average month\", \"ditribution\"], \"dy\": 0, \"fontSize\": 16}}, {\"mark\": {\"type\": \"text\", \"baseline\": \"middle\", \"color\": \"white\"}, \"encoding\": {\"text\": {\"field\": \"Total Shootings\", \"format\": \".1f\", \"type\": \"quantitative\"}, \"y\": {\"field\": \"Month Name\", \"sort\": [\"January\", \"February\", \"March\", \"April\", \"May\", \"June\", \"July\", \"August\", \"September\", \"October\", \"November\", \"December\"], \"type\": \"nominal\"}}}], \"data\": {\"name\": \"data-bda259859499f3b99bfb1fc1cd120c2b\"}, \"height\": 400, \"width\": 40}], \"resolve\": {\"scale\": {\"color\": \"independent\"}}, \"$schema\": \"https://vega.github.io/schema/vega-lite/v5.20.1.json\", \"datasets\": {\"empty\": [{}], \"data-8277c5bc2dc8e16647ea5c377e998d75\": [{\"y\": 0}, {\"y\": 50}, {\"y\": 100}, {\"y\": 150}, {\"y\": 200}, {\"y\": 250}, {\"y\": 300}, {\"y\": 350}, {\"y\": 400}, {\"y\": 450}, {\"y\": 500}, {\"y\": 550}, {\"y\": 600}, {\"y\": 650}, {\"y\": 700}], \"data-026688d2d0c5dd192a7b9b24d926d62a\": [{\"Year\": 2014, \"Total Shootings\": 271}, {\"Year\": 2015, \"Total Shootings\": 331}, {\"Year\": 2016, \"Total Shootings\": 379}, {\"Year\": 2017, \"Total Shootings\": 343}, {\"Year\": 2018, \"Total Shootings\": 330}, {\"Year\": 2019, \"Total Shootings\": 410}, {\"Year\": 2020, \"Total Shootings\": 610}, {\"Year\": 2021, \"Total Shootings\": 682}, {\"Year\": 2022, \"Total Shootings\": 642}, {\"Year\": 2023, \"Total Shootings\": 651}, {\"Year\": 2024, \"Total Shootings\": 396}], \"data-f5a0d41705e3d31c152a62c5ab6ce522\": [{\"Year\": 2014, \"y1\": 0, \"y2\": 0, \"governement\": \"Democratic\"}, {\"Year\": 2015, \"y1\": 0, \"y2\": 0, \"governement\": \"Democratic\"}, {\"Year\": 2016, \"y1\": 0, \"y2\": 0, \"governement\": \"Democratic\"}, {\"Year\": 2017, \"y1\": 0, \"y2\": 0, \"governement\": \"Republican\"}, {\"Year\": 2018, \"y1\": 0, \"y2\": 0, \"governement\": \"Republican\"}, {\"Year\": 2019, \"y1\": 0, \"y2\": 0, \"governement\": \"Republican\"}, {\"Year\": 2020, \"y1\": 0, \"y2\": 0, \"governement\": \"Republican\"}, {\"Year\": 2021, \"y1\": 0, \"y2\": 0, \"governement\": \"Republican\"}, {\"Year\": 2022, \"y1\": 0, \"y2\": 0, \"governement\": \"Democratic\"}, {\"Year\": 2023, \"y1\": 0, \"y2\": 0, \"governement\": \"Democratic\"}, {\"Year\": 2024, \"y1\": 0, \"y2\": 0, \"governement\": \"Democratic\"}], \"data-bda259859499f3b99bfb1fc1cd120c2b\": [{\"Month\": 1, \"Total Shootings\": 29.2, \"Month Name\": \"January\"}, {\"Month\": 2, \"Total Shootings\": 26.3, \"Month Name\": \"February\"}, {\"Month\": 3, \"Total Shootings\": 28.8, \"Month Name\": \"March\"}, {\"Month\": 4, \"Total Shootings\": 37.1, \"Month Name\": \"April\"}, {\"Month\": 5, \"Total Shootings\": 48.7, \"Month Name\": \"May\"}, {\"Month\": 6, \"Total Shootings\": 58.7, \"Month Name\": \"June\"}, {\"Month\": 7, \"Total Shootings\": 62.2, \"Month Name\": \"July\"}, {\"Month\": 8, \"Total Shootings\": 49.5, \"Month Name\": \"August\"}, {\"Month\": 9, \"Total Shootings\": 42.6, \"Month Name\": \"September\"}, {\"Month\": 10, \"Total Shootings\": 43.111111111111114, \"Month Name\": \"October\"}, {\"Month\": 11, \"Total Shootings\": 34.666666666666664, \"Month Name\": \"November\"}, {\"Month\": 12, \"Total Shootings\": 27.0, \"Month Name\": \"December\"}]}}, {\"mode\": \"vega-lite\"});\n",
       "</script>"
      ],
      "text/plain": [
       "alt.HConcatChart(...)"
      ]
     },
     "execution_count": 435,
     "metadata": {},
     "output_type": "execute_result"
    }
   ],
   "source": [
    "# Crear el gràfic concatenat sense configuracions individuals\n",
    "combined_chart = alt.hconcat(\n",
    "    chart_with_background,\n",
    "    heatmap_month_distribution\n",
    ").resolve_scale(\n",
    "    color='independent'\n",
    ").configure_axis(\n",
    "    labelAngle=0,\n",
    "    labelFontSize=12\n",
    ").configure_title(\n",
    "    fontSize=14,\n",
    "    anchor='middle'\n",
    ")\n",
    "\n",
    "combined_chart\n"
   ]
  },
  {
   "cell_type": "markdown",
   "metadata": {},
   "source": [
    "what type of chart did you select and why, what were the different steps of design\n",
    "process you followed, what changes you applied to improve legibility, reduce clutter, distinguish\n",
    "elements, how would a person answer the question with your chart, what other alternatives did not\n",
    "work."
   ]
  },
  {
   "cell_type": "markdown",
   "metadata": {},
   "source": [
    "\n",
    "<h4 style=\"color:goldenrod\"> Visualization descprition </h4>"
   ]
  },
  {
   "cell_type": "markdown",
   "metadata": {},
   "source": [
    "To analyze how shootings in the USA have evolved in recent years, we initially identified two key aspects:\n",
    "\n",
    "- Showing the yearly trend of shootings.\n",
    "- Showing the monthly distribution of shootings.\n",
    "    \n",
    "For the yearly trend, we decided on a line chart, as it effectively represents temporal data and makes trends clear. Initially, we tried plotting a line for each state, but the result was cluttered with 50+ lines. Instead, we aggregated all states to show the total shootings nationwide. Additionally, we incorporated the governing political party by coloring the chart's background, which was visually clear and used space efficiently.\n",
    "\n",
    "For the monthly trend, the solution wasn’t as straightforward. We first attempted a line chart with total shootings per month and lines for each year, but this created too much clutter. Limiting it to the last five years improved readability, revealing a clear seasonal pattern with higher shootings in summer.\n",
    "\n",
    "We also tried a polar chart, which was visually appealing but used too much space for the information conveyed. Finally, we opted for a 1D heatmap, encoding the average shootings per month with color. This approach effectively displayed the monthly distribution while occupying minimal space.\n",
    "\n",
    "This combination of visualizations allowed us to communicate both annual trends and monthly patterns effectively."
   ]
  },
  {
   "cell_type": "code",
   "execution_count": null,
   "metadata": {},
   "outputs": [],
   "source": [
    "import os \n",
    "# os.system('streamlit run ./static_vi.py')"
   ]
  }
 ],
 "metadata": {
  "kernelspec": {
   "display_name": "Python 3",
   "language": "python",
   "name": "python3"
  },
  "language_info": {
   "codemirror_mode": {
    "name": "ipython",
    "version": 3
   },
   "file_extension": ".py",
   "mimetype": "text/x-python",
   "name": "python",
   "nbconvert_exporter": "python",
   "pygments_lexer": "ipython3",
   "version": "3.11.2"
  }
 },
 "nbformat": 4,
 "nbformat_minor": 2
}
