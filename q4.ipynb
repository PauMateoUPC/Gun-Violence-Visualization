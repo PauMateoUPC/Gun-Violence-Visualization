{
 "cells": [
  {
   "cell_type": "markdown",
   "metadata": {},
   "source": [
    "Q4 (linechart)\n",
    "county, state, shootings, year"
   ]
  },
  {
   "cell_type": "code",
   "execution_count": null,
   "metadata": {},
   "outputs": [],
   "source": [
    "import pandas as pd\n",
    "import altair as alt"
   ]
  },
  {
   "cell_type": "code",
   "execution_count": null,
   "metadata": {},
   "outputs": [],
   "source": [
    "shootings_count = df_shootings.groupby(['City Or County', 'State', 'Year']).size().reset_index(name='Shootings')\n",
    "print(shootings_count.head())\n",
    "us_shootings = shootings_count[['Year', 'Shootings']].groupby(['Year']).sum().reset_index()\n",
    "print(us_shootings.head())\n",
    "\n",
    "chart = alt.Chart(us_shootings).mark_line().encode(\n",
    "    alt.X('Year:N'),\n",
    "    alt.Y('Shootings:Q', axis=alt.Axis(title='Total Shootings in the USA')),\n",
    ")\n",
    "\n",
    "chart_with_points = chart + alt.Chart(us_shootings).mark_point(size=10).encode(\n",
    "    alt.X('Year:N'),\n",
    "    alt.Y('Shootings:Q'),\n",
    ")\n",
    "\n",
    "chart_with_points"
   ]
  },
  {
   "cell_type": "code",
   "execution_count": null,
   "metadata": {},
   "outputs": [],
   "source": []
  }
 ],
 "metadata": {
  "language_info": {
   "name": "python"
  }
 },
 "nbformat": 4,
 "nbformat_minor": 2
}
