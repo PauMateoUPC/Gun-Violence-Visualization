{
 "cells": [
  {
   "cell_type": "markdown",
   "metadata": {},
   "source": [
    "Q1: What are the states with large number of mass shootings per citizen?\n",
    "\n",
    "county, state, ratio, year\n",
    "\n",
    "Barchart\n",
    "\n",
    "fem agregacio avg groupby year\n",
    "\n",
    "- idea: incloure shootings a europe amb un altre color/linia de punts (encodes diferent info) \n"
   ]
  },
  {
   "cell_type": "code",
   "execution_count": null,
   "metadata": {},
   "outputs": [],
   "source": [
    "import pandas as pd\n",
    "import altair as alt"
   ]
  },
  {
   "cell_type": "code",
   "execution_count": null,
   "metadata": {},
   "outputs": [],
   "source": [
    "# fem el promig de ratios per cada any\n",
    "df = pd.read_csv('agg_dataframes/county_ratios_year.csv')\n",
    "county_ratio = df.groupby(['City or County', 'Year'])['Ratio'].mean().reset_index(name='Mean Ratio')\n",
    "print(county_ratio.head())"
   ]
  },
  {
   "cell_type": "code",
   "execution_count": null,
   "metadata": {},
   "outputs": [],
   "source": [
    "chart = alt.Chart(county_ratio).mark_bar().encode(\n",
    "    alt.X('City or County:N'),  #nominal variable\n",
    "    alt.Y('Mean Ratio:Q'),  #quantity data\n",
    ").properties(title = 'Ratio per county')"
   ]
  }
 ],
 "metadata": {
  "kernelspec": {
   "display_name": "Python 3",
   "language": "python",
   "name": "python3"
  },
  "language_info": {
   "name": "python",
   "version": "3.11.2"
  }
 },
 "nbformat": 4,
 "nbformat_minor": 2
}
