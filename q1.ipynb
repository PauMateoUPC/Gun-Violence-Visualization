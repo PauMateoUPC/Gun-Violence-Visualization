{
 "cells": [
  {
   "cell_type": "markdown",
   "metadata": {},
   "source": [
    "Q1: What are the states with large number of mass shootings per citizen?\n",
    "\n",
    "county, state, ratio, year\n",
    "\n",
    "Barchart\n",
    "\n",
    "fem agregacio avg groupby year\n",
    "\n",
    "- idea: incloure shootings a europe amb un altre color/linia de punts (encodes diferent info) \n"
   ]
  },
  {
   "cell_type": "code",
   "execution_count": 26,
   "metadata": {},
   "outputs": [],
   "source": [
    "import pandas as pd\n",
    "import altair as alt"
   ]
  },
  {
   "cell_type": "code",
   "execution_count": 27,
   "metadata": {},
   "outputs": [
    {
     "name": "stdout",
     "output_type": "stream",
     "text": [
      "   City or County  Mean Ratio\n",
      "0    Bexar County         0.5\n",
      "1  Broward County         0.7\n",
      "2    Clark County         0.6\n",
      "3     Cook County         0.6\n",
      "4   Dallas County         0.6\n"
     ]
    }
   ],
   "source": [
    "# fem el promig de ratios per cada any\n",
    "#df = pd.read_csv('agg_dataframes/county_ratios_year.csv')\n",
    "data = [\n",
    "    {'City or County': 'Los Angeles County', 'State': 'California', 'Ratio': 0.8, 'Republican_Count': 0, 'Year': 2020},\n",
    "    {'City or County': 'Cook County', 'State': 'Illinois', 'Ratio': 0.6, 'Republican_Count': 1, 'Year': 2020},\n",
    "    {'City or County': 'Harris County', 'State': 'Texas', 'Ratio': 0.7, 'Republican_Count': 3, 'Year': 2020},\n",
    "    {'City or County': 'Maricopa County', 'State': 'Arizona', 'Ratio': 0.5, 'Republican_Count': 2, 'Year': 2020},\n",
    "    {'City or County': 'Miami-Dade County', 'State': 'Florida', 'Ratio': 0.3, 'Republican_Count': 3, 'Year': 2020},\n",
    "    {'City or County': 'Kings County', 'State': 'New York', 'Ratio': 0.4, 'Republican_Count': 0, 'Year': 2020},\n",
    "    {'City or County': 'Clark County', 'State': 'Nevada', 'Ratio': 0.6, 'Republican_Count': 2, 'Year': 2020},\n",
    "    {'City or County': 'King County', 'State': 'Washington', 'Ratio': 0.5, 'Republican_Count': 0, 'Year': 2020},\n",
    "    {'City or County': 'Broward County', 'State': 'Florida', 'Ratio': 0.7, 'Republican_Count': 3, 'Year': 2020},\n",
    "    {'City or County': 'Wayne County', 'State': 'Michigan', 'Ratio': 0.4, 'Republican_Count': 1, 'Year': 2020},\n",
    "    {'City or County': 'Dallas County', 'State': 'Texas', 'Ratio': 0.6, 'Republican_Count': 3, 'Year': 2020},\n",
    "    {'City or County': 'San Diego County', 'State': 'California', 'Ratio': 0.5, 'Republican_Count': 0, 'Year': 2020},\n",
    "    {'City or County': 'Orange County', 'State': 'Florida', 'Ratio': 0.6, 'Republican_Count': 3, 'Year': 2020},\n",
    "    {'City or County': 'Tarrant County', 'State': 'Texas', 'Ratio': 0.7, 'Republican_Count': 4, 'Year': 2020},\n",
    "    {'City or County': 'Bexar County', 'State': 'Texas', 'Ratio': 0.5, 'Republican_Count': 2, 'Year': 2020}\n",
    "]\n",
    "\n",
    "\n",
    "# Convertir a DataFrame\n",
    "df = pd.DataFrame(data)\n",
    "\n",
    "\n",
    "county_ratio = df.groupby(['City or County'])['Ratio'].mean().reset_index(name='Mean Ratio')\n",
    "state_ratio = df.groupby(['State'])['Ratio'].mean().reset_index(name='Mean Ratio')\n",
    "print(county_ratio.head())"
   ]
  },
  {
   "cell_type": "code",
   "execution_count": 28,
   "metadata": {},
   "outputs": [
    {
     "name": "stdout",
     "output_type": "stream",
     "text": [
      "{'Alabama': 4, 'Alaska': 4, 'Arizona': 3, 'Arkansas': 4, 'California': 0, 'Colorado': 0, 'Connecticut': 0, 'Delaware': 0, 'District of Columbia': 0, 'Florida': 3, 'Georgia': 3, 'Hawaii': 0, 'Idaho': 4, 'Illinois': 0, 'Indiana': 4, 'Iowa': 3, 'Kansas': 4, 'Kentucky': 4, 'Louisiana': 4, 'Maine': 0, 'Maryland': 0, 'Massachusetts': 0, 'Michigan': 2, 'Minnesota': 0, 'Mississippi': 4, 'Missouri': 4, 'Montana': 4, 'Nebraska': 4, 'Nevada': 1, 'New Hampshire': 0, 'New Jersey': 0, 'New Mexico': 0, 'New York': 0, 'North Carolina': 4, 'North Dakota': 4, 'Ohio': 3, 'Oklahoma': 4, 'Oregon': 0, 'Pennsylvania': 2, 'Rhode Island': 0, 'South Carolina': 4, 'South Dakota': 4, 'Tennessee': 4, 'Texas': 4, 'Utah': 4, 'Vermont': 0, 'Virginia': 0, 'Washington': 0, 'West Virginia': 4, 'Wisconsin': 2, 'Wyoming': 4}\n"
     ]
    }
   ],
   "source": [
    "# 2024\n",
    "red24 = [\"Alabama\", \"Alaska\", \"Arizona\", \"Arkansas\", \"Florida\", \"Georgia\", \"Idaho\", \"Indiana\", \"Iowa\", \"Kansas\", \"Kentucky\", \"Louisiana\", \"Michigan\", \"Mississippi\", \"Missouri\", \"Montana\", \"Nebraska\", \"Nevada\", \"North Carolina\", \"North Dakota\", \"Ohio\", \"Oklahoma\", \"Pennsylvania\", \"South Carolina\", \"South Dakota\", \"Tennessee\", \"Texas\", \"Utah\", \"West Virginia\", \"Wisconsin\", \"Wyoming\"]\n",
    "blue24 = [\"California\", \"Colorado\", \"Connecticut\", \"Delaware\", \"District of Columbia\", \"Hawaii\", \"Illinois\", \"Maine\", \"Maryland\", \"Massachusetts\", \"Minnesota\", \"New Hampshire\", \"New Jersey\", \"New Mexico\", \"New York\", \"Oregon\", \"Rhode Island\", \"Vermont\", \"Virginia\", \"Washington\"]\n",
    "\n",
    "# 2020\n",
    "red20 = [\"Alabama\", \"Alaska\", \"Arkansas\", \"Florida\", \"Idaho\", \"Indiana\", \"Iowa\", \"Kansas\", \"Kentucky\", \"Louisiana\", \"Mississippi\", \"Missouri\", \"Montana\", \"Nebraska\", \"North Carolina\", \"North Dakota\", \"Ohio\", \"Oklahoma\", \"South Carolina\", \"South Dakota\", \"Tennessee\", \"Texas\", \"Utah\", \"West Virginia\", \"Wyoming\"]\n",
    "blue20 = [\"Arizona\", \"California\", \"Colorado\", \"Connecticut\", \"Delaware\", \"District of Columbia\", \"Georgia\", \"Hawaii\", \"Illinois\", \"Maine\", \"Maryland\", \"Massachusetts\", \"Michigan\", \"Minnesota\", \"Nevada\", \"New Hampshire\", \"New Jersey\", \"New Mexico\", \"New York\", \"Oregon\", \"Pennsylvania\", \"Rhode Island\", \"Vermont\", \"Virginia\", \"Washington\", \"Wisconsin\"]\n",
    "\n",
    "# 2016\n",
    "red16 = [\"Alabama\", \"Alaska\", \"Arizona\", \"Arkansas\", \"Florida\", \"Georgia\", \"Idaho\", \"Indiana\", \"Iowa\", \"Kansas\", \"Kentucky\", \"Louisiana\", \"Michigan\", \"Mississippi\", \"Missouri\", \"Montana\", \"Nebraska\", \"North Carolina\", \"North Dakota\", \"Ohio\", \"Oklahoma\", \"Pennsylvania\", \"South Carolina\", \"South Dakota\", \"Tennessee\", \"Texas\", \"Utah\", \"West Virginia\", \"Wisconsin\", \"Wyoming\"]\n",
    "blue16 = [\"California\", \"Colorado\", \"Connecticut\", \"Delaware\", \"District of Columbia\", \"Hawaii\", \"Illinois\", \"Maine\", \"Maryland\", \"Massachusetts\", \"Minnesota\", \"Nevada\", \"New Hampshire\", \"New Jersey\", \"New Mexico\", \"New York\", \"Oregon\", \"Rhode Island\", \"Vermont\", \"Virginia\", \"Washington\"]\n",
    "\n",
    "# 2012\n",
    "red12 = [\"Alabama\", \"Alaska\", \"Arizona\", \"Arkansas\", \"Georgia\", \"Idaho\", \"Indiana\", \"Kansas\", \"Kentucky\", \"Louisiana\", \"Mississippi\", \"Missouri\", \"Montana\", \"Nebraska\", \"North Carolina\", \"North Dakota\", \"Oklahoma\", \"South Carolina\", \"South Dakota\", \"Tennessee\", \"Texas\", \"Utah\", \"West Virginia\", \"Wyoming\"]\n",
    "blue12 = [\"California\", \"Colorado\", \"Connecticut\", \"Delaware\", \"District of Columbia\", \"Florida\", \"Hawaii\", \"Illinois\", \"Iowa\", \"Maine\", \"Maryland\", \"Massachusetts\", \"Michigan\", \"Minnesota\", \"Nevada\", \"New Hampshire\", \"New Jersey\", \"New Mexico\", \"New York\", \"Ohio\", \"Oregon\", \"Pennsylvania\", \"Rhode Island\", \"Vermont\", \"Virginia\", \"Washington\", \"Wisconsin\"]\n",
    "\n",
    "states = (\"Alabama\", \"Alaska\", \"Arizona\", \"Arkansas\", \"California\", \"Colorado\", \"Connecticut\", \"Delaware\", \"District of Columbia\", \"Florida\", \"Georgia\", \"Hawaii\", \"Idaho\", \"Illinois\", \"Indiana\", \"Iowa\", \"Kansas\", \"Kentucky\", \"Louisiana\", \"Maine\", \"Maryland\", \"Massachusetts\", \"Michigan\", \"Minnesota\", \"Mississippi\", \"Missouri\", \"Montana\", \"Nebraska\", \"Nevada\", \"New Hampshire\", \"New Jersey\", \"New Mexico\", \"New York\", \"North Carolina\", \"North Dakota\", \"Ohio\", \"Oklahoma\", \"Oregon\", \"Pennsylvania\", \"Rhode Island\", \"South Carolina\", \"South Dakota\", \"Tennessee\", \"Texas\", \"Utah\", \"Vermont\", \"Virginia\", \"Washington\", \"West Virginia\", \"Wisconsin\", \"Wyoming\")\n",
    "\n",
    "\n",
    "\n",
    "state_count_red = {state: (state in red24) + (state in red20) + (state in red16) + (state in red12) for state in states}\n",
    "\n",
    "state_ratio[\"Republican Vote\"] = state_ratio[\"State\"].map(state_count_red)\n",
    "print(state_count_red)"
   ]
  },
  {
   "cell_type": "code",
   "execution_count": null,
   "metadata": {},
   "outputs": [
    {
     "name": "stdout",
     "output_type": "stream",
     "text": [
      "      State  Mean Ratio  Republican Vote\n",
      "4  Michigan         0.4                2\n",
      "['#0000FF', '#ADD8E6', '#800080', '#FF6666', '#FF0000']\n"
     ]
    },
    {
     "data": {
      "text/html": [
       "\n",
       "<style>\n",
       "  #altair-viz-99b390ce95ff4318bf34637ba2388d25.vega-embed {\n",
       "    width: 100%;\n",
       "    display: flex;\n",
       "  }\n",
       "\n",
       "  #altair-viz-99b390ce95ff4318bf34637ba2388d25.vega-embed details,\n",
       "  #altair-viz-99b390ce95ff4318bf34637ba2388d25.vega-embed details summary {\n",
       "    position: relative;\n",
       "  }\n",
       "</style>\n",
       "<div id=\"altair-viz-99b390ce95ff4318bf34637ba2388d25\"></div>\n",
       "<script type=\"text/javascript\">\n",
       "  var VEGA_DEBUG = (typeof VEGA_DEBUG == \"undefined\") ? {} : VEGA_DEBUG;\n",
       "  (function(spec, embedOpt){\n",
       "    let outputDiv = document.currentScript.previousElementSibling;\n",
       "    if (outputDiv.id !== \"altair-viz-99b390ce95ff4318bf34637ba2388d25\") {\n",
       "      outputDiv = document.getElementById(\"altair-viz-99b390ce95ff4318bf34637ba2388d25\");\n",
       "    }\n",
       "    const paths = {\n",
       "      \"vega\": \"https://cdn.jsdelivr.net/npm/vega@5?noext\",\n",
       "      \"vega-lib\": \"https://cdn.jsdelivr.net/npm/vega-lib?noext\",\n",
       "      \"vega-lite\": \"https://cdn.jsdelivr.net/npm/vega-lite@5.20.1?noext\",\n",
       "      \"vega-embed\": \"https://cdn.jsdelivr.net/npm/vega-embed@6?noext\",\n",
       "    };\n",
       "\n",
       "    function maybeLoadScript(lib, version) {\n",
       "      var key = `${lib.replace(\"-\", \"\")}_version`;\n",
       "      return (VEGA_DEBUG[key] == version) ?\n",
       "        Promise.resolve(paths[lib]) :\n",
       "        new Promise(function(resolve, reject) {\n",
       "          var s = document.createElement('script');\n",
       "          document.getElementsByTagName(\"head\")[0].appendChild(s);\n",
       "          s.async = true;\n",
       "          s.onload = () => {\n",
       "            VEGA_DEBUG[key] = version;\n",
       "            return resolve(paths[lib]);\n",
       "          };\n",
       "          s.onerror = () => reject(`Error loading script: ${paths[lib]}`);\n",
       "          s.src = paths[lib];\n",
       "        });\n",
       "    }\n",
       "\n",
       "    function showError(err) {\n",
       "      outputDiv.innerHTML = `<div class=\"error\" style=\"color:red;\">${err}</div>`;\n",
       "      throw err;\n",
       "    }\n",
       "\n",
       "    function displayChart(vegaEmbed) {\n",
       "      vegaEmbed(outputDiv, spec, embedOpt)\n",
       "        .catch(err => showError(`Javascript Error: ${err.message}<br>This usually means there's a typo in your chart specification. See the javascript console for the full traceback.`));\n",
       "    }\n",
       "\n",
       "    if(typeof define === \"function\" && define.amd) {\n",
       "      requirejs.config({paths});\n",
       "      require([\"vega-embed\"], displayChart, err => showError(`Error loading script: ${err.message}`));\n",
       "    } else {\n",
       "      maybeLoadScript(\"vega\", \"5\")\n",
       "        .then(() => maybeLoadScript(\"vega-lite\", \"5.20.1\"))\n",
       "        .then(() => maybeLoadScript(\"vega-embed\", \"6\"))\n",
       "        .catch(showError)\n",
       "        .then(() => displayChart(vegaEmbed));\n",
       "    }\n",
       "  })({\"config\": {\"view\": {\"continuousWidth\": 300, \"continuousHeight\": 300}}, \"data\": {\"name\": \"data-f1e8653022730098349348ffcc31b86c\"}, \"mark\": {\"type\": \"bar\"}, \"encoding\": {\"color\": {\"field\": \"Republican Vote\", \"scale\": {\"domain\": [0, 1, 2, 3, 4], \"range\": [\"#0000FF\", \"#ADD8E6\", \"#800080\", \"#FF6666\", \"#FF0000\"]}, \"title\": \"Majoritary Vote\", \"type\": \"ordinal\"}, \"x\": {\"field\": \"State\", \"type\": \"nominal\"}, \"y\": {\"field\": \"Mean Ratio\", \"type\": \"quantitative\"}}, \"title\": \"Ratio per state\", \"$schema\": \"https://vega.github.io/schema/vega-lite/v5.20.1.json\", \"datasets\": {\"data-f1e8653022730098349348ffcc31b86c\": [{\"State\": \"Arizona\", \"Mean Ratio\": 0.5, \"Republican Vote\": 3}, {\"State\": \"California\", \"Mean Ratio\": 0.65, \"Republican Vote\": 0}, {\"State\": \"Florida\", \"Mean Ratio\": 0.5333333333333333, \"Republican Vote\": 3}, {\"State\": \"Illinois\", \"Mean Ratio\": 0.6, \"Republican Vote\": 0}, {\"State\": \"Michigan\", \"Mean Ratio\": 0.4, \"Republican Vote\": 2}, {\"State\": \"Nevada\", \"Mean Ratio\": 0.6, \"Republican Vote\": 1}, {\"State\": \"New York\", \"Mean Ratio\": 0.4, \"Republican Vote\": 0}, {\"State\": \"Texas\", \"Mean Ratio\": 0.625, \"Republican Vote\": 4}, {\"State\": \"Washington\", \"Mean Ratio\": 0.5, \"Republican Vote\": 0}]}}, {\"mode\": \"vega-lite\"});\n",
       "</script>"
      ],
      "text/plain": [
       "alt.Chart(...)"
      ]
     },
     "execution_count": 31,
     "metadata": {},
     "output_type": "execute_result"
    }
   ],
   "source": [
    "chart_county = alt.Chart(county_ratio).mark_bar().encode(\n",
    "    alt.X('City or County:N'),\n",
    "    alt.Y('Mean Ratio:Q'),\n",
    ").properties(title = 'Ratio per county')\n",
    "\n",
    "print(state_ratio.loc[state_ratio[\"State\"] == \"Michigan\"])\n",
    "\n",
    "chart_state = alt.Chart(state_ratio).mark_bar().encode(\n",
    "    alt.X('State:N'),\n",
    "    alt.Y('Mean Ratio:Q'),\n",
    "    alt.Color('Republican Vote:O', \n",
    "              scale=alt.Scale(domain=[0, 1, 2, 3, 4], range=['#0000FF', '#ADD8E6', '#800080', '#FF6666', '#FF0000']),\n",
    "              title='Majoritary Vote'\n",
    "    )\n",
    ").properties(title = 'Ratio per state')\n",
    "\n",
    "chart_state"
   ]
  },
  {
   "cell_type": "code",
   "execution_count": null,
   "metadata": {},
   "outputs": [],
   "source": []
  }
 ],
 "metadata": {
  "kernelspec": {
   "display_name": "Python 3",
   "language": "python",
   "name": "python3"
  },
  "language_info": {
   "codemirror_mode": {
    "name": "ipython",
    "version": 3
   },
   "file_extension": ".py",
   "mimetype": "text/x-python",
   "name": "python",
   "nbconvert_exporter": "python",
   "pygments_lexer": "ipython3",
   "version": "3.12.3"
  }
 },
 "nbformat": 4,
 "nbformat_minor": 2
}
