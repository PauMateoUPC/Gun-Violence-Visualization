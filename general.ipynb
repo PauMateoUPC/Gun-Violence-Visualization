{
 "cells": [
  {
   "cell_type": "code",
   "execution_count": 150,
   "metadata": {},
   "outputs": [],
   "source": [
    "import pandas as pd\n",
    "import altair as alt\n",
    "from vega_datasets import data"
   ]
  },
  {
   "cell_type": "code",
   "execution_count": 155,
   "metadata": {},
   "outputs": [
    {
     "name": "stdout",
     "output_type": "stream",
     "text": [
      "UrlData({\n",
      "  format: TopoDataFormat({\n",
      "    feature: 'counties',\n",
      "    type: 'topojson'\n",
      "  }),\n",
      "  url: 'https://cdn.jsdelivr.net/npm/vega-datasets@v1.29.0/data/us-10m.json'\n",
      "})\n",
      "LookupData({\n",
      "  data: 'https://cdn.jsdelivr.net/npm/vega-datasets@v1.29.0/data/unemployment.tsv',\n",
      "  fields: ['rate'],\n",
      "  key: 'id'\n",
      "})\n"
     ]
    }
   ],
   "source": [
    "PATH_SHOOTINGS = 'datasets/MassShootingsComplete.csv'\n",
    "PATH_COUNTY = '' # state, population, year\n",
    "PATH_SCHOOLS = 'datasets/Schoolincidents.csv'\n",
    "PATH_FIPS = 'datasets/county-fips.csv'\n",
    "source = data.unemployment.url\n",
    "counties = alt.topo_feature(data.us_10m.url, 'counties')\n",
    "print(counties)\n",
    "print(alt.LookupData(source, 'id', ['rate']))"
   ]
  },
  {
   "cell_type": "code",
   "execution_count": 143,
   "metadata": {},
   "outputs": [],
   "source": [
    "df_schools = pd.read_csv(PATH_SCHOOLS)"
   ]
  },
  {
   "cell_type": "code",
   "execution_count": 144,
   "metadata": {},
   "outputs": [
    {
     "name": "stdout",
     "output_type": "stream",
     "text": [
      "  City Or County       State  Year  Population\n",
      "0    Los Angeles  California  2020    10039107\n",
      "1           Cook    Illinois  2020     5150233\n",
      "2         Harris       Texas  2020     4713325\n",
      "3       Maricopa     Arizona  2020     4485414\n",
      "4      San Diego  California  2020     3338330\n"
     ]
    }
   ],
   "source": [
    "data = {\n",
    "    'City Or County': ['Los Angeles', 'Cook', 'Harris', 'Maricopa', 'San Diego'],\n",
    "    'State': ['California', 'Illinois', 'Texas', 'Arizona', 'California'],\n",
    "    'Year': [2020, 2020, 2020, 2020, 2020],\n",
    "    'Population': [10039107, 5150233, 4713325, 4485414, 3338330]\n",
    "}\n",
    "fake_population = pd.DataFrame(data)\n",
    "print(fake_population.head())"
   ]
  },
  {
   "cell_type": "code",
   "execution_count": 145,
   "metadata": {},
   "outputs": [],
   "source": [
    "# Replace Incident Date for Day Month Year\n",
    "\n",
    "def split_date(df):\n",
    "    df['Incident Date'] = pd.to_datetime(df['Incident Date'])\n",
    "    df['Year'] = df['Incident Date'].dt.year\n",
    "    df['Month'] = df['Incident Date'].dt.month\n",
    "    df.drop(labels='Incident Date', axis=1, inplace=True)\n",
    "    return df\n",
    "\n"
   ]
  },
  {
   "cell_type": "markdown",
   "metadata": {},
   "source": [
    "### Mass shootings and ratios"
   ]
  },
  {
   "cell_type": "code",
   "execution_count": 146,
   "metadata": {},
   "outputs": [
    {
     "name": "stdout",
     "output_type": "stream",
     "text": [
      "     City Or County     State  Year  Month  Shootings  Population  Ratio\n",
      "4309           Yuma   Arizona  2022      6          1         NaN    NaN\n",
      "4310           Yuma   Arizona  2023      1          1         NaN    NaN\n",
      "4311           Yuma   Arizona  2023      5          1         NaN    NaN\n",
      "4312           Zion  Illinois  2020      8          1         NaN    NaN\n",
      "4313           Zion  Illinois  2022     12          1         NaN    NaN\n"
     ]
    }
   ],
   "source": [
    "df_shootings = pd.read_csv(PATH_SHOOTINGS) # id, year, county, state\n",
    "\n",
    "df_shootings = split_date(df_shootings)\n",
    "\n",
    "df_shootings = df_shootings.groupby(['City Or County', 'State', 'Year', 'Month']).size().reset_index(name='Shootings')\n",
    "\n",
    "#df_county = pd.read_csv(PATH_COUNTY) # county, state, year, population\n",
    "df_population = fake_population\n",
    "\n",
    "# join population\n",
    "df_shootings = pd.merge(df_shootings, df_population, on=['City Or County', 'State', 'Year'], how='left')\n",
    "\n",
    "# compute ratio\n",
    "df_shootings['Ratio'] = df_shootings['Shootings'] / df_shootings['Population']\n",
    "\n",
    "\n",
    "print(df_shootings.tail())\n"
   ]
  },
  {
   "cell_type": "markdown",
   "metadata": {},
   "source": [
    "### Schools"
   ]
  },
  {
   "cell_type": "code",
   "execution_count": 147,
   "metadata": {},
   "outputs": [
    {
     "name": "stdout",
     "output_type": "stream",
     "text": [
      "    City Or County    State  Year  Month  School Incidents\n",
      "750   Indianapolis  Indiana  2023      8                 5\n"
     ]
    }
   ],
   "source": [
    "df_schools = pd.read_csv(PATH_SCHOOLS)\n",
    "df_schools = split_date(df_schools)\n",
    "df_schools.drop(['Address', 'Business/Location Name'], axis=1, inplace=True)\n",
    "df_schools = df_schools.groupby(['City Or County', 'State', 'Year', 'Month']).size().reset_index(name='School Incidents')\n",
    "print(df_schools.loc[df_schools['School Incidents'] == max(df_schools['School Incidents'])])"
   ]
  },
  {
   "cell_type": "markdown",
   "metadata": {},
   "source": [
    "### Merge shootings and schools"
   ]
  },
  {
   "cell_type": "code",
   "execution_count": 148,
   "metadata": {},
   "outputs": [
    {
     "name": "stdout",
     "output_type": "stream",
     "text": [
      "Index(['City Or County', 'State', 'Year', 'Month', 'Shootings', 'Population',\n",
      "       'Ratio'],\n",
      "      dtype='object')\n",
      "Index(['City Or County', 'State', 'Year', 'Month', 'School Incidents'], dtype='object')\n",
      "Index(['City Or County', 'State', 'Year', 'Month', 'Shootings', 'Population',\n",
      "       'Ratio', 'School Incidents'],\n",
      "      dtype='object')\n"
     ]
    }
   ],
   "source": [
    "print(df_shootings.columns)\n",
    "print(df_schools.columns)\n",
    "\n",
    "df_complete = pd.merge(df_shootings, df_schools, on=['City Or County', 'State', 'Year', 'Month'], how='inner')\n",
    "print(df_complete.columns)"
   ]
  },
  {
   "cell_type": "code",
   "execution_count": 160,
   "metadata": {},
   "outputs": [
    {
     "name": "stdout",
     "output_type": "stream",
     "text": [
      "   FIPS   County    State\n",
      "0  1000  Alabama  Alabama\n",
      "1  1001  Autauga  Alabama\n",
      "2  1003  Baldwin  Alabama\n",
      "3  1005  Barbour  Alabama\n",
      "4  1007     Bibb  Alabama\n"
     ]
    }
   ],
   "source": [
    "# q2\n",
    "df_fips = pd.read_csv(PATH_FIPS)\n",
    "df_fips.rename(mapper={'fips': 'FIPS', 'county_name':'County', 'state_name': 'State'}, axis=1, inplace=True)\n",
    "print(df_fips.head())"
   ]
  }
 ],
 "metadata": {
  "kernelspec": {
   "display_name": "Python 3",
   "language": "python",
   "name": "python3"
  },
  "language_info": {
   "codemirror_mode": {
    "name": "ipython",
    "version": 3
   },
   "file_extension": ".py",
   "mimetype": "text/x-python",
   "name": "python",
   "nbconvert_exporter": "python",
   "pygments_lexer": "ipython3",
   "version": "3.12.3"
  }
 },
 "nbformat": 4,
 "nbformat_minor": 2
}
